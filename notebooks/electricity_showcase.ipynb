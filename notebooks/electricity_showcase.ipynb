{
 "cells": [
  {
   "cell_type": "markdown",
   "id": "5dcdd302",
   "metadata": {},
   "source": [
    "Electricity showcase for basic PULPO\n",
    "\n",
    "Written by Fabian Lechtenberg, 18.09.2023\n",
    "\n",
    "Last Update: 23.09.2023"
   ]
  },
  {
   "cell_type": "markdown",
   "id": "1ed6b95f",
   "metadata": {},
   "source": [
    "<div style=\"text-align: center; background-color: #f0f0f0; padding: 10px;\">\n",
    "    <h2 style=\"font-family: 'Arial', sans-serif; font-weight: bold; color: #555;\">(1) Selection of LCI Data</h2>\n",
    "</div>"
   ]
  },
  {
   "cell_type": "markdown",
   "id": "4f8eff9d",
   "metadata": {},
   "source": [
    "### Import section"
   ]
  },
  {
   "cell_type": "markdown",
   "id": "448abc38",
   "metadata": {},
   "source": [
    "In this working version of the pulpo repository, pulpo musst be imported from the folder above, which can be done by appending \"..\" to the system path. Later, only the import after installation via pip will be necessary."
   ]
  },
  {
   "cell_type": "code",
   "execution_count": null,
   "id": "606b78ed",
   "metadata": {
    "execution": {
     "iopub.execute_input": "2023-09-27T11:36:41.190768Z",
     "iopub.status.busy": "2023-09-27T11:36:41.190768Z",
     "iopub.status.idle": "2023-09-27T11:36:42.652423Z",
     "shell.execute_reply": "2023-09-27T11:36:42.652423Z",
     "shell.execute_reply.started": "2023-09-27T11:36:41.190768Z"
    }
   },
   "outputs": [],
   "source": [
    "import os\n",
    "import sys\n",
    "sys.path.append('../')\n",
    "from pulpo import pulpo\n",
    "\n",
    "import pandas as pd\n",
    "pd.set_option('display.max_colwidth', None)"
   ]
  },
  {
   "cell_type": "markdown",
   "id": "0da2fe63",
   "metadata": {},
   "source": [
    "### Setup"
   ]
  },
  {
   "cell_type": "markdown",
   "id": "84d12867",
   "metadata": {},
   "source": [
    "Specify the project, database and method to be used. Also indicate the folder where the working data should be stored. For this example to work, you need a project \"**pulpo**\" with a database \"**cutoff38**\", which is the ecoinvent 3.8 cutoff system model."
   ]
  },
  {
   "cell_type": "code",
   "execution_count": null,
   "id": "ead64289",
   "metadata": {
    "execution": {
     "iopub.execute_input": "2023-09-27T11:36:42.653424Z",
     "iopub.status.busy": "2023-09-27T11:36:42.653424Z",
     "iopub.status.idle": "2023-09-27T11:36:42.668372Z",
     "shell.execute_reply": "2023-09-27T11:36:42.668372Z",
     "shell.execute_reply.started": "2023-09-27T11:36:42.653424Z"
    }
   },
   "outputs": [],
   "source": [
    "project = \"pulpo\"\n",
    "database = \"cutoff38\"\n",
    "methods = \"('IPCC 2013', 'climate change', 'GWP 100a')\"\n",
    "\n",
    "# Substitute with your working directory of choice\n",
    "notebook_dir = os.path.dirname(os.getcwd())\n",
    "directory = os.path.join(notebook_dir, 'data')\n",
    "\n",
    "# Substitute with your GAMS path\n",
    "GAMS_PATH = \"C:/GAMS/37/gams.exe\""
   ]
  },
  {
   "cell_type": "code",
   "execution_count": null,
   "id": "866393e7",
   "metadata": {},
   "outputs": [],
   "source": [
    "directory"
   ]
  },
  {
   "cell_type": "markdown",
   "id": "0e5e5da2",
   "metadata": {},
   "source": [
    "Create a pulpo object called \"pulpo_worker\". This object is an element of the class \"PulpoOptimizer\", a class that links the different utilitiy modules containing code for retrieving, preparing and adjusting the data, preparing and running the optimization problem, as well as saving the results."
   ]
  },
  {
   "cell_type": "code",
   "execution_count": null,
   "id": "ae4b5787",
   "metadata": {
    "execution": {
     "iopub.execute_input": "2023-09-27T11:36:42.670371Z",
     "iopub.status.busy": "2023-09-27T11:36:42.669374Z",
     "iopub.status.idle": "2023-09-27T11:36:42.684324Z",
     "shell.execute_reply": "2023-09-27T11:36:42.684324Z",
     "shell.execute_reply.started": "2023-09-27T11:36:42.670371Z"
    }
   },
   "outputs": [],
   "source": [
    "pulpo_worker = pulpo.PulpoOptimizer(project, database, methods, directory)"
   ]
  },
  {
   "cell_type": "markdown",
   "id": "2a9fcd18",
   "metadata": {},
   "source": [
    "Retrieve the data. If data is already loaded, this step is automatically skipped. "
   ]
  },
  {
   "cell_type": "code",
   "execution_count": null,
   "id": "80697078",
   "metadata": {
    "execution": {
     "iopub.execute_input": "2023-09-27T11:36:42.685321Z",
     "iopub.status.busy": "2023-09-27T11:36:42.685321Z",
     "iopub.status.idle": "2023-09-27T11:36:43.682063Z",
     "shell.execute_reply": "2023-09-27T11:36:43.682063Z",
     "shell.execute_reply.started": "2023-09-27T11:36:42.685321Z"
    }
   },
   "outputs": [],
   "source": [
    "pulpo_worker.get_lci_data()"
   ]
  },
  {
   "cell_type": "markdown",
   "id": "e16f8296",
   "metadata": {},
   "source": [
    "<div style=\"text-align: center; background-color: #f0f0f0; padding: 10px;\">\n",
    "    <h2 style=\"font-family: 'Arial', sans-serif; font-weight: bold; color: #555;\">(2) User Specifications</h2>\n",
    "</div>"
   ]
  },
  {
   "cell_type": "markdown",
   "id": "57a9941a-b0d3-42c4-8bc7-aaa2a3d6d824",
   "metadata": {},
   "source": [
    "<center><img src=\"images/electricity_showcase_1.png\" alt=\"Alternative text\" width=\"400\"/>"
   ]
  },
  {
   "cell_type": "markdown",
   "id": "a8492b7e",
   "metadata": {},
   "source": [
    "### Specify the **functional unit**"
   ]
  },
  {
   "cell_type": "markdown",
   "id": "de935003",
   "metadata": {},
   "source": [
    "Retrieve the market activity for liquid hydrogen in Europe (RER). Use the function \"**<span style=\"color: red;\">retrieve_activities</span>**\" for this purpose. The function takes 4 optional arguments: \"keys\" (🔑) --> \"activities\" (⚙️) --> \"reference_products\" (📦) --> \"locations\" (🗺️). The activities are retrieved by this order. \n",
    "\n",
    "Since the key is unique, a single activity for each passed key will be returned. Activity names, reference_prduct and locations are not unique, so the best match for the passed data will be returned. "
   ]
  },
  {
   "cell_type": "markdown",
   "id": "2fc40bd9",
   "metadata": {},
   "source": [
    "#### Passing keys  🔑"
   ]
  },
  {
   "cell_type": "markdown",
   "id": "80fce33f",
   "metadata": {},
   "source": [
    "Keys can be obtained e.g. directly from **activity browser** and several keys can be passed at the same time."
   ]
  },
  {
   "cell_type": "code",
   "execution_count": null,
   "id": "167a2bfb",
   "metadata": {
    "execution": {
     "iopub.execute_input": "2023-09-27T11:36:43.684057Z",
     "iopub.status.busy": "2023-09-27T11:36:43.683060Z",
     "iopub.status.idle": "2023-09-27T11:36:43.698049Z",
     "shell.execute_reply": "2023-09-27T11:36:43.698049Z",
     "shell.execute_reply.started": "2023-09-27T11:36:43.684057Z"
    }
   },
   "outputs": [],
   "source": [
    "keys = [\"('cutoff38', '962727b9a36bcaa186f222b29b57f6a3')\", \"('cutoff38', '473d4bb488e8f903b58203f3e5161636')\"]"
   ]
  },
  {
   "cell_type": "code",
   "execution_count": null,
   "id": "b46fa327",
   "metadata": {
    "execution": {
     "iopub.execute_input": "2023-09-27T11:36:43.700042Z",
     "iopub.status.busy": "2023-09-27T11:36:43.699045Z",
     "iopub.status.idle": "2023-09-27T11:36:44.551213Z",
     "shell.execute_reply": "2023-09-27T11:36:44.551213Z",
     "shell.execute_reply.started": "2023-09-27T11:36:43.700042Z"
    }
   },
   "outputs": [],
   "source": [
    "pulpo_worker.retrieve_activities(keys=keys)"
   ]
  },
  {
   "cell_type": "markdown",
   "id": "daf88526",
   "metadata": {},
   "source": [
    "#### Passing activity  name (⚙️), reference_product (📦) and/or location (🗺️)"
   ]
  },
  {
   "cell_type": "markdown",
   "id": "4074fec3",
   "metadata": {},
   "source": [
    "Instead of passing the keys, a combination of activities, reference_products and locations can be passed. A best match (all existing combinations) will be returned. "
   ]
  },
  {
   "cell_type": "code",
   "execution_count": null,
   "id": "4d445dfc",
   "metadata": {
    "execution": {
     "iopub.execute_input": "2023-09-27T11:36:44.552181Z",
     "iopub.status.busy": "2023-09-27T11:36:44.552181Z",
     "iopub.status.idle": "2023-09-27T11:36:44.566575Z",
     "shell.execute_reply": "2023-09-27T11:36:44.566575Z",
     "shell.execute_reply.started": "2023-09-27T11:36:44.552181Z"
    }
   },
   "outputs": [],
   "source": [
    "activities = [\"market for electricity, high voltage\"]\n",
    "reference_products = [\"electricity, high voltage\"]\n",
    "locations = [\"DE\"]"
   ]
  },
  {
   "cell_type": "markdown",
   "id": "5d0976d1",
   "metadata": {},
   "source": [
    "It is also possible to pass only partial information such as only reference product or only activity name:"
   ]
  },
  {
   "cell_type": "code",
   "execution_count": null,
   "id": "0cb7d84f",
   "metadata": {
    "execution": {
     "iopub.execute_input": "2023-09-27T11:36:44.567576Z",
     "iopub.status.busy": "2023-09-27T11:36:44.567576Z",
     "iopub.status.idle": "2023-09-27T11:36:45.452617Z",
     "shell.execute_reply": "2023-09-27T11:36:45.452617Z",
     "shell.execute_reply.started": "2023-09-27T11:36:44.567576Z"
    },
    "scrolled": true
   },
   "outputs": [],
   "source": [
    "pulpo_worker.retrieve_activities(activities=activities)"
   ]
  },
  {
   "cell_type": "code",
   "execution_count": null,
   "id": "b211d17a",
   "metadata": {
    "execution": {
     "iopub.execute_input": "2023-09-27T11:36:45.453612Z",
     "iopub.status.busy": "2023-09-27T11:36:45.453612Z",
     "iopub.status.idle": "2023-09-27T11:36:47.098154Z",
     "shell.execute_reply": "2023-09-27T11:36:47.098154Z",
     "shell.execute_reply.started": "2023-09-27T11:36:45.453612Z"
    },
    "scrolled": true
   },
   "outputs": [],
   "source": [
    "pulpo_worker.retrieve_activities(reference_products=reference_products)"
   ]
  },
  {
   "cell_type": "markdown",
   "id": "03e8a151",
   "metadata": {},
   "source": [
    "Let's retrieve the activity of our functional unit and specify the demand as a dictionary:"
   ]
  },
  {
   "cell_type": "code",
   "execution_count": null,
   "id": "332b2f95",
   "metadata": {
    "execution": {
     "iopub.execute_input": "2023-09-27T11:36:47.099151Z",
     "iopub.status.busy": "2023-09-27T11:36:47.099151Z",
     "iopub.status.idle": "2023-09-27T11:36:48.000703Z",
     "shell.execute_reply": "2023-09-27T11:36:48.000703Z",
     "shell.execute_reply.started": "2023-09-27T11:36:47.099151Z"
    }
   },
   "outputs": [],
   "source": [
    "electricity_market = pulpo_worker.retrieve_activities(activities=activities, reference_products=reference_products, locations=locations)"
   ]
  },
  {
   "cell_type": "code",
   "execution_count": null,
   "id": "1959b64f",
   "metadata": {
    "execution": {
     "iopub.execute_input": "2023-09-27T11:36:48.002701Z",
     "iopub.status.busy": "2023-09-27T11:36:48.001726Z",
     "iopub.status.idle": "2023-09-27T11:36:48.017483Z",
     "shell.execute_reply": "2023-09-27T11:36:48.016660Z",
     "shell.execute_reply.started": "2023-09-27T11:36:48.002701Z"
    }
   },
   "outputs": [],
   "source": [
    "electricity_market"
   ]
  },
  {
   "cell_type": "markdown",
   "id": "7cf0adef",
   "metadata": {},
   "source": [
    "Setting a demand of 128,819.0 GWh of electricity according to [Germany electricity demand 2018](https://www.destatis.de/EN/Themes/Society-Environment/Environment/Material-Energy-Flows/Tables/electricity-consumption-households.html)\n"
   ]
  },
  {
   "cell_type": "code",
   "execution_count": null,
   "id": "223e1cf1",
   "metadata": {
    "execution": {
     "iopub.execute_input": "2023-09-27T11:36:48.018483Z",
     "iopub.status.busy": "2023-09-27T11:36:48.018483Z",
     "iopub.status.idle": "2023-09-27T11:36:48.032299Z",
     "shell.execute_reply": "2023-09-27T11:36:48.032299Z",
     "shell.execute_reply.started": "2023-09-27T11:36:48.018483Z"
    }
   },
   "outputs": [],
   "source": [
    "demand = {electricity_market[0]: 1.28819e+11}"
   ]
  },
  {
   "cell_type": "markdown",
   "id": "992d6029",
   "metadata": {},
   "source": [
    "### Specify the **choices**"
   ]
  },
  {
   "cell_type": "markdown",
   "id": "4b6d561a",
   "metadata": {},
   "source": [
    "The choices are specified similar to the demand / functional unit. First, search for the processes with equivalent products:"
   ]
  },
  {
   "cell_type": "code",
   "execution_count": null,
   "id": "d704a9a5",
   "metadata": {
    "execution": {
     "iopub.execute_input": "2023-09-27T11:36:48.034297Z",
     "iopub.status.busy": "2023-09-27T11:36:48.034297Z",
     "iopub.status.idle": "2023-09-27T11:36:48.851726Z",
     "shell.execute_reply": "2023-09-27T11:36:48.851726Z",
     "shell.execute_reply.started": "2023-09-27T11:36:48.034297Z"
    }
   },
   "outputs": [],
   "source": [
    "activities = [\"electricity production, lignite\", \n",
    "             \"electricity production, hard coal\",\n",
    "             \"electricity production, nuclear, pressure water reactor\",\n",
    "             \"electricity production, wind, 1-3MW turbine, onshore\"]\n",
    "reference_products = [\"electricity, high voltage\"]\n",
    "locations = [\"DE\"]\n",
    "\n",
    "electricity_activities = pulpo_worker.retrieve_activities(activities=activities, reference_products=reference_products, locations=locations)"
   ]
  },
  {
   "cell_type": "code",
   "execution_count": null,
   "id": "9d8fac69",
   "metadata": {
    "execution": {
     "iopub.execute_input": "2023-09-27T11:36:48.852724Z",
     "iopub.status.busy": "2023-09-27T11:36:48.852724Z",
     "iopub.status.idle": "2023-09-27T11:36:48.867677Z",
     "shell.execute_reply": "2023-09-27T11:36:48.867677Z",
     "shell.execute_reply.started": "2023-09-27T11:36:48.852724Z"
    }
   },
   "outputs": [],
   "source": [
    "electricity_activities"
   ]
  },
  {
   "cell_type": "markdown",
   "id": "12c4d7a7-826d-4168-a9e5-902cf21537d1",
   "metadata": {},
   "source": [
    "These are the currently four most employed technologies for electricity production in Germany (lignite: 24.2%, wind: 15.4%, coal: 11.9%, nuclear: 10.6%) according to the \"_market for electricity, high voltage (DE)_\""
   ]
  },
  {
   "cell_type": "markdown",
   "id": "d9a512a5",
   "metadata": {},
   "source": [
    "Specify also the choices as a dictionary. Be aware, that this time we are dealing with a dictionary of dictionaries. Each inner dictionary corresponds to one type of choice in the background! Here, we only consider choices between electricity production activities, so we assign the key \"electricity\" to the equivalent product they produce. \n",
    "\n",
    "The assigned value in the inner dictionary is the capacity limit of this activity, which for now is set to a very high value, to consider an unconstrained situation. "
   ]
  },
  {
   "cell_type": "code",
   "execution_count": null,
   "id": "bfae6af4",
   "metadata": {
    "execution": {
     "iopub.execute_input": "2023-09-27T11:36:48.868671Z",
     "iopub.status.busy": "2023-09-27T11:36:48.868671Z",
     "iopub.status.idle": "2023-09-27T11:36:48.883662Z",
     "shell.execute_reply": "2023-09-27T11:36:48.883662Z",
     "shell.execute_reply.started": "2023-09-27T11:36:48.868671Z"
    }
   },
   "outputs": [],
   "source": [
    "choices  = {'electricity': {electricity_activities[0]: 1e16,\n",
    "                         electricity_activities[1]: 1e16,\n",
    "                         electricity_activities[2]: 1e16,\n",
    "                         electricity_activities[3]: 1e16}}"
   ]
  },
  {
   "cell_type": "markdown",
   "id": "25f8cf77",
   "metadata": {},
   "source": [
    "<div style=\"text-align: center; background-color: #f0f0f0; padding: 10px;\">\n",
    "    <h2 style=\"font-family: 'Arial', sans-serif; font-weight: bold; color: #555;\">(3) Solution</h2>\n",
    "</div>"
   ]
  },
  {
   "cell_type": "markdown",
   "id": "3a90008f",
   "metadata": {},
   "source": [
    "### Instantiate the worker"
   ]
  },
  {
   "cell_type": "code",
   "execution_count": null,
   "id": "be46ea2d",
   "metadata": {
    "execution": {
     "iopub.execute_input": "2023-09-27T11:36:48.884662Z",
     "iopub.status.busy": "2023-09-27T11:36:48.884662Z",
     "iopub.status.idle": "2023-09-27T11:36:52.480948Z",
     "shell.execute_reply": "2023-09-27T11:36:52.480948Z",
     "shell.execute_reply.started": "2023-09-27T11:36:48.884662Z"
    },
    "scrolled": true
   },
   "outputs": [],
   "source": [
    "instance = pulpo_worker.instantiate(choices=choices, demand=demand)"
   ]
  },
  {
   "cell_type": "markdown",
   "id": "20353834",
   "metadata": {},
   "source": [
    "### Solve the instance"
   ]
  },
  {
   "cell_type": "markdown",
   "id": "43da9882",
   "metadata": {},
   "source": [
    "When specifying a valid GAMS_PATH with a licence for CPLEX, as shown below, CPLEX with fine-tuned parameters is automatically selected to solve the Linear Problem (**LP**).\n",
    "\n",
    "If no GAMS_PATH is specified, the \"[HiGHS](https://highs.dev/)\" solver is automatically used. It has almost double the run time of \"CPLEX\"."
   ]
  },
  {
   "cell_type": "code",
   "execution_count": null,
   "id": "eb13ed22",
   "metadata": {
    "execution": {
     "iopub.execute_input": "2023-09-27T11:36:52.482941Z",
     "iopub.status.busy": "2023-09-27T11:36:52.482941Z",
     "iopub.status.idle": "2023-09-27T11:36:58.142738Z",
     "shell.execute_reply": "2023-09-27T11:36:58.142738Z",
     "shell.execute_reply.started": "2023-09-27T11:36:52.482941Z"
    },
    "scrolled": true
   },
   "outputs": [],
   "source": [
    "results = pulpo_worker.solve()\n",
    "# Alternatively using GAMS (cplex) solvers:\n",
    "# results = pulpo_worker.solve(GAMS_PATH=GAMS_PATH)"
   ]
  },
  {
   "cell_type": "markdown",
   "id": "916c7e48",
   "metadata": {},
   "source": [
    "### Save and summarize the results 💾📈"
   ]
  },
  {
   "cell_type": "markdown",
   "id": "cba63697",
   "metadata": {},
   "source": [
    "The \"**save_results()**\" function will save the results in an processed format to an excel file in the data folder that has been specified at the beginning."
   ]
  },
  {
   "cell_type": "code",
   "execution_count": null,
   "id": "cf427cea",
   "metadata": {
    "execution": {
     "iopub.execute_input": "2023-09-27T11:36:58.143747Z",
     "iopub.status.busy": "2023-09-27T11:36:58.143747Z",
     "iopub.status.idle": "2023-09-27T11:36:58.860906Z",
     "shell.execute_reply": "2023-09-27T11:36:58.860906Z",
     "shell.execute_reply.started": "2023-09-27T11:36:58.143747Z"
    }
   },
   "outputs": [],
   "source": [
    "pulpo_worker.save_results(choices=choices, demand=demand, name='electricity_showcase_results.xlsx')"
   ]
  },
  {
   "cell_type": "markdown",
   "id": "20b00f17",
   "metadata": {},
   "source": [
    "You can inspect the generated excel file."
   ]
  },
  {
   "cell_type": "markdown",
   "id": "4c4a1df1",
   "metadata": {},
   "source": [
    "There is another function to summarize the results in dataframe form within jupyter notbeooks called \"summarize_results\". This function has similar inputs to the \"save_results\" function, but does not require the specification of a filename. Additionally, by specifying the \"*zeroes*\" parameter to \"*True*\" all the not-selected choices are omitted in the summary."
   ]
  },
  {
   "cell_type": "code",
   "execution_count": null,
   "id": "f6141497",
   "metadata": {
    "execution": {
     "iopub.execute_input": "2023-09-27T11:36:58.861906Z",
     "iopub.status.busy": "2023-09-27T11:36:58.861906Z",
     "iopub.status.idle": "2023-09-27T11:36:58.909747Z",
     "shell.execute_reply": "2023-09-27T11:36:58.908750Z",
     "shell.execute_reply.started": "2023-09-27T11:36:58.861906Z"
    }
   },
   "outputs": [],
   "source": [
    "pulpo_worker.summarize_results(choices=choices, demand=demand, zeroes=True)"
   ]
  },
  {
   "cell_type": "markdown",
   "id": "f5893613",
   "metadata": {},
   "source": [
    "# Closing Remarks"
   ]
  },
  {
   "cell_type": "markdown",
   "id": "c1b2f442",
   "metadata": {},
   "source": [
    "This is the end of the very basic PULPO functionalities using the electricity case study. "
   ]
  },
  {
   "cell_type": "markdown",
   "id": "b5298095",
   "metadata": {},
   "source": [
    "The following sections will dive deeper into additional functionalities."
   ]
  },
  {
   "cell_type": "markdown",
   "id": "602c9d5e",
   "metadata": {},
   "source": [
    "<div style=\"text-align: center; background-color: #f0f0f0; padding: 10px;\">\n",
    "    <h2 style=\"font-family: 'Arial', sans-serif; font-weight: bold; color: #555;\">Additional Constraints</h2>\n",
    "</div>"
   ]
  },
  {
   "cell_type": "markdown",
   "id": "07bffb38-471b-4f7c-b48d-9954e0fe4e55",
   "metadata": {},
   "source": [
    "<center><img src=\"images/electricity_showcase_2.png\" alt=\"Alternative text\" width=\"400\"/>"
   ]
  },
  {
   "cell_type": "markdown",
   "id": "e277bb96",
   "metadata": {},
   "source": [
    "Let's assess what happens if the \"_electricity production, nuclear, pressure water reactor | electricity, high voltage | DE_\" activity is indirectly constrained trough a restriction on \"_nuclear fuel element, for pressure water reactor, UO2 4.0% & MOX_\""
   ]
  },
  {
   "cell_type": "code",
   "execution_count": null,
   "id": "04b68998",
   "metadata": {
    "execution": {
     "iopub.execute_input": "2023-09-27T11:36:58.910743Z",
     "iopub.status.busy": "2023-09-27T11:36:58.909747Z",
     "iopub.status.idle": "2023-09-27T11:36:59.553592Z",
     "shell.execute_reply": "2023-09-27T11:36:59.553592Z",
     "shell.execute_reply.started": "2023-09-27T11:36:58.910743Z"
    }
   },
   "outputs": [],
   "source": [
    "activities = [\"market for nuclear fuel element, for pressure water reactor, UO2 4.0% & MOX\"]\n",
    "reference_products = [\"nuclear fuel element, for pressure water reactor, UO2 4.0% & MOX\"]\n",
    "locations = [\"GLO\"]\n",
    "\n",
    "nuclear_fuel = pulpo_worker.retrieve_activities(activities=activities, reference_products=reference_products, locations=locations)"
   ]
  },
  {
   "cell_type": "code",
   "execution_count": null,
   "id": "aebdc35c",
   "metadata": {
    "execution": {
     "iopub.execute_input": "2023-09-27T11:36:59.554589Z",
     "iopub.status.busy": "2023-09-27T11:36:59.554589Z",
     "iopub.status.idle": "2023-09-27T11:36:59.569539Z",
     "shell.execute_reply": "2023-09-27T11:36:59.569539Z",
     "shell.execute_reply.started": "2023-09-27T11:36:59.554589Z"
    }
   },
   "outputs": [],
   "source": [
    "nuclear_fuel"
   ]
  },
  {
   "cell_type": "code",
   "execution_count": null,
   "id": "a89c6ee5",
   "metadata": {
    "execution": {
     "iopub.execute_input": "2023-09-27T11:36:59.570536Z",
     "iopub.status.busy": "2023-09-27T11:36:59.570536Z",
     "iopub.status.idle": "2023-09-27T11:36:59.585486Z",
     "shell.execute_reply": "2023-09-27T11:36:59.585486Z",
     "shell.execute_reply.started": "2023-09-27T11:36:59.570536Z"
    }
   },
   "outputs": [],
   "source": [
    "upper_limit = {nuclear_fuel[0]: 100000}"
   ]
  },
  {
   "cell_type": "markdown",
   "id": "da61b77d",
   "metadata": {},
   "source": [
    "The rationale behind choosing this activity and this limit is based on inspection of the scaling vector of the previous results. This activity is limiting for the nuclear electricity activity but not for the others, so, to enforce a different result than before, this activity is constrained."
   ]
  },
  {
   "cell_type": "code",
   "execution_count": null,
   "id": "87267aa9",
   "metadata": {
    "execution": {
     "iopub.execute_input": "2023-09-27T11:36:59.586482Z",
     "iopub.status.busy": "2023-09-27T11:36:59.586482Z",
     "iopub.status.idle": "2023-09-27T11:37:09.201396Z",
     "shell.execute_reply": "2023-09-27T11:37:09.201027Z",
     "shell.execute_reply.started": "2023-09-27T11:36:59.586482Z"
    },
    "scrolled": true
   },
   "outputs": [],
   "source": [
    "pulpo_worker.instantiate(choices=choices, demand=demand, upper_limit=upper_limit)\n",
    "results = pulpo_worker.solve()"
   ]
  },
  {
   "cell_type": "code",
   "execution_count": null,
   "id": "a03f1671",
   "metadata": {
    "execution": {
     "iopub.execute_input": "2023-09-27T11:37:09.202395Z",
     "iopub.status.busy": "2023-09-27T11:37:09.201396Z",
     "iopub.status.idle": "2023-09-27T11:37:09.247752Z",
     "shell.execute_reply": "2023-09-27T11:37:09.247752Z",
     "shell.execute_reply.started": "2023-09-27T11:37:09.202395Z"
    }
   },
   "outputs": [],
   "source": [
    "pulpo_worker.summarize_results(choices=choices, demand=demand, constraints=upper_limit)"
   ]
  },
  {
   "cell_type": "markdown",
   "id": "5f409b26",
   "metadata": {},
   "source": [
    "As can be seen from the summary above, part of the final electricity demand is supplied by the wind turbine processes, because the nuclear process is constrained by the nuclear fuel process. It is also evident that the impact is higher than the previous one, as the GWP minimizing process (nuclear) can no longer supply the full demand."
   ]
  },
  {
   "cell_type": "markdown",
   "id": "48249a97",
   "metadata": {},
   "source": [
    "<div style=\"text-align: center; background-color: #f0f0f0; padding: 10px;\">\n",
    "    <h2 style=\"font-family: 'Arial', sans-serif; font-weight: bold; color: #555;\">Additional Methods</h2>\n",
    "</div>"
   ]
  },
  {
   "cell_type": "markdown",
   "id": "3a455b7b",
   "metadata": {},
   "source": [
    "Let's see how to evaluate different methods and set them as objectives, in this case evaluating the ReCiPe endpoints, and setting the human health one as objective:"
   ]
  },
  {
   "cell_type": "code",
   "execution_count": null,
   "id": "6ccd79d5",
   "metadata": {
    "execution": {
     "iopub.execute_input": "2023-09-27T11:37:09.249742Z",
     "iopub.status.busy": "2023-09-27T11:37:09.248745Z",
     "iopub.status.idle": "2023-09-27T11:37:09.263716Z",
     "shell.execute_reply": "2023-09-27T11:37:09.263716Z",
     "shell.execute_reply.started": "2023-09-27T11:37:09.249742Z"
    }
   },
   "outputs": [],
   "source": [
    "methods = {\"('IPCC 2013', 'climate change', 'GWP 100a')\": 0,\n",
    "           \"('ReCiPe Endpoint (E,A)', 'resources', 'total')\": 0,\n",
    "           \"('ReCiPe Endpoint (E,A)', 'human health', 'total')\": 1,\n",
    "           \"('ReCiPe Endpoint (E,A)', 'ecosystem quality', 'total')\": 0}"
   ]
  },
  {
   "cell_type": "markdown",
   "id": "97f4df9e-1e6b-44d2-9f63-2551fd8f99d6",
   "metadata": {},
   "source": [
    "With this, a new Pulpo worker must be created:"
   ]
  },
  {
   "cell_type": "code",
   "execution_count": null,
   "id": "8c71c0b9",
   "metadata": {
    "execution": {
     "iopub.execute_input": "2023-09-27T11:37:09.264716Z",
     "iopub.status.busy": "2023-09-27T11:37:09.264716Z",
     "iopub.status.idle": "2023-09-27T11:37:09.279043Z",
     "shell.execute_reply": "2023-09-27T11:37:09.279043Z",
     "shell.execute_reply.started": "2023-09-27T11:37:09.264716Z"
    }
   },
   "outputs": [],
   "source": [
    "pulpo_worker = pulpo.PulpoOptimizer(project, database, methods, directory)"
   ]
  },
  {
   "cell_type": "code",
   "execution_count": null,
   "id": "60d4cad9",
   "metadata": {
    "execution": {
     "iopub.execute_input": "2023-09-27T11:37:09.280015Z",
     "iopub.status.busy": "2023-09-27T11:37:09.280015Z",
     "iopub.status.idle": "2023-09-27T11:37:10.516342Z",
     "shell.execute_reply": "2023-09-27T11:37:10.516342Z",
     "shell.execute_reply.started": "2023-09-27T11:37:09.280015Z"
    }
   },
   "outputs": [],
   "source": [
    "pulpo_worker.get_lci_data()"
   ]
  },
  {
   "cell_type": "code",
   "execution_count": null,
   "id": "cb241deb",
   "metadata": {
    "execution": {
     "iopub.execute_input": "2023-09-27T11:37:10.517443Z",
     "iopub.status.busy": "2023-09-27T11:37:10.517443Z",
     "iopub.status.idle": "2023-09-27T11:37:24.972769Z",
     "shell.execute_reply": "2023-09-27T11:37:24.971967Z",
     "shell.execute_reply.started": "2023-09-27T11:37:10.517443Z"
    },
    "scrolled": true
   },
   "outputs": [],
   "source": [
    "pulpo_worker.instantiate(choices=choices, demand=demand)\n",
    "results = pulpo_worker.solve()"
   ]
  },
  {
   "cell_type": "code",
   "execution_count": null,
   "id": "e81c9f8c",
   "metadata": {
    "execution": {
     "iopub.execute_input": "2023-09-27T11:37:24.973769Z",
     "iopub.status.busy": "2023-09-27T11:37:24.973769Z",
     "iopub.status.idle": "2023-09-27T11:37:25.019696Z",
     "shell.execute_reply": "2023-09-27T11:37:25.019696Z",
     "shell.execute_reply.started": "2023-09-27T11:37:24.973769Z"
    },
    "scrolled": true
   },
   "outputs": [],
   "source": [
    "pulpo_worker.summarize_results(choices=choices, demand=demand, zeroes=True)"
   ]
  },
  {
   "cell_type": "markdown",
   "id": "bfe4c83f-1585-405c-938d-c3c6e3fc34f7",
   "metadata": {},
   "source": [
    "From the summary above, it can be seen that for the \"_human health_\" category, the nuclear process is not the most suitable anymore. With this objective, the wind turbine process is selected. \n",
    "\n",
    "As another category is minimized, the GWP has changed as well: previously, with nuclear electricity the total GWP was 1.599836e+10 while with wind electricity it is 1.739234e+10."
   ]
  },
  {
   "cell_type": "markdown",
   "id": "7fb09ed7-e772-4248-8bc5-8409fb5ebfe0",
   "metadata": {},
   "source": [
    "<div style=\"text-align: center; background-color: #f0f0f0; padding: 10px;\">\n",
    "    <h2 style=\"font-family: 'Arial', sans-serif; font-weight: bold; color: #555;\">Lower Level Decisions</h2>\n",
    "</div>"
   ]
  },
  {
   "cell_type": "markdown",
   "id": "26fec4c4",
   "metadata": {},
   "source": [
    "<center><img src=\"images/electricity_showcase_3.png\" alt=\"Alternative text\" width=\"400\"/>"
   ]
  },
  {
   "cell_type": "markdown",
   "id": "ee72103c",
   "metadata": {},
   "source": [
    "In this case study, we would like to keep the current share of the electricity supplied by fossil sources the same. The choices that we consider on the electricity production level are between the coal and lignite activities:"
   ]
  },
  {
   "cell_type": "code",
   "execution_count": null,
   "id": "1e28df91-e6fc-4123-b3e6-3067ee6deca3",
   "metadata": {
    "execution": {
     "iopub.execute_input": "2023-09-27T11:37:25.020697Z",
     "iopub.status.busy": "2023-09-27T11:37:25.020697Z",
     "iopub.status.idle": "2023-09-27T11:37:25.035670Z",
     "shell.execute_reply": "2023-09-27T11:37:25.035670Z",
     "shell.execute_reply.started": "2023-09-27T11:37:25.020697Z"
    }
   },
   "outputs": [],
   "source": [
    "methods = {\"('IPCC 2013', 'climate change', 'GWP 100a')\": 1,\n",
    "           \"('ReCiPe Endpoint (E,A)', 'resources', 'total')\": 0,\n",
    "           \"('ReCiPe Endpoint (E,A)', 'human health', 'total')\": 0,\n",
    "           \"('ReCiPe Endpoint (E,A)', 'ecosystem quality', 'total')\": 0}"
   ]
  },
  {
   "cell_type": "code",
   "execution_count": null,
   "id": "2b881759-2c15-4528-9780-39293f3747be",
   "metadata": {
    "execution": {
     "iopub.execute_input": "2023-09-27T11:37:25.037666Z",
     "iopub.status.busy": "2023-09-27T11:37:25.036669Z",
     "iopub.status.idle": "2023-09-27T11:37:26.300813Z",
     "shell.execute_reply": "2023-09-27T11:37:26.300813Z",
     "shell.execute_reply.started": "2023-09-27T11:37:25.037666Z"
    }
   },
   "outputs": [],
   "source": [
    "pulpo_worker = pulpo.PulpoOptimizer(project, database, methods, directory)\n",
    "pulpo_worker.get_lci_data()"
   ]
  },
  {
   "cell_type": "code",
   "execution_count": null,
   "id": "e7cff49c-5163-4451-aa97-a1ef41bce88b",
   "metadata": {
    "execution": {
     "iopub.execute_input": "2023-09-27T11:37:26.301812Z",
     "iopub.status.busy": "2023-09-27T11:37:26.301812Z",
     "iopub.status.idle": "2023-09-27T11:37:26.972087Z",
     "shell.execute_reply": "2023-09-27T11:37:26.971391Z",
     "shell.execute_reply.started": "2023-09-27T11:37:26.301812Z"
    }
   },
   "outputs": [],
   "source": [
    "activities = [\"electricity production, lignite\", \n",
    "             \"electricity production, hard coal\"]\n",
    "reference_products = [\"electricity, high voltage\"]\n",
    "locations = [\"DE\"]\n",
    "\n",
    "electricity_activities = pulpo_worker.retrieve_activities(activities=activities, reference_products=reference_products, locations=locations)"
   ]
  },
  {
   "cell_type": "markdown",
   "id": "a8f82b5b",
   "metadata": {},
   "source": [
    "Instead of assessing only the **technology** choices, we are invetigating the best **regional** choice for the source of coal and lignite:"
   ]
  },
  {
   "cell_type": "code",
   "execution_count": null,
   "id": "e68e44ef",
   "metadata": {
    "execution": {
     "iopub.execute_input": "2023-09-27T11:37:26.972087Z",
     "iopub.status.busy": "2023-09-27T11:37:26.972087Z",
     "iopub.status.idle": "2023-09-27T11:37:29.110422Z",
     "shell.execute_reply": "2023-09-27T11:37:29.110422Z",
     "shell.execute_reply.started": "2023-09-27T11:37:26.972087Z"
    }
   },
   "outputs": [],
   "source": [
    "coal_activities = [\"market for hard coal\"]\n",
    "lignite_activities = [\"market for lignite\"]\n",
    "\n",
    "coal_activities = pulpo_worker.retrieve_activities(activities=coal_activities)\n",
    "lignite_activities = pulpo_worker.retrieve_activities(activities=lignite_activities)"
   ]
  },
  {
   "cell_type": "markdown",
   "id": "ae575912",
   "metadata": {},
   "source": [
    "The updated choice dictionary looks like this:"
   ]
  },
  {
   "cell_type": "code",
   "execution_count": null,
   "id": "bc665036",
   "metadata": {
    "execution": {
     "iopub.execute_input": "2023-09-27T11:37:29.111473Z",
     "iopub.status.busy": "2023-09-27T11:37:29.111473Z",
     "iopub.status.idle": "2023-09-27T11:37:29.126440Z",
     "shell.execute_reply": "2023-09-27T11:37:29.126440Z",
     "shell.execute_reply.started": "2023-09-27T11:37:29.111473Z"
    }
   },
   "outputs": [],
   "source": [
    "choices  = {'electricity': {elec: 1e16 for elec in electricity_activities},\n",
    "            'coal': {coal: 1e16 for coal in coal_activities},\n",
    "            'lignite': {lignite: 1e16 for lignite in lignite_activities}}"
   ]
  },
  {
   "cell_type": "markdown",
   "id": "6db1e764",
   "metadata": {},
   "source": [
    "Instantiating and solving the adapted problem:"
   ]
  },
  {
   "cell_type": "code",
   "execution_count": null,
   "id": "1143473f",
   "metadata": {
    "execution": {
     "iopub.execute_input": "2023-09-27T11:37:29.128431Z",
     "iopub.status.busy": "2023-09-27T11:37:29.127435Z",
     "iopub.status.idle": "2023-09-27T11:37:38.220676Z",
     "shell.execute_reply": "2023-09-27T11:37:38.219686Z",
     "shell.execute_reply.started": "2023-09-27T11:37:29.128431Z"
    },
    "scrolled": true
   },
   "outputs": [],
   "source": [
    "pulpo_worker.instantiate(choices=choices, demand=demand)\n",
    "results = pulpo_worker.solve()"
   ]
  },
  {
   "cell_type": "markdown",
   "id": "73eadc47",
   "metadata": {},
   "source": [
    "Visualizing the results"
   ]
  },
  {
   "cell_type": "code",
   "execution_count": null,
   "id": "d9c7c140",
   "metadata": {
    "execution": {
     "iopub.execute_input": "2023-09-27T11:37:38.221673Z",
     "iopub.status.busy": "2023-09-27T11:37:38.220676Z",
     "iopub.status.idle": "2023-09-27T11:37:38.281473Z",
     "shell.execute_reply": "2023-09-27T11:37:38.280477Z",
     "shell.execute_reply.started": "2023-09-27T11:37:38.221673Z"
    },
    "scrolled": true
   },
   "outputs": [],
   "source": [
    "pulpo_worker.summarize_results(choices=choices, demand=demand, zeroes=True)"
   ]
  },
  {
   "cell_type": "markdown",
   "id": "18a60969",
   "metadata": {},
   "source": [
    "I can be seen that out of the fossil alternatives, the electricity from coal minimizes GWP when the coal comes from RLA [Latin America and the Caribbean] (omitting transport emissions). Moreover, it can be seen that the market for lignite is somewhere used upstream of the coal production activity. In the place where it is used, the RER market for lignite is the preferred one. The lignite consumption is one order of magnitude lower than the coal consumption."
   ]
  },
  {
   "cell_type": "markdown",
   "id": "d71d8e1c",
   "metadata": {},
   "source": [
    "<div style=\"text-align: center; background-color: #f0f0f0; padding: 10px;\">\n",
    "    <h2 style=\"font-family: 'Arial', sans-serif; font-weight: bold; color: #555;\">Supply vs. Demand Problem</h2>\n",
    "</div>"
   ]
  },
  {
   "cell_type": "markdown",
   "id": "66cb3f62",
   "metadata": {},
   "source": [
    "Finally, let's test and assess the functionality of PULPO to specify supply values rather than demand values. This can be done by setting the lower_limit and the upper_limit of activities to the same value. This will enforce the corresponding scaling vector entry of that activity to the specified value, and activates the slack variable to relax the demand value. "
   ]
  },
  {
   "cell_type": "markdown",
   "id": "4a3f2eac",
   "metadata": {},
   "source": [
    "This can simply be done by specifying the upper and lower limits rather than the demand (note, we continue with the choices from the previous section):"
   ]
  },
  {
   "cell_type": "code",
   "execution_count": null,
   "id": "89ecef38",
   "metadata": {
    "execution": {
     "iopub.execute_input": "2023-09-27T11:37:38.282469Z",
     "iopub.status.busy": "2023-09-27T11:37:38.282469Z",
     "iopub.status.idle": "2023-09-27T11:37:38.295459Z",
     "shell.execute_reply": "2023-09-27T11:37:38.295459Z",
     "shell.execute_reply.started": "2023-09-27T11:37:38.282469Z"
    }
   },
   "outputs": [],
   "source": [
    "upper_limit = {electricity_market[0]: 1.28819e+11}\n",
    "lower_limit = {electricity_market[0]: 1.28819e+11}"
   ]
  },
  {
   "cell_type": "code",
   "execution_count": null,
   "id": "6f72394d",
   "metadata": {
    "execution": {
     "iopub.execute_input": "2023-09-27T11:37:38.296459Z",
     "iopub.status.busy": "2023-09-27T11:37:38.296459Z",
     "iopub.status.idle": "2023-09-27T11:37:47.604058Z",
     "shell.execute_reply": "2023-09-27T11:37:47.604058Z",
     "shell.execute_reply.started": "2023-09-27T11:37:38.296459Z"
    },
    "scrolled": true
   },
   "outputs": [],
   "source": [
    "pulpo_worker.instantiate(choices=choices, upper_limit=upper_limit, lower_limit=lower_limit)\n",
    "results = pulpo_worker.solve()"
   ]
  },
  {
   "cell_type": "code",
   "execution_count": null,
   "id": "006b3b87",
   "metadata": {
    "execution": {
     "iopub.execute_input": "2023-09-27T11:37:47.605055Z",
     "iopub.status.busy": "2023-09-27T11:37:47.605055Z",
     "iopub.status.idle": "2023-09-27T11:37:47.667844Z",
     "shell.execute_reply": "2023-09-27T11:37:47.667844Z",
     "shell.execute_reply.started": "2023-09-27T11:37:47.605055Z"
    },
    "scrolled": true
   },
   "outputs": [],
   "source": [
    "pulpo_worker.summarize_results(choices=choices, demand=demand, constraints=upper_limit, zeroes=True)"
   ]
  },
  {
   "cell_type": "markdown",
   "id": "6ecc80bf",
   "metadata": {},
   "source": [
    "From the results it can be observed that the resulting GWP is **considerably** lower (6.191744e+10 vs. 5.920967e+10: ~4.4%) than in the previous section. Now, the production value (supply) of electricity is specified, so that electricity consumed in the background is accounted for in the specifications.\n",
    "\n",
    "Overall, when specifying supply values instead of demand values, the corresponding scaling vector entries are always smaller."
   ]
  },
  {
   "cell_type": "markdown",
   "id": "976fd3a8-e3eb-4f8c-a875-856eb741aa3a",
   "metadata": {},
   "source": [
    "<div style=\"text-align: center; background-color: #f0f0f0; padding: 10px;\">\n",
    "    <h2 style=\"font-family: 'Arial', sans-serif; font-weight: bold; color: #555;\">Foreground vs. Background Modelling</h2>\n",
    "</div>"
   ]
  },
  {
   "cell_type": "markdown",
   "id": "d0b2e993-009a-4b7b-a7ee-ece90fe1eea0",
   "metadata": {},
   "source": [
    "<center><img src=\"images/electricity_showcase_4.png\" alt=\"Alternative text\" width=\"700\"/>"
   ]
  },
  {
   "cell_type": "markdown",
   "id": "7610381f-c826-417d-8885-5a4e4b938199",
   "metadata": {},
   "source": [
    "In this final part of the electricity showcase, the difference between foreground and background modelling and optimization is demonstrated. For that purpose a foreground system must be created ... this can be done either by hand or I can upload a folded foreground system for this case ... in essence, a new database must be created (e.g. \"_cutoff38_foreground_\" where copies from the market and electricity production activites are duplicated to from the \"_cutoff38_\". What this does is disconnecting this activities from their downstream.\n",
    "\n",
    "We are then replacing the original inputs in the electricity market with the duplicated processes from the foreground system, effectively disconnecting the choices made in the electricity market from the upstream of the electricity production technologies:"
   ]
  },
  {
   "cell_type": "markdown",
   "id": "be25cefe-6ca4-42d2-bb8a-3096c93b8663",
   "metadata": {},
   "source": [
    "With this in mind, we can set up the optimization as usual, importing the \"_cutoff38_foreground_\" database instead of the \"_cutoff38_\" database:"
   ]
  },
  {
   "cell_type": "code",
   "execution_count": null,
   "id": "83385f75-df84-4bb9-9248-aef2e78e3e3f",
   "metadata": {
    "execution": {
     "iopub.execute_input": "2023-09-27T11:37:47.670835Z",
     "iopub.status.busy": "2023-09-27T11:37:47.670835Z",
     "iopub.status.idle": "2023-09-27T11:37:47.682571Z",
     "shell.execute_reply": "2023-09-27T11:37:47.682571Z",
     "shell.execute_reply.started": "2023-09-27T11:37:47.670835Z"
    }
   },
   "outputs": [],
   "source": [
    "project = \"pulpo\"\n",
    "database = \"cutoff38_foreground\""
   ]
  },
  {
   "cell_type": "code",
   "execution_count": null,
   "id": "651554db-128f-4b74-ab2d-0ab98ae5012b",
   "metadata": {
    "execution": {
     "iopub.execute_input": "2023-09-27T11:37:47.683572Z",
     "iopub.status.busy": "2023-09-27T11:37:47.683572Z",
     "iopub.status.idle": "2023-09-27T11:37:47.697904Z",
     "shell.execute_reply": "2023-09-27T11:37:47.697904Z",
     "shell.execute_reply.started": "2023-09-27T11:37:47.683572Z"
    }
   },
   "outputs": [],
   "source": [
    "pulpo_worker = pulpo.PulpoOptimizer(project, database, methods, directory)"
   ]
  },
  {
   "cell_type": "code",
   "execution_count": null,
   "id": "e9b26ce5-8055-4afe-b81d-e06f057d34f1",
   "metadata": {
    "execution": {
     "iopub.execute_input": "2023-09-27T11:37:47.698901Z",
     "iopub.status.busy": "2023-09-27T11:37:47.698901Z",
     "iopub.status.idle": "2023-09-27T11:37:48.298695Z",
     "shell.execute_reply": "2023-09-27T11:37:48.298695Z",
     "shell.execute_reply.started": "2023-09-27T11:37:47.698901Z"
    }
   },
   "outputs": [],
   "source": [
    "pulpo_worker.get_lci_data()"
   ]
  },
  {
   "cell_type": "markdown",
   "id": "1840257e-f372-4a83-a519-cce3097bc68e",
   "metadata": {},
   "source": [
    "Now, choose the foreground market for electricity:"
   ]
  },
  {
   "cell_type": "code",
   "execution_count": null,
   "id": "ff250df5-3646-4d2d-8d7f-2b7750c06bdb",
   "metadata": {
    "execution": {
     "iopub.execute_input": "2023-09-27T11:37:48.299701Z",
     "iopub.status.busy": "2023-09-27T11:37:48.299701Z",
     "iopub.status.idle": "2023-09-27T11:37:48.314540Z",
     "shell.execute_reply": "2023-09-27T11:37:48.314540Z",
     "shell.execute_reply.started": "2023-09-27T11:37:48.299701Z"
    }
   },
   "outputs": [],
   "source": [
    "activities = [\"market for electricity, high voltage, foreground\"]\n",
    "reference_products = [\"electricity, high voltage\"]\n",
    "locations = [\"DE\"]"
   ]
  },
  {
   "cell_type": "code",
   "execution_count": null,
   "id": "63766777-83a7-4a3b-b49a-36601fe72638",
   "metadata": {
    "execution": {
     "iopub.execute_input": "2023-09-27T11:37:48.315540Z",
     "iopub.status.busy": "2023-09-27T11:37:48.315540Z",
     "iopub.status.idle": "2023-09-27T11:37:48.344142Z",
     "shell.execute_reply": "2023-09-27T11:37:48.344142Z",
     "shell.execute_reply.started": "2023-09-27T11:37:48.315540Z"
    }
   },
   "outputs": [],
   "source": [
    "foreground_market = pulpo_worker.retrieve_activities(activities=activities, reference_products=reference_products, locations=locations)"
   ]
  },
  {
   "cell_type": "code",
   "execution_count": null,
   "id": "37c0635f-cb0b-495d-bfd4-d72a2aabe414",
   "metadata": {
    "execution": {
     "iopub.execute_input": "2023-09-27T11:37:48.346132Z",
     "iopub.status.busy": "2023-09-27T11:37:48.345137Z",
     "iopub.status.idle": "2023-09-27T11:37:48.359100Z",
     "shell.execute_reply": "2023-09-27T11:37:48.359100Z",
     "shell.execute_reply.started": "2023-09-27T11:37:48.346132Z"
    }
   },
   "outputs": [],
   "source": [
    "demand = {foreground_market[0]: 1.28819e+11}"
   ]
  },
  {
   "cell_type": "markdown",
   "id": "7e358b4f-c25c-42d4-af5b-8fc3c2de4edb",
   "metadata": {},
   "source": [
    "And the foreground electricity production technologies:"
   ]
  },
  {
   "cell_type": "code",
   "execution_count": null,
   "id": "32cbd648-bc8f-4ec0-af63-b7147803e805",
   "metadata": {
    "execution": {
     "iopub.execute_input": "2023-09-27T11:37:48.360100Z",
     "iopub.status.busy": "2023-09-27T11:37:48.360100Z",
     "iopub.status.idle": "2023-09-27T11:37:48.390715Z",
     "shell.execute_reply": "2023-09-27T11:37:48.390715Z",
     "shell.execute_reply.started": "2023-09-27T11:37:48.360100Z"
    }
   },
   "outputs": [],
   "source": [
    "activities = [\"electricity production, lignite, foreground\", \n",
    "             \"electricity production, hard coal, foreground\",\n",
    "             \"electricity production, nuclear, pressure water reactor, foreground\",\n",
    "             \"electricity production, wind, 1-3MW turbine, onshore, foreground\"]\n",
    "reference_products = [\"electricity, high voltage\"]\n",
    "locations = [\"DE\"]\n",
    "\n",
    "electricity_activities = pulpo_worker.retrieve_activities(activities=activities, reference_products=reference_products, locations=locations)"
   ]
  },
  {
   "cell_type": "code",
   "execution_count": null,
   "id": "9af3f0cc-ca10-46b6-b6a6-818c7fba3579",
   "metadata": {
    "execution": {
     "iopub.execute_input": "2023-09-27T11:37:48.391746Z",
     "iopub.status.busy": "2023-09-27T11:37:48.391746Z",
     "iopub.status.idle": "2023-09-27T11:37:48.407101Z",
     "shell.execute_reply": "2023-09-27T11:37:48.406105Z",
     "shell.execute_reply.started": "2023-09-27T11:37:48.391746Z"
    }
   },
   "outputs": [],
   "source": [
    "choices  = {'electricity': {electricity_activities[0]: 1e16,\n",
    "                         electricity_activities[1]: 1e16,\n",
    "                         electricity_activities[2]: 1e16,\n",
    "                         electricity_activities[3]: 1e16}}"
   ]
  },
  {
   "cell_type": "markdown",
   "id": "da8c0aec-7047-4e6c-8a2f-55777c160a78",
   "metadata": {},
   "source": [
    "Create the instance and solve the problem:"
   ]
  },
  {
   "cell_type": "code",
   "execution_count": null,
   "id": "e2cd342f-cb54-49fb-8d11-078b16845fca",
   "metadata": {
    "execution": {
     "iopub.execute_input": "2023-09-27T11:37:48.408097Z",
     "iopub.status.busy": "2023-09-27T11:37:48.408097Z",
     "iopub.status.idle": "2023-09-27T11:37:52.044276Z",
     "shell.execute_reply": "2023-09-27T11:37:52.044276Z",
     "shell.execute_reply.started": "2023-09-27T11:37:48.408097Z"
    }
   },
   "outputs": [],
   "source": [
    "instance = pulpo_worker.instantiate(choices=choices, demand=demand)"
   ]
  },
  {
   "cell_type": "code",
   "execution_count": null,
   "id": "823f2a7d-053d-4ad3-8452-32d05d8aec9f",
   "metadata": {
    "execution": {
     "iopub.execute_input": "2023-09-27T11:37:52.046268Z",
     "iopub.status.busy": "2023-09-27T11:37:52.045272Z",
     "iopub.status.idle": "2023-09-27T11:37:57.934691Z",
     "shell.execute_reply": "2023-09-27T11:37:57.934691Z",
     "shell.execute_reply.started": "2023-09-27T11:37:52.046268Z"
    },
    "scrolled": true
   },
   "outputs": [],
   "source": [
    "results = pulpo_worker.solve()"
   ]
  },
  {
   "cell_type": "code",
   "execution_count": null,
   "id": "2e40a4aa-3c1c-4e45-b679-c6461e41fa1f",
   "metadata": {
    "execution": {
     "iopub.execute_input": "2023-09-27T11:37:57.936688Z",
     "iopub.status.busy": "2023-09-27T11:37:57.936688Z",
     "iopub.status.idle": "2023-09-27T11:37:57.981332Z",
     "shell.execute_reply": "2023-09-27T11:37:57.981332Z",
     "shell.execute_reply.started": "2023-09-27T11:37:57.936688Z"
    }
   },
   "outputs": [],
   "source": [
    "pulpo_worker.summarize_results(choices=choices, demand=demand, zeroes=True)"
   ]
  },
  {
   "cell_type": "markdown",
   "id": "5e8924a0-6f11-4891-9f12-c06eb2c699b2",
   "metadata": {},
   "source": [
    "The result of this optimization is a minimum GWP of 1.764977e+10 kg CO2eq instead of 1.599836e+10 kg CO2eq from the initial calculations uising the full LCI. This is a difference of **8%**!"
   ]
  },
  {
   "cell_type": "markdown",
   "id": "63afe2ba-d322-4a1e-a75b-fc36e0e354b6",
   "metadata": {},
   "source": [
    "<div style=\"text-align: center; background-color: #f0f0f0; padding: 10px;\">\n",
    "    <h2 style=\"font-family: 'Arial', sans-serif; font-weight: bold; color: #555;\">Integer Cuts</h2>\n",
    "</div>"
   ]
  },
  {
   "cell_type": "markdown",
   "id": "6485f0f7-0889-4a15-9abd-5b214bc7617a",
   "metadata": {},
   "source": [
    "This functionality will be available in future versions of PULPO"
   ]
  }
 ],
 "metadata": {
  "kernelspec": {
   "display_name": "Python 3 (ipykernel)",
   "language": "python",
   "name": "python3"
  },
  "language_info": {
   "codemirror_mode": {
    "name": "ipython",
    "version": 3
   },
   "file_extension": ".py",
   "mimetype": "text/x-python",
   "name": "python",
   "nbconvert_exporter": "python",
   "pygments_lexer": "ipython3",
   "version": "3.9.16"
  }
 },
 "nbformat": 4,
 "nbformat_minor": 5
}
