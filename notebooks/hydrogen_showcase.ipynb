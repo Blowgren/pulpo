{
 "cells": [
  {
   "cell_type": "markdown",
   "id": "5dcdd302",
   "metadata": {},
   "source": [
    "Hydrogen showcase for basic PULPO\n",
    "\n",
    "Written by Fabian Lechtenberg, 07.07.2023\n",
    "\n",
    "Last Update: 24.09.2023"
   ]
  },
  {
   "cell_type": "markdown",
   "id": "1ed6b95f",
   "metadata": {},
   "source": [
    "<div style=\"text-align: center; background-color: #f0f0f0; padding: 10px;\">\n",
    "    <h2 style=\"font-family: 'Arial', sans-serif; font-weight: bold; color: #555;\">(1) Selection of LCI Data</h2>\n",
    "</div>"
   ]
  },
  {
   "cell_type": "markdown",
   "id": "4f8eff9d",
   "metadata": {},
   "source": [
    "### Import section"
   ]
  },
  {
   "cell_type": "markdown",
   "id": "448abc38",
   "metadata": {},
   "source": [
    "In this working version of the pulpo repository, pulpo musst be imported from the folder above, which can be done by appending \"..\" to the system path."
   ]
  },
  {
   "cell_type": "code",
   "execution_count": null,
   "id": "606b78ed",
   "metadata": {},
   "outputs": [],
   "source": [
    "import os\n",
    "import sys\n",
    "sys.path.append('..')\n",
    "from pulpo import pulpo\n",
    "\n",
    "import pandas as pd\n",
    "pd.set_option('display.max_colwidth', None)"
   ]
  },
  {
   "cell_type": "markdown",
   "id": "0da2fe63",
   "metadata": {},
   "source": [
    "### Setup"
   ]
  },
  {
   "cell_type": "markdown",
   "id": "84d12867",
   "metadata": {},
   "source": [
    "Specify the project, database and method to be used. Also indicate the folder where the working data should be stored."
   ]
  },
  {
   "cell_type": "code",
   "execution_count": null,
   "id": "d116e4d4-be73-4291-a77c-603459b3ef2f",
   "metadata": {},
   "outputs": [],
   "source": [
    "# Ask the user for input\n",
    "version = input(\"Enter version (bw2 or bw25): \")\n",
    "\n",
    "# Set variables based on user input\n",
    "if version == \"bw2\":\n",
    "    project = \"pulpo\"\n",
    "    database = \"cutoff38\"\n",
    "    method = \"('IPCC 2013', 'climate change', 'GWP 100a')\"\n",
    "elif version == \"bw25\":\n",
    "    project = \"pulpo_bw25\"\n",
    "    database = \"ecoinvent-3.8-cutoff\"\n",
    "    method = \"('ecoinvent-3.8', 'IPCC 2013', 'climate change', 'GWP 100a')\"\n",
    "else:\n",
    "    raise ValueError(\"Invalid version specified. Please enter 'pulpo' or 'pulpo_bw25'.\")\n",
    "\n",
    "print(f\"Set to: project={project}, database={database}, methods={method}\")"
   ]
  },
  {
   "cell_type": "code",
   "execution_count": null,
   "id": "ead64289",
   "metadata": {},
   "outputs": [],
   "source": [
    "# Substitute with your working directory of choice\n",
    "notebook_dir = os.path.dirname(os.getcwd())\n",
    "directory = os.path.join(notebook_dir, 'data')\n",
    "\n",
    "# Substitute with your GAMS path\n",
    "GAMS_PATH = r\"C:\\APPS\\GAMS\\win64\\40.1\\gams.exe\""
   ]
  },
  {
   "cell_type": "markdown",
   "id": "0e5e5da2",
   "metadata": {},
   "source": [
    "Create a pulpo object called \"pulpo_worker\". This object is an element of the class \"PulpoOptimizer\", a class that links the different utilitiy modules containing code for retrieving, preparing and adjusting the data, preparing and running the optimization problem, as well as saving the results."
   ]
  },
  {
   "cell_type": "code",
   "execution_count": null,
   "id": "ae4b5787",
   "metadata": {},
   "outputs": [],
   "source": [
    "pulpo_worker = pulpo.PulpoOptimizer(project, database, method, directory)\n",
    "if version==\"bw25\":\n",
    "    pulpo_worker.intervention_matrix=\"ecoinvent-3.8-biosphere\""
   ]
  },
  {
   "cell_type": "markdown",
   "id": "2a9fcd18",
   "metadata": {},
   "source": [
    "Retrieve the data. If data is already loaded, this step is automatically skipped. "
   ]
  },
  {
   "cell_type": "code",
   "execution_count": null,
   "id": "80697078",
   "metadata": {},
   "outputs": [],
   "source": [
    "pulpo_worker.get_lci_data()"
   ]
  },
  {
   "cell_type": "markdown",
   "id": "e16f8296",
   "metadata": {},
   "source": [
    "<div style=\"text-align: center; background-color: #f0f0f0; padding: 10px;\">\n",
    "    <h2 style=\"font-family: 'Arial', sans-serif; font-weight: bold; color: #555;\">(2) User Specifications</h2>\n",
    "</div>"
   ]
  },
  {
   "cell_type": "markdown",
   "id": "a8492b7e",
   "metadata": {},
   "source": [
    "### Specify the **functional unit**"
   ]
  },
  {
   "cell_type": "markdown",
   "id": "de935003",
   "metadata": {},
   "source": [
    "Retrieve the market activity for liquid hydrogen in Europe (RER). Use the function \"**<span style=\"color: red;\">retrieve_activities</span>**\" for this purpose. The function takes 4 optional arguments: \"keys\" (🔑) --> \"activities\" (⚙️) --> \"reference_products\" (📦) --> \"locations\" (🗺️). The activities are retrieved by this order. \n",
    "\n",
    "Since the key is unique, a single activity for each passed key will be returned. Activity names, reference_prduct and locations are not unique, so the best match for the passed data will be returned. "
   ]
  },
  {
   "cell_type": "markdown",
   "id": "2fc40bd9",
   "metadata": {},
   "source": [
    "#### Passing keys  🔑"
   ]
  },
  {
   "cell_type": "markdown",
   "id": "80fce33f",
   "metadata": {},
   "source": [
    "Keys can be obtained e.g. directly from **activity browser** and several keys can be passed at the same time."
   ]
  },
  {
   "cell_type": "code",
   "execution_count": null,
   "id": "167a2bfb",
   "metadata": {},
   "outputs": [],
   "source": [
    "keys = [\"('cutoff38', 'a834063e527dafabe7d179a804a13f39')\", \"('cutoff38', 'b665bad6dd31cc988da3d434d5293b60')\"]"
   ]
  },
  {
   "cell_type": "code",
   "execution_count": null,
   "id": "b46fa327",
   "metadata": {},
   "outputs": [],
   "source": [
    "pulpo_worker.retrieve_activities(keys=keys)"
   ]
  },
  {
   "cell_type": "markdown",
   "id": "daf88526",
   "metadata": {},
   "source": [
    "#### Passing activity  name (⚙️), reference_product (📦) and/or location (🗺️)"
   ]
  },
  {
   "cell_type": "markdown",
   "id": "4074fec3",
   "metadata": {},
   "source": [
    "Instead of passing the keys, a combination of activities, reference_products and locations can be passed. A best match (all existing combinations) will be returned. "
   ]
  },
  {
   "cell_type": "code",
   "execution_count": null,
   "id": "4d445dfc",
   "metadata": {},
   "outputs": [],
   "source": [
    "activities = [\"market for hydrogen, liquid\"]\n",
    "reference_products = [\"hydrogen, liquid\"]\n",
    "locations = [\"RER\"]"
   ]
  },
  {
   "cell_type": "markdown",
   "id": "5d0976d1",
   "metadata": {},
   "source": [
    "It is also possible to pass only partial information such as only reference product or only activity name:"
   ]
  },
  {
   "cell_type": "code",
   "execution_count": null,
   "id": "0cb7d84f",
   "metadata": {},
   "outputs": [],
   "source": [
    "pulpo_worker.retrieve_activities(activities=activities)"
   ]
  },
  {
   "cell_type": "code",
   "execution_count": null,
   "id": "b211d17a",
   "metadata": {},
   "outputs": [],
   "source": [
    "pulpo_worker.retrieve_activities(reference_products=reference_products)"
   ]
  },
  {
   "cell_type": "markdown",
   "id": "03e8a151",
   "metadata": {},
   "source": [
    "Let's retrieve the activity of our functional unit and specify the demand as a dictionary:"
   ]
  },
  {
   "cell_type": "code",
   "execution_count": null,
   "id": "332b2f95",
   "metadata": {},
   "outputs": [],
   "source": [
    "hydrogen_market = pulpo_worker.retrieve_activities(activities=activities, reference_products=reference_products, locations=locations)"
   ]
  },
  {
   "cell_type": "code",
   "execution_count": null,
   "id": "1959b64f",
   "metadata": {},
   "outputs": [],
   "source": [
    "hydrogen_market"
   ]
  },
  {
   "cell_type": "markdown",
   "id": "7cf0adef",
   "metadata": {},
   "source": [
    "Setting a demand of 100 kg of hydrogen"
   ]
  },
  {
   "cell_type": "code",
   "execution_count": null,
   "id": "223e1cf1",
   "metadata": {},
   "outputs": [],
   "source": [
    "demand = {hydrogen_market[0]: 100}"
   ]
  },
  {
   "cell_type": "markdown",
   "id": "992d6029",
   "metadata": {},
   "source": [
    "### Specify the **choices**"
   ]
  },
  {
   "cell_type": "markdown",
   "id": "4b6d561a",
   "metadata": {},
   "source": [
    "The choices are specified similar to the demand / functional unit. First, search for the equivalent activities."
   ]
  },
  {
   "cell_type": "code",
   "execution_count": null,
   "id": "d704a9a5",
   "metadata": {},
   "outputs": [],
   "source": [
    "activities = [\"chlor-alkali electrolysis, diaphragm cell\", \n",
    "             \"chlor-alkali electrolysis, membrane cell\",\n",
    "             \"chlor-alkali electrolysis, mercury cell\",\n",
    "             \"hydrogen cracking, APME\"]\n",
    "reference_products = [\"hydrogen, liquid\"]\n",
    "locations = [\"RER\"]\n",
    "\n",
    "hydrogen_activities = pulpo_worker.retrieve_activities(activities=activities, reference_products=reference_products, locations=locations)"
   ]
  },
  {
   "cell_type": "code",
   "execution_count": null,
   "id": "9d8fac69",
   "metadata": {},
   "outputs": [],
   "source": [
    "hydrogen_activities"
   ]
  },
  {
   "cell_type": "markdown",
   "id": "d9a512a5",
   "metadata": {},
   "source": [
    "Specify also the choices as a dictionary. Be aware, that this time we are dealing with a dictionary of dictionaries. Each inner dictionary corresponds to one type of choice in the background! Here, we only consider choices between hydrogen production activities, so we assign the key \"hydrogen\" to the equivalent product they produce. The next showcase demonstrates a case where two types of choices are considered. \n",
    "\n",
    "The assigned value in the inner dictionary is the capacity limit of this activity. "
   ]
  },
  {
   "cell_type": "code",
   "execution_count": null,
   "id": "bfae6af4",
   "metadata": {},
   "outputs": [],
   "source": [
    "choices  = {'hydrogen': {hydrogen_activities[0]: 10000,\n",
    "                         hydrogen_activities[1]: 10000,\n",
    "                         hydrogen_activities[2]: 10000,\n",
    "                         hydrogen_activities[3]: 10000}}"
   ]
  },
  {
   "cell_type": "markdown",
   "id": "25f8cf77",
   "metadata": {},
   "source": [
    "<div style=\"text-align: center; background-color: #f0f0f0; padding: 10px;\">\n",
    "    <h2 style=\"font-family: 'Arial', sans-serif; font-weight: bold; color: #555;\">(3) Solution</h2>\n",
    "</div>"
   ]
  },
  {
   "cell_type": "markdown",
   "id": "3a90008f",
   "metadata": {},
   "source": [
    "### Instantiate the worker"
   ]
  },
  {
   "cell_type": "code",
   "execution_count": null,
   "id": "be46ea2d",
   "metadata": {},
   "outputs": [],
   "source": [
    "instance = pulpo_worker.instantiate(choices=choices, demand=demand)"
   ]
  },
  {
   "cell_type": "markdown",
   "id": "20353834",
   "metadata": {},
   "source": [
    "### Solve the instance"
   ]
  },
  {
   "cell_type": "markdown",
   "id": "43da9882",
   "metadata": {},
   "source": [
    "When specifying a valid GAMS_PATH with a licence for CPLEX, as shown below, CPLEX with fine-tuned parameters is automatically selected to solve the Linear Problem (LP).\n",
    "\n",
    "If no GAMS_PATH is specified, the \"[HiGHS](https://highs.dev/)\" solver is automatically used. It has almost double the run time of \"CPLEX\"."
   ]
  },
  {
   "cell_type": "code",
   "execution_count": null,
   "id": "eb13ed22",
   "metadata": {
    "scrolled": true
   },
   "outputs": [],
   "source": [
    "results = pulpo_worker.solve()\n",
    "# Alternatively using GAMS (cplex) solvers:\n",
    "# results = pulpo_worker.solve(GAMS_PATH=GAMS_PATH)"
   ]
  },
  {
   "cell_type": "markdown",
   "id": "916c7e48",
   "metadata": {},
   "source": [
    "### Save and summarize the results"
   ]
  },
  {
   "cell_type": "markdown",
   "id": "cba63697",
   "metadata": {},
   "source": [
    "The \"**save_results()**\" function will save the results in an processed format to an excel file in the data folder that has been specified at the beginning."
   ]
  },
  {
   "cell_type": "code",
   "execution_count": null,
   "id": "cf427cea",
   "metadata": {},
   "outputs": [],
   "source": [
    "pulpo_worker.save_results(choices=choices, demand=demand, name='hydrogen_showcase_results.xlsx')"
   ]
  },
  {
   "cell_type": "markdown",
   "id": "4c4a1df1",
   "metadata": {},
   "source": [
    "There is another function to summarize the results in dataframe form within jupyter notbeooks calles \"summarize_results\". This function has similar inputs to the \"save_results\" function, but does not require the specification of a filename. Additionally, by specifying the \"zeroes\" parameter to \"True\" all the not-selected choices are omitted in the summary."
   ]
  },
  {
   "cell_type": "code",
   "execution_count": null,
   "id": "f6141497",
   "metadata": {},
   "outputs": [],
   "source": [
    "pulpo_worker.summarize_results(choices=choices, demand=demand, zeroes=True)"
   ]
  },
  {
   "cell_type": "markdown",
   "id": "f5893613",
   "metadata": {},
   "source": [
    "# Closing Remarks"
   ]
  },
  {
   "cell_type": "markdown",
   "id": "c1b2f442",
   "metadata": {},
   "source": [
    "This is the end of the very basic PULPO functionalities using the hydrogen case study. "
   ]
  },
  {
   "cell_type": "markdown",
   "id": "b5298095",
   "metadata": {},
   "source": [
    "The following sections will dive deeper into additional functionalities."
   ]
  },
  {
   "cell_type": "markdown",
   "id": "602c9d5e",
   "metadata": {},
   "source": [
    "<div style=\"text-align: center; background-color: #f0f0f0; padding: 10px;\">\n",
    "    <h2 style=\"font-family: 'Arial', sans-serif; font-weight: bold; color: #555;\">Additional Constraints</h2>\n",
    "</div>"
   ]
  },
  {
   "cell_type": "markdown",
   "id": "e277bb96",
   "metadata": {},
   "source": [
    "Let's assess what happens if the \"hydrogen cracking, APME\" activity is indirectly constrained trough a restriction on \"treatment of spoil from hard coal mining, in surface landfill\""
   ]
  },
  {
   "cell_type": "code",
   "execution_count": null,
   "id": "04b68998",
   "metadata": {},
   "outputs": [],
   "source": [
    "activities = [\"treatment of waste cement, hydrated, residual material landfill\"]\n",
    "reference_products = [\"waste cement, hydrated\"]\n",
    "locations = [\"CH\"]\n",
    "\n",
    "mining = pulpo_worker.retrieve_activities(activities=activities, reference_products=reference_products, locations=locations)"
   ]
  },
  {
   "cell_type": "code",
   "execution_count": null,
   "id": "aebdc35c",
   "metadata": {},
   "outputs": [],
   "source": [
    "mining"
   ]
  },
  {
   "cell_type": "code",
   "execution_count": null,
   "id": "a89c6ee5",
   "metadata": {},
   "outputs": [],
   "source": [
    "upper_limit = {mining[0]: 0.4}"
   ]
  },
  {
   "cell_type": "markdown",
   "id": "da61b77d",
   "metadata": {},
   "source": [
    "The rationale behind choosing this activity and this limit is based on inspection of the scaling vector of the previous results. This activity is limiting for the cracking activity but not for the electrolysis ones, so to enforce a different result than before, this activity is constrained."
   ]
  },
  {
   "cell_type": "code",
   "execution_count": null,
   "id": "87267aa9",
   "metadata": {
    "scrolled": true
   },
   "outputs": [],
   "source": [
    "pulpo_worker.instantiate(choices=choices, demand=demand, upper_limit=upper_limit)\n",
    "results = pulpo_worker.solve()"
   ]
  },
  {
   "cell_type": "code",
   "execution_count": null,
   "id": "a03f1671",
   "metadata": {},
   "outputs": [],
   "source": [
    "pulpo_worker.summarize_results(choices=choices, demand=demand, constraints=upper_limit)"
   ]
  },
  {
   "cell_type": "markdown",
   "id": "5f409b26",
   "metadata": {},
   "source": [
    "As can be seen from the summary above, part of the final hydrogen demand is supplied by the membrane cell electrolysis, because the hydrogen cracking case study is constrained by the mining activity. It is also evident that the impact is higher than the previous one, as the most suitable activity (hydrogen cracking) can no longer supply the full demand."
   ]
  },
  {
   "cell_type": "markdown",
   "id": "48249a97",
   "metadata": {},
   "source": [
    "<div style=\"text-align: center; background-color: #f0f0f0; padding: 10px;\">\n",
    "    <h2 style=\"font-family: 'Arial', sans-serif; font-weight: bold; color: #555;\">Additional Methods</h2>\n",
    "</div>"
   ]
  },
  {
   "cell_type": "markdown",
   "id": "3a455b7b",
   "metadata": {},
   "source": [
    "Let's see how to evaluate different methods and set them as objectives"
   ]
  },
  {
   "cell_type": "code",
   "execution_count": null,
   "id": "6ccd79d5",
   "metadata": {},
   "outputs": [],
   "source": [
    "if version==\"bw25\":\n",
    "    methods = {\"('ecoinvent-3.8', 'IPCC 2013', 'climate change', 'GWP 100a')\": 1,\n",
    "          \"('ecoinvent-3.8', 'CML 2001 (superseded)', 'terrestrial ecotoxicity', 'TAETP infinite')\": 0}\n",
    "else:\n",
    "    methods = {\"('IPCC 2013', 'climate change', 'GWP 100a')\": 1,\n",
    "          \"('CML 2001 (superseded)', 'terrestrial ecotoxicity', 'TAETP infinite')\": 0}"
   ]
  },
  {
   "cell_type": "code",
   "execution_count": null,
   "id": "8c71c0b9",
   "metadata": {},
   "outputs": [],
   "source": [
    "pulpo_worker = pulpo.PulpoOptimizer(project, database, methods, directory)\n",
    "if version==\"bw25\":\n",
    "    pulpo_worker.intervention_matrix=\"ecoinvent-3.8-biosphere\""
   ]
  },
  {
   "cell_type": "code",
   "execution_count": null,
   "id": "60d4cad9",
   "metadata": {},
   "outputs": [],
   "source": [
    "pulpo_worker.get_lci_data()"
   ]
  },
  {
   "cell_type": "code",
   "execution_count": null,
   "id": "cb241deb",
   "metadata": {
    "scrolled": true
   },
   "outputs": [],
   "source": [
    "pulpo_worker.instantiate(choices=choices, demand=demand)\n",
    "results = pulpo_worker.solve()"
   ]
  },
  {
   "cell_type": "code",
   "execution_count": null,
   "id": "e81c9f8c",
   "metadata": {
    "scrolled": true
   },
   "outputs": [],
   "source": [
    "pulpo_worker.summarize_results(choices=choices, demand=demand, zeroes=True)"
   ]
  },
  {
   "cell_type": "code",
   "execution_count": null,
   "id": "58aa77d0-0e9b-4b88-b6a3-84cf5701377e",
   "metadata": {},
   "outputs": [],
   "source": [
    "if version==\"bw25\":\n",
    "    methods = {\"('ecoinvent-3.8', 'IPCC 2013', 'climate change', 'GWP 100a')\": 0,\n",
    "          \"('ecoinvent-3.8', 'CML 2001 (superseded)', 'terrestrial ecotoxicity', 'TAETP infinite')\": 1}\n",
    "else:\n",
    "    methods = {\"('IPCC 2013', 'climate change', 'GWP 100a')\": 0,\n",
    "          \"('CML 2001 (superseded)', 'terrestrial ecotoxicity', 'TAETP infinite')\": 1}"
   ]
  },
  {
   "cell_type": "code",
   "execution_count": null,
   "id": "dfbe2fe3-f3d1-46a0-9a7d-a49af4adb80d",
   "metadata": {},
   "outputs": [],
   "source": [
    "pulpo_worker = pulpo.PulpoOptimizer(project, database, methods, directory)\n",
    "if version==\"bw25\":\n",
    "    pulpo_worker.intervention_matrix=\"ecoinvent-3.8-biosphere\""
   ]
  },
  {
   "cell_type": "code",
   "execution_count": null,
   "id": "ae7f071c-be80-44f3-ad4f-eef0c603a56e",
   "metadata": {},
   "outputs": [],
   "source": [
    "pulpo_worker.get_lci_data()"
   ]
  },
  {
   "cell_type": "code",
   "execution_count": null,
   "id": "46094d6d-9c62-4f46-887f-e28a8e958b85",
   "metadata": {},
   "outputs": [],
   "source": [
    "pulpo_worker.instantiate(choices=choices, demand=demand)\n",
    "results = pulpo_worker.solve()"
   ]
  },
  {
   "cell_type": "code",
   "execution_count": null,
   "id": "ede20fa6-4883-4dd9-a14b-25faecc27bd7",
   "metadata": {},
   "outputs": [],
   "source": [
    "pulpo_worker.summarize_results(choices=choices, demand=demand, zeroes=True)"
   ]
  },
  {
   "cell_type": "markdown",
   "id": "26fec4c4",
   "metadata": {},
   "source": [
    "<div style=\"text-align: center; background-color: #f0f0f0; padding: 10px;\">\n",
    "    <h2 style=\"font-family: 'Arial', sans-serif; font-weight: bold; color: #555;\">Lower Level Decisions</h2>\n",
    "</div>"
   ]
  },
  {
   "cell_type": "markdown",
   "id": "ee72103c",
   "metadata": {},
   "source": [
    "In this case study, we would like to keep the current share of the hydrogen supplied by cracking in the market the same. The choices that we consider on the hydrogen level are between the different electrolsysis activities:"
   ]
  },
  {
   "cell_type": "code",
   "execution_count": null,
   "id": "e68e44ef",
   "metadata": {},
   "outputs": [],
   "source": [
    "activities = [\"chlor-alkali electrolysis, diaphragm cell\", \n",
    "             \"chlor-alkali electrolysis, membrane cell\",\n",
    "             \"chlor-alkali electrolysis, mercury cell\"]\n",
    "reference_products = [\"hydrogen, liquid\"]\n",
    "locations = [\"RER\"]\n",
    "\n",
    "hydrogen_activities = pulpo_worker.retrieve_activities(activities=activities, reference_products=reference_products, locations=locations)"
   ]
  },
  {
   "cell_type": "markdown",
   "id": "a8f82b5b",
   "metadata": {},
   "source": [
    "Instead of assessing only the **technology** choices, we are invetigating the best **regional** choice for the source of electricity:"
   ]
  },
  {
   "cell_type": "code",
   "execution_count": null,
   "id": "5b5471b2",
   "metadata": {},
   "outputs": [],
   "source": [
    "activities = [\"market for electricity, medium voltage\"]\n",
    "reference_products = [\"electricity, medium voltage\"]\n",
    "locations = [\"AL\",\"AT\",\"BA\",\"BE\",\"BG\",\"BY\",\"CZ\",\"DE\",\"DK\",\"EE\",\"ES\",\"FI\",\"FR\",\"GB\",\"GI\",\"GR\",\"HR\",\"HU\",\"IE\",\"IS\",\"IT\",\"LT\",\"LU\",\"LV\",\"MD\",\"ME\",\"MK\",\"MT\",\"NL\",\"NO\",\"PL\",\"PT\",\"RO\",\"RS\",\"SE\",\"SI\",\"SK\",\"UA\",\"XK\"]\n",
    "elec_activities = pulpo_worker.retrieve_activities(activities=activities, reference_products=reference_products, locations=locations)"
   ]
  },
  {
   "cell_type": "markdown",
   "id": "ae575912",
   "metadata": {},
   "source": [
    "The updated choice dictionary looks like this:"
   ]
  },
  {
   "cell_type": "code",
   "execution_count": null,
   "id": "bc665036",
   "metadata": {},
   "outputs": [],
   "source": [
    "choices  = {'hydrogen': {hydrogen: 1000 for hydrogen in hydrogen_activities},\n",
    "            'electricity': {elec: 100000 for elec in elec_activities}}"
   ]
  },
  {
   "cell_type": "markdown",
   "id": "6db1e764",
   "metadata": {},
   "source": [
    "Instantiating and solving the adapted problem:"
   ]
  },
  {
   "cell_type": "code",
   "execution_count": null,
   "id": "1143473f",
   "metadata": {
    "scrolled": true
   },
   "outputs": [],
   "source": [
    "pulpo_worker.instantiate(choices=choices, demand=demand)\n",
    "results = pulpo_worker.solve(GAMS_PATH=GAMS_PATH)"
   ]
  },
  {
   "cell_type": "markdown",
   "id": "73eadc47",
   "metadata": {},
   "source": [
    "Visualizing the results"
   ]
  },
  {
   "cell_type": "code",
   "execution_count": null,
   "id": "d9c7c140",
   "metadata": {
    "scrolled": true
   },
   "outputs": [],
   "source": [
    "pulpo_worker.summarize_results(choices=choices, demand=demand, zeroes=True)"
   ]
  },
  {
   "cell_type": "markdown",
   "id": "18a60969",
   "metadata": {},
   "source": [
    "It is again evident, that the GWP increased (185.4) compared to the best result from the base case (179.4), because not the full demand is fulfilled with hydrogen from cracking. \n",
    "\n",
    "As for the technology and regional choice in the two specified choices, we find that diaphragm cell electrolysis supplied powered by grid electricity from Norway (NO) minimizes the GWP. "
   ]
  },
  {
   "cell_type": "markdown",
   "id": "d71d8e1c",
   "metadata": {},
   "source": [
    "<div style=\"text-align: center; background-color: #f0f0f0; padding: 10px;\">\n",
    "    <h2 style=\"font-family: 'Arial', sans-serif; font-weight: bold; color: #555;\">Supply vs. Demand Problem</h2>\n",
    "</div>"
   ]
  },
  {
   "cell_type": "markdown",
   "id": "66cb3f62",
   "metadata": {},
   "source": [
    "Finally, let's test and assess the functionality of PULPO to specify supply values rather than demand values. This can be done by setting the lower_limit and the upper_limit of activities to the same value. This will enforce the corresponding scaling vector entry of that activity to the specified value, and activates the slack variable to relax the demand value. "
   ]
  },
  {
   "cell_type": "markdown",
   "id": "4a3f2eac",
   "metadata": {},
   "source": [
    "This can simply be done by specifying the upper and lower limits rather than the demand (note, we continue with the choices from the previous section):"
   ]
  },
  {
   "cell_type": "code",
   "execution_count": null,
   "id": "89ecef38",
   "metadata": {},
   "outputs": [],
   "source": [
    "upper_limit = {hydrogen_market[0]: 100}\n",
    "lower_limit = {hydrogen_market[0]: 100}"
   ]
  },
  {
   "cell_type": "code",
   "execution_count": null,
   "id": "6f72394d",
   "metadata": {
    "scrolled": true
   },
   "outputs": [],
   "source": [
    "pulpo_worker.instantiate(choices=choices, upper_limit=upper_limit, lower_limit=lower_limit)\n",
    "results = pulpo_worker.solve()"
   ]
  },
  {
   "cell_type": "code",
   "execution_count": null,
   "id": "006b3b87",
   "metadata": {
    "scrolled": true
   },
   "outputs": [],
   "source": [
    "pulpo_worker.summarize_results(choices=choices, demand=demand, constraints=upper_limit, zeroes=True)"
   ]
  },
  {
   "cell_type": "markdown",
   "id": "6ecc80bf",
   "metadata": {},
   "source": [
    "From the results it can be observed that the resulting GWP is **slightly** lower (185.402 vs. 185.414) than in the previous section, which is due to the fact that previously, a little more than 100kg of hydrogen needed to be produced as somewhere in the background hydrogen was consumed. Now, the production value (supply) of hydrogen is specified, so that hydrogen consumed in the background is accounted for in the specifications.\n",
    "\n",
    "Overall, when specifying supply values instead of demand values, the corresponding scaling vector entries are always smaller."
   ]
  }
 ],
 "metadata": {
  "kernelspec": {
   "display_name": "Python 3 (ipykernel)",
   "language": "python",
   "name": "python3"
  },
  "language_info": {
   "codemirror_mode": {
    "name": "ipython",
    "version": 3
   },
   "file_extension": ".py",
   "mimetype": "text/x-python",
   "name": "python",
   "nbconvert_exporter": "python",
   "pygments_lexer": "ipython3",
   "version": "3.10.16"
  }
 },
 "nbformat": 4,
 "nbformat_minor": 5
}
