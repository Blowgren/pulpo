{
 "cells": [
  {
   "cell_type": "markdown",
   "id": "5dcdd302",
   "metadata": {},
   "source": [
    "Hydrogen showcase for basic PULPO\n",
    "\n",
    "Written by Fabian Lechtenberg, 07.07.2023\n",
    "\n",
    "Last Update: 29.08.2023"
   ]
  },
  {
   "cell_type": "markdown",
   "id": "1ed6b95f",
   "metadata": {},
   "source": [
    "<div style=\"text-align: center; background-color: #f0f0f0; padding: 10px;\">\n",
    "    <h2 style=\"font-family: 'Arial', sans-serif; font-weight: bold; color: #555;\">(1) Selection of LCI Data</h2>\n",
    "</div>"
   ]
  },
  {
   "cell_type": "markdown",
   "id": "4f8eff9d",
   "metadata": {},
   "source": [
    "### Import section"
   ]
  },
  {
   "cell_type": "markdown",
   "id": "448abc38",
   "metadata": {},
   "source": [
    "In this working version of the pulpo repository, pulpo musst be imported from the folder above, which can be done by appending \"..\" to the system path."
   ]
  },
  {
   "cell_type": "code",
   "execution_count": 1,
   "id": "606b78ed",
   "metadata": {},
   "outputs": [],
   "source": [
    "import os\n",
    "import sys\n",
    "sys.path.append('..')\n",
    "from pulpo import pulpo\n",
    "\n",
    "import pandas as pd\n",
    "pd.set_option('display.max_colwidth', None)"
   ]
  },
  {
   "cell_type": "markdown",
   "id": "0da2fe63",
   "metadata": {},
   "source": [
    "### Setup"
   ]
  },
  {
   "cell_type": "markdown",
   "id": "84d12867",
   "metadata": {},
   "source": [
    "Specify the project, database and method to be used. Also indicate the folder where the working data should be stored."
   ]
  },
  {
   "cell_type": "code",
   "execution_count": 2,
   "id": "ead64289",
   "metadata": {},
   "outputs": [],
   "source": [
    "project = \"pulpo\"\n",
    "database = \"cutoff38\"\n",
    "method = \"('IPCC 2013', 'climate change', 'GWP 100a')\"\n",
    "\n",
    "# Substitute with your working directory of choice\n",
    "notebook_dir = os.path.dirname(os.getcwd())\n",
    "directory = os.path.join(notebook_dir, 'data')\n",
    "\n",
    "# Substitute with your GAMS path\n",
    "GAMS_PATH = \"C:/GAMS/37/gams.exe\""
   ]
  },
  {
   "cell_type": "markdown",
   "id": "0e5e5da2",
   "metadata": {},
   "source": [
    "Create a pulpo object called \"pulpo_worker\". This object is an element of the class \"PulpoOptimizer\", a class that links the different utilitiy modules containing code for retrieving, preparing and adjusting the data, preparing and running the optimization problem, as well as saving the results."
   ]
  },
  {
   "cell_type": "code",
   "execution_count": 3,
   "id": "ae4b5787",
   "metadata": {},
   "outputs": [],
   "source": [
    "pulpo_worker = pulpo.PulpoOptimizer(project, database, method, directory)"
   ]
  },
  {
   "cell_type": "markdown",
   "id": "2a9fcd18",
   "metadata": {},
   "source": [
    "Retrieve the data. If data is already loaded, this step is automatically skipped. "
   ]
  },
  {
   "cell_type": "code",
   "execution_count": 4,
   "id": "80697078",
   "metadata": {},
   "outputs": [],
   "source": [
    "pulpo_worker.get_lci_data()"
   ]
  },
  {
   "cell_type": "markdown",
   "id": "e16f8296",
   "metadata": {},
   "source": [
    "<div style=\"text-align: center; background-color: #f0f0f0; padding: 10px;\">\n",
    "    <h2 style=\"font-family: 'Arial', sans-serif; font-weight: bold; color: #555;\">(2) User Specifications</h2>\n",
    "</div>"
   ]
  },
  {
   "cell_type": "markdown",
   "id": "a8492b7e",
   "metadata": {},
   "source": [
    "### Specify the **functional unit**"
   ]
  },
  {
   "cell_type": "markdown",
   "id": "de935003",
   "metadata": {},
   "source": [
    "Retrieve the market activity for liquid hydrogen in Europe (RER). Use the function \"**<span style=\"color: red;\">retrieve_activities</span>**\" for this purpose. The function takes 4 optional arguments: \"keys\" (🔑) --> \"activities\" (⚙️) --> \"reference_products\" (📦) --> \"locations\" (🗺️). The activities are retrieved by this order. \n",
    "\n",
    "Since the key is unique, a single activity for each passed key will be returned. Activity names, reference_prduct and locations are not unique, so the best match for the passed data will be returned. "
   ]
  },
  {
   "cell_type": "markdown",
   "id": "2fc40bd9",
   "metadata": {},
   "source": [
    "#### Passing keys  🔑"
   ]
  },
  {
   "cell_type": "markdown",
   "id": "80fce33f",
   "metadata": {},
   "source": [
    "Keys can be obtained e.g. directly from **activity browser** and several keys can be passed at the same time."
   ]
  },
  {
   "cell_type": "code",
   "execution_count": 5,
   "id": "167a2bfb",
   "metadata": {},
   "outputs": [],
   "source": [
    "keys = [\"('cutoff38', 'a834063e527dafabe7d179a804a13f39')\", \"('cutoff38', 'b665bad6dd31cc988da3d434d5293b60')\"]"
   ]
  },
  {
   "cell_type": "code",
   "execution_count": 6,
   "id": "b46fa327",
   "metadata": {},
   "outputs": [
    {
     "data": {
      "text/plain": [
       "['market for hydrogen cyanide' (kilogram, RoW, None),\n",
       " 'market for hydrogen, liquid' (kilogram, RER, None)]"
      ]
     },
     "execution_count": 6,
     "metadata": {},
     "output_type": "execute_result"
    }
   ],
   "source": [
    "pulpo_worker.retrieve_activities(keys=keys)"
   ]
  },
  {
   "cell_type": "markdown",
   "id": "daf88526",
   "metadata": {},
   "source": [
    "#### Passing activity  name (⚙️), reference_product (📦) and/or location (🗺️)"
   ]
  },
  {
   "cell_type": "markdown",
   "id": "4074fec3",
   "metadata": {},
   "source": [
    "Instead of passing the keys, a combination of activities, reference_products and locations can be passed. A best match (all existing combinations) will be returned. "
   ]
  },
  {
   "cell_type": "code",
   "execution_count": 7,
   "id": "4d445dfc",
   "metadata": {},
   "outputs": [],
   "source": [
    "activities = [\"market for hydrogen, liquid\"]\n",
    "reference_products = [\"hydrogen, liquid\"]\n",
    "locations = [\"RER\"]"
   ]
  },
  {
   "cell_type": "markdown",
   "id": "5d0976d1",
   "metadata": {},
   "source": [
    "It is also possible to pass only partial information such as only reference product or only activity name:"
   ]
  },
  {
   "cell_type": "code",
   "execution_count": 8,
   "id": "0cb7d84f",
   "metadata": {},
   "outputs": [
    {
     "data": {
      "text/plain": [
       "['market for hydrogen, liquid' (kilogram, RoW, None),\n",
       " 'market for hydrogen, liquid' (kilogram, RER, None)]"
      ]
     },
     "execution_count": 8,
     "metadata": {},
     "output_type": "execute_result"
    }
   ],
   "source": [
    "pulpo_worker.retrieve_activities(activities=activities)"
   ]
  },
  {
   "cell_type": "code",
   "execution_count": 9,
   "id": "b211d17a",
   "metadata": {},
   "outputs": [
    {
     "data": {
      "text/plain": [
       "['chlor-alkali electrolysis, mercury cell' (kilogram, RER, None),\n",
       " 'chlor-alkali electrolysis, membrane cell' (kilogram, RER, None),\n",
       " 'chichibabin amination' (kilogram, RER, None),\n",
       " 'dehydrogenation of butan-1,4-diol' (kilogram, RoW, None),\n",
       " 'chichibabin pyridine synthesis' (kilogram, RoW, None),\n",
       " 'potassium hydroxide production' (kilogram, RoW, None),\n",
       " 'dehydrogenation of butan-1,4-diol' (kilogram, RER, None),\n",
       " 'hydrogen cracking, APME' (kilogram, RoW, None),\n",
       " 'chichibabin amination' (kilogram, RoW, None),\n",
       " '2,4-dinitrotoluene production' (kilogram, GLO, None),\n",
       " 'chlor-alkali electrolysis, membrane cell' (kilogram, CA-QC, None),\n",
       " 'hydrogen cracking, APME' (kilogram, RER, None),\n",
       " 'market for hydrogen, liquid' (kilogram, RER, None),\n",
       " 'market for hydrogen, liquid' (kilogram, RoW, None),\n",
       " 'chlor-alkali electrolysis, diaphragm cell' (kilogram, RoW, None),\n",
       " 'potassium hydroxide production' (kilogram, RER, None),\n",
       " 'chichibabin pyridine synthesis' (kilogram, RER, None),\n",
       " 'chlor-alkali electrolysis, diaphragm cell' (kilogram, RER, None),\n",
       " 'chlor-alkali electrolysis, membrane cell' (kilogram, RoW, None),\n",
       " 'chlor-alkali electrolysis, mercury cell' (kilogram, RoW, None)]"
      ]
     },
     "execution_count": 9,
     "metadata": {},
     "output_type": "execute_result"
    }
   ],
   "source": [
    "pulpo_worker.retrieve_activities(reference_products=reference_products)"
   ]
  },
  {
   "cell_type": "markdown",
   "id": "03e8a151",
   "metadata": {},
   "source": [
    "Let's retrieve the activity of our functional unit and specify the demand as a dictionary:"
   ]
  },
  {
   "cell_type": "code",
   "execution_count": 10,
   "id": "332b2f95",
   "metadata": {},
   "outputs": [],
   "source": [
    "hydrogen_market = pulpo_worker.retrieve_activities(activities=activities, reference_products=reference_products, locations=locations)"
   ]
  },
  {
   "cell_type": "code",
   "execution_count": 11,
   "id": "1959b64f",
   "metadata": {},
   "outputs": [
    {
     "data": {
      "text/plain": [
       "['market for hydrogen, liquid' (kilogram, RER, None)]"
      ]
     },
     "execution_count": 11,
     "metadata": {},
     "output_type": "execute_result"
    }
   ],
   "source": [
    "hydrogen_market"
   ]
  },
  {
   "cell_type": "markdown",
   "id": "7cf0adef",
   "metadata": {},
   "source": [
    "Setting a demand of 100 kg of hydrogen"
   ]
  },
  {
   "cell_type": "code",
   "execution_count": 12,
   "id": "223e1cf1",
   "metadata": {},
   "outputs": [],
   "source": [
    "demand = {hydrogen_market[0]: 100}"
   ]
  },
  {
   "cell_type": "markdown",
   "id": "992d6029",
   "metadata": {},
   "source": [
    "### Specify the **choices**"
   ]
  },
  {
   "cell_type": "markdown",
   "id": "4b6d561a",
   "metadata": {},
   "source": [
    "The choices are specified similar to the demand / functional unit. First, search for the equivalent activities."
   ]
  },
  {
   "cell_type": "code",
   "execution_count": 13,
   "id": "d704a9a5",
   "metadata": {},
   "outputs": [],
   "source": [
    "activities = [\"chlor-alkali electrolysis, diaphragm cell\", \n",
    "             \"chlor-alkali electrolysis, membrane cell\",\n",
    "             \"chlor-alkali electrolysis, mercury cell\",\n",
    "             \"hydrogen cracking, APME\"]\n",
    "reference_products = [\"hydrogen, liquid\"]\n",
    "locations = [\"RER\"]\n",
    "\n",
    "hydrogen_activities = pulpo_worker.retrieve_activities(activities=activities, reference_products=reference_products, locations=locations)"
   ]
  },
  {
   "cell_type": "code",
   "execution_count": 14,
   "id": "9d8fac69",
   "metadata": {},
   "outputs": [
    {
     "data": {
      "text/plain": [
       "['chlor-alkali electrolysis, mercury cell' (kilogram, RER, None),\n",
       " 'chlor-alkali electrolysis, membrane cell' (kilogram, RER, None),\n",
       " 'hydrogen cracking, APME' (kilogram, RER, None),\n",
       " 'chlor-alkali electrolysis, diaphragm cell' (kilogram, RER, None)]"
      ]
     },
     "execution_count": 14,
     "metadata": {},
     "output_type": "execute_result"
    }
   ],
   "source": [
    "hydrogen_activities"
   ]
  },
  {
   "cell_type": "markdown",
   "id": "d9a512a5",
   "metadata": {},
   "source": [
    "Specify also the choices as a dictionary. Be aware, that this time we are dealing with a dictionary of dictionaries. Each inner dictionary corresponds to one type of choice in the background! Here, we only consider choices between hydrogen production activities, so we assign the key \"hydrogen\" to the equivalent product they produce. The next showcase demonstrates a case where two types of choices are considered. \n",
    "\n",
    "The assigned value in the inner dictionary is the capacity limit of this activity. "
   ]
  },
  {
   "cell_type": "code",
   "execution_count": 15,
   "id": "bfae6af4",
   "metadata": {},
   "outputs": [],
   "source": [
    "choices  = {'hydrogen': {hydrogen_activities[0]: 10000,\n",
    "                         hydrogen_activities[1]: 10000,\n",
    "                         hydrogen_activities[2]: 10000,\n",
    "                         hydrogen_activities[3]: 10000}}"
   ]
  },
  {
   "cell_type": "markdown",
   "id": "25f8cf77",
   "metadata": {},
   "source": [
    "<div style=\"text-align: center; background-color: #f0f0f0; padding: 10px;\">\n",
    "    <h2 style=\"font-family: 'Arial', sans-serif; font-weight: bold; color: #555;\">(3) Solution</h2>\n",
    "</div>"
   ]
  },
  {
   "cell_type": "markdown",
   "id": "3a90008f",
   "metadata": {},
   "source": [
    "### Instantiate the worker"
   ]
  },
  {
   "cell_type": "code",
   "execution_count": 16,
   "id": "be46ea2d",
   "metadata": {},
   "outputs": [
    {
     "name": "stdout",
     "output_type": "stream",
     "text": [
      "Creating Instance\n",
      "Instance created\n"
     ]
    }
   ],
   "source": [
    "instance = pulpo_worker.instantiate(choices=choices, demand=demand)"
   ]
  },
  {
   "cell_type": "markdown",
   "id": "20353834",
   "metadata": {},
   "source": [
    "### Solve the instance"
   ]
  },
  {
   "cell_type": "markdown",
   "id": "43da9882",
   "metadata": {},
   "source": [
    "When specifying a valid GAMS_PATH with a licence for CPLEX, as shown below, CPLEX with fine-tuned parameters is automatically selected to solve the Linear Problem (LP).\n",
    "\n",
    "If no GAMS_PATH is specified, the \"[HiGHS](https://highs.dev/)\" solver is automatically used. It has almost double the run time of \"CPLEX\"."
   ]
  },
  {
   "cell_type": "code",
   "execution_count": 17,
   "id": "eb13ed22",
   "metadata": {
    "scrolled": true
   },
   "outputs": [],
   "source": [
    "results = pulpo_worker.solve()"
   ]
  },
  {
   "cell_type": "markdown",
   "id": "916c7e48",
   "metadata": {},
   "source": [
    "### Save and summarize the results"
   ]
  },
  {
   "cell_type": "markdown",
   "id": "cba63697",
   "metadata": {},
   "source": [
    "The \"**save_results()**\" function will save the results in an processed format to an excel file in the data folder that has been specified at the beginning."
   ]
  },
  {
   "cell_type": "code",
   "execution_count": 18,
   "id": "cf427cea",
   "metadata": {},
   "outputs": [],
   "source": [
    "pulpo_worker.save_results(choices=choices, demand=demand, name='showcase1_results.xlsx')"
   ]
  },
  {
   "cell_type": "markdown",
   "id": "20b00f17",
   "metadata": {},
   "source": [
    "You can inspect the generated excel file to find that the technology with the lowest impact is \"**hydrogen cracking, APME**\" and the production of 100 kg of liquid hydrogen has an impact of 179.4 kg CO2 eq."
   ]
  },
  {
   "cell_type": "markdown",
   "id": "4c4a1df1",
   "metadata": {},
   "source": [
    "There is another function to summarize the results in dataframe form within jupyter notbeooks calles \"summarize_results\". This function has similar inputs to the \"save_results\" function, but does not require the specification of a filename. Additionally, by specifying the \"zeroes\" parameter to \"True\" all the not-selected choices are omitted in the summary."
   ]
  },
  {
   "cell_type": "code",
   "execution_count": 19,
   "id": "f6141497",
   "metadata": {
    "scrolled": false
   },
   "outputs": [
    {
     "name": "stdout",
     "output_type": "stream",
     "text": [
      "The following demand / functional unit has been specified: \n"
     ]
    },
    {
     "data": {
      "text/html": [
       "<div>\n",
       "<style scoped>\n",
       "    .dataframe tbody tr th:only-of-type {\n",
       "        vertical-align: middle;\n",
       "    }\n",
       "\n",
       "    .dataframe tbody tr th {\n",
       "        vertical-align: top;\n",
       "    }\n",
       "\n",
       "    .dataframe thead th {\n",
       "        text-align: right;\n",
       "    }\n",
       "</style>\n",
       "<table border=\"1\" class=\"dataframe\">\n",
       "  <thead>\n",
       "    <tr style=\"text-align: right;\">\n",
       "      <th></th>\n",
       "      <th>Demand</th>\n",
       "    </tr>\n",
       "  </thead>\n",
       "  <tbody>\n",
       "    <tr>\n",
       "      <th>market for hydrogen, liquid | hydrogen, liquid | RER</th>\n",
       "      <td>100</td>\n",
       "    </tr>\n",
       "  </tbody>\n",
       "</table>\n",
       "</div>"
      ],
      "text/plain": [
       "                                                      Demand\n",
       "market for hydrogen, liquid | hydrogen, liquid | RER     100"
      ]
     },
     "metadata": {},
     "output_type": "display_data"
    },
    {
     "name": "stdout",
     "output_type": "stream",
     "text": [
      "\n",
      "The following impacts were calculated: \n"
     ]
    },
    {
     "data": {
      "text/html": [
       "<div>\n",
       "<style scoped>\n",
       "    .dataframe tbody tr th:only-of-type {\n",
       "        vertical-align: middle;\n",
       "    }\n",
       "\n",
       "    .dataframe tbody tr th {\n",
       "        vertical-align: top;\n",
       "    }\n",
       "\n",
       "    .dataframe thead th {\n",
       "        text-align: right;\n",
       "    }\n",
       "</style>\n",
       "<table border=\"1\" class=\"dataframe\">\n",
       "  <thead>\n",
       "    <tr style=\"text-align: right;\">\n",
       "      <th></th>\n",
       "      <th>Key</th>\n",
       "      <th>Value</th>\n",
       "    </tr>\n",
       "  </thead>\n",
       "  <tbody>\n",
       "    <tr>\n",
       "      <th>0</th>\n",
       "      <td>('IPCC 2013', 'climate change', 'GWP 100a')</td>\n",
       "      <td>179.392805</td>\n",
       "    </tr>\n",
       "  </tbody>\n",
       "</table>\n",
       "</div>"
      ],
      "text/plain": [
       "                                           Key       Value\n",
       "0  ('IPCC 2013', 'climate change', 'GWP 100a')  179.392805"
      ]
     },
     "metadata": {},
     "output_type": "display_data"
    },
    {
     "name": "stdout",
     "output_type": "stream",
     "text": [
      "\n",
      "The following choices were made: \n",
      "hydrogen\n"
     ]
    },
    {
     "data": {
      "text/html": [
       "<div>\n",
       "<style scoped>\n",
       "    .dataframe tbody tr th:only-of-type {\n",
       "        vertical-align: middle;\n",
       "    }\n",
       "\n",
       "    .dataframe tbody tr th {\n",
       "        vertical-align: top;\n",
       "    }\n",
       "\n",
       "    .dataframe thead tr th {\n",
       "        text-align: left;\n",
       "    }\n",
       "</style>\n",
       "<table border=\"1\" class=\"dataframe\">\n",
       "  <thead>\n",
       "    <tr>\n",
       "      <th></th>\n",
       "      <th colspan=\"3\" halign=\"left\">hydrogen</th>\n",
       "    </tr>\n",
       "    <tr>\n",
       "      <th></th>\n",
       "      <th>Activity</th>\n",
       "      <th>Capacity</th>\n",
       "      <th>Value</th>\n",
       "    </tr>\n",
       "  </thead>\n",
       "  <tbody>\n",
       "    <tr>\n",
       "      <th>Activity 0</th>\n",
       "      <td>hydrogen cracking, APME | hydrogen, liquid | RER</td>\n",
       "      <td>10000</td>\n",
       "      <td>99.908029</td>\n",
       "    </tr>\n",
       "  </tbody>\n",
       "</table>\n",
       "</div>"
      ],
      "text/plain": [
       "                                                    hydrogen           \\\n",
       "                                                    Activity Capacity   \n",
       "Activity 0  hydrogen cracking, APME | hydrogen, liquid | RER    10000   \n",
       "\n",
       "                       \n",
       "                Value  \n",
       "Activity 0  99.908029  "
      ]
     },
     "metadata": {},
     "output_type": "display_data"
    },
    {
     "name": "stdout",
     "output_type": "stream",
     "text": [
      "No additional constraints have been passed.\n"
     ]
    }
   ],
   "source": [
    "pulpo_worker.summarize_results(choices=choices, demand=demand, zeroes=True)"
   ]
  },
  {
   "cell_type": "markdown",
   "id": "f5893613",
   "metadata": {},
   "source": [
    "# Closing Remarks"
   ]
  },
  {
   "cell_type": "markdown",
   "id": "c1b2f442",
   "metadata": {},
   "source": [
    "This is the end of the very basic PULPO functionalities using the hydrogen case study. "
   ]
  },
  {
   "cell_type": "markdown",
   "id": "b5298095",
   "metadata": {},
   "source": [
    "The following sections will dive deeper into additional functionalities."
   ]
  },
  {
   "cell_type": "markdown",
   "id": "602c9d5e",
   "metadata": {},
   "source": [
    "<div style=\"text-align: center; background-color: #f0f0f0; padding: 10px;\">\n",
    "    <h2 style=\"font-family: 'Arial', sans-serif; font-weight: bold; color: #555;\">Additional Constraints</h2>\n",
    "</div>"
   ]
  },
  {
   "cell_type": "markdown",
   "id": "e277bb96",
   "metadata": {},
   "source": [
    "Let's assess what happens if the \"hydrogen cracking, APME\" activity is indirectly constrained trough a restriction on \"treatment of spoil from hard coal mining, in surface landfill\""
   ]
  },
  {
   "cell_type": "code",
   "execution_count": 20,
   "id": "04b68998",
   "metadata": {},
   "outputs": [],
   "source": [
    "activities = [\"treatment of waste cement, hydrated, residual material landfill\"]\n",
    "reference_products = [\"waste cement, hydrated\"]\n",
    "locations = [\"CH\"]\n",
    "\n",
    "mining = pulpo_worker.retrieve_activities(activities=activities, reference_products=reference_products, locations=locations)"
   ]
  },
  {
   "cell_type": "code",
   "execution_count": 21,
   "id": "aebdc35c",
   "metadata": {},
   "outputs": [
    {
     "data": {
      "text/plain": [
       "['treatment of waste cement, hydrated, residual material landfill' (kilogram, CH, None)]"
      ]
     },
     "execution_count": 21,
     "metadata": {},
     "output_type": "execute_result"
    }
   ],
   "source": [
    "mining"
   ]
  },
  {
   "cell_type": "code",
   "execution_count": 23,
   "id": "a89c6ee5",
   "metadata": {},
   "outputs": [],
   "source": [
    "upper_limit = {mining[0]: 0.4}"
   ]
  },
  {
   "cell_type": "markdown",
   "id": "da61b77d",
   "metadata": {},
   "source": [
    "The rationale behind choosing this activity and this limit is based on inspection of the scaling vector of the previous results. This activity is limiting for the cracking activity but not for the electrolysis ones, so to enforce a different result than before, this activity is constrained."
   ]
  },
  {
   "cell_type": "code",
   "execution_count": 24,
   "id": "87267aa9",
   "metadata": {
    "scrolled": true
   },
   "outputs": [
    {
     "name": "stdout",
     "output_type": "stream",
     "text": [
      "Creating Instance\n",
      "Instance created\n",
      "GAMS solvers library availability: True\n",
      "Solver path: C:\\GAMS\\37\\gams.exe\n",
      "        2.24 seconds required for presolve\n",
      "--- Job model.gms Start 09/13/23 10:23:42 37.1.0 r07954d5 WEX-WEI x86 64bit/MS Windows\n",
      "--- Applying:\n",
      "    C:\\GAMS\\37\\gmsprmNT.txt\n",
      "    C:\\Users\\Usuario\\Documents\\GAMS\\gamsconfig.yaml\n",
      "--- GAMS Parameters defined\n",
      "    MIP CPLEX\n",
      "    Input C:\\Users\\Usuario\\AppData\\Local\\Temp\\tmpcwh5zg3b\\model.gms\n",
      "    Output C:\\Users\\Usuario\\AppData\\Local\\Temp\\tmpcwh5zg3b\\output.lst\n",
      "    ScrDir C:\\Users\\Usuario\\AppData\\Local\\Temp\\tmpcwh5zg3b\\225a\\\n",
      "    SysDir C:\\GAMS\\37\\\n",
      "    CurDir C:\\Users\\Usuario\\AppData\\Local\\Temp\\tmpcwh5zg3b\\\n",
      "    LogOption 3\n",
      "    OptCR 1E-9\n",
      "Licensee: Antonio Espuna, Single User License            S210319|0002AN-WIN\n",
      "          Universitat Politecnica de Catalunya, Chemical Engineering DC6757\n",
      "          C:\\Users\\Usuario\\Documents\\GAMS\\gamslice.txt\n",
      "          antonio.espuna@upc.edu                                           \n",
      "Processor information: 1 socket(s), 12 core(s), and 20 thread(s) available\n",
      "GAMS 37.1.0   Copyright (C) 1987-2021 GAMS Development. All rights reserved\n",
      "--- Starting compilation\n",
      "--- model.gms(136963) 36 Mb\n",
      "--- model.gms(220793) 43 Mb\n",
      "--- model.gms(254368) 46 Mb\n",
      "--- $echo File C:\\Users\\Usuario\\AppData\\Local\\Temp\\tmpcwh5zg3b\\cplex.opt\n",
      "--- model.gms(371816) 70 Mb\n",
      "--- Starting execution: elapsed 0:00:00.404\n",
      "--- model.gms(254367) 71 Mb\n",
      "--- Generating LP model GAMS_MODEL\n",
      "--- model.gms(119735) 74 Mb\n",
      "--- model.gms(133898) 84 Mb\n",
      "--- model.gms(153101) 90 Mb\n",
      "--- model.gms(254378) 96 Mb\n",
      "--- model.gms(254378) 95 Mb\n",
      "---   78,256 rows  39,129 columns  325,456 non-zeroes\n",
      "--- Executing CPLEX (Solvelink=5): elapsed 0:00:00.824\n",
      "\n",
      "IBM ILOG CPLEX   37.1.0 r07954d5 Released Nov 11, 2021 WEI x86 64bit/MS Window\n",
      "\n",
      "--- GAMS/Cplex Link licensed for continuous and discrete problems.\n",
      "\n",
      "Reading parameter(s) from \"C:\\Users\\Usuario\\AppData\\Local\\Temp\\tmpcwh5zg3b\\cplex.opt\"\n",
      ">>  workmem=4096\n",
      ">>  scaind=1\n",
      ">>  numericalemphasis=1\n",
      ">>  epmrk=0.9\n",
      ">>  eprhs=1E-9\n",
      "Finished reading from \"C:\\Users\\Usuario\\AppData\\Local\\Temp\\tmpcwh5zg3b\\cplex.opt\"\n",
      "\n",
      "--- GMO setup time: 0.00s\n",
      "--- Space for names approximately 1.83 Mb\n",
      "--- Use option 'names no' to turn use of names off\n",
      "--- GMO memory 28.28 Mb (peak 28.58 Mb)\n",
      "--- Dictionary memory 0.00 Mb\n",
      "--- Cplex 20.1.0.1 link memory 1.64 Mb (peak 8.01 Mb)\n",
      "--- Starting Cplex\n",
      "\n",
      "Version identifier: 20.1.0.1 | 2021-04-07 | 3a818710c\n",
      "CPXPARAM_Advance                                 0\n",
      "CPXPARAM_Read_Scale                              1\n",
      "CPXPARAM_Threads                                 1\n",
      "CPXPARAM_Emphasis_Numerical                      1\n",
      "CPXPARAM_MIP_Display                             4\n",
      "CPXPARAM_MIP_Pool_Capacity                       0\n",
      "CPXPARAM_Simplex_Tolerances_Markowitz            0.90000000000000002\n",
      "CPXPARAM_Simplex_Tolerances_Feasibility          1.0000000000000001e-09\n",
      "CPXPARAM_TimeLimit                               3600\n",
      "CPXPARAM_WorkMem                                 4096\n",
      "CPXPARAM_MIP_Tolerances_AbsMIPGap                0\n",
      "CPXPARAM_MIP_Tolerances_MIPGap                   1.0000000000000001e-09\n",
      "Tried aggregator 1 time.\n",
      "Linear dependency checker was stopped due to maximum work limit.\n",
      "LP Presolve eliminated 104676 rows and 26422 columns.\n",
      "Aggregator did 9383 substitutions.\n",
      "Reduced LP has 3321 rows, 3324 columns, and 100063 nonzeros.\n",
      "Presolve time = 0.38 sec. (880.93 ticks)\n",
      "Initializing dual steep norms . . .\n",
      "\n",
      "Iteration log . . .\n",
      "Iteration:     1   Scaled dual infeas =            48.555176\n",
      "Iteration:    89   Scaled dual infeas =            46.223979\n",
      "Iteration:   171   Scaled dual infeas =            39.726911\n",
      "Iteration:   251   Scaled dual infeas =            38.482787\n",
      "Iteration:   324   Scaled dual infeas =            37.620803\n",
      "Iteration:   396   Scaled dual infeas =            37.415828\n",
      "Iteration:   473   Scaled dual infeas =            36.925322\n",
      "Iteration:   551   Scaled dual infeas =            35.683235\n",
      "Iteration:   640   Scaled dual infeas =            30.317444\n",
      "Iteration:   722   Scaled dual infeas =            29.160191\n",
      "Iteration:   800   Scaled dual infeas =            28.865561\n",
      "Iteration:   880   Scaled dual infeas =            27.545056\n",
      "Iteration:   959   Scaled dual infeas =            26.376679\n",
      "Iteration:  1036   Scaled dual infeas =            26.091780\n",
      "Iteration:  1117   Scaled dual infeas =            25.092655\n",
      "Iteration:  1197   Scaled dual infeas =            24.604614\n",
      "Iteration:  1288   Scaled dual infeas =            22.319069\n",
      "Iteration:  1386   Scaled dual infeas =            18.205047\n",
      "Iteration:  1474   Scaled dual infeas =            14.196056\n",
      "Iteration:  1554   Scaled dual infeas =            11.488139\n",
      "Iteration:  1640   Scaled dual infeas =             9.446025\n",
      "Iteration:  1729   Scaled dual infeas =             8.397664\n",
      "Iteration:  1819   Scaled dual infeas =             7.850857\n",
      "Iteration:  1913   Scaled dual infeas =             7.125455\n",
      "Iteration:  2011   Scaled dual infeas =             4.446271\n",
      "Iteration:  2108   Scaled dual infeas =             3.363567\n",
      "Iteration:  2207   Scaled dual infeas =             2.785313\n",
      "Iteration:  2310   Scaled dual infeas =             2.399069\n",
      "Iteration:  2413   Scaled dual infeas =             1.526437\n",
      "Iteration:  2517   Scaled dual infeas =             1.156246\n",
      "Iteration:  2625   Scaled dual infeas =             0.637661\n",
      "Iteration:  2724   Dual objective     =       -449505.617318\n",
      "Removing shift (39).\n",
      "\n",
      "--- LP status (1): optimal.\n",
      "--- Cplex Time: 2.97sec (det. 11064.67 ticks)\n",
      "\n",
      "\n",
      "Optimal solution found\n",
      "Objective:          341.739146\n",
      "\n",
      "--- Reading solution for model GAMS_MODEL\n",
      "--- Executing after solve: elapsed 0:00:03.863\n",
      "--- model.gms(254381) 95 Mb\n",
      "--- model.gms(371816) 95 Mb\n",
      "--- Putfile results C:\\Users\\Usuario\\AppData\\Local\\Temp\\tmpcwh5zg3b\\results.dat\n",
      "--- Putfile statresults C:\\Users\\Usuario\\AppData\\Local\\Temp\\tmpcwh5zg3b\\resultsstat.dat\n",
      "*** Status: Normal completion\n",
      "--- model.gms(371816) 92 Mb\n",
      "--- Job model.gms Stop 09/13/23 10:23:46 elapsed 0:00:04.043\n",
      "\n",
      "GAMS WORKING DIRECTORY: C:\\Users\\Usuario\\AppData\\Local\\Temp\\tmpcwh5zg3b\n",
      "\n",
      "        5.10 seconds required for solver\n",
      "        0.18 seconds required for postsolve\n",
      "        7.52 seconds required total\n"
     ]
    }
   ],
   "source": [
    "pulpo_worker.instantiate(choices=choices, demand=demand, upper_limit=upper_limit)\n",
    "results = pulpo_worker.solve(GAMS_PATH=GAMS_PATH)"
   ]
  },
  {
   "cell_type": "code",
   "execution_count": 25,
   "id": "a03f1671",
   "metadata": {},
   "outputs": [
    {
     "name": "stdout",
     "output_type": "stream",
     "text": [
      "The following demand / functional unit has been specified: \n"
     ]
    },
    {
     "data": {
      "text/html": [
       "<div>\n",
       "<style scoped>\n",
       "    .dataframe tbody tr th:only-of-type {\n",
       "        vertical-align: middle;\n",
       "    }\n",
       "\n",
       "    .dataframe tbody tr th {\n",
       "        vertical-align: top;\n",
       "    }\n",
       "\n",
       "    .dataframe thead th {\n",
       "        text-align: right;\n",
       "    }\n",
       "</style>\n",
       "<table border=\"1\" class=\"dataframe\">\n",
       "  <thead>\n",
       "    <tr style=\"text-align: right;\">\n",
       "      <th></th>\n",
       "      <th>Demand</th>\n",
       "    </tr>\n",
       "  </thead>\n",
       "  <tbody>\n",
       "    <tr>\n",
       "      <th>market for hydrogen, liquid | hydrogen, liquid | RER</th>\n",
       "      <td>100</td>\n",
       "    </tr>\n",
       "  </tbody>\n",
       "</table>\n",
       "</div>"
      ],
      "text/plain": [
       "                                                      Demand\n",
       "market for hydrogen, liquid | hydrogen, liquid | RER     100"
      ]
     },
     "metadata": {},
     "output_type": "display_data"
    },
    {
     "name": "stdout",
     "output_type": "stream",
     "text": [
      "\n",
      "The following impacts were calculated: \n"
     ]
    },
    {
     "data": {
      "text/html": [
       "<div>\n",
       "<style scoped>\n",
       "    .dataframe tbody tr th:only-of-type {\n",
       "        vertical-align: middle;\n",
       "    }\n",
       "\n",
       "    .dataframe tbody tr th {\n",
       "        vertical-align: top;\n",
       "    }\n",
       "\n",
       "    .dataframe thead th {\n",
       "        text-align: right;\n",
       "    }\n",
       "</style>\n",
       "<table border=\"1\" class=\"dataframe\">\n",
       "  <thead>\n",
       "    <tr style=\"text-align: right;\">\n",
       "      <th></th>\n",
       "      <th>Key</th>\n",
       "      <th>Value</th>\n",
       "    </tr>\n",
       "  </thead>\n",
       "  <tbody>\n",
       "    <tr>\n",
       "      <th>0</th>\n",
       "      <td>('IPCC 2013', 'climate change', 'GWP 100a')</td>\n",
       "      <td>341.739146</td>\n",
       "    </tr>\n",
       "  </tbody>\n",
       "</table>\n",
       "</div>"
      ],
      "text/plain": [
       "                                           Key       Value\n",
       "0  ('IPCC 2013', 'climate change', 'GWP 100a')  341.739146"
      ]
     },
     "metadata": {},
     "output_type": "display_data"
    },
    {
     "name": "stdout",
     "output_type": "stream",
     "text": [
      "\n",
      "The following choices were made: \n",
      "hydrogen\n"
     ]
    },
    {
     "data": {
      "text/html": [
       "<div>\n",
       "<style scoped>\n",
       "    .dataframe tbody tr th:only-of-type {\n",
       "        vertical-align: middle;\n",
       "    }\n",
       "\n",
       "    .dataframe tbody tr th {\n",
       "        vertical-align: top;\n",
       "    }\n",
       "\n",
       "    .dataframe thead tr th {\n",
       "        text-align: left;\n",
       "    }\n",
       "</style>\n",
       "<table border=\"1\" class=\"dataframe\">\n",
       "  <thead>\n",
       "    <tr>\n",
       "      <th></th>\n",
       "      <th colspan=\"3\" halign=\"left\">hydrogen</th>\n",
       "    </tr>\n",
       "    <tr>\n",
       "      <th></th>\n",
       "      <th>Activity</th>\n",
       "      <th>Capacity</th>\n",
       "      <th>Value</th>\n",
       "    </tr>\n",
       "  </thead>\n",
       "  <tbody>\n",
       "    <tr>\n",
       "      <th>Activity 0</th>\n",
       "      <td>chlor-alkali electrolysis, mercury cell | hydrogen, liquid | RER</td>\n",
       "      <td>10000</td>\n",
       "      <td>0.000000</td>\n",
       "    </tr>\n",
       "    <tr>\n",
       "      <th>Activity 1</th>\n",
       "      <td>chlor-alkali electrolysis, membrane cell | hydrogen, liquid | RER</td>\n",
       "      <td>10000</td>\n",
       "      <td>17.747663</td>\n",
       "    </tr>\n",
       "    <tr>\n",
       "      <th>Activity 2</th>\n",
       "      <td>hydrogen cracking, APME | hydrogen, liquid | RER</td>\n",
       "      <td>10000</td>\n",
       "      <td>82.196384</td>\n",
       "    </tr>\n",
       "    <tr>\n",
       "      <th>Activity 3</th>\n",
       "      <td>chlor-alkali electrolysis, diaphragm cell | hydrogen, liquid | RER</td>\n",
       "      <td>10000</td>\n",
       "      <td>0.000000</td>\n",
       "    </tr>\n",
       "  </tbody>\n",
       "</table>\n",
       "</div>"
      ],
      "text/plain": [
       "                                                                      hydrogen  \\\n",
       "                                                                      Activity   \n",
       "Activity 0    chlor-alkali electrolysis, mercury cell | hydrogen, liquid | RER   \n",
       "Activity 1   chlor-alkali electrolysis, membrane cell | hydrogen, liquid | RER   \n",
       "Activity 2                    hydrogen cracking, APME | hydrogen, liquid | RER   \n",
       "Activity 3  chlor-alkali electrolysis, diaphragm cell | hydrogen, liquid | RER   \n",
       "\n",
       "                                \n",
       "           Capacity      Value  \n",
       "Activity 0    10000   0.000000  \n",
       "Activity 1    10000  17.747663  \n",
       "Activity 2    10000  82.196384  \n",
       "Activity 3    10000   0.000000  "
      ]
     },
     "metadata": {},
     "output_type": "display_data"
    },
    {
     "name": "stdout",
     "output_type": "stream",
     "text": [
      "\n",
      "The following constraints were implemented and oblieged: \n"
     ]
    },
    {
     "data": {
      "text/html": [
       "<div>\n",
       "<style scoped>\n",
       "    .dataframe tbody tr th:only-of-type {\n",
       "        vertical-align: middle;\n",
       "    }\n",
       "\n",
       "    .dataframe tbody tr th {\n",
       "        vertical-align: top;\n",
       "    }\n",
       "\n",
       "    .dataframe thead th {\n",
       "        text-align: right;\n",
       "    }\n",
       "</style>\n",
       "<table border=\"1\" class=\"dataframe\">\n",
       "  <thead>\n",
       "    <tr style=\"text-align: right;\">\n",
       "      <th></th>\n",
       "      <th>Constraints</th>\n",
       "    </tr>\n",
       "  </thead>\n",
       "  <tbody>\n",
       "    <tr>\n",
       "      <th>treatment of waste cement, hydrated, residual material landfill | waste cement, hydrated | CH</th>\n",
       "      <td>0.4</td>\n",
       "    </tr>\n",
       "  </tbody>\n",
       "</table>\n",
       "</div>"
      ],
      "text/plain": [
       "                                                                                               Constraints\n",
       "treatment of waste cement, hydrated, residual material landfill | waste cement, hydrated | CH          0.4"
      ]
     },
     "metadata": {},
     "output_type": "display_data"
    }
   ],
   "source": [
    "pulpo_worker.summarize_results(choices=choices, demand=demand, constraints=upper_limit)"
   ]
  },
  {
   "cell_type": "markdown",
   "id": "5f409b26",
   "metadata": {},
   "source": [
    "As can be seen from the summary above, part of the final hydrogen demand is supplied by the membrane cell electrolysis, because the hydrogen cracking case study is constrained by the mining activity. It is also evident that the impact is higher than the previous one, as the most suitable activity (hydrogen cracking) can no longer supply the full demand."
   ]
  },
  {
   "cell_type": "markdown",
   "id": "48249a97",
   "metadata": {},
   "source": [
    "<div style=\"text-align: center; background-color: #f0f0f0; padding: 10px;\">\n",
    "    <h2 style=\"font-family: 'Arial', sans-serif; font-weight: bold; color: #555;\">Additional Methods</h2>\n",
    "</div>"
   ]
  },
  {
   "cell_type": "markdown",
   "id": "3a455b7b",
   "metadata": {},
   "source": [
    "Let's see how to evaluate different methods and set them as objectives"
   ]
  },
  {
   "cell_type": "code",
   "execution_count": 26,
   "id": "6ccd79d5",
   "metadata": {},
   "outputs": [],
   "source": [
    "method = [\"('IPCC 2013', 'climate change', 'GWP 100a')\",\n",
    "          \"('CML 2001 (superseded)', 'terrestrial ecotoxicity', 'TAETP infinite')\"]"
   ]
  },
  {
   "cell_type": "code",
   "execution_count": 27,
   "id": "8c71c0b9",
   "metadata": {},
   "outputs": [],
   "source": [
    "pulpo_worker = pulpo.PulpoOptimizer(project, database, method, directory)"
   ]
  },
  {
   "cell_type": "code",
   "execution_count": 28,
   "id": "60d4cad9",
   "metadata": {},
   "outputs": [],
   "source": [
    "pulpo_worker.get_lci_data()"
   ]
  },
  {
   "cell_type": "code",
   "execution_count": 29,
   "id": "a1d59906",
   "metadata": {},
   "outputs": [],
   "source": [
    "methods = {\"('IPCC 2013', 'climate change', 'GWP 100a')\": 0,\n",
    "          \"('CML 2001 (superseded)', 'terrestrial ecotoxicity', 'TAETP infinite')\": 1}"
   ]
  },
  {
   "cell_type": "code",
   "execution_count": 30,
   "id": "cb241deb",
   "metadata": {
    "scrolled": true
   },
   "outputs": [
    {
     "name": "stdout",
     "output_type": "stream",
     "text": [
      "Creating Instance\n",
      "Instance created\n",
      "GAMS solvers library availability: True\n",
      "Solver path: C:\\GAMS\\37\\gams.exe\n",
      "        2.70 seconds required for presolve\n",
      "--- Job model.gms Start 09/13/23 10:26:46 37.1.0 r07954d5 WEX-WEI x86 64bit/MS Windows\n",
      "--- Applying:\n",
      "    C:\\GAMS\\37\\gmsprmNT.txt\n",
      "    C:\\Users\\Usuario\\Documents\\GAMS\\gamsconfig.yaml\n",
      "--- GAMS Parameters defined\n",
      "    MIP CPLEX\n",
      "    Input C:\\Users\\Usuario\\AppData\\Local\\Temp\\tmpyoyoext4\\model.gms\n",
      "    Output C:\\Users\\Usuario\\AppData\\Local\\Temp\\tmpyoyoext4\\output.lst\n",
      "    ScrDir C:\\Users\\Usuario\\AppData\\Local\\Temp\\tmpyoyoext4\\225a\\\n",
      "    SysDir C:\\GAMS\\37\\\n",
      "    CurDir C:\\Users\\Usuario\\AppData\\Local\\Temp\\tmpyoyoext4\\\n",
      "    LogOption 3\n",
      "    OptCR 1E-9\n",
      "Licensee: Antonio Espuna, Single User License            S210319|0002AN-WIN\n",
      "          Universitat Politecnica de Catalunya, Chemical Engineering DC6757\n",
      "          C:\\Users\\Usuario\\Documents\\GAMS\\gamslice.txt\n",
      "          antonio.espuna@upc.edu                                           \n",
      "Processor information: 1 socket(s), 12 core(s), and 20 thread(s) available\n",
      "GAMS 37.1.0   Copyright (C) 1987-2021 GAMS Development. All rights reserved\n",
      "--- Starting compilation\n",
      "--- model.gms(136963) 35 Mb\n",
      "--- model.gms(146301) 42 Mb\n",
      "--- model.gms(254413) 52 Mb\n",
      "--- $echo File C:\\Users\\Usuario\\AppData\\Local\\Temp\\tmpyoyoext4\\cplex.opt\n",
      "--- model.gms(371863) 75 Mb\n",
      "--- Starting execution: elapsed 0:00:00.464\n",
      "--- model.gms(197395) 77 Mb\n",
      "--- model.gms(254412) 77 Mb\n",
      "--- Generating LP model GAMS_MODEL\n",
      "--- model.gms(125305) 83 Mb\n",
      "--- model.gms(136960) 102 Mb\n",
      "--- model.gms(137001) 102 Mb\n",
      "--- model.gms(172222) 106 Mb\n",
      "--- model.gms(254423) 108 Mb\n",
      "---   78,257 rows  39,130 columns  330,374 non-zeroes\n",
      "--- Executing CPLEX (Solvelink=5): elapsed 0:00:01.604\n",
      "\n",
      "IBM ILOG CPLEX   37.1.0 r07954d5 Released Nov 11, 2021 WEI x86 64bit/MS Window\n",
      "\n",
      "--- GAMS/Cplex Link licensed for continuous and discrete problems.\n",
      "\n",
      "Reading parameter(s) from \"C:\\Users\\Usuario\\AppData\\Local\\Temp\\tmpyoyoext4\\cplex.opt\"\n",
      ">>  workmem=4096\n",
      ">>  scaind=1\n",
      ">>  numericalemphasis=1\n",
      ">>  epmrk=0.9\n",
      ">>  eprhs=1E-9\n",
      "Finished reading from \"C:\\Users\\Usuario\\AppData\\Local\\Temp\\tmpyoyoext4\\cplex.opt\"\n",
      "\n",
      "--- GMO setup time: 0.00s\n",
      "--- Space for names approximately 1.83 Mb\n",
      "--- Use option 'names no' to turn use of names off\n",
      "--- GMO memory 28.78 Mb (peak 29.08 Mb)\n",
      "--- Dictionary memory 0.00 Mb\n",
      "--- Cplex 20.1.0.1 link memory 1.64 Mb (peak 8.07 Mb)\n",
      "--- Starting Cplex\n",
      "\n",
      "Version identifier: 20.1.0.1 | 2021-04-07 | 3a818710c\n",
      "CPXPARAM_Advance                                 0\n",
      "CPXPARAM_Read_Scale                              1\n",
      "CPXPARAM_Threads                                 1\n",
      "CPXPARAM_Emphasis_Numerical                      1\n",
      "CPXPARAM_MIP_Display                             4\n",
      "CPXPARAM_MIP_Pool_Capacity                       0\n",
      "CPXPARAM_Simplex_Tolerances_Markowitz            0.90000000000000002\n",
      "CPXPARAM_Simplex_Tolerances_Feasibility          1.0000000000000001e-09\n",
      "CPXPARAM_TimeLimit                               3600\n",
      "CPXPARAM_WorkMem                                 4096\n",
      "CPXPARAM_MIP_Tolerances_AbsMIPGap                0\n",
      "CPXPARAM_MIP_Tolerances_MIPGap                   1.0000000000000001e-09\n",
      "Tried aggregator 1 time.\n",
      "Linear dependency checker was stopped due to maximum work limit.\n",
      "LP Presolve eliminated 104678 rows and 26423 columns.\n",
      "Aggregator did 9383 substitutions.\n",
      "Reduced LP has 3321 rows, 3324 columns, and 100063 nonzeros.\n",
      "Presolve time = 0.34 sec. (881.17 ticks)\n",
      "Initializing dual steep norms . . .\n",
      "\n",
      "Iteration log . . .\n",
      "Iteration:     1   Scaled dual infeas =             2.148171\n",
      "Iteration:    77   Scaled dual infeas =             2.144651\n",
      "Iteration:   148   Scaled dual infeas =             2.142079\n",
      "Iteration:   223   Scaled dual infeas =             2.080466\n",
      "Iteration:   294   Scaled dual infeas =             2.063140\n",
      "Iteration:   366   Scaled dual infeas =             2.060544\n",
      "Iteration:   439   Scaled dual infeas =             1.999176\n",
      "Iteration:   514   Scaled dual infeas =             1.985599\n",
      "Iteration:   597   Scaled dual infeas =             1.964838\n",
      "Iteration:   674   Scaled dual infeas =             1.960998\n",
      "Iteration:   757   Scaled dual infeas =             1.868468\n",
      "Iteration:   845   Scaled dual infeas =             1.859900\n",
      "Iteration:   924   Scaled dual infeas =             1.852255\n",
      "Iteration:  1005   Scaled dual infeas =             0.657473\n",
      "Iteration:  1094   Scaled dual infeas =             0.647608\n",
      "Iteration:  1180   Scaled dual infeas =             0.611589\n",
      "Iteration:  1265   Scaled dual infeas =             0.572674\n",
      "Iteration:  1358   Scaled dual infeas =             0.566677\n",
      "Iteration:  1445   Scaled dual infeas =             0.558642\n",
      "Iteration:  1540   Scaled dual infeas =             0.553639\n",
      "Iteration:  1632   Scaled dual infeas =             0.529417\n",
      "Iteration:  1726   Scaled dual infeas =             0.521120\n",
      "Iteration:  1823   Scaled dual infeas =             0.505853\n",
      "Iteration:  1924   Scaled dual infeas =             0.496027\n",
      "Iteration:  2027   Scaled dual infeas =             0.492743\n",
      "Iteration:  2128   Scaled dual infeas =             0.224998\n",
      "Iteration:  2232   Scaled dual infeas =             0.176506\n",
      "Iteration:  2341   Scaled dual infeas =             0.109833\n",
      "Iteration:  2449   Scaled dual infeas =             0.019542\n",
      "Iteration:  2506   Dual objective     =         -3145.966264\n",
      "Removing shift (391).\n",
      "Elapsed time = 2.86 sec. (10884.38 ticks, 2508 iterations)\n",
      "Iteration:  2508   Scaled dual infeas =             0.000010\n",
      "\n",
      "--- LP status (1): optimal.\n",
      "--- Cplex Time: 3.06sec (det. 11747.32 ticks)\n",
      "\n",
      "\n",
      "Optimal solution found\n",
      "Objective:            0.014166\n",
      "\n",
      "--- Reading solution for model GAMS_MODEL\n",
      "--- Executing after solve: elapsed 0:00:04.745\n",
      "--- model.gms(254426) 108 Mb\n",
      "--- model.gms(371863) 108 Mb\n",
      "--- Putfile results C:\\Users\\Usuario\\AppData\\Local\\Temp\\tmpyoyoext4\\results.dat\n",
      "--- Putfile statresults C:\\Users\\Usuario\\AppData\\Local\\Temp\\tmpyoyoext4\\resultsstat.dat\n",
      "*** Status: Normal completion\n",
      "--- model.gms(371863) 105 Mb\n",
      "--- Job model.gms Stop 09/13/23 10:26:51 elapsed 0:00:04.927\n",
      "\n",
      "GAMS WORKING DIRECTORY: C:\\Users\\Usuario\\AppData\\Local\\Temp\\tmpyoyoext4\n",
      "\n",
      "        6.92 seconds required for solver\n",
      "        0.18 seconds required for postsolve\n",
      "        9.79 seconds required total\n"
     ]
    }
   ],
   "source": [
    "pulpo_worker.instantiate(choices=choices, demand=demand, methods=methods)\n",
    "results = pulpo_worker.solve(GAMS_PATH=GAMS_PATH)"
   ]
  },
  {
   "cell_type": "code",
   "execution_count": 31,
   "id": "e81c9f8c",
   "metadata": {
    "scrolled": true
   },
   "outputs": [
    {
     "name": "stdout",
     "output_type": "stream",
     "text": [
      "The following demand / functional unit has been specified: \n"
     ]
    },
    {
     "data": {
      "text/html": [
       "<div>\n",
       "<style scoped>\n",
       "    .dataframe tbody tr th:only-of-type {\n",
       "        vertical-align: middle;\n",
       "    }\n",
       "\n",
       "    .dataframe tbody tr th {\n",
       "        vertical-align: top;\n",
       "    }\n",
       "\n",
       "    .dataframe thead th {\n",
       "        text-align: right;\n",
       "    }\n",
       "</style>\n",
       "<table border=\"1\" class=\"dataframe\">\n",
       "  <thead>\n",
       "    <tr style=\"text-align: right;\">\n",
       "      <th></th>\n",
       "      <th>Demand</th>\n",
       "    </tr>\n",
       "  </thead>\n",
       "  <tbody>\n",
       "    <tr>\n",
       "      <th>market for hydrogen, liquid | hydrogen, liquid | RER</th>\n",
       "      <td>100</td>\n",
       "    </tr>\n",
       "  </tbody>\n",
       "</table>\n",
       "</div>"
      ],
      "text/plain": [
       "                                                      Demand\n",
       "market for hydrogen, liquid | hydrogen, liquid | RER     100"
      ]
     },
     "metadata": {},
     "output_type": "display_data"
    },
    {
     "name": "stdout",
     "output_type": "stream",
     "text": [
      "\n",
      "The following impacts were calculated: \n"
     ]
    },
    {
     "data": {
      "text/html": [
       "<div>\n",
       "<style scoped>\n",
       "    .dataframe tbody tr th:only-of-type {\n",
       "        vertical-align: middle;\n",
       "    }\n",
       "\n",
       "    .dataframe tbody tr th {\n",
       "        vertical-align: top;\n",
       "    }\n",
       "\n",
       "    .dataframe thead th {\n",
       "        text-align: right;\n",
       "    }\n",
       "</style>\n",
       "<table border=\"1\" class=\"dataframe\">\n",
       "  <thead>\n",
       "    <tr style=\"text-align: right;\">\n",
       "      <th></th>\n",
       "      <th>Key</th>\n",
       "      <th>Value</th>\n",
       "    </tr>\n",
       "  </thead>\n",
       "  <tbody>\n",
       "    <tr>\n",
       "      <th>1</th>\n",
       "      <td>('IPCC 2013', 'climate change', 'GWP 100a')</td>\n",
       "      <td>179.408502</td>\n",
       "    </tr>\n",
       "    <tr>\n",
       "      <th>0</th>\n",
       "      <td>('CML 2001 (superseded)', 'terrestrial ecotoxicity', 'TAETP infinite')</td>\n",
       "      <td>0.014166</td>\n",
       "    </tr>\n",
       "  </tbody>\n",
       "</table>\n",
       "</div>"
      ],
      "text/plain": [
       "                                                                      Key  \\\n",
       "1                             ('IPCC 2013', 'climate change', 'GWP 100a')   \n",
       "0  ('CML 2001 (superseded)', 'terrestrial ecotoxicity', 'TAETP infinite')   \n",
       "\n",
       "        Value  \n",
       "1  179.408502  \n",
       "0    0.014166  "
      ]
     },
     "metadata": {},
     "output_type": "display_data"
    },
    {
     "name": "stdout",
     "output_type": "stream",
     "text": [
      "\n",
      "The following choices were made: \n",
      "hydrogen\n"
     ]
    },
    {
     "data": {
      "text/html": [
       "<div>\n",
       "<style scoped>\n",
       "    .dataframe tbody tr th:only-of-type {\n",
       "        vertical-align: middle;\n",
       "    }\n",
       "\n",
       "    .dataframe tbody tr th {\n",
       "        vertical-align: top;\n",
       "    }\n",
       "\n",
       "    .dataframe thead tr th {\n",
       "        text-align: left;\n",
       "    }\n",
       "</style>\n",
       "<table border=\"1\" class=\"dataframe\">\n",
       "  <thead>\n",
       "    <tr>\n",
       "      <th></th>\n",
       "      <th colspan=\"3\" halign=\"left\">hydrogen</th>\n",
       "    </tr>\n",
       "    <tr>\n",
       "      <th></th>\n",
       "      <th>Activity</th>\n",
       "      <th>Capacity</th>\n",
       "      <th>Value</th>\n",
       "    </tr>\n",
       "  </thead>\n",
       "  <tbody>\n",
       "    <tr>\n",
       "      <th>Activity 0</th>\n",
       "      <td>hydrogen cracking, APME | hydrogen, liquid | RER</td>\n",
       "      <td>10000</td>\n",
       "      <td>99.90803</td>\n",
       "    </tr>\n",
       "  </tbody>\n",
       "</table>\n",
       "</div>"
      ],
      "text/plain": [
       "                                                    hydrogen           \\\n",
       "                                                    Activity Capacity   \n",
       "Activity 0  hydrogen cracking, APME | hydrogen, liquid | RER    10000   \n",
       "\n",
       "                      \n",
       "               Value  \n",
       "Activity 0  99.90803  "
      ]
     },
     "metadata": {},
     "output_type": "display_data"
    },
    {
     "name": "stdout",
     "output_type": "stream",
     "text": [
      "No additional constraints have been passed.\n"
     ]
    }
   ],
   "source": [
    "pulpo_worker.summarize_results(choices=choices, demand=demand, zeroes=True)"
   ]
  },
  {
   "cell_type": "markdown",
   "id": "26fec4c4",
   "metadata": {},
   "source": [
    "<div style=\"text-align: center; background-color: #f0f0f0; padding: 10px;\">\n",
    "    <h2 style=\"font-family: 'Arial', sans-serif; font-weight: bold; color: #555;\">Lower Level Decisions</h2>\n",
    "</div>"
   ]
  },
  {
   "cell_type": "markdown",
   "id": "ee72103c",
   "metadata": {},
   "source": [
    "In this case study, we would like to keep the current share of the hydrogen supplied by cracking in the market the same. The choices that we consider on the hydrogen level are between the different electrolsysis activities:"
   ]
  },
  {
   "cell_type": "code",
   "execution_count": 32,
   "id": "e68e44ef",
   "metadata": {},
   "outputs": [],
   "source": [
    "activities = [\"chlor-alkali electrolysis, diaphragm cell\", \n",
    "             \"chlor-alkali electrolysis, membrane cell\",\n",
    "             \"chlor-alkali electrolysis, mercury cell\"]\n",
    "reference_products = [\"hydrogen, liquid\"]\n",
    "locations = [\"RER\"]\n",
    "\n",
    "hydrogen_activities = pulpo_worker.retrieve_activities(activities=activities, reference_products=reference_products, locations=locations)"
   ]
  },
  {
   "cell_type": "markdown",
   "id": "a8f82b5b",
   "metadata": {},
   "source": [
    "Instead of assessing only the **technology** choices, we are invetigating the best **regional** choice for the source of electricity:"
   ]
  },
  {
   "cell_type": "code",
   "execution_count": 33,
   "id": "5b5471b2",
   "metadata": {},
   "outputs": [],
   "source": [
    "activities = [\"market for electricity, medium voltage\"]\n",
    "reference_products = [\"electricity, medium voltage\"]\n",
    "locations = [\"AL\",\"AT\",\"BA\",\"BE\",\"BG\",\"BY\",\"CZ\",\"DE\",\"DK\",\"EE\",\"ES\",\"FI\",\"FR\",\"GB\",\"GI\",\"GR\",\"HR\",\"HU\",\"IE\",\"IS\",\"IT\",\"LT\",\"LU\",\"LV\",\"MD\",\"ME\",\"MK\",\"MT\",\"NL\",\"NO\",\"PL\",\"PT\",\"RO\",\"RS\",\"SE\",\"SI\",\"SK\",\"UA\",\"XK\"]\n",
    "elec_activities = pulpo_worker.retrieve_activities(activities=activities, reference_products=reference_products, locations=locations)"
   ]
  },
  {
   "cell_type": "markdown",
   "id": "ae575912",
   "metadata": {},
   "source": [
    "The updated choice dictionary looks like this:"
   ]
  },
  {
   "cell_type": "code",
   "execution_count": 34,
   "id": "bc665036",
   "metadata": {},
   "outputs": [],
   "source": [
    "choices  = {'hydrogen': {hydrogen: 1000 for hydrogen in hydrogen_activities},\n",
    "            'electricity': {elec: 100000 for elec in elec_activities}}"
   ]
  },
  {
   "cell_type": "markdown",
   "id": "6db1e764",
   "metadata": {},
   "source": [
    "Instantiating and solving the adapted problem:"
   ]
  },
  {
   "cell_type": "code",
   "execution_count": 35,
   "id": "1143473f",
   "metadata": {
    "scrolled": true
   },
   "outputs": [
    {
     "name": "stdout",
     "output_type": "stream",
     "text": [
      "Creating Instance\n",
      "Instance created\n",
      "GAMS solvers library availability: True\n",
      "Solver path: C:\\GAMS\\37\\gams.exe\n",
      "        2.75 seconds required for presolve\n",
      "--- Job model.gms Start 09/13/23 10:28:45 37.1.0 r07954d5 WEX-WEI x86 64bit/MS Windows\n",
      "--- Applying:\n",
      "    C:\\GAMS\\37\\gmsprmNT.txt\n",
      "    C:\\Users\\Usuario\\Documents\\GAMS\\gamsconfig.yaml\n",
      "--- GAMS Parameters defined\n",
      "    MIP CPLEX\n",
      "    Input C:\\Users\\Usuario\\AppData\\Local\\Temp\\tmp_2n16y8y\\model.gms\n",
      "    Output C:\\Users\\Usuario\\AppData\\Local\\Temp\\tmp_2n16y8y\\output.lst\n",
      "    ScrDir C:\\Users\\Usuario\\AppData\\Local\\Temp\\tmp_2n16y8y\\225a\\\n",
      "    SysDir C:\\GAMS\\37\\\n",
      "    CurDir C:\\Users\\Usuario\\AppData\\Local\\Temp\\tmp_2n16y8y\\\n",
      "    LogOption 3\n",
      "    OptCR 1E-9\n",
      "Licensee: Antonio Espuna, Single User License            S210319|0002AN-WIN\n",
      "          Universitat Politecnica de Catalunya, Chemical Engineering DC6757\n",
      "          C:\\Users\\Usuario\\Documents\\GAMS\\gamslice.txt\n",
      "          antonio.espuna@upc.edu                                           \n",
      "Processor information: 1 socket(s), 12 core(s), and 20 thread(s) available\n",
      "GAMS 37.1.0   Copyright (C) 1987-2021 GAMS Development. All rights reserved\n",
      "--- Starting compilation\n",
      "--- model.gms(136818) 35 Mb\n",
      "--- model.gms(146118) 42 Mb\n",
      "--- model.gms(254191) 51 Mb\n",
      "--- $echo File C:\\Users\\Usuario\\AppData\\Local\\Temp\\tmp_2n16y8y\\cplex.opt\n",
      "--- model.gms(371530) 75 Mb\n",
      "--- Starting execution: elapsed 0:00:00.457\n",
      "--- model.gms(371530) 76 Mb\n",
      "--- model.gms(254190) 76 Mb\n",
      "--- Generating LP model GAMS_MODEL\n",
      "--- model.gms(125564) 84 Mb\n",
      "--- model.gms(136812) 102 Mb\n",
      "--- model.gms(136853) 102 Mb\n",
      "--- model.gms(254201) 108 Mb\n",
      "--- model.gms(254201) 108 Mb\n",
      "---   78,183 rows  39,093 columns  327,225 non-zeroes\n",
      "--- Executing CPLEX (Solvelink=5): elapsed 0:00:01.572\n",
      "\n",
      "IBM ILOG CPLEX   37.1.0 r07954d5 Released Nov 11, 2021 WEI x86 64bit/MS Window\n",
      "\n",
      "--- GAMS/Cplex Link licensed for continuous and discrete problems.\n",
      "\n",
      "Reading parameter(s) from \"C:\\Users\\Usuario\\AppData\\Local\\Temp\\tmp_2n16y8y\\cplex.opt\"\n",
      ">>  workmem=4096\n",
      ">>  scaind=1\n",
      ">>  numericalemphasis=1\n",
      ">>  epmrk=0.9\n",
      ">>  eprhs=1E-9\n",
      "Finished reading from \"C:\\Users\\Usuario\\AppData\\Local\\Temp\\tmp_2n16y8y\\cplex.opt\"\n",
      "\n",
      "--- GMO setup time: 0.00s\n",
      "--- Space for names approximately 1.82 Mb\n",
      "--- Use option 'names no' to turn use of names off\n",
      "--- GMO memory 28.27 Mb (peak 28.57 Mb)\n",
      "--- Dictionary memory 0.00 Mb\n",
      "--- Cplex 20.1.0.1 link memory 1.64 Mb (peak 8.03 Mb)\n",
      "--- Starting Cplex\n",
      "\n",
      "Version identifier: 20.1.0.1 | 2021-04-07 | 3a818710c\n",
      "CPXPARAM_Advance                                 0\n",
      "CPXPARAM_Read_Scale                              1\n",
      "CPXPARAM_Threads                                 1\n",
      "CPXPARAM_Emphasis_Numerical                      1\n",
      "CPXPARAM_MIP_Display                             4\n",
      "CPXPARAM_MIP_Pool_Capacity                       0\n",
      "CPXPARAM_Simplex_Tolerances_Markowitz            0.90000000000000002\n",
      "CPXPARAM_Simplex_Tolerances_Feasibility          1.0000000000000001e-09\n",
      "CPXPARAM_TimeLimit                               3600\n",
      "CPXPARAM_WorkMem                                 4096\n",
      "CPXPARAM_MIP_Tolerances_AbsMIPGap                0\n",
      "CPXPARAM_MIP_Tolerances_MIPGap                   1.0000000000000001e-09\n",
      "Tried aggregator 1 time.\n",
      "Linear dependency checker was stopped due to maximum work limit.\n",
      "LP Presolve eliminated 104603 rows and 26386 columns.\n",
      "Aggregator did 9387 substitutions.\n",
      "Reduced LP has 3280 rows, 3320 columns, and 98030 nonzeros.\n",
      "Presolve time = 0.36 sec. (947.77 ticks)\n",
      "Initializing dual steep norms . . .\n",
      "\n",
      "Iteration log . . .\n",
      "Iteration:     1   Scaled dual infeas =            51.063397\n",
      "Iteration:    89   Scaled dual infeas =            49.081375\n",
      "Iteration:   171   Scaled dual infeas =            43.260006\n",
      "Iteration:   248   Scaled dual infeas =            42.598631\n",
      "Iteration:   327   Scaled dual infeas =            42.052047\n",
      "Iteration:   396   Scaled dual infeas =            41.162196\n",
      "Iteration:   474   Scaled dual infeas =            39.435613\n",
      "Iteration:   550   Scaled dual infeas =            38.886595\n",
      "Iteration:   632   Scaled dual infeas =            37.709622\n",
      "Iteration:   719   Scaled dual infeas =            32.171476\n",
      "Iteration:   804   Scaled dual infeas =            30.744047\n",
      "Iteration:   887   Scaled dual infeas =            26.375638\n",
      "Iteration:   966   Scaled dual infeas =            24.705569\n",
      "Iteration:  1048   Scaled dual infeas =            24.188669\n",
      "Iteration:  1130   Scaled dual infeas =            20.898254\n",
      "Iteration:  1211   Scaled dual infeas =            20.113481\n",
      "Iteration:  1302   Scaled dual infeas =            15.226552\n",
      "Iteration:  1384   Scaled dual infeas =            14.651422\n",
      "Iteration:  1468   Scaled dual infeas =            11.984646\n",
      "Iteration:  1561   Scaled dual infeas =            11.001897\n",
      "Iteration:  1651   Scaled dual infeas =            10.445905\n",
      "Iteration:  1753   Scaled dual infeas =             9.033161\n",
      "Iteration:  1844   Scaled dual infeas =             8.297799\n",
      "Iteration:  1942   Scaled dual infeas =             6.849104\n",
      "Iteration:  2036   Scaled dual infeas =             5.468428\n",
      "Iteration:  2129   Scaled dual infeas =             4.009972\n",
      "Iteration:  2228   Scaled dual infeas =             3.318523\n",
      "Iteration:  2329   Scaled dual infeas =             2.952906\n",
      "Iteration:  2431   Scaled dual infeas =             1.612594\n",
      "Iteration:  2536   Scaled dual infeas =             1.186083\n",
      "Iteration:  2642   Scaled dual infeas =             0.393047\n",
      "Iteration:  2713   Dual objective     =           185.566488\n",
      "Removing shift (42).\n",
      "Elapsed time = 2.91 sec. (10724.04 ticks, 2714 iterations)\n",
      "Iteration:  2714   Scaled dual infeas =             0.000010\n",
      "\n",
      "--- LP status (1): optimal.\n",
      "--- Cplex Time: 3.11sec (det. 11553.41 ticks)\n",
      "\n",
      "\n",
      "Optimal solution found\n",
      "Objective:          185.576132\n",
      "\n",
      "--- Reading solution for model GAMS_MODEL\n",
      "--- Executing after solve: elapsed 0:00:04.743\n",
      "--- model.gms(254204) 108 Mb\n",
      "--- model.gms(371530) 108 Mb\n",
      "--- Putfile results C:\\Users\\Usuario\\AppData\\Local\\Temp\\tmp_2n16y8y\\results.dat\n",
      "--- Putfile statresults C:\\Users\\Usuario\\AppData\\Local\\Temp\\tmp_2n16y8y\\resultsstat.dat\n",
      "*** Status: Normal completion\n",
      "--- model.gms(371530) 105 Mb\n",
      "--- Job model.gms Stop 09/13/23 10:28:50 elapsed 0:00:04.921\n",
      "\n",
      "GAMS WORKING DIRECTORY: C:\\Users\\Usuario\\AppData\\Local\\Temp\\tmp_2n16y8y\n",
      "\n",
      "        6.20 seconds required for solver\n",
      "        0.18 seconds required for postsolve\n",
      "        9.12 seconds required total\n"
     ]
    }
   ],
   "source": [
    "pulpo_worker.instantiate(choices=choices, demand=demand)\n",
    "results = pulpo_worker.solve(GAMS_PATH=GAMS_PATH)"
   ]
  },
  {
   "cell_type": "markdown",
   "id": "73eadc47",
   "metadata": {},
   "source": [
    "Visualizing the results"
   ]
  },
  {
   "cell_type": "code",
   "execution_count": 36,
   "id": "d9c7c140",
   "metadata": {
    "scrolled": true
   },
   "outputs": [
    {
     "name": "stdout",
     "output_type": "stream",
     "text": [
      "The following demand / functional unit has been specified: \n"
     ]
    },
    {
     "data": {
      "text/html": [
       "<div>\n",
       "<style scoped>\n",
       "    .dataframe tbody tr th:only-of-type {\n",
       "        vertical-align: middle;\n",
       "    }\n",
       "\n",
       "    .dataframe tbody tr th {\n",
       "        vertical-align: top;\n",
       "    }\n",
       "\n",
       "    .dataframe thead th {\n",
       "        text-align: right;\n",
       "    }\n",
       "</style>\n",
       "<table border=\"1\" class=\"dataframe\">\n",
       "  <thead>\n",
       "    <tr style=\"text-align: right;\">\n",
       "      <th></th>\n",
       "      <th>Demand</th>\n",
       "    </tr>\n",
       "  </thead>\n",
       "  <tbody>\n",
       "    <tr>\n",
       "      <th>market for hydrogen, liquid | hydrogen, liquid | RER</th>\n",
       "      <td>100</td>\n",
       "    </tr>\n",
       "  </tbody>\n",
       "</table>\n",
       "</div>"
      ],
      "text/plain": [
       "                                                      Demand\n",
       "market for hydrogen, liquid | hydrogen, liquid | RER     100"
      ]
     },
     "metadata": {},
     "output_type": "display_data"
    },
    {
     "name": "stdout",
     "output_type": "stream",
     "text": [
      "\n",
      "The following impacts were calculated: \n"
     ]
    },
    {
     "data": {
      "text/html": [
       "<div>\n",
       "<style scoped>\n",
       "    .dataframe tbody tr th:only-of-type {\n",
       "        vertical-align: middle;\n",
       "    }\n",
       "\n",
       "    .dataframe tbody tr th {\n",
       "        vertical-align: top;\n",
       "    }\n",
       "\n",
       "    .dataframe thead th {\n",
       "        text-align: right;\n",
       "    }\n",
       "</style>\n",
       "<table border=\"1\" class=\"dataframe\">\n",
       "  <thead>\n",
       "    <tr style=\"text-align: right;\">\n",
       "      <th></th>\n",
       "      <th>Key</th>\n",
       "      <th>Value</th>\n",
       "    </tr>\n",
       "  </thead>\n",
       "  <tbody>\n",
       "    <tr>\n",
       "      <th>1</th>\n",
       "      <td>('IPCC 2013', 'climate change', 'GWP 100a')</td>\n",
       "      <td>185.413784</td>\n",
       "    </tr>\n",
       "    <tr>\n",
       "      <th>0</th>\n",
       "      <td>('CML 2001 (superseded)', 'terrestrial ecotoxicity', 'TAETP infinite')</td>\n",
       "      <td>0.162348</td>\n",
       "    </tr>\n",
       "  </tbody>\n",
       "</table>\n",
       "</div>"
      ],
      "text/plain": [
       "                                                                      Key  \\\n",
       "1                             ('IPCC 2013', 'climate change', 'GWP 100a')   \n",
       "0  ('CML 2001 (superseded)', 'terrestrial ecotoxicity', 'TAETP infinite')   \n",
       "\n",
       "        Value  \n",
       "1  185.413784  \n",
       "0    0.162348  "
      ]
     },
     "metadata": {},
     "output_type": "display_data"
    },
    {
     "name": "stdout",
     "output_type": "stream",
     "text": [
      "\n",
      "The following choices were made: \n",
      "hydrogen\n"
     ]
    },
    {
     "data": {
      "text/html": [
       "<div>\n",
       "<style scoped>\n",
       "    .dataframe tbody tr th:only-of-type {\n",
       "        vertical-align: middle;\n",
       "    }\n",
       "\n",
       "    .dataframe tbody tr th {\n",
       "        vertical-align: top;\n",
       "    }\n",
       "\n",
       "    .dataframe thead tr th {\n",
       "        text-align: left;\n",
       "    }\n",
       "</style>\n",
       "<table border=\"1\" class=\"dataframe\">\n",
       "  <thead>\n",
       "    <tr>\n",
       "      <th></th>\n",
       "      <th colspan=\"3\" halign=\"left\">hydrogen</th>\n",
       "    </tr>\n",
       "    <tr>\n",
       "      <th></th>\n",
       "      <th>Activity</th>\n",
       "      <th>Capacity</th>\n",
       "      <th>Value</th>\n",
       "    </tr>\n",
       "  </thead>\n",
       "  <tbody>\n",
       "    <tr>\n",
       "      <th>Activity 0</th>\n",
       "      <td>chlor-alkali electrolysis, diaphragm cell | hydrogen, liquid | RER</td>\n",
       "      <td>1000</td>\n",
       "      <td>3.210591</td>\n",
       "    </tr>\n",
       "  </tbody>\n",
       "</table>\n",
       "</div>"
      ],
      "text/plain": [
       "                                                                      hydrogen  \\\n",
       "                                                                      Activity   \n",
       "Activity 0  chlor-alkali electrolysis, diaphragm cell | hydrogen, liquid | RER   \n",
       "\n",
       "                               \n",
       "           Capacity     Value  \n",
       "Activity 0     1000  3.210591  "
      ]
     },
     "metadata": {},
     "output_type": "display_data"
    },
    {
     "name": "stdout",
     "output_type": "stream",
     "text": [
      "electricity\n"
     ]
    },
    {
     "data": {
      "text/html": [
       "<div>\n",
       "<style scoped>\n",
       "    .dataframe tbody tr th:only-of-type {\n",
       "        vertical-align: middle;\n",
       "    }\n",
       "\n",
       "    .dataframe tbody tr th {\n",
       "        vertical-align: top;\n",
       "    }\n",
       "\n",
       "    .dataframe thead tr th {\n",
       "        text-align: left;\n",
       "    }\n",
       "</style>\n",
       "<table border=\"1\" class=\"dataframe\">\n",
       "  <thead>\n",
       "    <tr>\n",
       "      <th></th>\n",
       "      <th colspan=\"3\" halign=\"left\">electricity</th>\n",
       "    </tr>\n",
       "    <tr>\n",
       "      <th></th>\n",
       "      <th>Activity</th>\n",
       "      <th>Capacity</th>\n",
       "      <th>Value</th>\n",
       "    </tr>\n",
       "  </thead>\n",
       "  <tbody>\n",
       "    <tr>\n",
       "      <th>Activity 0</th>\n",
       "      <td>market for electricity, medium voltage | electricity, medium voltage | NO</td>\n",
       "      <td>100000</td>\n",
       "      <td>73.577677</td>\n",
       "    </tr>\n",
       "  </tbody>\n",
       "</table>\n",
       "</div>"
      ],
      "text/plain": [
       "                                                                          electricity  \\\n",
       "                                                                             Activity   \n",
       "Activity 0  market for electricity, medium voltage | electricity, medium voltage | NO   \n",
       "\n",
       "                                \n",
       "           Capacity      Value  \n",
       "Activity 0   100000  73.577677  "
      ]
     },
     "metadata": {},
     "output_type": "display_data"
    },
    {
     "name": "stdout",
     "output_type": "stream",
     "text": [
      "No additional constraints have been passed.\n"
     ]
    }
   ],
   "source": [
    "pulpo_worker.summarize_results(choices=choices, demand=demand, zeroes=True)"
   ]
  },
  {
   "cell_type": "markdown",
   "id": "18a60969",
   "metadata": {},
   "source": [
    "It is again evident, that the GWP increased (185.4) compared to the best result from the base case (179.4), because not the full demand is fulfilled with hydrogen from cracking. \n",
    "\n",
    "As for the technology and regional choice in the two specified choices, we find that diaphragm cell electrolysis supplied powered by grid electricity from Norway (NO) minimizes the GWP. "
   ]
  },
  {
   "cell_type": "markdown",
   "id": "d71d8e1c",
   "metadata": {},
   "source": [
    "<div style=\"text-align: center; background-color: #f0f0f0; padding: 10px;\">\n",
    "    <h2 style=\"font-family: 'Arial', sans-serif; font-weight: bold; color: #555;\">Supply vs. Demand Problem</h2>\n",
    "</div>"
   ]
  },
  {
   "cell_type": "markdown",
   "id": "66cb3f62",
   "metadata": {},
   "source": [
    "Finally, let's test and assess the functionality of PULPO to specify supply values rather than demand values. This can be done by setting the lower_limit and the upper_limit of activities to the same value. This will enforce the corresponding scaling vector entry of that activity to the specified value, and activates the slack variable to relax the demand value. "
   ]
  },
  {
   "cell_type": "markdown",
   "id": "4a3f2eac",
   "metadata": {},
   "source": [
    "This can simply be done by specifying the upper and lower limits rather than the demand (note, we continue with the choices from the previous section):"
   ]
  },
  {
   "cell_type": "code",
   "execution_count": 37,
   "id": "89ecef38",
   "metadata": {},
   "outputs": [],
   "source": [
    "upper_limit = {hydrogen_market[0]: 100}\n",
    "lower_limit = {hydrogen_market[0]: 100}"
   ]
  },
  {
   "cell_type": "code",
   "execution_count": 38,
   "id": "6f72394d",
   "metadata": {
    "scrolled": true
   },
   "outputs": [
    {
     "name": "stdout",
     "output_type": "stream",
     "text": [
      "Creating Instance\n",
      "Instance created\n",
      "GAMS solvers library availability: True\n",
      "Solver path: C:\\GAMS\\37\\gams.exe\n",
      "        2.67 seconds required for presolve\n",
      "--- Job model.gms Start 09/13/23 10:29:45 37.1.0 r07954d5 WEX-WEI x86 64bit/MS Windows\n",
      "--- Applying:\n",
      "    C:\\GAMS\\37\\gmsprmNT.txt\n",
      "    C:\\Users\\Usuario\\Documents\\GAMS\\gamsconfig.yaml\n",
      "--- GAMS Parameters defined\n",
      "    MIP CPLEX\n",
      "    Input C:\\Users\\Usuario\\AppData\\Local\\Temp\\tmps4pm12x6\\model.gms\n",
      "    Output C:\\Users\\Usuario\\AppData\\Local\\Temp\\tmps4pm12x6\\output.lst\n",
      "    ScrDir C:\\Users\\Usuario\\AppData\\Local\\Temp\\tmps4pm12x6\\225a\\\n",
      "    SysDir C:\\GAMS\\37\\\n",
      "    CurDir C:\\Users\\Usuario\\AppData\\Local\\Temp\\tmps4pm12x6\\\n",
      "    LogOption 3\n",
      "    OptCR 1E-9\n",
      "Licensee: Antonio Espuna, Single User License            S210319|0002AN-WIN\n",
      "          Universitat Politecnica de Catalunya, Chemical Engineering DC6757\n",
      "          C:\\Users\\Usuario\\Documents\\GAMS\\gamslice.txt\n",
      "          antonio.espuna@upc.edu                                           \n",
      "Processor information: 1 socket(s), 12 core(s), and 20 thread(s) available\n",
      "GAMS 37.1.0   Copyright (C) 1987-2021 GAMS Development. All rights reserved\n",
      "--- Starting compilation\n",
      "--- model.gms(136817) 35 Mb\n",
      "--- model.gms(156466) 43 Mb\n",
      "--- model.gms(254191) 51 Mb\n",
      "--- $echo File C:\\Users\\Usuario\\AppData\\Local\\Temp\\tmps4pm12x6\\cplex.opt\n",
      "--- model.gms(371530) 75 Mb\n",
      "--- Starting execution: elapsed 0:00:00.462\n",
      "--- model.gms(371530) 76 Mb\n",
      "--- model.gms(254190) 76 Mb\n",
      "--- Generating LP model GAMS_MODEL\n",
      "--- model.gms(125344) 83 Mb\n",
      "--- model.gms(136812) 102 Mb\n",
      "--- model.gms(136853) 102 Mb\n",
      "--- model.gms(182232) 106 Mb\n",
      "--- model.gms(254201) 108 Mb\n",
      "---   78,183 rows  39,093 columns  327,225 non-zeroes\n",
      "--- Executing CPLEX (Solvelink=5): elapsed 0:00:01.592\n",
      "\n",
      "IBM ILOG CPLEX   37.1.0 r07954d5 Released Nov 11, 2021 WEI x86 64bit/MS Window\n",
      "\n",
      "--- GAMS/Cplex Link licensed for continuous and discrete problems.\n",
      "\n",
      "Reading parameter(s) from \"C:\\Users\\Usuario\\AppData\\Local\\Temp\\tmps4pm12x6\\cplex.opt\"\n",
      ">>  workmem=4096\n",
      ">>  scaind=1\n",
      ">>  numericalemphasis=1\n",
      ">>  epmrk=0.9\n",
      ">>  eprhs=1E-9\n",
      "Finished reading from \"C:\\Users\\Usuario\\AppData\\Local\\Temp\\tmps4pm12x6\\cplex.opt\"\n",
      "\n",
      "--- GMO setup time: 0.00s\n",
      "--- Space for names approximately 1.82 Mb\n",
      "--- Use option 'names no' to turn use of names off\n",
      "--- GMO memory 28.27 Mb (peak 28.57 Mb)\n",
      "--- Dictionary memory 0.00 Mb\n",
      "--- Cplex 20.1.0.1 link memory 1.64 Mb (peak 8.03 Mb)\n",
      "--- Starting Cplex\n",
      "\n",
      "Version identifier: 20.1.0.1 | 2021-04-07 | 3a818710c\n",
      "CPXPARAM_Advance                                 0\n",
      "CPXPARAM_Read_Scale                              1\n",
      "CPXPARAM_Threads                                 1\n",
      "CPXPARAM_Emphasis_Numerical                      1\n",
      "CPXPARAM_MIP_Display                             4\n",
      "CPXPARAM_MIP_Pool_Capacity                       0\n",
      "CPXPARAM_Simplex_Tolerances_Markowitz            0.90000000000000002\n",
      "CPXPARAM_Simplex_Tolerances_Feasibility          1.0000000000000001e-09\n",
      "CPXPARAM_TimeLimit                               3600\n",
      "CPXPARAM_WorkMem                                 4096\n",
      "CPXPARAM_MIP_Tolerances_AbsMIPGap                0\n",
      "CPXPARAM_MIP_Tolerances_MIPGap                   1.0000000000000001e-09\n",
      "Tried aggregator 1 time.\n",
      "Linear dependency checker was stopped due to maximum work limit.\n",
      "LP Presolve eliminated 104609 rows and 26394 columns.\n",
      "Aggregator did 9381 substitutions.\n",
      "Reduced LP has 3279 rows, 3318 columns, and 97979 nonzeros.\n",
      "Presolve time = 0.34 sec. (870.95 ticks)\n",
      "Initializing dual steep norms . . .\n",
      "\n",
      "Iteration log . . .\n",
      "Iteration:     1   Scaled dual infeas =            48.810729\n",
      "Iteration:    89   Scaled dual infeas =            45.797369\n",
      "Iteration:   175   Scaled dual infeas =            41.106625\n",
      "Iteration:   252   Scaled dual infeas =            38.917034\n",
      "Iteration:   328   Scaled dual infeas =            38.293899\n",
      "Iteration:   400   Scaled dual infeas =            36.744982\n",
      "Iteration:   476   Scaled dual infeas =            36.056929\n",
      "Iteration:   561   Scaled dual infeas =            35.629904\n",
      "Iteration:   656   Scaled dual infeas =            29.833618\n",
      "Iteration:   738   Scaled dual infeas =            28.300652\n",
      "Iteration:   821   Scaled dual infeas =            27.368806\n",
      "Iteration:   905   Scaled dual infeas =            26.260808\n",
      "Iteration:   981   Scaled dual infeas =            24.865839\n",
      "Iteration:  1062   Scaled dual infeas =            21.524765\n",
      "Iteration:  1142   Scaled dual infeas =            20.895947\n",
      "Iteration:  1222   Scaled dual infeas =            20.712262\n",
      "Iteration:  1312   Scaled dual infeas =            15.641627\n",
      "Iteration:  1393   Scaled dual infeas =            14.840660\n",
      "Iteration:  1483   Scaled dual infeas =            13.348716\n",
      "Iteration:  1576   Scaled dual infeas =            10.700263\n",
      "Iteration:  1668   Scaled dual infeas =            10.151967\n",
      "Iteration:  1765   Scaled dual infeas =             9.526286\n",
      "Iteration:  1858   Scaled dual infeas =             7.989894\n",
      "Iteration:  1955   Scaled dual infeas =             7.222209\n",
      "Iteration:  2053   Scaled dual infeas =             5.580734\n",
      "Iteration:  2154   Scaled dual infeas =             3.934443\n",
      "Iteration:  2254   Scaled dual infeas =             3.100671\n",
      "Iteration:  2353   Scaled dual infeas =             2.888711\n",
      "Iteration:  2456   Scaled dual infeas =             1.851861\n",
      "Iteration:  2563   Scaled dual infeas =             1.141953\n",
      "Iteration:  2672   Scaled dual infeas =             0.153490\n",
      "Iteration:  2727   Dual objective     =          -165.692757\n",
      "Removing shift (36).\n",
      "Elapsed time = 2.91 sec. (10970.21 ticks, 2729 iterations)\n",
      "Iteration:  2729   Scaled dual infeas =             0.000010\n",
      "\n",
      "--- LP status (1): optimal.\n",
      "--- Cplex Time: 3.09sec (det. 11797.03 ticks)\n",
      "\n",
      "\n",
      "Optimal solution found\n",
      "Objective:          185.564367\n",
      "\n",
      "--- Reading solution for model GAMS_MODEL\n",
      "--- Executing after solve: elapsed 0:00:04.758\n",
      "--- model.gms(254204) 108 Mb\n",
      "--- model.gms(371530) 108 Mb\n",
      "--- Putfile results C:\\Users\\Usuario\\AppData\\Local\\Temp\\tmps4pm12x6\\results.dat\n",
      "--- Putfile statresults C:\\Users\\Usuario\\AppData\\Local\\Temp\\tmps4pm12x6\\resultsstat.dat\n",
      "*** Status: Normal completion\n",
      "--- model.gms(371530) 105 Mb\n",
      "--- Job model.gms Stop 09/13/23 10:29:50 elapsed 0:00:04.934\n",
      "\n",
      "GAMS WORKING DIRECTORY: C:\\Users\\Usuario\\AppData\\Local\\Temp\\tmps4pm12x6\n",
      "\n",
      "        6.15 seconds required for solver\n",
      "        0.17 seconds required for postsolve\n",
      "        8.99 seconds required total\n"
     ]
    }
   ],
   "source": [
    "pulpo_worker.instantiate(choices=choices, upper_limit=upper_limit, lower_limit=lower_limit)\n",
    "results = pulpo_worker.solve(GAMS_PATH=GAMS_PATH)"
   ]
  },
  {
   "cell_type": "code",
   "execution_count": 39,
   "id": "006b3b87",
   "metadata": {
    "scrolled": true
   },
   "outputs": [
    {
     "name": "stdout",
     "output_type": "stream",
     "text": [
      "The following demand / functional unit has been specified: \n"
     ]
    },
    {
     "data": {
      "text/html": [
       "<div>\n",
       "<style scoped>\n",
       "    .dataframe tbody tr th:only-of-type {\n",
       "        vertical-align: middle;\n",
       "    }\n",
       "\n",
       "    .dataframe tbody tr th {\n",
       "        vertical-align: top;\n",
       "    }\n",
       "\n",
       "    .dataframe thead th {\n",
       "        text-align: right;\n",
       "    }\n",
       "</style>\n",
       "<table border=\"1\" class=\"dataframe\">\n",
       "  <thead>\n",
       "    <tr style=\"text-align: right;\">\n",
       "      <th></th>\n",
       "      <th>Demand</th>\n",
       "    </tr>\n",
       "  </thead>\n",
       "  <tbody>\n",
       "    <tr>\n",
       "      <th>market for hydrogen, liquid | hydrogen, liquid | RER</th>\n",
       "      <td>100</td>\n",
       "    </tr>\n",
       "  </tbody>\n",
       "</table>\n",
       "</div>"
      ],
      "text/plain": [
       "                                                      Demand\n",
       "market for hydrogen, liquid | hydrogen, liquid | RER     100"
      ]
     },
     "metadata": {},
     "output_type": "display_data"
    },
    {
     "name": "stdout",
     "output_type": "stream",
     "text": [
      "\n",
      "The following impacts were calculated: \n"
     ]
    },
    {
     "data": {
      "text/html": [
       "<div>\n",
       "<style scoped>\n",
       "    .dataframe tbody tr th:only-of-type {\n",
       "        vertical-align: middle;\n",
       "    }\n",
       "\n",
       "    .dataframe tbody tr th {\n",
       "        vertical-align: top;\n",
       "    }\n",
       "\n",
       "    .dataframe thead th {\n",
       "        text-align: right;\n",
       "    }\n",
       "</style>\n",
       "<table border=\"1\" class=\"dataframe\">\n",
       "  <thead>\n",
       "    <tr style=\"text-align: right;\">\n",
       "      <th></th>\n",
       "      <th>Key</th>\n",
       "      <th>Value</th>\n",
       "    </tr>\n",
       "  </thead>\n",
       "  <tbody>\n",
       "    <tr>\n",
       "      <th>1</th>\n",
       "      <td>('IPCC 2013', 'climate change', 'GWP 100a')</td>\n",
       "      <td>185.402029</td>\n",
       "    </tr>\n",
       "    <tr>\n",
       "      <th>0</th>\n",
       "      <td>('CML 2001 (superseded)', 'terrestrial ecotoxicity', 'TAETP infinite')</td>\n",
       "      <td>0.162338</td>\n",
       "    </tr>\n",
       "  </tbody>\n",
       "</table>\n",
       "</div>"
      ],
      "text/plain": [
       "                                                                      Key  \\\n",
       "1                             ('IPCC 2013', 'climate change', 'GWP 100a')   \n",
       "0  ('CML 2001 (superseded)', 'terrestrial ecotoxicity', 'TAETP infinite')   \n",
       "\n",
       "        Value  \n",
       "1  185.402029  \n",
       "0    0.162338  "
      ]
     },
     "metadata": {},
     "output_type": "display_data"
    },
    {
     "name": "stdout",
     "output_type": "stream",
     "text": [
      "\n",
      "The following choices were made: \n",
      "hydrogen\n"
     ]
    },
    {
     "data": {
      "text/html": [
       "<div>\n",
       "<style scoped>\n",
       "    .dataframe tbody tr th:only-of-type {\n",
       "        vertical-align: middle;\n",
       "    }\n",
       "\n",
       "    .dataframe tbody tr th {\n",
       "        vertical-align: top;\n",
       "    }\n",
       "\n",
       "    .dataframe thead tr th {\n",
       "        text-align: left;\n",
       "    }\n",
       "</style>\n",
       "<table border=\"1\" class=\"dataframe\">\n",
       "  <thead>\n",
       "    <tr>\n",
       "      <th></th>\n",
       "      <th colspan=\"3\" halign=\"left\">hydrogen</th>\n",
       "    </tr>\n",
       "    <tr>\n",
       "      <th></th>\n",
       "      <th>Activity</th>\n",
       "      <th>Capacity</th>\n",
       "      <th>Value</th>\n",
       "    </tr>\n",
       "  </thead>\n",
       "  <tbody>\n",
       "    <tr>\n",
       "      <th>Activity 0</th>\n",
       "      <td>chlor-alkali electrolysis, diaphragm cell | hydrogen, liquid | RER</td>\n",
       "      <td>1000</td>\n",
       "      <td>3.210388</td>\n",
       "    </tr>\n",
       "  </tbody>\n",
       "</table>\n",
       "</div>"
      ],
      "text/plain": [
       "                                                                      hydrogen  \\\n",
       "                                                                      Activity   \n",
       "Activity 0  chlor-alkali electrolysis, diaphragm cell | hydrogen, liquid | RER   \n",
       "\n",
       "                               \n",
       "           Capacity     Value  \n",
       "Activity 0     1000  3.210388  "
      ]
     },
     "metadata": {},
     "output_type": "display_data"
    },
    {
     "name": "stdout",
     "output_type": "stream",
     "text": [
      "electricity\n"
     ]
    },
    {
     "data": {
      "text/html": [
       "<div>\n",
       "<style scoped>\n",
       "    .dataframe tbody tr th:only-of-type {\n",
       "        vertical-align: middle;\n",
       "    }\n",
       "\n",
       "    .dataframe tbody tr th {\n",
       "        vertical-align: top;\n",
       "    }\n",
       "\n",
       "    .dataframe thead tr th {\n",
       "        text-align: left;\n",
       "    }\n",
       "</style>\n",
       "<table border=\"1\" class=\"dataframe\">\n",
       "  <thead>\n",
       "    <tr>\n",
       "      <th></th>\n",
       "      <th colspan=\"3\" halign=\"left\">electricity</th>\n",
       "    </tr>\n",
       "    <tr>\n",
       "      <th></th>\n",
       "      <th>Activity</th>\n",
       "      <th>Capacity</th>\n",
       "      <th>Value</th>\n",
       "    </tr>\n",
       "  </thead>\n",
       "  <tbody>\n",
       "    <tr>\n",
       "      <th>Activity 0</th>\n",
       "      <td>market for electricity, medium voltage | electricity, medium voltage | NO</td>\n",
       "      <td>100000</td>\n",
       "      <td>73.573012</td>\n",
       "    </tr>\n",
       "  </tbody>\n",
       "</table>\n",
       "</div>"
      ],
      "text/plain": [
       "                                                                          electricity  \\\n",
       "                                                                             Activity   \n",
       "Activity 0  market for electricity, medium voltage | electricity, medium voltage | NO   \n",
       "\n",
       "                                \n",
       "           Capacity      Value  \n",
       "Activity 0   100000  73.573012  "
      ]
     },
     "metadata": {},
     "output_type": "display_data"
    },
    {
     "name": "stdout",
     "output_type": "stream",
     "text": [
      "\n",
      "The following constraints were implemented and oblieged: \n"
     ]
    },
    {
     "data": {
      "text/html": [
       "<div>\n",
       "<style scoped>\n",
       "    .dataframe tbody tr th:only-of-type {\n",
       "        vertical-align: middle;\n",
       "    }\n",
       "\n",
       "    .dataframe tbody tr th {\n",
       "        vertical-align: top;\n",
       "    }\n",
       "\n",
       "    .dataframe thead th {\n",
       "        text-align: right;\n",
       "    }\n",
       "</style>\n",
       "<table border=\"1\" class=\"dataframe\">\n",
       "  <thead>\n",
       "    <tr style=\"text-align: right;\">\n",
       "      <th></th>\n",
       "      <th>Constraints</th>\n",
       "    </tr>\n",
       "  </thead>\n",
       "  <tbody>\n",
       "    <tr>\n",
       "      <th>market for hydrogen, liquid | hydrogen, liquid | RER</th>\n",
       "      <td>100</td>\n",
       "    </tr>\n",
       "  </tbody>\n",
       "</table>\n",
       "</div>"
      ],
      "text/plain": [
       "                                                      Constraints\n",
       "market for hydrogen, liquid | hydrogen, liquid | RER          100"
      ]
     },
     "metadata": {},
     "output_type": "display_data"
    }
   ],
   "source": [
    "pulpo_worker.summarize_results(choices=choices, demand=demand, constraints=upper_limit, zeroes=True)"
   ]
  },
  {
   "cell_type": "markdown",
   "id": "6ecc80bf",
   "metadata": {},
   "source": [
    "From the results it can be observed that the resulting GWP is **slightly** lower (185.402 vs. 185.414) than in the previous section, which is due to the fact that previously, a little more than 100kg of hydrogen needed to be produced as somewhere in the background hydrogen was consumed. Now, the production value (supply) of hydrogen is specified, so that hydrogen consumed in the background is accounted for in the specifications.\n",
    "\n",
    "Overall, when specifying supply values instead of demand values, the corresponding scaling vector entries are always smaller."
   ]
  },
  {
   "cell_type": "code",
   "execution_count": null,
   "id": "b71082ce",
   "metadata": {},
   "outputs": [],
   "source": []
  }
 ],
 "metadata": {
  "kernelspec": {
   "display_name": "Python 3 (ipykernel)",
   "language": "python",
   "name": "python3"
  },
  "language_info": {
   "codemirror_mode": {
    "name": "ipython",
    "version": 3
   },
   "file_extension": ".py",
   "mimetype": "text/x-python",
   "name": "python",
   "nbconvert_exporter": "python",
   "pygments_lexer": "ipython3",
   "version": "3.9.16"
  }
 },
 "nbformat": 4,
 "nbformat_minor": 5
}
