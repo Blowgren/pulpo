{
 "cells": [
  {
   "cell_type": "markdown",
   "id": "bd87768d-b2ea-4593-8a70-c89ed8227bb8",
   "metadata": {},
   "source": [
    "## Energy Transition Case Study\n",
    "\n",
    "This notebook presents the base case optimization of the German electricity market as presented in the manuscript presenting the PULPO framework.\n",
    "\n",
    "Updated by Fabian Lechtenberg, 15.04.2024.\n",
    "\n",
    "See [this notebook](./electricity_showcase.ipynb) for additional results and functionalities of this case study, and [this notebook](./plastic_showcase.ipynb) for a more thorough demonstration of the functionalities on a plastics recycling case study."
   ]
  },
  {
   "cell_type": "markdown",
   "id": "bbc904da-04a9-4151-baba-f1537711e796",
   "metadata": {},
   "source": [
    "<div style=\"text-align: center; background-color: #f0f0f0; padding: 10px;\">\n",
    "    <h2 style=\"font-family: 'Arial', sans-serif; font-weight: bold; color: #555;\">Demonstration 🚀</h2>\n",
    "</div>"
   ]
  },
  {
   "cell_type": "markdown",
   "id": "ea903462-b798-40ae-ba75-52820ac325ff",
   "metadata": {},
   "source": [
    "### Base Problem"
   ]
  },
  {
   "cell_type": "code",
   "execution_count": 1,
   "id": "614b70a0-858d-46c6-bc11-afc44cc7b0e6",
   "metadata": {
    "execution": {
     "iopub.execute_input": "2024-04-15T16:33:29.098535Z",
     "iopub.status.busy": "2024-04-15T16:33:29.098535Z",
     "iopub.status.idle": "2024-04-15T16:33:30.655454Z",
     "shell.execute_reply": "2024-04-15T16:33:30.655454Z",
     "shell.execute_reply.started": "2024-04-15T16:33:29.098535Z"
    }
   },
   "outputs": [],
   "source": [
    "# Import section\n",
    "import os\n",
    "import sys\n",
    "sys.path.append('../')\n",
    "\n",
    "import pandas as pd\n",
    "from pulpo import pulpo"
   ]
  },
  {
   "cell_type": "code",
   "execution_count": 2,
   "id": "6bb959c5-ef79-45c3-8f29-a876322eabb4",
   "metadata": {
    "execution": {
     "iopub.execute_input": "2024-04-15T16:33:30.657444Z",
     "iopub.status.busy": "2024-04-15T16:33:30.656447Z",
     "iopub.status.idle": "2024-04-15T16:33:30.670931Z",
     "shell.execute_reply": "2024-04-15T16:33:30.670931Z",
     "shell.execute_reply.started": "2024-04-15T16:33:30.657444Z"
    }
   },
   "outputs": [],
   "source": [
    "# Your brightway2 project, database and targeted impact category\n",
    "project = \"pulpo\"\n",
    "database = \"cutoff38\"\n",
    "methods = {\"('IPCC 2013', 'climate change', 'GWP 100a')\": 1,\n",
    "           \"('ReCiPe Endpoint (E,A)', 'resources', 'total')\": 0,\n",
    "           \"('ReCiPe Endpoint (E,A)', 'human health', 'total')\": 0,\n",
    "           \"('ReCiPe Endpoint (E,A)', 'ecosystem quality', 'total')\": 0,\n",
    "           \"('ReCiPe Midpoint (E) V1.13', 'ionising radiation', 'IRP_HE')\": 0}\n",
    "\n",
    "# Substitute with your working directory of choice\n",
    "notebook_dir = os.path.dirname(os.getcwd())\n",
    "directory = os.path.join(notebook_dir, 'data')"
   ]
  },
  {
   "cell_type": "code",
   "execution_count": 3,
   "id": "e19799b6-7601-4614-8320-76f84e00aba8",
   "metadata": {
    "execution": {
     "iopub.execute_input": "2024-04-15T16:33:30.671925Z",
     "iopub.status.busy": "2024-04-15T16:33:30.671925Z",
     "iopub.status.idle": "2024-04-15T16:33:30.686666Z",
     "shell.execute_reply": "2024-04-15T16:33:30.686666Z",
     "shell.execute_reply.started": "2024-04-15T16:33:30.671925Z"
    }
   },
   "outputs": [],
   "source": [
    "# Create a PULPO object\n",
    "pulpo_worker = pulpo.PulpoOptimizer(project, database, methods, directory)"
   ]
  },
  {
   "cell_type": "code",
   "execution_count": 4,
   "id": "763ba723-2074-48ba-bc38-7922b86134e9",
   "metadata": {
    "execution": {
     "iopub.execute_input": "2024-04-15T16:33:30.687659Z",
     "iopub.status.busy": "2024-04-15T16:33:30.687659Z",
     "iopub.status.idle": "2024-04-15T16:33:32.533933Z",
     "shell.execute_reply": "2024-04-15T16:33:32.533933Z",
     "shell.execute_reply.started": "2024-04-15T16:33:30.687659Z"
    }
   },
   "outputs": [],
   "source": [
    "# Retrieve LCI data\n",
    "pulpo_worker.get_lci_data()"
   ]
  },
  {
   "cell_type": "code",
   "execution_count": 5,
   "id": "ac586be8-813c-40b3-8fd2-83642b43c378",
   "metadata": {
    "execution": {
     "iopub.execute_input": "2024-04-15T16:33:32.535902Z",
     "iopub.status.busy": "2024-04-15T16:33:32.534949Z",
     "iopub.status.idle": "2024-04-15T16:33:33.439099Z",
     "shell.execute_reply": "2024-04-15T16:33:33.439099Z",
     "shell.execute_reply.started": "2024-04-15T16:33:32.535902Z"
    }
   },
   "outputs": [],
   "source": [
    "# Retrieve the electricity market\n",
    "activities = [\"market for electricity, high voltage\"]\n",
    "reference_products = [\"electricity, high voltage\"]\n",
    "locations = [\"DE\"]\n",
    "electricity_market = pulpo_worker.retrieve_activities(activities=activities,\n",
    "                                                      reference_products=reference_products,\n",
    "                                                      locations=locations)"
   ]
  },
  {
   "cell_type": "code",
   "execution_count": 6,
   "id": "ff3da007-1c3e-434c-ab21-f6fb00a19d41",
   "metadata": {
    "execution": {
     "iopub.execute_input": "2024-04-15T16:33:33.443083Z",
     "iopub.status.busy": "2024-04-15T16:33:33.442086Z",
     "iopub.status.idle": "2024-04-15T16:33:33.454879Z",
     "shell.execute_reply": "2024-04-15T16:33:33.454879Z",
     "shell.execute_reply.started": "2024-04-15T16:33:33.443083Z"
    }
   },
   "outputs": [],
   "source": [
    "# Specify the functional unit as demand dictionary\n",
    "demand = {electricity_market[0]: 1.28819e+11}"
   ]
  },
  {
   "cell_type": "code",
   "execution_count": 7,
   "id": "b0d92d90-b230-43b5-99c9-77b9477bb601",
   "metadata": {
    "execution": {
     "iopub.execute_input": "2024-04-15T16:33:33.456870Z",
     "iopub.status.busy": "2024-04-15T16:33:33.456870Z",
     "iopub.status.idle": "2024-04-15T16:33:34.439708Z",
     "shell.execute_reply": "2024-04-15T16:33:34.439708Z",
     "shell.execute_reply.started": "2024-04-15T16:33:33.456870Z"
    }
   },
   "outputs": [],
   "source": [
    "# Retrieve the choices\n",
    "activities = [\"electricity production, lignite\", \n",
    "             \"electricity production, hard coal\",\n",
    "             \"electricity production, nuclear, pressure water reactor\",\n",
    "             \"electricity production, wind, 1-3MW turbine, onshore\"]\n",
    "reference_products = [\"electricity, high voltage\"]\n",
    "locations = [\"DE\"]\n",
    "\n",
    "electricity_activities = pulpo_worker.retrieve_activities(activities=activities,\n",
    "                                                          reference_products=reference_products,\n",
    "                                                          locations=locations)"
   ]
  },
  {
   "cell_type": "code",
   "execution_count": 8,
   "id": "f14ab5a4-5ecd-4d93-91e4-958bec6326c0",
   "metadata": {
    "execution": {
     "iopub.execute_input": "2024-04-15T16:33:34.440702Z",
     "iopub.status.busy": "2024-04-15T16:33:34.440702Z",
     "iopub.status.idle": "2024-04-15T16:33:34.455435Z",
     "shell.execute_reply": "2024-04-15T16:33:34.455435Z",
     "shell.execute_reply.started": "2024-04-15T16:33:34.440702Z"
    }
   },
   "outputs": [],
   "source": [
    "# Specify the choices dictionary\n",
    "choices  = {'electricity': {electricity_activities[0]: 1e16,\n",
    "                            electricity_activities[1]: 1e16,\n",
    "                            electricity_activities[2]: 1e16,\n",
    "                            electricity_activities[3]: 1e16}}"
   ]
  },
  {
   "cell_type": "code",
   "execution_count": 9,
   "id": "d9baca84-3346-4496-9690-c39a30d5081a",
   "metadata": {
    "execution": {
     "iopub.execute_input": "2024-04-15T16:33:34.457425Z",
     "iopub.status.busy": "2024-04-15T16:33:34.457425Z",
     "iopub.status.idle": "2024-04-15T16:33:57.568687Z",
     "shell.execute_reply": "2024-04-15T16:33:57.568687Z",
     "shell.execute_reply.started": "2024-04-15T16:33:34.457425Z"
    }
   },
   "outputs": [
    {
     "name": "stdout",
     "output_type": "stream",
     "text": [
      "Creating Instance\n",
      "Instance created\n"
     ]
    }
   ],
   "source": [
    "# Instantiate and solve the problem (here with HiGHS)\n",
    "instance = pulpo_worker.instantiate(choices=choices, demand=demand)\n",
    "results = pulpo_worker.solve()"
   ]
  },
  {
   "cell_type": "code",
   "execution_count": 10,
   "id": "71143edd-c671-4ee0-a79c-3ebe192fc450",
   "metadata": {
    "execution": {
     "iopub.execute_input": "2024-04-15T16:33:57.569680Z",
     "iopub.status.busy": "2024-04-15T16:33:57.569680Z",
     "iopub.status.idle": "2024-04-15T16:33:57.630859Z",
     "shell.execute_reply": "2024-04-15T16:33:57.630859Z",
     "shell.execute_reply.started": "2024-04-15T16:33:57.569680Z"
    }
   },
   "outputs": [
    {
     "name": "stdout",
     "output_type": "stream",
     "text": [
      "The following demand / functional unit has been specified: \n"
     ]
    },
    {
     "data": {
      "text/html": [
       "<div>\n",
       "<style scoped>\n",
       "    .dataframe tbody tr th:only-of-type {\n",
       "        vertical-align: middle;\n",
       "    }\n",
       "\n",
       "    .dataframe tbody tr th {\n",
       "        vertical-align: top;\n",
       "    }\n",
       "\n",
       "    .dataframe thead th {\n",
       "        text-align: right;\n",
       "    }\n",
       "</style>\n",
       "<table border=\"1\" class=\"dataframe\">\n",
       "  <thead>\n",
       "    <tr style=\"text-align: right;\">\n",
       "      <th></th>\n",
       "      <th>Demand</th>\n",
       "    </tr>\n",
       "  </thead>\n",
       "  <tbody>\n",
       "    <tr>\n",
       "      <th>market for electricity, high voltage | electricity, high voltage | DE</th>\n",
       "      <td>1.288190e+11</td>\n",
       "    </tr>\n",
       "  </tbody>\n",
       "</table>\n",
       "</div>"
      ],
      "text/plain": [
       "                                                          Demand\n",
       "market for electricity, high voltage | electric...  1.288190e+11"
      ]
     },
     "metadata": {},
     "output_type": "display_data"
    },
    {
     "name": "stdout",
     "output_type": "stream",
     "text": [
      "\n",
      "These are the impacts contained in the objective:\n"
     ]
    },
    {
     "data": {
      "text/html": [
       "<div>\n",
       "<style scoped>\n",
       "    .dataframe tbody tr th:only-of-type {\n",
       "        vertical-align: middle;\n",
       "    }\n",
       "\n",
       "    .dataframe tbody tr th {\n",
       "        vertical-align: top;\n",
       "    }\n",
       "\n",
       "    .dataframe thead th {\n",
       "        text-align: right;\n",
       "    }\n",
       "</style>\n",
       "<table border=\"1\" class=\"dataframe\">\n",
       "  <thead>\n",
       "    <tr style=\"text-align: right;\">\n",
       "      <th></th>\n",
       "      <th>Key</th>\n",
       "      <th>Value</th>\n",
       "    </tr>\n",
       "  </thead>\n",
       "  <tbody>\n",
       "    <tr>\n",
       "      <th>0</th>\n",
       "      <td>('IPCC 2013', 'climate change', 'GWP 100a')</td>\n",
       "      <td>1.599836e+10</td>\n",
       "    </tr>\n",
       "  </tbody>\n",
       "</table>\n",
       "</div>"
      ],
      "text/plain": [
       "                                           Key         Value\n",
       "0  ('IPCC 2013', 'climate change', 'GWP 100a')  1.599836e+10"
      ]
     },
     "metadata": {},
     "output_type": "display_data"
    },
    {
     "name": "stdout",
     "output_type": "stream",
     "text": [
      "\n",
      "The following impacts were calculated: \n"
     ]
    },
    {
     "data": {
      "text/html": [
       "<div>\n",
       "<style scoped>\n",
       "    .dataframe tbody tr th:only-of-type {\n",
       "        vertical-align: middle;\n",
       "    }\n",
       "\n",
       "    .dataframe tbody tr th {\n",
       "        vertical-align: top;\n",
       "    }\n",
       "\n",
       "    .dataframe thead th {\n",
       "        text-align: right;\n",
       "    }\n",
       "</style>\n",
       "<table border=\"1\" class=\"dataframe\">\n",
       "  <thead>\n",
       "    <tr style=\"text-align: right;\">\n",
       "      <th></th>\n",
       "      <th>Key</th>\n",
       "      <th>Value</th>\n",
       "    </tr>\n",
       "  </thead>\n",
       "  <tbody>\n",
       "    <tr>\n",
       "      <th>4</th>\n",
       "      <td>('ReCiPe Midpoint (E) V1.13', 'ionising radiat...</td>\n",
       "      <td>5.414918e+10</td>\n",
       "    </tr>\n",
       "    <tr>\n",
       "      <th>0</th>\n",
       "      <td>('IPCC 2013', 'climate change', 'GWP 100a')</td>\n",
       "      <td>1.599836e+10</td>\n",
       "    </tr>\n",
       "    <tr>\n",
       "      <th>1</th>\n",
       "      <td>('ReCiPe Endpoint (E,A)', 'human health', 'tot...</td>\n",
       "      <td>2.410592e+09</td>\n",
       "    </tr>\n",
       "    <tr>\n",
       "      <th>3</th>\n",
       "      <td>('ReCiPe Endpoint (E,A)', 'resources', 'total')</td>\n",
       "      <td>6.763921e+08</td>\n",
       "    </tr>\n",
       "    <tr>\n",
       "      <th>2</th>\n",
       "      <td>('ReCiPe Endpoint (E,A)', 'ecosystem quality',...</td>\n",
       "      <td>6.219297e+08</td>\n",
       "    </tr>\n",
       "  </tbody>\n",
       "</table>\n",
       "</div>"
      ],
      "text/plain": [
       "                                                 Key         Value\n",
       "4  ('ReCiPe Midpoint (E) V1.13', 'ionising radiat...  5.414918e+10\n",
       "0        ('IPCC 2013', 'climate change', 'GWP 100a')  1.599836e+10\n",
       "1  ('ReCiPe Endpoint (E,A)', 'human health', 'tot...  2.410592e+09\n",
       "3    ('ReCiPe Endpoint (E,A)', 'resources', 'total')  6.763921e+08\n",
       "2  ('ReCiPe Endpoint (E,A)', 'ecosystem quality',...  6.219297e+08"
      ]
     },
     "metadata": {},
     "output_type": "display_data"
    },
    {
     "name": "stdout",
     "output_type": "stream",
     "text": [
      "\n",
      "The following choices were made: \n",
      "electricity\n"
     ]
    },
    {
     "data": {
      "text/html": [
       "<div>\n",
       "<style scoped>\n",
       "    .dataframe tbody tr th:only-of-type {\n",
       "        vertical-align: middle;\n",
       "    }\n",
       "\n",
       "    .dataframe tbody tr th {\n",
       "        vertical-align: top;\n",
       "    }\n",
       "\n",
       "    .dataframe thead tr th {\n",
       "        text-align: left;\n",
       "    }\n",
       "</style>\n",
       "<table border=\"1\" class=\"dataframe\">\n",
       "  <thead>\n",
       "    <tr>\n",
       "      <th></th>\n",
       "      <th colspan=\"3\" halign=\"left\">electricity</th>\n",
       "    </tr>\n",
       "    <tr>\n",
       "      <th></th>\n",
       "      <th>Activity</th>\n",
       "      <th>Capacity</th>\n",
       "      <th>Value</th>\n",
       "    </tr>\n",
       "  </thead>\n",
       "  <tbody>\n",
       "    <tr>\n",
       "      <th>Activity 0</th>\n",
       "      <td>electricity production, nuclear, pressure wate...</td>\n",
       "      <td>1.000000e+16</td>\n",
       "      <td>8.350729e+10</td>\n",
       "    </tr>\n",
       "  </tbody>\n",
       "</table>\n",
       "</div>"
      ],
      "text/plain": [
       "                                                  electricity                \\\n",
       "                                                     Activity      Capacity   \n",
       "Activity 0  electricity production, nuclear, pressure wate...  1.000000e+16   \n",
       "\n",
       "                          \n",
       "                   Value  \n",
       "Activity 0  8.350729e+10  "
      ]
     },
     "metadata": {},
     "output_type": "display_data"
    },
    {
     "name": "stdout",
     "output_type": "stream",
     "text": [
      "No additional constraints have been passed.\n"
     ]
    }
   ],
   "source": [
    "# Summarize the results\n",
    "pulpo_worker.summarize_results(choices=choices, demand=demand, zeroes=True)"
   ]
  },
  {
   "cell_type": "code",
   "execution_count": 11,
   "id": "ea3df02a-fbe5-4937-842d-990b403bd109",
   "metadata": {
    "execution": {
     "iopub.execute_input": "2024-04-15T16:33:57.631851Z",
     "iopub.status.busy": "2024-04-15T16:33:57.631851Z",
     "iopub.status.idle": "2024-04-15T16:33:58.621132Z",
     "shell.execute_reply": "2024-04-15T16:33:58.621132Z",
     "shell.execute_reply.started": "2024-04-15T16:33:57.631851Z"
    }
   },
   "outputs": [],
   "source": [
    "pulpo_worker.save_results(choices=choices, demand=demand, name='energy_transition_showcase.xlsx')"
   ]
  },
  {
   "cell_type": "markdown",
   "id": "2bb668e7-30ca-4b55-9ea0-50e1415afee6",
   "metadata": {},
   "source": [
    "### No optimization"
   ]
  },
  {
   "cell_type": "code",
   "execution_count": 12,
   "id": "d70de808-ca7b-4db1-9eed-1c9a0913c073",
   "metadata": {
    "execution": {
     "iopub.execute_input": "2024-04-15T16:33:58.622129Z",
     "iopub.status.busy": "2024-04-15T16:33:58.622129Z",
     "iopub.status.idle": "2024-04-15T16:34:26.277814Z",
     "shell.execute_reply": "2024-04-15T16:34:26.277814Z",
     "shell.execute_reply.started": "2024-04-15T16:33:58.622129Z"
    }
   },
   "outputs": [
    {
     "name": "stdout",
     "output_type": "stream",
     "text": [
      "Creating Instance\n",
      "Instance created\n"
     ]
    }
   ],
   "source": [
    "# Instantiate and solve the problem (here with HiGHS)\n",
    "instance = pulpo_worker.instantiate(choices={}, demand=demand)\n",
    "results = pulpo_worker.solve()"
   ]
  },
  {
   "cell_type": "code",
   "execution_count": 13,
   "id": "f7e055e4-f7a6-4cdf-863f-2b104f0e2ed1",
   "metadata": {
    "execution": {
     "iopub.execute_input": "2024-04-15T16:34:26.278757Z",
     "iopub.status.busy": "2024-04-15T16:34:26.278757Z",
     "iopub.status.idle": "2024-04-15T16:34:26.339489Z",
     "shell.execute_reply": "2024-04-15T16:34:26.339489Z",
     "shell.execute_reply.started": "2024-04-15T16:34:26.278757Z"
    }
   },
   "outputs": [
    {
     "name": "stdout",
     "output_type": "stream",
     "text": [
      "The following demand / functional unit has been specified: \n"
     ]
    },
    {
     "data": {
      "text/html": [
       "<div>\n",
       "<style scoped>\n",
       "    .dataframe tbody tr th:only-of-type {\n",
       "        vertical-align: middle;\n",
       "    }\n",
       "\n",
       "    .dataframe tbody tr th {\n",
       "        vertical-align: top;\n",
       "    }\n",
       "\n",
       "    .dataframe thead th {\n",
       "        text-align: right;\n",
       "    }\n",
       "</style>\n",
       "<table border=\"1\" class=\"dataframe\">\n",
       "  <thead>\n",
       "    <tr style=\"text-align: right;\">\n",
       "      <th></th>\n",
       "      <th>Demand</th>\n",
       "    </tr>\n",
       "  </thead>\n",
       "  <tbody>\n",
       "    <tr>\n",
       "      <th>market for electricity, high voltage | electricity, high voltage | DE</th>\n",
       "      <td>1.288190e+11</td>\n",
       "    </tr>\n",
       "  </tbody>\n",
       "</table>\n",
       "</div>"
      ],
      "text/plain": [
       "                                                          Demand\n",
       "market for electricity, high voltage | electric...  1.288190e+11"
      ]
     },
     "metadata": {},
     "output_type": "display_data"
    },
    {
     "name": "stdout",
     "output_type": "stream",
     "text": [
      "\n",
      "These are the impacts contained in the objective:\n"
     ]
    },
    {
     "data": {
      "text/html": [
       "<div>\n",
       "<style scoped>\n",
       "    .dataframe tbody tr th:only-of-type {\n",
       "        vertical-align: middle;\n",
       "    }\n",
       "\n",
       "    .dataframe tbody tr th {\n",
       "        vertical-align: top;\n",
       "    }\n",
       "\n",
       "    .dataframe thead th {\n",
       "        text-align: right;\n",
       "    }\n",
       "</style>\n",
       "<table border=\"1\" class=\"dataframe\">\n",
       "  <thead>\n",
       "    <tr style=\"text-align: right;\">\n",
       "      <th></th>\n",
       "      <th>Key</th>\n",
       "      <th>Value</th>\n",
       "    </tr>\n",
       "  </thead>\n",
       "  <tbody>\n",
       "    <tr>\n",
       "      <th>0</th>\n",
       "      <td>('IPCC 2013', 'climate change', 'GWP 100a')</td>\n",
       "      <td>7.254725e+10</td>\n",
       "    </tr>\n",
       "  </tbody>\n",
       "</table>\n",
       "</div>"
      ],
      "text/plain": [
       "                                           Key         Value\n",
       "0  ('IPCC 2013', 'climate change', 'GWP 100a')  7.254725e+10"
      ]
     },
     "metadata": {},
     "output_type": "display_data"
    },
    {
     "name": "stdout",
     "output_type": "stream",
     "text": [
      "\n",
      "The following impacts were calculated: \n"
     ]
    },
    {
     "data": {
      "text/html": [
       "<div>\n",
       "<style scoped>\n",
       "    .dataframe tbody tr th:only-of-type {\n",
       "        vertical-align: middle;\n",
       "    }\n",
       "\n",
       "    .dataframe tbody tr th {\n",
       "        vertical-align: top;\n",
       "    }\n",
       "\n",
       "    .dataframe thead th {\n",
       "        text-align: right;\n",
       "    }\n",
       "</style>\n",
       "<table border=\"1\" class=\"dataframe\">\n",
       "  <thead>\n",
       "    <tr style=\"text-align: right;\">\n",
       "      <th></th>\n",
       "      <th>Key</th>\n",
       "      <th>Value</th>\n",
       "    </tr>\n",
       "  </thead>\n",
       "  <tbody>\n",
       "    <tr>\n",
       "      <th>0</th>\n",
       "      <td>('IPCC 2013', 'climate change', 'GWP 100a')</td>\n",
       "      <td>7.254725e+10</td>\n",
       "    </tr>\n",
       "    <tr>\n",
       "      <th>1</th>\n",
       "      <td>('ReCiPe Endpoint (E,A)', 'human health', 'tot...</td>\n",
       "      <td>2.066171e+10</td>\n",
       "    </tr>\n",
       "    <tr>\n",
       "      <th>4</th>\n",
       "      <td>('ReCiPe Midpoint (E) V1.13', 'ionising radiat...</td>\n",
       "      <td>1.371322e+10</td>\n",
       "    </tr>\n",
       "    <tr>\n",
       "      <th>2</th>\n",
       "      <td>('ReCiPe Endpoint (E,A)', 'ecosystem quality',...</td>\n",
       "      <td>2.945184e+09</td>\n",
       "    </tr>\n",
       "    <tr>\n",
       "      <th>3</th>\n",
       "      <td>('ReCiPe Endpoint (E,A)', 'resources', 'total')</td>\n",
       "      <td>2.439436e+09</td>\n",
       "    </tr>\n",
       "  </tbody>\n",
       "</table>\n",
       "</div>"
      ],
      "text/plain": [
       "                                                 Key         Value\n",
       "0        ('IPCC 2013', 'climate change', 'GWP 100a')  7.254725e+10\n",
       "1  ('ReCiPe Endpoint (E,A)', 'human health', 'tot...  2.066171e+10\n",
       "4  ('ReCiPe Midpoint (E) V1.13', 'ionising radiat...  1.371322e+10\n",
       "2  ('ReCiPe Endpoint (E,A)', 'ecosystem quality',...  2.945184e+09\n",
       "3    ('ReCiPe Endpoint (E,A)', 'resources', 'total')  2.439436e+09"
      ]
     },
     "metadata": {},
     "output_type": "display_data"
    },
    {
     "name": "stdout",
     "output_type": "stream",
     "text": [
      "\n",
      "The following choices were made: \n",
      "electricity\n"
     ]
    },
    {
     "data": {
      "text/html": [
       "<div>\n",
       "<style scoped>\n",
       "    .dataframe tbody tr th:only-of-type {\n",
       "        vertical-align: middle;\n",
       "    }\n",
       "\n",
       "    .dataframe tbody tr th {\n",
       "        vertical-align: top;\n",
       "    }\n",
       "\n",
       "    .dataframe thead tr th {\n",
       "        text-align: left;\n",
       "    }\n",
       "</style>\n",
       "<table border=\"1\" class=\"dataframe\">\n",
       "  <thead>\n",
       "    <tr>\n",
       "      <th></th>\n",
       "      <th colspan=\"3\" halign=\"left\">electricity</th>\n",
       "    </tr>\n",
       "    <tr>\n",
       "      <th></th>\n",
       "      <th>Activity</th>\n",
       "      <th>Capacity</th>\n",
       "      <th>Value</th>\n",
       "    </tr>\n",
       "  </thead>\n",
       "  <tbody>\n",
       "    <tr>\n",
       "      <th>Activity 0</th>\n",
       "      <td>electricity production, lignite | electricity,...</td>\n",
       "      <td>1.000000e+16</td>\n",
       "      <td>3.257648e+10</td>\n",
       "    </tr>\n",
       "    <tr>\n",
       "      <th>Activity 1</th>\n",
       "      <td>electricity production, nuclear, pressure wate...</td>\n",
       "      <td>1.000000e+16</td>\n",
       "      <td>1.424185e+10</td>\n",
       "    </tr>\n",
       "    <tr>\n",
       "      <th>Activity 2</th>\n",
       "      <td>electricity production, hard coal | electricit...</td>\n",
       "      <td>1.000000e+16</td>\n",
       "      <td>1.605628e+10</td>\n",
       "    </tr>\n",
       "    <tr>\n",
       "      <th>Activity 3</th>\n",
       "      <td>electricity production, wind, 1-3MW turbine, o...</td>\n",
       "      <td>1.000000e+16</td>\n",
       "      <td>2.073959e+10</td>\n",
       "    </tr>\n",
       "  </tbody>\n",
       "</table>\n",
       "</div>"
      ],
      "text/plain": [
       "                                                  electricity                \\\n",
       "                                                     Activity      Capacity   \n",
       "Activity 0  electricity production, lignite | electricity,...  1.000000e+16   \n",
       "Activity 1  electricity production, nuclear, pressure wate...  1.000000e+16   \n",
       "Activity 2  electricity production, hard coal | electricit...  1.000000e+16   \n",
       "Activity 3  electricity production, wind, 1-3MW turbine, o...  1.000000e+16   \n",
       "\n",
       "                          \n",
       "                   Value  \n",
       "Activity 0  3.257648e+10  \n",
       "Activity 1  1.424185e+10  \n",
       "Activity 2  1.605628e+10  \n",
       "Activity 3  2.073959e+10  "
      ]
     },
     "metadata": {},
     "output_type": "display_data"
    },
    {
     "name": "stdout",
     "output_type": "stream",
     "text": [
      "No additional constraints have been passed.\n"
     ]
    }
   ],
   "source": [
    "pulpo_worker.summarize_results(choices=choices, demand=demand, zeroes=True)"
   ]
  },
  {
   "cell_type": "code",
   "execution_count": 14,
   "id": "c756d642-6362-417b-80d4-11eff0d8880e",
   "metadata": {
    "execution": {
     "iopub.execute_input": "2024-04-15T16:34:26.340486Z",
     "iopub.status.busy": "2024-04-15T16:34:26.340486Z",
     "iopub.status.idle": "2024-04-15T16:34:27.458250Z",
     "shell.execute_reply": "2024-04-15T16:34:27.458250Z",
     "shell.execute_reply.started": "2024-04-15T16:34:26.340486Z"
    }
   },
   "outputs": [],
   "source": [
    "pulpo_worker.save_results(choices=choices, demand=demand, name='energy_transition_showcase_noopt.xlsx')"
   ]
  }
 ],
 "metadata": {
  "kernelspec": {
   "display_name": "Python 3 (ipykernel)",
   "language": "python",
   "name": "python3"
  },
  "language_info": {
   "codemirror_mode": {
    "name": "ipython",
    "version": 3
   },
   "file_extension": ".py",
   "mimetype": "text/x-python",
   "name": "python",
   "nbconvert_exporter": "python",
   "pygments_lexer": "ipython3",
   "version": "3.9.16"
  }
 },
 "nbformat": 4,
 "nbformat_minor": 5
}
