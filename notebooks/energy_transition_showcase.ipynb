{
 "cells": [
  {
   "cell_type": "markdown",
   "id": "bd87768d-b2ea-4593-8a70-c89ed8227bb8",
   "metadata": {},
   "source": [
    "## Energy Transition Case Study\n",
    "\n",
    "This notebook presents the base case optimization of the German electricity market as presented in the manuscript presenting the PULPO framework.\n",
    "\n",
    "Updated by Fabian Lechtenberg, 15.04.2024.\n",
    "\n",
    "See [this notebook](./electricity_showcase.ipynb) for additional results and functionalities of this case study, and [this notebook](./plastic_showcase.ipynb) for a more thorough demonstration of the functionalities on a plastics recycling case study."
   ]
  },
  {
   "cell_type": "markdown",
   "id": "bbc904da-04a9-4151-baba-f1537711e796",
   "metadata": {},
   "source": [
    "<div style=\"text-align: center; background-color: #f0f0f0; padding: 10px;\">\n",
    "    <h2 style=\"font-family: 'Arial', sans-serif; font-weight: bold; color: #555;\">Demonstration 🚀</h2>\n",
    "</div>"
   ]
  },
  {
   "cell_type": "markdown",
   "id": "ea903462-b798-40ae-ba75-52820ac325ff",
   "metadata": {},
   "source": [
    "### Base Problem"
   ]
  },
  {
   "cell_type": "code",
   "execution_count": null,
   "id": "614b70a0-858d-46c6-bc11-afc44cc7b0e6",
   "metadata": {},
   "outputs": [],
   "source": [
    "# Import section\n",
    "import os\n",
    "import sys\n",
    "sys.path.append('../')\n",
    "\n",
    "import pandas as pd\n",
    "from pulpo import pulpo"
   ]
  },
  {
   "cell_type": "code",
   "execution_count": null,
   "id": "6bb959c5-ef79-45c3-8f29-a876322eabb4",
   "metadata": {},
   "outputs": [],
   "source": [
    "# Your brightway2 project, database and targeted impact category\n",
    "project = \"pulpo\"\n",
    "database = \"cutoff38\"\n",
    "methods = {\"('IPCC 2013', 'climate change', 'GWP 100a')\": 1,\n",
    "           \"('ReCiPe Endpoint (E,A)', 'resources', 'total')\": 0,\n",
    "           \"('ReCiPe Endpoint (E,A)', 'human health', 'total')\": 0,\n",
    "           \"('ReCiPe Endpoint (E,A)', 'ecosystem quality', 'total')\": 0,\n",
    "           \"('ReCiPe Midpoint (E) V1.13', 'ionising radiation', 'IRP_HE')\": 0}\n",
    "\n",
    "# Substitute with your working directory of choice\n",
    "notebook_dir = os.path.dirname(os.getcwd())\n",
    "directory = os.path.join(notebook_dir, 'data')"
   ]
  },
  {
   "cell_type": "code",
   "execution_count": null,
   "id": "e19799b6-7601-4614-8320-76f84e00aba8",
   "metadata": {},
   "outputs": [],
   "source": [
    "# Create a PULPO object\n",
    "pulpo_worker = pulpo.PulpoOptimizer(project, database, methods, directory)"
   ]
  },
  {
   "cell_type": "code",
   "execution_count": null,
   "id": "763ba723-2074-48ba-bc38-7922b86134e9",
   "metadata": {},
   "outputs": [],
   "source": [
    "# Retrieve LCI data\n",
    "pulpo_worker.get_lci_data()"
   ]
  },
  {
   "cell_type": "code",
   "execution_count": null,
   "id": "ac586be8-813c-40b3-8fd2-83642b43c378",
   "metadata": {},
   "outputs": [],
   "source": [
    "# Retrieve the electricity market\n",
    "activities = [\"market for electricity, high voltage\"]\n",
    "reference_products = [\"electricity, high voltage\"]\n",
    "locations = [\"DE\"]\n",
    "electricity_market = pulpo_worker.retrieve_activities(activities=activities,\n",
    "                                                      reference_products=reference_products,\n",
    "                                                      locations=locations)"
   ]
  },
  {
   "cell_type": "code",
   "execution_count": null,
   "id": "ff3da007-1c3e-434c-ab21-f6fb00a19d41",
   "metadata": {},
   "outputs": [],
   "source": [
    "# Specify the functional unit as demand dictionary\n",
    "demand = {electricity_market[0]: 1.28819e+11}"
   ]
  },
  {
   "cell_type": "code",
   "execution_count": null,
   "id": "b0d92d90-b230-43b5-99c9-77b9477bb601",
   "metadata": {},
   "outputs": [],
   "source": [
    "# Retrieve the choices\n",
    "activities = [\"electricity production, lignite\", \n",
    "             \"electricity production, hard coal\",\n",
    "             \"electricity production, nuclear, pressure water reactor\",\n",
    "             \"electricity production, wind, 1-3MW turbine, onshore\"]\n",
    "reference_products = [\"electricity, high voltage\"]\n",
    "locations = [\"DE\"]\n",
    "\n",
    "electricity_activities = pulpo_worker.retrieve_activities(activities=activities,\n",
    "                                                          reference_products=reference_products,\n",
    "                                                          locations=locations)"
   ]
  },
  {
   "cell_type": "code",
   "execution_count": null,
   "id": "f14ab5a4-5ecd-4d93-91e4-958bec6326c0",
   "metadata": {},
   "outputs": [],
   "source": [
    "# Specify the choices dictionary\n",
    "choices  = {'electricity': {electricity_activities[0]: 1e16,\n",
    "                            electricity_activities[1]: 1e16,\n",
    "                            electricity_activities[2]: 1e16,\n",
    "                            electricity_activities[3]: 1e16}}"
   ]
  },
  {
   "cell_type": "code",
   "execution_count": null,
   "id": "d9baca84-3346-4496-9690-c39a30d5081a",
   "metadata": {},
   "outputs": [],
   "source": [
    "# Instantiate and solve the problem (here with HiGHS)\n",
    "instance = pulpo_worker.instantiate(choices=choices, demand=demand)\n",
    "results = pulpo_worker.solve()"
   ]
  },
  {
   "cell_type": "code",
   "execution_count": null,
   "id": "71143edd-c671-4ee0-a79c-3ebe192fc450",
   "metadata": {},
   "outputs": [],
   "source": [
    "# Summarize the results\n",
    "pulpo_worker.summarize_results(choices=choices, demand=demand, zeroes=True)"
   ]
  },
  {
   "cell_type": "code",
   "execution_count": null,
   "id": "ea3df02a-fbe5-4937-842d-990b403bd109",
   "metadata": {},
   "outputs": [],
   "source": [
    "pulpo_worker.save_results(choices=choices, demand=demand, name='energy_transition_showcase.xlsx')"
   ]
  },
  {
   "cell_type": "markdown",
   "id": "2bb668e7-30ca-4b55-9ea0-50e1415afee6",
   "metadata": {},
   "source": [
    "### No optimization"
   ]
  },
  {
   "cell_type": "code",
   "execution_count": null,
   "id": "d70de808-ca7b-4db1-9eed-1c9a0913c073",
   "metadata": {},
   "outputs": [],
   "source": [
    "# Instantiate and solve the problem (here with HiGHS)\n",
    "instance = pulpo_worker.instantiate(choices={}, demand=demand)\n",
    "results = pulpo_worker.solve()"
   ]
  },
  {
   "cell_type": "code",
   "execution_count": null,
   "id": "f7e055e4-f7a6-4cdf-863f-2b104f0e2ed1",
   "metadata": {},
   "outputs": [],
   "source": [
    "pulpo_worker.summarize_results(choices=choices, demand=demand, zeroes=True)"
   ]
  },
  {
   "cell_type": "code",
   "execution_count": null,
   "id": "c756d642-6362-417b-80d4-11eff0d8880e",
   "metadata": {},
   "outputs": [],
   "source": [
    "pulpo_worker.save_results(choices=choices, demand=demand, name='energy_transition_showcase_noopt.xlsx')"
   ]
  }
 ],
 "metadata": {
  "kernelspec": {
   "display_name": "Python 3 (ipykernel)",
   "language": "python",
   "name": "python3"
  },
  "language_info": {
   "codemirror_mode": {
    "name": "ipython",
    "version": 3
   },
   "file_extension": ".py",
   "mimetype": "text/x-python",
   "name": "python",
   "nbconvert_exporter": "python",
   "pygments_lexer": "ipython3",
   "version": "3.9.19"
  }
 },
 "nbformat": 4,
 "nbformat_minor": 5
}
