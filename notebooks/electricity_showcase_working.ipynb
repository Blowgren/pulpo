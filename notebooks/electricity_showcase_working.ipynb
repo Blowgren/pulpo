{
 "cells": [
  {
   "cell_type": "markdown",
   "id": "5dcdd302",
   "metadata": {},
   "source": [
    "Electricity showcase for basic PULPO\n",
    "\n",
    "Written by Fabian Lechtenberg, 18.09.2023\n",
    "\n",
    "Last Update: 23.09.2023"
   ]
  },
  {
   "cell_type": "markdown",
   "id": "1ed6b95f",
   "metadata": {},
   "source": [
    "<div style=\"text-align: center; background-color: #f0f0f0; padding: 10px;\">\n",
    "    <h2 style=\"font-family: 'Arial', sans-serif; font-weight: bold; color: #555;\">(1) Selection of LCI Data</h2>\n",
    "</div>"
   ]
  },
  {
   "cell_type": "markdown",
   "id": "4f8eff9d",
   "metadata": {},
   "source": [
    "### Import section"
   ]
  },
  {
   "cell_type": "markdown",
   "id": "448abc38",
   "metadata": {},
   "source": [
    "In this working version of the pulpo repository, pulpo musst be imported from the folder above, which can be done by appending \"..\" to the system path. Later, only the import after installation via pip will be necessary."
   ]
  },
  {
   "cell_type": "code",
   "execution_count": 1,
   "id": "606b78ed",
   "metadata": {
    "execution": {
     "iopub.execute_input": "2023-10-10T18:15:01.153082Z",
     "iopub.status.busy": "2023-10-10T18:15:01.153082Z",
     "iopub.status.idle": "2023-10-10T18:15:02.965434Z",
     "shell.execute_reply": "2023-10-10T18:15:02.964401Z",
     "shell.execute_reply.started": "2023-10-10T18:15:01.153082Z"
    }
   },
   "outputs": [],
   "source": [
    "import os\n",
    "import sys\n",
    "sys.path.append('../')\n",
    "from pulpo import pulpo\n",
    "\n",
    "import pandas as pd\n",
    "pd.set_option('display.max_colwidth', None)"
   ]
  },
  {
   "cell_type": "markdown",
   "id": "0da2fe63",
   "metadata": {},
   "source": [
    "### Setup"
   ]
  },
  {
   "cell_type": "markdown",
   "id": "84d12867",
   "metadata": {},
   "source": [
    "Specify the project, database and method to be used. Also indicate the folder where the working data should be stored. For this example to work, you need a project \"**pulpo**\" with a database \"**cutoff38**\", which is the ecoinvent 3.8 cutoff system model."
   ]
  },
  {
   "cell_type": "code",
   "execution_count": 2,
   "id": "ead64289",
   "metadata": {
    "execution": {
     "iopub.execute_input": "2023-10-10T18:15:07.705965Z",
     "iopub.status.busy": "2023-10-10T18:15:07.704968Z",
     "iopub.status.idle": "2023-10-10T18:15:07.725909Z",
     "shell.execute_reply": "2023-10-10T18:15:07.724901Z",
     "shell.execute_reply.started": "2023-10-10T18:15:07.705965Z"
    }
   },
   "outputs": [],
   "source": [
    "project = \"pulpo\"\n",
    "database = \"cutoff38\"\n",
    "methods = \"('IPCC 2013', 'climate change', 'GWP 100a')\"\n",
    "\n",
    "# Substitute with your working directory of choice\n",
    "notebook_dir = os.path.dirname(os.getcwd())\n",
    "directory = os.path.join(notebook_dir, 'data')\n",
    "\n",
    "# Substitute with your GAMS path\n",
    "GAMS_PATH = \"C:/GAMS/37/gams.exe\""
   ]
  },
  {
   "cell_type": "markdown",
   "id": "0e5e5da2",
   "metadata": {},
   "source": [
    "Create a pulpo object called \"pulpo_worker\". This object is an element of the class \"PulpoOptimizer\", a class that links the different utilitiy modules containing code for retrieving, preparing and adjusting the data, preparing and running the optimization problem, as well as saving the results."
   ]
  },
  {
   "cell_type": "code",
   "execution_count": 3,
   "id": "ae4b5787",
   "metadata": {
    "execution": {
     "iopub.execute_input": "2023-10-10T18:15:09.429787Z",
     "iopub.status.busy": "2023-10-10T18:15:09.428790Z",
     "iopub.status.idle": "2023-10-10T18:15:09.435766Z",
     "shell.execute_reply": "2023-10-10T18:15:09.434770Z",
     "shell.execute_reply.started": "2023-10-10T18:15:09.429787Z"
    }
   },
   "outputs": [],
   "source": [
    "pulpo_worker = pulpo.PulpoOptimizer(project, database, methods, directory)"
   ]
  },
  {
   "cell_type": "markdown",
   "id": "2a9fcd18",
   "metadata": {},
   "source": [
    "Retrieve the data. If data is already loaded, this step is automatically skipped. "
   ]
  },
  {
   "cell_type": "code",
   "execution_count": 4,
   "id": "80697078",
   "metadata": {
    "execution": {
     "iopub.execute_input": "2023-10-10T18:15:10.611821Z",
     "iopub.status.busy": "2023-10-10T18:15:10.610825Z",
     "iopub.status.idle": "2023-10-10T18:15:14.445695Z",
     "shell.execute_reply": "2023-10-10T18:15:14.444696Z",
     "shell.execute_reply.started": "2023-10-10T18:15:10.611821Z"
    }
   },
   "outputs": [],
   "source": [
    "pulpo_worker.get_lci_data()"
   ]
  },
  {
   "cell_type": "markdown",
   "id": "e16f8296",
   "metadata": {},
   "source": [
    "<div style=\"text-align: center; background-color: #f0f0f0; padding: 10px;\">\n",
    "    <h2 style=\"font-family: 'Arial', sans-serif; font-weight: bold; color: #555;\">(2) User Specifications</h2>\n",
    "</div>"
   ]
  },
  {
   "cell_type": "markdown",
   "id": "22175932",
   "metadata": {},
   "source": [
    "<div style=\"text-align: center;\">\n",
    "    <img src=\"pictures/electricity_showcase_1.png\" alt=\"Image Alt Text\" style=\"width: 50%;\" />\n",
    "</div>"
   ]
  },
  {
   "cell_type": "markdown",
   "id": "a8492b7e",
   "metadata": {},
   "source": [
    "### Specify the **functional unit**"
   ]
  },
  {
   "cell_type": "markdown",
   "id": "de935003",
   "metadata": {},
   "source": [
    "Retrieve the market activity for liquid hydrogen in Europe (RER). Use the function \"**<span style=\"color: red;\">retrieve_activities</span>**\" for this purpose. The function takes 4 optional arguments: \"keys\" (🔑) --> \"activities\" (⚙️) --> \"reference_products\" (📦) --> \"locations\" (🗺️). The activities are retrieved by this order. \n",
    "\n",
    "Since the key is unique, a single activity for each passed key will be returned. Activity names, reference_prduct and locations are not unique, so the best match for the passed data will be returned. "
   ]
  },
  {
   "cell_type": "markdown",
   "id": "2fc40bd9",
   "metadata": {},
   "source": [
    "#### Passing keys  🔑"
   ]
  },
  {
   "cell_type": "markdown",
   "id": "80fce33f",
   "metadata": {},
   "source": [
    "Keys can be obtained e.g. directly from **activity browser** and several keys can be passed at the same time."
   ]
  },
  {
   "cell_type": "code",
   "execution_count": 5,
   "id": "167a2bfb",
   "metadata": {
    "execution": {
     "iopub.execute_input": "2023-10-10T18:15:16.554554Z",
     "iopub.status.busy": "2023-10-10T18:15:16.553556Z",
     "iopub.status.idle": "2023-10-10T18:15:16.562526Z",
     "shell.execute_reply": "2023-10-10T18:15:16.561529Z",
     "shell.execute_reply.started": "2023-10-10T18:15:16.554554Z"
    }
   },
   "outputs": [],
   "source": [
    "keys = [\"('cutoff38', '962727b9a36bcaa186f222b29b57f6a3')\", \"('cutoff38', '473d4bb488e8f903b58203f3e5161636')\"]"
   ]
  },
  {
   "cell_type": "code",
   "execution_count": 6,
   "id": "b46fa327",
   "metadata": {
    "execution": {
     "iopub.execute_input": "2023-10-10T18:15:16.769269Z",
     "iopub.status.busy": "2023-10-10T18:15:16.768274Z",
     "iopub.status.idle": "2023-10-10T18:15:18.341459Z",
     "shell.execute_reply": "2023-10-10T18:15:18.340462Z",
     "shell.execute_reply.started": "2023-10-10T18:15:16.769269Z"
    }
   },
   "outputs": [
    {
     "data": {
      "text/plain": [
       "['market for electricity, high voltage' (kilowatt hour, DE, None),\n",
       " 'market for electricity, high voltage' (kilowatt hour, ES, None)]"
      ]
     },
     "execution_count": 6,
     "metadata": {},
     "output_type": "execute_result"
    }
   ],
   "source": [
    "pulpo_worker.retrieve_activities(keys=keys)"
   ]
  },
  {
   "cell_type": "markdown",
   "id": "daf88526",
   "metadata": {},
   "source": [
    "#### Passing activity  name (⚙️), reference_product (📦) and/or location (🗺️)"
   ]
  },
  {
   "cell_type": "markdown",
   "id": "4074fec3",
   "metadata": {},
   "source": [
    "Instead of passing the keys, a combination of activities, reference_products and locations can be passed. A best match (all existing combinations) will be returned. "
   ]
  },
  {
   "cell_type": "code",
   "execution_count": 7,
   "id": "4d445dfc",
   "metadata": {
    "execution": {
     "iopub.execute_input": "2023-10-10T18:15:18.343452Z",
     "iopub.status.busy": "2023-10-10T18:15:18.342456Z",
     "iopub.status.idle": "2023-10-10T18:15:18.357406Z",
     "shell.execute_reply": "2023-10-10T18:15:18.356409Z",
     "shell.execute_reply.started": "2023-10-10T18:15:18.343452Z"
    }
   },
   "outputs": [],
   "source": [
    "activities = [\"market for electricity, high voltage\"]\n",
    "reference_products = [\"electricity, high voltage\"]\n",
    "locations = [\"DE\"]"
   ]
  },
  {
   "cell_type": "markdown",
   "id": "5d0976d1",
   "metadata": {},
   "source": [
    "It is also possible to pass only partial information such as only reference product or only activity name:"
   ]
  },
  {
   "cell_type": "code",
   "execution_count": 8,
   "id": "0cb7d84f",
   "metadata": {
    "execution": {
     "iopub.execute_input": "2023-10-10T18:15:18.358403Z",
     "iopub.status.busy": "2023-10-10T18:15:18.358403Z",
     "iopub.status.idle": "2023-10-10T18:15:20.237540Z",
     "shell.execute_reply": "2023-10-10T18:15:20.236542Z",
     "shell.execute_reply.started": "2023-10-10T18:15:18.358403Z"
    },
    "scrolled": true
   },
   "outputs": [
    {
     "data": {
      "text/plain": [
       "['market for electricity, high voltage' (kilowatt hour, IQ, None),\n",
       " 'market for electricity, high voltage' (kilowatt hour, PY, None),\n",
       " 'market for electricity, high voltage' (kilowatt hour, HT, None),\n",
       " 'market for electricity, high voltage' (kilowatt hour, EE, None),\n",
       " 'market for electricity, high voltage' (kilowatt hour, CA-NT, None),\n",
       " 'market for electricity, high voltage' (kilowatt hour, JM, None),\n",
       " 'market for electricity, high voltage' (kilowatt hour, VN, None),\n",
       " 'market for electricity, high voltage' (kilowatt hour, NG, None),\n",
       " 'market for electricity, high voltage' (kilowatt hour, CA-NF, None),\n",
       " 'market for electricity, high voltage' (kilowatt hour, LU, None),\n",
       " 'market for electricity, high voltage' (kilowatt hour, FI, None),\n",
       " 'market for electricity, high voltage' (kilowatt hour, ZM, None),\n",
       " 'market for electricity, high voltage' (kilowatt hour, SY, None),\n",
       " 'market for electricity, high voltage' (kilowatt hour, NP, None),\n",
       " 'market for electricity, high voltage' (kilowatt hour, HK, None),\n",
       " 'market for electricity, high voltage' (kilowatt hour, TH, None),\n",
       " 'market for electricity, high voltage' (kilowatt hour, BJ, None),\n",
       " 'market for electricity, high voltage' (kilowatt hour, IR, None),\n",
       " 'market for electricity, high voltage' (kilowatt hour, EC, None),\n",
       " 'market for electricity, high voltage' (kilowatt hour, SK, None),\n",
       " 'market for electricity, high voltage' (kilowatt hour, TN, None),\n",
       " 'market for electricity, high voltage' (kilowatt hour, US-PR, None),\n",
       " 'market for electricity, high voltage' (kilowatt hour, US-TRE, None),\n",
       " 'market for electricity, high voltage' (kilowatt hour, BD, None),\n",
       " 'market for electricity, high voltage' (kilowatt hour, HN, None),\n",
       " 'market for electricity, high voltage' (kilowatt hour, TR, None),\n",
       " 'market for electricity, high voltage' (kilowatt hour, PK, None),\n",
       " 'market for electricity, high voltage' (kilowatt hour, CW, None),\n",
       " 'market for electricity, high voltage' (kilowatt hour, CA-NB, None),\n",
       " 'market for electricity, high voltage' (kilowatt hour, SA, None),\n",
       " 'market for electricity, high voltage' (kilowatt hour, TZ, None),\n",
       " 'market for electricity, high voltage' (kilowatt hour, HU, None),\n",
       " 'market for electricity, high voltage' (kilowatt hour, US-ASCC, None),\n",
       " 'market for electricity, high voltage' (kilowatt hour, CN-CSG, None),\n",
       " 'market for electricity, high voltage' (kilowatt hour, MK, None),\n",
       " 'market for electricity, high voltage' (kilowatt hour, AM, None),\n",
       " 'market for electricity, high voltage' (kilowatt hour, AT, None),\n",
       " 'market for electricity, high voltage' (kilowatt hour, NL, None),\n",
       " 'market for electricity, high voltage' (kilowatt hour, JP, None),\n",
       " 'market for electricity, high voltage' (kilowatt hour, AL, None),\n",
       " 'market for electricity, high voltage' (kilowatt hour, PL, None),\n",
       " 'market for electricity, high voltage' (kilowatt hour, JO, None),\n",
       " 'market for electricity, high voltage' (kilowatt hour, US-SERC, None),\n",
       " 'market for electricity, high voltage' (kilowatt hour, NA, None),\n",
       " 'market for electricity, high voltage' (kilowatt hour, KG, None),\n",
       " 'market for electricity, high voltage' (kilowatt hour, IN-Western grid, None),\n",
       " 'market for electricity, high voltage' (kilowatt hour, PT, None),\n",
       " 'market for electricity, high voltage' (kilowatt hour, DK, None),\n",
       " 'market for electricity, high voltage' (kilowatt hour, BG, None),\n",
       " 'market for electricity, high voltage' (kilowatt hour, MU, None),\n",
       " 'market for electricity, high voltage' (kilowatt hour, XK, None),\n",
       " 'market for electricity, high voltage' (kilowatt hour, IN-Eastern grid, None),\n",
       " 'market for electricity, high voltage' (kilowatt hour, BA, None),\n",
       " 'market for electricity, high voltage' (kilowatt hour, DE, None),\n",
       " 'market for electricity, high voltage' (kilowatt hour, SS, None),\n",
       " 'market for electricity, high voltage' (kilowatt hour, CA-SK, None),\n",
       " 'market for electricity, high voltage' (kilowatt hour, CA-YK, None),\n",
       " 'market for electricity, high voltage' (kilowatt hour, DO, None),\n",
       " 'market for electricity, high voltage' (kilowatt hour, UZ, None),\n",
       " 'market for electricity, high voltage' (kilowatt hour, IS, None),\n",
       " 'market for electricity, high voltage' (kilowatt hour, BR-Northern grid, None),\n",
       " 'market for electricity, high voltage' (kilowatt hour, US-HICC, None),\n",
       " 'market for electricity, high voltage' (kilowatt hour, PA, None),\n",
       " 'market for electricity, high voltage' (kilowatt hour, BR-North-eastern grid, None),\n",
       " 'market for electricity, high voltage' (kilowatt hour, QA, None),\n",
       " 'market for electricity, high voltage' (kilowatt hour, NI, None),\n",
       " 'market for electricity, high voltage' (kilowatt hour, FR, None),\n",
       " 'market for electricity, high voltage' (kilowatt hour, CU, None),\n",
       " 'market for electricity, high voltage' (kilowatt hour, CA-PE, None),\n",
       " 'market for electricity, high voltage' (kilowatt hour, CA-BC, None),\n",
       " 'market for electricity, high voltage' (kilowatt hour, BE, None),\n",
       " 'market for electricity, high voltage' (kilowatt hour, BR-Southern grid, None),\n",
       " 'market for electricity, high voltage' (kilowatt hour, UY, None),\n",
       " 'market for electricity, high voltage' (kilowatt hour, MM, None),\n",
       " 'market for electricity, high voltage' (kilowatt hour, CI, None),\n",
       " 'market for electricity, high voltage' (kilowatt hour, RU, None),\n",
       " 'market for electricity, high voltage' (kilowatt hour, PH, None),\n",
       " 'market for electricity, high voltage' (kilowatt hour, AE, None),\n",
       " 'market for electricity, high voltage' (kilowatt hour, GH, None),\n",
       " 'market for electricity, high voltage' (kilowatt hour, GR, None),\n",
       " 'market for electricity, high voltage' (kilowatt hour, KP, None),\n",
       " 'market for electricity, high voltage' (kilowatt hour, KR, None),\n",
       " 'market for electricity, high voltage' (kilowatt hour, US-WECC, None),\n",
       " 'market for electricity, high voltage' (kilowatt hour, CA-AB, None),\n",
       " 'market for electricity, high voltage' (kilowatt hour, BW, None),\n",
       " 'market for electricity, high voltage' (kilowatt hour, BH, None),\n",
       " 'market for electricity, high voltage' (kilowatt hour, GE, None),\n",
       " 'market for electricity, high voltage' (kilowatt hour, YE, None),\n",
       " 'market for electricity, high voltage' (kilowatt hour, SD, None),\n",
       " 'market for electricity, high voltage' (kilowatt hour, ZA, None),\n",
       " 'market for electricity, high voltage' (kilowatt hour, AZ, None),\n",
       " 'market for electricity, high voltage' (kilowatt hour, CR, None),\n",
       " 'market for electricity, high voltage' (kilowatt hour, AO, None),\n",
       " 'market for electricity, high voltage' (kilowatt hour, CA-MB, None),\n",
       " 'market for electricity, high voltage' (kilowatt hour, IT, None),\n",
       " 'market for electricity, high voltage' (kilowatt hour, SN, None),\n",
       " 'market for electricity, high voltage' (kilowatt hour, LY, None),\n",
       " 'market for electricity, high voltage' (kilowatt hour, LK, None),\n",
       " 'market for electricity, high voltage' (kilowatt hour, BY, None),\n",
       " 'market for electricity, high voltage' (kilowatt hour, VE, None),\n",
       " 'market for electricity, high voltage' (kilowatt hour, US-NPCC, None),\n",
       " 'market for electricity, high voltage' (kilowatt hour, SV, None),\n",
       " 'market for electricity, high voltage' (kilowatt hour, KE, None),\n",
       " 'market for electricity, high voltage' (kilowatt hour, CA-QC, None),\n",
       " 'market for electricity, high voltage' (kilowatt hour, ZW, None),\n",
       " 'market for electricity, high voltage' (kilowatt hour, CH, None),\n",
       " 'market for electricity, high voltage' (kilowatt hour, KW, None),\n",
       " 'market for electricity, high voltage' (kilowatt hour, TW, None),\n",
       " 'market for electricity, high voltage' (kilowatt hour, LT, None),\n",
       " 'market for electricity, high voltage' (kilowatt hour, CA-NS, None),\n",
       " 'market for electricity, high voltage' (kilowatt hour, CO, None),\n",
       " 'market for electricity, high voltage' (kilowatt hour, LV, None),\n",
       " 'market for electricity, high voltage' (kilowatt hour, NZ, None),\n",
       " 'market for electricity, high voltage' (kilowatt hour, IL, None),\n",
       " 'market for electricity, high voltage' (kilowatt hour, CA-NU, None),\n",
       " 'market for electricity, high voltage' (kilowatt hour, IE, None),\n",
       " 'market for electricity, high voltage' (kilowatt hour, IN-North-eastern grid, None),\n",
       " 'market for electricity, high voltage' (kilowatt hour, BN, None),\n",
       " 'market for electricity, high voltage' (kilowatt hour, DZ, None),\n",
       " 'market for electricity, high voltage' (kilowatt hour, GA, None),\n",
       " 'market for electricity, high voltage' (kilowatt hour, CZ, None),\n",
       " 'market for electricity, high voltage' (kilowatt hour, CA-ON, None),\n",
       " 'market for electricity, high voltage' (kilowatt hour, KZ, None),\n",
       " 'market for electricity, high voltage' (kilowatt hour, OM, None),\n",
       " 'market for electricity, high voltage' (kilowatt hour, CN-SGCC, None),\n",
       " 'market for electricity, high voltage' (kilowatt hour, US-RFC, None),\n",
       " 'market for electricity, high voltage' (kilowatt hour, SE, None),\n",
       " 'market for electricity, high voltage' (kilowatt hour, ET, None),\n",
       " 'market for electricity, high voltage' (kilowatt hour, MD, None),\n",
       " 'market for electricity, high voltage' (kilowatt hour, HR, None),\n",
       " 'market for electricity, high voltage' (kilowatt hour, RO, None),\n",
       " 'market for electricity, high voltage' (kilowatt hour, RS, None),\n",
       " 'market for electricity, high voltage' (kilowatt hour, BR-South-eastern grid, None),\n",
       " 'market for electricity, high voltage' (kilowatt hour, ER, None),\n",
       " 'market for electricity, high voltage' (kilowatt hour, NO, None),\n",
       " 'market for electricity, high voltage' (kilowatt hour, PE, None),\n",
       " 'market for electricity, high voltage' (kilowatt hour, ES, None),\n",
       " 'market for electricity, high voltage' (kilowatt hour, CY, None),\n",
       " 'market for electricity, high voltage' (kilowatt hour, TM, None),\n",
       " 'market for electricity, high voltage' (kilowatt hour, CD, None),\n",
       " 'market for electricity, high voltage' (kilowatt hour, MZ, None),\n",
       " 'market for electricity, high voltage' (kilowatt hour, GT, None),\n",
       " 'market for electricity, high voltage' (kilowatt hour, US-MRO, None),\n",
       " 'market for electricity, high voltage' (kilowatt hour, BR-Mid-western grid, None),\n",
       " 'market for electricity, high voltage' (kilowatt hour, ID, None),\n",
       " 'market for electricity, high voltage' (kilowatt hour, TJ, None),\n",
       " 'market for electricity, high voltage' (kilowatt hour, AU, None),\n",
       " 'market for electricity, high voltage' (kilowatt hour, IN-Northern grid, None),\n",
       " 'market for electricity, high voltage' (kilowatt hour, IN-Southern grid, None),\n",
       " 'market for electricity, high voltage' (kilowatt hour, GI, None),\n",
       " 'market for electricity, high voltage' (kilowatt hour, TT, None),\n",
       " 'market for electricity, high voltage' (kilowatt hour, MA, None),\n",
       " 'market for electricity, high voltage' (kilowatt hour, KH, None),\n",
       " 'market for electricity, high voltage' (kilowatt hour, EG, None),\n",
       " 'market for electricity, high voltage' (kilowatt hour, SI, None),\n",
       " 'market for electricity, high voltage' (kilowatt hour, ME, None),\n",
       " 'market for electricity, high voltage' (kilowatt hour, TG, None),\n",
       " 'market for electricity, high voltage' (kilowatt hour, AR, None),\n",
       " 'market for electricity, high voltage' (kilowatt hour, UA, None),\n",
       " 'market for electricity, high voltage' (kilowatt hour, MT, None),\n",
       " 'market for electricity, high voltage' (kilowatt hour, GB, None),\n",
       " 'market for electricity, high voltage' (kilowatt hour, NE, None),\n",
       " 'market for electricity, high voltage' (kilowatt hour, BO, None),\n",
       " 'market for electricity, high voltage' (kilowatt hour, CL, None),\n",
       " 'market for electricity, high voltage' (kilowatt hour, LB, None),\n",
       " 'market for electricity, high voltage' (kilowatt hour, CM, None),\n",
       " 'market for electricity, high voltage' (kilowatt hour, MY, None),\n",
       " 'market for electricity, high voltage' (kilowatt hour, CG, None),\n",
       " 'market for electricity, high voltage' (kilowatt hour, MN, None),\n",
       " 'market for electricity, high voltage' (kilowatt hour, MX, None),\n",
       " 'market for electricity, high voltage' (kilowatt hour, SG, None)]"
      ]
     },
     "execution_count": 8,
     "metadata": {},
     "output_type": "execute_result"
    }
   ],
   "source": [
    "pulpo_worker.retrieve_activities(activities=activities)"
   ]
  },
  {
   "cell_type": "code",
   "execution_count": 9,
   "id": "b211d17a",
   "metadata": {
    "execution": {
     "iopub.execute_input": "2023-10-10T18:15:20.244515Z",
     "iopub.status.busy": "2023-10-10T18:15:20.240529Z",
     "iopub.status.idle": "2023-10-10T18:15:24.221327Z",
     "shell.execute_reply": "2023-10-10T18:15:24.220330Z",
     "shell.execute_reply.started": "2023-10-10T18:15:20.243519Z"
    },
    "scrolled": true
   },
   "outputs": [
    {
     "data": {
      "text/plain": [
       "['electricity production, hydro, run-of-river' (kilowatt hour, IN-JK, None),\n",
       " 'market for electricity, high voltage' (kilowatt hour, CH, None),\n",
       " 'electricity production, hydro, run-of-river' (kilowatt hour, US-ASCC, None),\n",
       " 'heat and power co-generation, wood chips, 6667 kW' (kilowatt hour, PE, None),\n",
       " 'electricity production, wind, <1MW turbine, onshore' (kilowatt hour, LT, None),\n",
       " 'electricity, high voltage, import from RU' (kilowatt hour, LT, None),\n",
       " 'electricity production, oil' (kilowatt hour, SA, None),\n",
       " 'electricity production, natural gas, combined cycle power plant' (kilowatt hour, TH, None),\n",
       " 'electricity production, wind, >3MW turbine, onshore' (kilowatt hour, SK, None),\n",
       " 'electricity production, lignite' (kilowatt hour, CA-MB, None),\n",
       " 'market for electricity, high voltage' (kilowatt hour, ES, None),\n",
       " 'electricity production, oil' (kilowatt hour, ZA, None),\n",
       " 'electricity production, hydro, reservoir, alpine region' (kilowatt hour, IN-UT, None),\n",
       " 'electricity production, oil' (kilowatt hour, KR, None),\n",
       " 'treatment of blast furnace gas, in power plant' (kilowatt hour, CN-JS, None),\n",
       " 'heat and power co-generation, lignite' (kilowatt hour, PL, None),\n",
       " 'electricity, high voltage, production mix' (kilowatt hour, ID, None),\n",
       " 'electricity production, hydro, run-of-river' (kilowatt hour, CN-GS, None),\n",
       " 'electricity production, deep geothermal' (kilowatt hour, RoW, None),\n",
       " 'electricity production, wind, 1-3MW turbine, onshore' (kilowatt hour, CA-PE, None),\n",
       " 'electricity production, wind, 1-3MW turbine, onshore' (kilowatt hour, NP, None),\n",
       " 'electricity production, oil' (kilowatt hour, IR, None),\n",
       " 'treatment of blast furnace gas, in power plant' (kilowatt hour, CN-ZJ, None),\n",
       " 'electricity production, hydro, run-of-river' (kilowatt hour, IN-KL, None),\n",
       " 'electricity production, hydro, pumped storage' (kilowatt hour, CN-HN, None),\n",
       " 'electricity, high voltage, import from GH' (kilowatt hour, TG, None),\n",
       " 'electricity, high voltage, import from MX' (kilowatt hour, US-WECC, None),\n",
       " 'electricity, high voltage, import from FI' (kilowatt hour, NO, None),\n",
       " 'electricity production, nuclear, pressure water reactor' (kilowatt hour, CH, None),\n",
       " 'electricity production, deep geothermal' (kilowatt hour, PH, None),\n",
       " 'electricity, high voltage, production mix' (kilowatt hour, XK, None),\n",
       " 'electricity production, oil' (kilowatt hour, CZ, None),\n",
       " 'treatment of coal gas, in power plant' (kilowatt hour, TR, None),\n",
       " 'electricity production, hydro, pumped storage' (kilowatt hour, CN-SX, None),\n",
       " 'electricity production, hydro, run-of-river' (kilowatt hour, SK, None),\n",
       " 'electricity production, oil' (kilowatt hour, CN-JX, None),\n",
       " 'electricity, high voltage, hydro, import from PY' (kilowatt hour, AR, None),\n",
       " 'electricity, high voltage, production mix' (kilowatt hour, LB, None),\n",
       " 'heat and power co-generation, biogas, gas engine' (kilowatt hour, BG, None),\n",
       " 'market for electricity, high voltage' (kilowatt hour, MU, None),\n",
       " 'electricity, high voltage, import from LT' (kilowatt hour, LV, None),\n",
       " 'electricity production, oil' (kilowatt hour, CN-SH, None),\n",
       " 'electricity production, hard coal' (kilowatt hour, CN-HN, None),\n",
       " 'electricity, high voltage, production mix' (kilowatt hour, DE, None),\n",
       " 'electricity production, oil' (kilowatt hour, CN-HA, None),\n",
       " 'heat and power co-generation, natural gas, combined cycle power plant, 400MW electrical' (kilowatt hour, LU, None),\n",
       " 'electricity production, wind, <1MW turbine, onshore' (kilowatt hour, LU, None),\n",
       " 'heat and power co-generation, wood chips, 6667 kW, state-of-the-art 2014' (kilowatt hour, MT, None),\n",
       " 'electricity production, wind, 1-3MW turbine, offshore' (kilowatt hour, NL, None),\n",
       " 'electricity, high voltage, biofuels, import from Germany' (kilowatt hour, CH, None),\n",
       " 'heat and power co-generation, natural gas, conventional power plant, 100MW electrical' (kilowatt hour, CA-ON, None),\n",
       " 'electricity, high voltage, import from SE' (kilowatt hour, LT, None),\n",
       " 'electricity production, natural gas, conventional power plant' (kilowatt hour, DE, None),\n",
       " 'electricity production, nuclear, pressure water reactor' (kilowatt hour, BE, None),\n",
       " 'electricity, high voltage, import from NG' (kilowatt hour, NE, None),\n",
       " 'heat and power co-generation, wood chips, 6667 kW, state-of-the-art 2014' (kilowatt hour, GR, None),\n",
       " 'electricity, high voltage, import from RS' (kilowatt hour, ME, None),\n",
       " 'electricity production, wind, <1MW turbine, onshore' (kilowatt hour, AT, None),\n",
       " 'heat and power co-generation, wood chips, 6667 kW, state-of-the-art 2014' (kilowatt hour, CY, None),\n",
       " 'electricity production, lignite' (kilowatt hour, HU, None),\n",
       " 'electricity, high voltage, import from IT' (kilowatt hour, FR, None),\n",
       " 'electricity production, wind, >3MW turbine, onshore' (kilowatt hour, CN-NX, None),\n",
       " 'electricity production, lignite' (kilowatt hour, DE, None),\n",
       " 'treatment of blast furnace gas, in power plant' (kilowatt hour, CA-NB, None),\n",
       " 'electricity production, wind, 1-3MW turbine, onshore' (kilowatt hour, JP, None),\n",
       " 'electricity production, natural gas, conventional power plant' (kilowatt hour, SK, None),\n",
       " 'electricity production, wind, >3MW turbine, onshore' (kilowatt hour, CN-BJ, None),\n",
       " 'electricity production, oil' (kilowatt hour, IN-TN, None),\n",
       " 'electricity, high voltage, import from CR' (kilowatt hour, NI, None),\n",
       " 'electricity production, nuclear, pressure water reactor' (kilowatt hour, RoW, None),\n",
       " 'treatment of blast furnace gas, in power plant' (kilowatt hour, TR, None),\n",
       " 'market for electricity, high voltage' (kilowatt hour, ER, None),\n",
       " 'electricity production, nuclear, boiling water reactor' (kilowatt hour, US-SERC, None),\n",
       " 'electricity production, natural gas, conventional power plant' (kilowatt hour, CN-GD, None),\n",
       " 'heat and power co-generation, natural gas, conventional power plant, 100MW electrical' (kilowatt hour, CA-AB, None),\n",
       " 'electricity production, natural gas, combined cycle power plant' (kilowatt hour, CA-SK, None),\n",
       " 'electricity production, hydro, reservoir, alpine region' (kilowatt hour, IN-CT, None),\n",
       " 'treatment of bagasse, from sugarcane, in heat and power co-generation unit, 6400kW thermal' (kilowatt hour, BR-Mid-western grid, None),\n",
       " 'market for electricity, high voltage' (kilowatt hour, VN, None),\n",
       " 'electricity production, wind, 1-3MW turbine, onshore' (kilowatt hour, IN-GJ, None),\n",
       " 'electricity production, hydro, reservoir, alpine region' (kilowatt hour, FR, None),\n",
       " 'market for electricity, high voltage' (kilowatt hour, NG, None),\n",
       " 'ethanol production from wood' (kilowatt hour, SE, None),\n",
       " 'electricity production, hydro, reservoir, non-alpine region' (kilowatt hour, CZ, None),\n",
       " 'market for electricity, high voltage' (kilowatt hour, UA, None),\n",
       " 'electricity production, hydro, run-of-river' (kilowatt hour, MX, None),\n",
       " 'market for electricity, high voltage' (kilowatt hour, JM, None),\n",
       " 'electricity production, hard coal' (kilowatt hour, CN-JL, None),\n",
       " 'electricity, high voltage, import from ZW' (kilowatt hour, ZM, None),\n",
       " 'treatment of blast furnace gas, in power plant' (kilowatt hour, BR, None),\n",
       " 'electricity production, hydro, pumped storage' (kilowatt hour, CN-FJ, None),\n",
       " 'market for electricity, high voltage' (kilowatt hour, EG, None),\n",
       " 'electricity, high voltage, production mix' (kilowatt hour, CN-CQ, None),\n",
       " 'electricity, high voltage, import from RU' (kilowatt hour, LV, None),\n",
       " 'electricity, high voltage, import from CZ' (kilowatt hour, PL, None),\n",
       " 'electricity production, lignite' (kilowatt hour, IN-TN, None),\n",
       " 'heat and power co-generation, biogas, gas engine' (kilowatt hour, RoW, None),\n",
       " 'electricity production, natural gas, conventional power plant' (kilowatt hour, CN-NM, None),\n",
       " 'electricity production, wind, <1MW turbine, onshore' (kilowatt hour, UA, None),\n",
       " 'electricity production, wind, 1-3MW turbine, onshore' (kilowatt hour, HU, None),\n",
       " 'treatment of blast furnace gas, in power plant' (kilowatt hour, AU, None),\n",
       " 'electricity production, natural gas, conventional power plant' (kilowatt hour, IN-DL, None),\n",
       " 'treatment of blast furnace gas, in power plant' (kilowatt hour, IE, None),\n",
       " 'electricity production, wind, >3MW turbine, onshore' (kilowatt hour, PT, None),\n",
       " 'electricity production, natural gas, combined cycle power plant' (kilowatt hour, CZ, None),\n",
       " 'electricity production, wind, >3MW turbine, onshore' (kilowatt hour, LV, None),\n",
       " 'electricity, high voltage, import from NO' (kilowatt hour, FI, None),\n",
       " 'electricity production, oil' (kilowatt hour, CA-NU, None),\n",
       " 'treatment of bagasse, from sugarcane, in heat and power co-generation unit, 6400kW thermal' (kilowatt hour, BR-South-eastern grid, None),\n",
       " 'heat and power co-generation, wood chips, 6667 kW' (kilowatt hour, UA, None),\n",
       " 'electricity production, natural gas, combined cycle power plant' (kilowatt hour, CN-AH, None),\n",
       " 'electricity production, wind, 1-3MW turbine, onshore' (kilowatt hour, CA-MB, None),\n",
       " 'electricity production, wind, >3MW turbine, onshore' (kilowatt hour, US-ASCC, None),\n",
       " 'market for electricity, high voltage' (kilowatt hour, RS, None),\n",
       " 'electricity, high voltage, import from RO' (kilowatt hour, HU, None),\n",
       " 'electricity, high voltage, import from CN-CSG' (kilowatt hour, VN, None),\n",
       " 'electricity production, natural gas, conventional power plant' (kilowatt hour, CN-HN, None),\n",
       " 'electricity production, nuclear, pressure water reactor, heavy water moderated' (kilowatt hour, IN-GJ, None),\n",
       " 'electricity production, natural gas, conventional power plant' (kilowatt hour, CN-GS, None),\n",
       " 'electricity production, hydro, pumped storage' (kilowatt hour, US-RFC, None),\n",
       " 'treatment of blast furnace gas, in power plant' (kilowatt hour, CA-ON, None),\n",
       " 'electricity production, natural gas, conventional power plant' (kilowatt hour, IE, None),\n",
       " 'electricity production, wind, >3MW turbine, onshore' (kilowatt hour, IN-TN, None),\n",
       " 'electricity production, solar thermal parabolic trough, 50 MW' (kilowatt hour, ES, None),\n",
       " 'heat and power co-generation, wood chips, 6667 kW' (kilowatt hour, EE, None),\n",
       " 'electricity production, solar thermal parabolic trough, 50 MW' (kilowatt hour, RoW, None),\n",
       " 'electricity, high voltage, production mix' (kilowatt hour, LU, None),\n",
       " 'treatment of blast furnace gas, in power plant' (kilowatt hour, AT, None),\n",
       " 'electricity, high voltage, import from AL' (kilowatt hour, ME, None),\n",
       " 'electricity, high voltage, production mix' (kilowatt hour, SD, None),\n",
       " 'electricity production, wind, >3MW turbine, onshore' (kilowatt hour, CA-ON, None),\n",
       " 'electricity, high voltage, production mix' (kilowatt hour, LV, None),\n",
       " 'electricity production, wind, 1-3MW turbine, onshore' (kilowatt hour, UA, None),\n",
       " 'electricity production, hard coal' (kilowatt hour, IN-BR, None),\n",
       " 'electricity production, wind, 1-3MW turbine, onshore' (kilowatt hour, BR-Southern grid, None),\n",
       " 'electricity production, lignite' (kilowatt hour, RoW, None),\n",
       " 'market for electricity, high voltage' (kilowatt hour, CN-SGCC, None),\n",
       " 'electricity production, hard coal' (kilowatt hour, CN-SX, None),\n",
       " 'electricity production, wind, 1-3MW turbine, onshore' (kilowatt hour, CA-NT, None),\n",
       " 'electricity production, wind, 1-3MW turbine, onshore' (kilowatt hour, CN-HL, None),\n",
       " 'electricity production, lignite' (kilowatt hour, US-ASCC, None),\n",
       " 'heat and power co-generation, lignite' (kilowatt hour, BG, None),\n",
       " 'heat and power co-generation, wood chips, 6667 kW, state-of-the-art 2014' (kilowatt hour, SK, None),\n",
       " 'heat and power co-generation, hard coal' (kilowatt hour, UA, None),\n",
       " 'electricity production, natural gas, conventional power plant' (kilowatt hour, CL, None),\n",
       " 'heat and power co-generation, diesel, 200kW electrical, SCR-NOx reduction' (kilowatt hour, RoW, None),\n",
       " 'electricity production, oil' (kilowatt hour, AR, None),\n",
       " 'sulfate pulp production, from hardwood, bleached' (kilowatt hour, RER, None),\n",
       " 'heat and power co-generation, natural gas, conventional power plant, 100MW electrical' (kilowatt hour, RU, None),\n",
       " 'electricity, high voltage, import from GT' (kilowatt hour, SV, None),\n",
       " 'heat and power co-generation, biogas, gas engine' (kilowatt hour, IE, None),\n",
       " 'heat and power co-generation, wood chips, 6667 kW, state-of-the-art 2014' (kilowatt hour, CN-SH, None),\n",
       " 'electricity production, hard coal' (kilowatt hour, CN-SC, None),\n",
       " 'electricity production, hydro, reservoir, alpine region' (kilowatt hour, AR, None),\n",
       " 'heat and power co-generation, natural gas, conventional power plant, 100MW electrical' (kilowatt hour, DE, None),\n",
       " 'heat and power co-generation, wood chips, 6667 kW, state-of-the-art 2014' (kilowatt hour, RO, None),\n",
       " 'electricity production, wind, 1-3MW turbine, offshore' (kilowatt hour, ES, None),\n",
       " 'electricity production, hard coal' (kilowatt hour, EE, None),\n",
       " 'electricity production, wind, >3MW turbine, onshore' (kilowatt hour, CA-NS, None),\n",
       " 'heat and power co-generation, oil' (kilowatt hour, LV, None),\n",
       " 'heat and power co-generation, natural gas, conventional power plant, 100MW electrical' (kilowatt hour, HR, None),\n",
       " 'electricity production, wind, 1-3MW turbine, onshore' (kilowatt hour, AT, None),\n",
       " 'market for electricity, high voltage' (kilowatt hour, AZ, None),\n",
       " 'heat and power co-generation, natural gas, combined cycle power plant, 400MW electrical' (kilowatt hour, LT, None),\n",
       " 'electricity, high voltage, import from US-MRO' (kilowatt hour, CA-MB, None),\n",
       " 'treatment of blast furnace gas, in power plant' (kilowatt hour, CN-GZ, None),\n",
       " 'electricity, high voltage, import from CN-CSG' (kilowatt hour, HK, None),\n",
       " 'electricity production, lignite' (kilowatt hour, US-SERC, None),\n",
       " 'electricity production, hydro, reservoir, tropical region' (kilowatt hour, BR-Northern grid, None),\n",
       " 'electricity, high voltage, import from HR' (kilowatt hour, SI, None),\n",
       " 'electricity production, natural gas, combined cycle power plant' (kilowatt hour, MT, None),\n",
       " 'electricity, high voltage, import from PA' (kilowatt hour, CR, None),\n",
       " 'electricity production, natural gas, combined cycle power plant' (kilowatt hour, CN-FJ, None),\n",
       " 'electricity, high voltage, import from LT' (kilowatt hour, RU, None),\n",
       " 'electricity production, oil' (kilowatt hour, ES, None),\n",
       " 'electricity production, oil' (kilowatt hour, CN-SC, None),\n",
       " 'electricity production, wind, 1-3MW turbine, onshore' (kilowatt hour, RoW, None),\n",
       " 'electricity production, wind, <1MW turbine, onshore' (kilowatt hour, CN-HE, None),\n",
       " 'heat and power co-generation, oil' (kilowatt hour, UA, None),\n",
       " 'electricity production, hydro, pumped storage' (kilowatt hour, CA-NS, None),\n",
       " 'heat and power co-generation, natural gas, combined cycle power plant, 400MW electrical' (kilowatt hour, BE, None),\n",
       " 'electricity, high voltage, production mix' (kilowatt hour, CN-GD, None),\n",
       " 'heat and power co-generation, wood chips, 6667 kW, state-of-the-art 2014' (kilowatt hour, JP, None),\n",
       " 'heat and power co-generation, natural gas, conventional power plant, 100MW electrical' (kilowatt hour, BG, None),\n",
       " 'electricity production, wind, <1MW turbine, onshore' (kilowatt hour, KR, None),\n",
       " 'electricity production, wind, >3MW turbine, onshore' (kilowatt hour, GR, None),\n",
       " 'electricity production, wind, <1MW turbine, onshore' (kilowatt hour, CN-GX, None),\n",
       " 'electricity production, wind, 1-3MW turbine, offshore' (kilowatt hour, BE, None),\n",
       " 'market for electricity, high voltage' (kilowatt hour, DK, None),\n",
       " 'electricity production, hydro, run-of-river' (kilowatt hour, CN-HL, None),\n",
       " 'electricity production, hydro, run-of-river' (kilowatt hour, CA-BC, None),\n",
       " 'heat and power co-generation, natural gas, combined cycle power plant, 400MW electrical' (kilowatt hour, US-TRE, None),\n",
       " 'electricity, high voltage, production mix' (kilowatt hour, HU, None),\n",
       " 'electricity, high voltage, production mix' (kilowatt hour, AE, None),\n",
       " 'electricity, high voltage, production mix' (kilowatt hour, BR-North-eastern grid, None),\n",
       " 'electricity production, wind, <1MW turbine, onshore' (kilowatt hour, CA-MB, None),\n",
       " 'heat and power co-generation, natural gas, combined cycle power plant, 400MW electrical' (kilowatt hour, GR, None),\n",
       " 'heat and power co-generation, wood chips, 6667 kW' (kilowatt hour, ID, None),\n",
       " 'electricity, high voltage, production mix' (kilowatt hour, VN, None),\n",
       " 'market for electricity, high voltage' (kilowatt hour, BN, None),\n",
       " 'heat and power co-generation, natural gas, 500kW electrical, lean burn' (kilowatt hour, CH, None),\n",
       " 'electricity production, natural gas, combined cycle power plant' (kilowatt hour, CN-LN, None),\n",
       " 'electricity production, nuclear, pressure water reactor' (kilowatt hour, US-MRO, None),\n",
       " 'heat and power co-generation, wood chips, 6667 kW, state-of-the-art 2014' (kilowatt hour, US-WECC, None),\n",
       " 'electricity production, wind, 1-3MW turbine, onshore' (kilowatt hour, US-SERC, None),\n",
       " 'electricity production, hydro, run-of-river' (kilowatt hour, IN-UT, None),\n",
       " 'heat and power co-generation, natural gas, conventional power plant, 100MW electrical' (kilowatt hour, FR, None),\n",
       " 'electricity production, wind, 1-3MW turbine, onshore' (kilowatt hour, BR-North-eastern grid, None),\n",
       " 'electricity production, deep geothermal' (kilowatt hour, DE, None),\n",
       " 'treatment of blast furnace gas, in power plant' (kilowatt hour, NL, None),\n",
       " 'heat and power co-generation, biogas, gas engine' (kilowatt hour, IR, None),\n",
       " 'market for electricity, high voltage' (kilowatt hour, CA-NS, None),\n",
       " 'electricity production, wind, 1-3MW turbine, onshore' (kilowatt hour, CN-GD, None),\n",
       " 'electricity, high voltage, hydro, run-of-river, import from France' (kilowatt hour, CH, None),\n",
       " 'electricity production, natural gas, combined cycle power plant' (kilowatt hour, PT, None),\n",
       " 'electricity production, hydro, run-of-river' (kilowatt hour, ZA, None),\n",
       " 'electricity, high voltage, production mix' (kilowatt hour, US-MRO, None),\n",
       " 'electricity production, deep geothermal' (kilowatt hour, US-WECC, None),\n",
       " 'electricity production, natural gas, combined cycle power plant' (kilowatt hour, CN-JS, None),\n",
       " 'electricity, high voltage, production mix' (kilowatt hour, CY, None),\n",
       " 'electricity production, natural gas, combined cycle power plant' (kilowatt hour, CN-NX, None),\n",
       " 'electricity production, wind, <1MW turbine, onshore' (kilowatt hour, AU, None),\n",
       " 'market for electricity, high voltage' (kilowatt hour, GA, None),\n",
       " 'electricity, high voltage, import from LT' (kilowatt hour, SE, None),\n",
       " 'market for electricity, high voltage' (kilowatt hour, ET, None),\n",
       " 'electricity production, hydro, run-of-river' (kilowatt hour, CH, None),\n",
       " 'market for electricity, high voltage' (kilowatt hour, IN-Northern grid, None),\n",
       " 'electricity, high voltage, import from ME' (kilowatt hour, RS, None),\n",
       " 'heat and power co-generation, natural gas, combined cycle power plant, 400MW electrical' (kilowatt hour, US-NPCC, None),\n",
       " 'market for electricity, high voltage' (kilowatt hour, LU, None),\n",
       " 'treatment of blast furnace gas, in power plant' (kilowatt hour, MX, None),\n",
       " 'electricity, high voltage, import from SA' (kilowatt hour, BH, None),\n",
       " 'electricity production, wind, 1-3MW turbine, onshore' (kilowatt hour, CL, None),\n",
       " 'electricity production, wind, 1-3MW turbine, onshore' (kilowatt hour, SE, None),\n",
       " 'electricity, high voltage, import from TN' (kilowatt hour, LY, None),\n",
       " 'electricity production, oil' (kilowatt hour, CA-PE, None),\n",
       " 'electricity production, hard coal' (kilowatt hour, CN-GS, None),\n",
       " 'electricity production, nuclear, pressure water reactor, heavy water moderated' (kilowatt hour, IN-RJ, None),\n",
       " 'market for electricity, high voltage' (kilowatt hour, US-PR, None),\n",
       " 'electricity, high voltage, import from SY' (kilowatt hour, LB, None),\n",
       " 'electricity, high voltage, production mix' (kilowatt hour, CN-NX, None),\n",
       " 'electricity production, hydro, run-of-river' (kilowatt hour, CA-AB, None),\n",
       " 'electricity production, wind, >3MW turbine, onshore' (kilowatt hour, CN-GZ, None),\n",
       " 'electricity production, oil' (kilowatt hour, BG, None),\n",
       " 'electricity production, lignite' (kilowatt hour, PL, None),\n",
       " 'electricity production, wind, >3MW turbine, onshore' (kilowatt hour, US-NPCC, None),\n",
       " 'electricity production, deep geothermal' (kilowatt hour, LV, None),\n",
       " 'electricity, high voltage, import from IN-North-eastern grid' (kilowatt hour, IN-Northern grid, None),\n",
       " 'electricity, high voltage, production mix' (kilowatt hour, RS, None),\n",
       " 'electricity, high voltage, import from SA' (kilowatt hour, AE, None),\n",
       " 'electricity production, natural gas, combined cycle power plant' (kilowatt hour, AT, None),\n",
       " 'electricity production, wind, <1MW turbine, onshore' (kilowatt hour, CN-JS, None),\n",
       " 'electricity production, wind, <1MW turbine, onshore' (kilowatt hour, PT, None),\n",
       " 'electricity production, hydro, pumped storage' (kilowatt hour, LU, None),\n",
       " 'electricity production, natural gas, combined cycle power plant' (kilowatt hour, JP, None),\n",
       " 'electricity production, natural gas, combined cycle power plant' (kilowatt hour, US-TRE, None),\n",
       " 'heat and power co-generation, natural gas, 1MW electrical, lean burn' (kilowatt hour, Europe without Switzerland, None),\n",
       " 'electricity production, wood, future' (kilowatt hour, GLO, None),\n",
       " 'heat and power co-generation, natural gas, conventional power plant, 100MW electrical' (kilowatt hour, RO, None),\n",
       " 'electricity production, wind, >3MW turbine, onshore' (kilowatt hour, CN-QH, None),\n",
       " 'electricity production, nuclear, pressure water reactor' (kilowatt hour, IN-TN, None),\n",
       " 'electricity production, oil' (kilowatt hour, LT, None),\n",
       " 'heat and power co-generation, wood chips, 6667 kW, state-of-the-art 2014' (kilowatt hour, PT, None),\n",
       " 'market for electricity, high voltage' (kilowatt hour, IN-Western grid, None),\n",
       " 'electricity production, nuclear, pressure water reactor, heavy water moderated' (kilowatt hour, IN-MH, None),\n",
       " 'electricity production, hard coal' (kilowatt hour, IN-MP, None),\n",
       " 'electricity, high voltage, production mix' (kilowatt hour, BA, None),\n",
       " 'electricity production, hydro, run-of-river' (kilowatt hour, IN-GJ, None),\n",
       " 'electricity, high voltage, import from BE' (kilowatt hour, NL, None),\n",
       " 'electricity production, hydro, pumped storage' (kilowatt hour, PL, None),\n",
       " 'heat and power co-generation, wood chips, 6667 kW' (kilowatt hour, MX, None),\n",
       " 'electricity production, wind, >3MW turbine, onshore' (kilowatt hour, TW, None),\n",
       " 'electricity production, deep geothermal' (kilowatt hour, MX, None),\n",
       " 'electricity production, wind, 1-3MW turbine, onshore' (kilowatt hour, CN-HU, None),\n",
       " 'electricity production, oil' (kilowatt hour, ID, None),\n",
       " 'market for electricity, high voltage' (kilowatt hour, IL, None),\n",
       " 'heat and power co-generation, natural gas, conventional power plant, 100MW electrical' (kilowatt hour, SE, None),\n",
       " 'electricity, high voltage, import from CA-BC' (kilowatt hour, US-WECC, None),\n",
       " 'electricity production, hydro, reservoir, non-alpine region' (kilowatt hour, IS, None),\n",
       " 'market for electricity, high voltage' (kilowatt hour, RO, None),\n",
       " 'electricity production, wind, <1MW turbine, onshore' (kilowatt hour, CA-ON, None),\n",
       " 'treatment of blast furnace gas, in power plant' (kilowatt hour, KR, None),\n",
       " 'electricity, high voltage, import from HR' (kilowatt hour, RS, None),\n",
       " 'heat and power co-generation, wood chips, 6667 kW, state-of-the-art 2014' (kilowatt hour, CA-QC, None),\n",
       " 'heat and power co-generation, wood chips, 6667 kW, state-of-the-art 2014' (kilowatt hour, IN-TN, None),\n",
       " 'treatment of coal gas, in power plant' (kilowatt hour, SK, None),\n",
       " 'heat and power co-generation, biogas, gas engine' (kilowatt hour, CA-AB, None),\n",
       " 'electricity production, hydro, run-of-river' (kilowatt hour, IN-MH, None),\n",
       " 'electricity production, deep geothermal' (kilowatt hour, CN-SH, None),\n",
       " 'electricity production, wind, <1MW turbine, onshore' (kilowatt hour, BG, None),\n",
       " 'electricity production, wind, >3MW turbine, onshore' (kilowatt hour, LU, None),\n",
       " 'electricity production, wind, 1-3MW turbine, onshore' (kilowatt hour, CA-NS, None),\n",
       " 'treatment of blast furnace gas, in power plant' (kilowatt hour, IT, None),\n",
       " 'electricity production, natural gas, conventional power plant' (kilowatt hour, CN-XJ, None),\n",
       " 'heat and power co-generation, biogas, gas engine' (kilowatt hour, ID, None),\n",
       " 'electricity production, hydro, pumped storage' (kilowatt hour, BA, None),\n",
       " 'electricity production, natural gas, combined cycle power plant' (kilowatt hour, IN-AS, None),\n",
       " 'electricity production, natural gas, conventional power plant' (kilowatt hour, CN-ZJ, None),\n",
       " 'market for electricity, high voltage' (kilowatt hour, SA, None),\n",
       " 'heat and power co-generation, wood chips, 6667 kW, state-of-the-art 2014' (kilowatt hour, HR, None),\n",
       " 'electricity production, hydro, reservoir, alpine region' (kilowatt hour, IN-AP, None),\n",
       " 'treatment of blast furnace gas, in power plant' (kilowatt hour, BE, None),\n",
       " 'electricity, high voltage, production mix' (kilowatt hour, SA, None),\n",
       " 'electricity production, hard coal' (kilowatt hour, IT, None),\n",
       " 'electricity production, wind, >3MW turbine, onshore' (kilowatt hour, CN-XJ, None),\n",
       " 'electricity, high voltage, import from PL' (kilowatt hour, CZ, None),\n",
       " 'electricity production, oil' (kilowatt hour, TH, None),\n",
       " 'market for electricity, high voltage' (kilowatt hour, JO, None),\n",
       " 'electricity, high voltage, production mix' (kilowatt hour, CA-NT, None),\n",
       " 'market for electricity, high voltage' (kilowatt hour, CW, None),\n",
       " 'electricity, high voltage, production mix' (kilowatt hour, DZ, None),\n",
       " 'electricity production, oil' (kilowatt hour, BA, None),\n",
       " 'electricity production, natural gas, combined cycle power plant' (kilowatt hour, BR-North-eastern grid, None),\n",
       " 'treatment of blast furnace gas, in power plant' (kilowatt hour, FR, None),\n",
       " 'electricity production, natural gas, combined cycle power plant' (kilowatt hour, KR, None),\n",
       " 'electricity production, hydro, reservoir, non-alpine region' (kilowatt hour, CA-SK, None),\n",
       " 'electricity, high voltage, import from UZ' (kilowatt hour, KG, None),\n",
       " 'electricity production, wind, 1-3MW turbine, onshore' (kilowatt hour, GR, None),\n",
       " 'electricity, high voltage, production mix' (kilowatt hour, CA-NU, None),\n",
       " 'electricity, high voltage, production mix' (kilowatt hour, CN-JL, None),\n",
       " 'market for electricity, high voltage' (kilowatt hour, NE, None),\n",
       " 'electricity, high voltage, import from PL' (kilowatt hour, SK, None),\n",
       " 'electricity production, natural gas, combined cycle power plant' (kilowatt hour, GB, None),\n",
       " 'electricity production, wind, 1-3MW turbine, onshore' (kilowatt hour, CN-JX, None),\n",
       " 'electricity production, hydro, reservoir, alpine region' (kilowatt hour, US-MRO, None),\n",
       " 'electricity production, nuclear, boiling water reactor' (kilowatt hour, IN-MH, None),\n",
       " 'heat and power co-generation, natural gas, conventional power plant, 100MW electrical' (kilowatt hour, PE, None),\n",
       " 'electricity, high voltage, import from CA-AB' (kilowatt hour, US-WECC, None),\n",
       " 'electricity, high voltage, production mix' (kilowatt hour, EG, None),\n",
       " 'electricity production, oil' (kilowatt hour, AT, None),\n",
       " 'electricity, high voltage, import from PT' (kilowatt hour, ES, None),\n",
       " 'electricity production, nuclear, pressure water reactor' (kilowatt hour, US-RFC, None),\n",
       " 'electricity, high voltage, import from CA-MB' (kilowatt hour, CA-SK, None),\n",
       " 'treatment of bagasse, from sugarcane, in heat and power co-generation unit, 6400kW thermal' (kilowatt hour, BR-Southern grid, None),\n",
       " 'electricity production, wind, 1-3MW turbine, onshore' (kilowatt hour, KR, None),\n",
       " 'market for electricity, high voltage' (kilowatt hour, AM, None),\n",
       " 'electricity, high voltage, production mix' (kilowatt hour, CN-ZJ, None),\n",
       " 'electricity production, wind, >3MW turbine, onshore' (kilowatt hour, CA-YK, None),\n",
       " 'electricity production, oil' (kilowatt hour, US-HICC, None),\n",
       " 'electricity production, natural gas, conventional power plant' (kilowatt hour, CA-MB, None),\n",
       " 'electricity production, hydro, run-of-river' (kilowatt hour, IN-AP, None),\n",
       " 'electricity, high voltage, production mix' (kilowatt hour, ER, None),\n",
       " 'electricity production, oil' (kilowatt hour, SE, None),\n",
       " 'electricity production, hydro, pumped storage' (kilowatt hour, BG, None),\n",
       " 'heat and power co-generation, wood chips, 6667 kW, state-of-the-art 2014' (kilowatt hour, US-ASCC, None),\n",
       " 'electricity production, natural gas, conventional power plant' (kilowatt hour, CA-NT, None),\n",
       " 'electricity production, wind, <1MW turbine, onshore' (kilowatt hour, DK, None),\n",
       " 'heat and power co-generation, biogas, gas engine' (kilowatt hour, HR, None),\n",
       " 'electricity production, hydro, reservoir, tropical region' (kilowatt hour, BR-Southern grid, None),\n",
       " 'market for electricity, high voltage' (kilowatt hour, GR, None),\n",
       " 'electricity production, hydro, pumped storage' (kilowatt hour, GR, None),\n",
       " 'electricity, high voltage, import from PL' (kilowatt hour, DE, None),\n",
       " 'market for electricity, high voltage' (kilowatt hour, LK, None),\n",
       " 'market for electricity, high voltage' (kilowatt hour, IT, None),\n",
       " 'market for electricity, high voltage' (kilowatt hour, TN, None),\n",
       " 'market group for electricity, high voltage' (kilowatt hour, CA, None),\n",
       " 'electricity production, wind, <1MW turbine, onshore' (kilowatt hour, CN-NM, None),\n",
       " 'market for electricity, high voltage' (kilowatt hour, NZ, None),\n",
       " 'electricity, high voltage, import from BR-Southern grid' (kilowatt hour, AR, None),\n",
       " 'electricity, high voltage, production mix' (kilowatt hour, BW, None),\n",
       " 'electricity, high voltage, import from DE' (kilowatt hour, CZ, None),\n",
       " 'electricity production, oil' (kilowatt hour, CN-XZ, None),\n",
       " 'heat and power co-generation, biogas, gas engine' (kilowatt hour, BE, None),\n",
       " 'market for electricity, high voltage' (kilowatt hour, ZW, None),\n",
       " 'heat and power co-generation, wood chips, 6667 kW, state-of-the-art 2014' (kilowatt hour, US-TRE, None),\n",
       " 'electricity production, natural gas, conventional power plant' (kilowatt hour, IN-UP, None),\n",
       " 'electricity production, hydro, reservoir, tropical region' (kilowatt hour, AR, None),\n",
       " 'electricity, high voltage, import from IN-Eastern grid' (kilowatt hour, IN-Southern grid, None),\n",
       " 'heat and power co-generation, biogas, gas engine' (kilowatt hour, PE, None),\n",
       " 'heat and power co-generation, natural gas, conventional power plant, 100MW electrical' (kilowatt hour, PL, None),\n",
       " 'market group for electricity, high voltage' (kilowatt hour, IN, None),\n",
       " 'electricity production, hydro, pumped storage' (kilowatt hour, US-SERC, None),\n",
       " 'heat and power co-generation, biogas, gas engine' (kilowatt hour, SK, None),\n",
       " 'electricity, high voltage, production mix' (kilowatt hour, GA, None),\n",
       " 'electricity production, hydro, run-of-river' (kilowatt hour, IT, None),\n",
       " 'electricity production, wind, <1MW turbine, onshore' (kilowatt hour, IR, None),\n",
       " 'electricity production, natural gas, combined cycle power plant' (kilowatt hour, FR, None),\n",
       " 'electricity production, wind, <1MW turbine, onshore' (kilowatt hour, CA-YK, None),\n",
       " 'electricity production, nuclear, pressure water reactor' (kilowatt hour, LT, None),\n",
       " 'electricity, high voltage, import from CA-MB' (kilowatt hour, US-MRO, None),\n",
       " 'treatment of blast furnace gas, in power plant' (kilowatt hour, CN-HU, None),\n",
       " 'electricity production, nuclear, pressure water reactor, heavy water moderated' (kilowatt hour, RU, None),\n",
       " 'treatment of blast furnace gas, in power plant' (kilowatt hour, CN-CQ, None),\n",
       " 'electricity production, hard coal' (kilowatt hour, AR, None),\n",
       " 'electricity production, wind, 1-3MW turbine, onshore' (kilowatt hour, CY, None),\n",
       " 'electricity, high voltage, production mix' (kilowatt hour, CN-NM, None),\n",
       " 'electricity production, wind, >3MW turbine, onshore' (kilowatt hour, CN-HL, None),\n",
       " 'heat and power co-generation, oil' (kilowatt hour, US-HICC, None),\n",
       " 'electricity, high voltage, production mix' (kilowatt hour, CN-SH, None),\n",
       " 'electricity, high voltage, production mix' (kilowatt hour, BR-Southern grid, None),\n",
       " 'market for electricity, high voltage' (kilowatt hour, GH, None),\n",
       " 'electricity production, hydro, reservoir, non-alpine region' (kilowatt hour, CA-MB, None),\n",
       " 'electricity, high voltage, import from NL' (kilowatt hour, DE, None),\n",
       " 'electricity, high voltage, production mix' (kilowatt hour, GE, None),\n",
       " 'electricity production, hydro, pumped storage' (kilowatt hour, SI, None),\n",
       " 'electricity production, hydro, reservoir, alpine region' (kilowatt hour, US-NPCC, None),\n",
       " 'electricity production, oil' (kilowatt hour, UA, None),\n",
       " 'electricity production, hard coal' (kilowatt hour, IN-JH, None),\n",
       " 'electricity production, hard coal' (kilowatt hour, US-HICC, None),\n",
       " 'electricity, high voltage, import from BR-Mid-western grid' (kilowatt hour, BR-South-eastern grid, None),\n",
       " 'electricity production, natural gas, conventional power plant' (kilowatt hour, US-RFC, None),\n",
       " 'heat and power co-generation, biogas, gas engine' (kilowatt hour, GR, None),\n",
       " 'electricity production, nuclear, pressure water reactor' (kilowatt hour, LV, None),\n",
       " 'electricity production, natural gas, combined cycle power plant' (kilowatt hour, CN-NM, None),\n",
       " 'electricity production, hydro, reservoir, non-alpine region' (kilowatt hour, FI, None),\n",
       " 'electricity production, natural gas, conventional power plant' (kilowatt hour, TW, None),\n",
       " 'electricity production, wind, 1-3MW turbine, onshore' (kilowatt hour, FI, None),\n",
       " 'electricity production, oil' (kilowatt hour, IS, None),\n",
       " 'electricity production, wind, >3MW turbine, onshore' (kilowatt hour, MX, None),\n",
       " 'electricity production, hydro, pumped storage' (kilowatt hour, AR, None),\n",
       " 'market for electricity, high voltage' (kilowatt hour, BR-North-eastern grid, None),\n",
       " 'electricity, high voltage, production mix' (kilowatt hour, IN-Eastern grid, None),\n",
       " 'electricity production, hydro, run-of-river' (kilowatt hour, CN-NM, None),\n",
       " 'market group for electricity, high voltage' (kilowatt hour, BR, None),\n",
       " 'treatment of blast furnace gas, in power plant' (kilowatt hour, FI, None),\n",
       " 'electricity, high voltage, production mix' (kilowatt hour, CN-GS, None),\n",
       " 'market group for electricity, high voltage' (kilowatt hour, RNA, None),\n",
       " 'market for electricity, high voltage' (kilowatt hour, CY, None),\n",
       " 'electricity, high voltage, import from NG' (kilowatt hour, BJ, None),\n",
       " 'electricity, high voltage, import from AT' (kilowatt hour, SI, None),\n",
       " 'treatment of blast furnace gas, in power plant' (kilowatt hour, CN-JL, None),\n",
       " 'electricity production, wind, 1-3MW turbine, onshore' (kilowatt hour, IN-KA, None),\n",
       " 'electricity, high voltage, import from GB' (kilowatt hour, NL, None),\n",
       " 'electricity production, compressed air energy storage, adiabatic' (kilowatt hour, RER, None),\n",
       " 'electricity production, wind, 1-3MW turbine, onshore' (kilowatt hour, US-ASCC, None),\n",
       " 'market for electricity, high voltage' (kilowatt hour, TG, None),\n",
       " 'electricity production, wind, 1-3MW turbine, onshore' (kilowatt hour, CA-QC, None),\n",
       " 'electricity, high voltage, production mix' (kilowatt hour, NI, None),\n",
       " 'electricity, high voltage, import from UA' (kilowatt hour, HU, None),\n",
       " 'electricity production, hard coal' (kilowatt hour, IE, None),\n",
       " 'electricity, high voltage, import from VN' (kilowatt hour, KH, None),\n",
       " 'heat and power co-generation, wood chips, 6667 kW, state-of-the-art 2014' (kilowatt hour, IE, None),\n",
       " 'electricity, high voltage, import from ME' (kilowatt hour, BA, None),\n",
       " 'heat and power co-generation, wood chips, 6667 kW, state-of-the-art 2014' (kilowatt hour, AU, None),\n",
       " 'electricity, high voltage, production mix' (kilowatt hour, MU, None),\n",
       " 'electricity, high voltage, production mix' (kilowatt hour, CN-SX, None),\n",
       " 'electricity production, nuclear, pressure water reactor' (kilowatt hour, UA, None),\n",
       " 'electricity production, oil' (kilowatt hour, CN-SX, None),\n",
       " 'electricity, high voltage, import from FR' (kilowatt hour, ES, None),\n",
       " 'electricity production, wind, >3MW turbine, onshore' (kilowatt hour, CN-FJ, None),\n",
       " 'electricity production, natural gas, 10MW' (kilowatt hour, NL, None),\n",
       " 'electricity, high voltage, import from LU' (kilowatt hour, DE, None),\n",
       " 'electricity production, wind, <1MW turbine, onshore' (kilowatt hour, CL, None),\n",
       " 'electricity, high voltage, import from FR' (kilowatt hour, IT, None),\n",
       " 'electricity, high voltage, import from CA-AB' (kilowatt hour, CA-SK, None),\n",
       " 'electricity, high voltage, production mix' (kilowatt hour, CN-HA, None),\n",
       " 'electricity, high voltage, import from LV' (kilowatt hour, LT, None),\n",
       " 'electricity, high voltage, production mix' (kilowatt hour, AZ, None),\n",
       " 'electricity production, lignite' (kilowatt hour, ES, None),\n",
       " 'heat and power co-generation, oil' (kilowatt hour, SE, None),\n",
       " 'electricity production, oil' (kilowatt hour, MY, None),\n",
       " 'electricity, high voltage, production mix' (kilowatt hour, CA-NF, None),\n",
       " 'heat and power co-generation, biogas, gas engine' (kilowatt hour, US-SERC, None),\n",
       " 'electricity production, natural gas, conventional power plant' (kilowatt hour, CA-BC, None),\n",
       " 'electricity, high voltage, production mix' (kilowatt hour, TM, None),\n",
       " 'heat and power co-generation, biogas, gas engine' (kilowatt hour, CA-NS, None),\n",
       " 'electricity production, natural gas, conventional power plant' (kilowatt hour, CN-FJ, None),\n",
       " 'electricity production, hard coal' (kilowatt hour, CN-GD, None),\n",
       " 'electricity production, oil' (kilowatt hour, IN-KL, None),\n",
       " 'electricity production, peat' (kilowatt hour, RoW, None),\n",
       " 'electricity production, hard coal' (kilowatt hour, JP, None),\n",
       " 'electricity, high voltage, import from BG' (kilowatt hour, TR, None),\n",
       " 'electricity production, wind, >3MW turbine, onshore' (kilowatt hour, US-WECC, None),\n",
       " 'treatment of blast furnace gas, in power plant' (kilowatt hour, RoW, None),\n",
       " 'electricity production, solar thermal parabolic trough, 50 MW' (kilowatt hour, US-WECC, None),\n",
       " 'heat and power co-generation, natural gas, conventional power plant, 100MW electrical' (kilowatt hour, LU, None),\n",
       " 'electricity production, natural gas, combined cycle power plant' (kilowatt hour, CN-SD, None),\n",
       " 'electricity, high voltage, import from SE' (kilowatt hour, PL, None),\n",
       " 'electricity, high voltage, import from SK' (kilowatt hour, UA, None),\n",
       " 'electricity production, hard coal' (kilowatt hour, CN-HL, None),\n",
       " 'electricity production, oil' (kilowatt hour, RoW, None),\n",
       " 'electricity production, natural gas, combined cycle power plant' (kilowatt hour, AR, None),\n",
       " 'heat and power co-generation, natural gas, combined cycle power plant, 400MW electrical' (kilowatt hour, NO, None),\n",
       " 'heat and power co-generation, wood chips, 6667 kW, state-of-the-art 2014' (kilowatt hour, FI, None),\n",
       " 'electricity production, wind, >3MW turbine, onshore' (kilowatt hour, CN-HB, None),\n",
       " 'electricity production, hydro, reservoir, alpine region' (kilowatt hour, IN-NL, None),\n",
       " 'electricity production, natural gas, conventional power plant' (kilowatt hour, JP, None),\n",
       " 'electricity production, lignite' (kilowatt hour, US-TRE, None),\n",
       " 'sulfate pulp production, from softwood, unbleached' (kilowatt hour, RER, None),\n",
       " 'electricity production, wind, >3MW turbine, onshore' (kilowatt hour, CH, None),\n",
       " 'electricity, high voltage, import from ES' (kilowatt hour, PT, None),\n",
       " 'electricity, high voltage, production mix' (kilowatt hour, AT, None),\n",
       " 'electricity production, deep geothermal' (kilowatt hour, CZ, None),\n",
       " 'electricity, high voltage, production mix' (kilowatt hour, CN-HE, None),\n",
       " 'treatment of blast furnace gas, in power plant' (kilowatt hour, CN-GS, None),\n",
       " 'market for electricity, high voltage' (kilowatt hour, MD, None),\n",
       " 'electricity production, oil' (kilowatt hour, CA-QC, None),\n",
       " 'electricity production, wind, 1-3MW turbine, onshore' (kilowatt hour, DK, None),\n",
       " 'electricity production, oil' (kilowatt hour, NP, None),\n",
       " 'electricity production, natural gas, combined cycle power plant' (kilowatt hour, SI, None),\n",
       " 'electricity, high voltage, production mix' (kilowatt hour, DO, None),\n",
       " 'market for electricity, high voltage' (kilowatt hour, VE, None),\n",
       " 'electricity production, wind, >3MW turbine, onshore' (kilowatt hour, LT, None),\n",
       " 'heat and power co-generation, biogas, gas engine' (kilowatt hour, FR, None),\n",
       " 'electricity production, wind, 1-3MW turbine, onshore' (kilowatt hour, CN-GZ, None),\n",
       " 'treatment of coal gas, in power plant' (kilowatt hour, RU, None),\n",
       " 'treatment of blast furnace gas, in power plant' (kilowatt hour, CN-YN, None),\n",
       " 'electricity production, hydro, reservoir, alpine region' (kilowatt hour, IN-OR, None),\n",
       " 'electricity, high voltage, production mix' (kilowatt hour, HK, None),\n",
       " 'electricity production, natural gas, combined cycle power plant' (kilowatt hour, CA-NT, None),\n",
       " 'electricity, high voltage, import from MK' (kilowatt hour, GR, None),\n",
       " 'electricity production, nuclear, pressure water reactor' (kilowatt hour, BG, None),\n",
       " 'market for electricity, high voltage' (kilowatt hour, BO, None),\n",
       " 'electricity production, wind, 1-3MW turbine, onshore' (kilowatt hour, CN-BJ, None),\n",
       " 'electricity production, oil' (kilowatt hour, CN-GD, None),\n",
       " 'electricity production, nuclear, pressure water reactor' (kilowatt hour, CN-JS, None),\n",
       " 'electricity production, hydro, reservoir, non-alpine region' (kilowatt hour, AR, None),\n",
       " 'heat and power co-generation, natural gas, conventional power plant, 100MW electrical' (kilowatt hour, HU, None),\n",
       " 'treatment of coal gas, in power plant' (kilowatt hour, HU, None),\n",
       " 'electricity production, natural gas, conventional power plant' (kilowatt hour, RoW, None),\n",
       " 'electricity production, natural gas, conventional power plant' (kilowatt hour, SI, None),\n",
       " 'electricity, high voltage, import from RU' (kilowatt hour, FI, None),\n",
       " 'electricity production, natural gas, conventional power plant' (kilowatt hour, CN-SH, None),\n",
       " 'electricity production, hard coal' (kilowatt hour, CA-QC, None),\n",
       " 'treatment of coal gas, in power plant' (kilowatt hour, IT, None),\n",
       " 'electricity production, hydro, run-of-river' (kilowatt hour, BA, None),\n",
       " 'electricity, high voltage, import from IN-Northern grid' (kilowatt hour, IN-Eastern grid, None),\n",
       " 'electricity production, wind, 1-3MW turbine, onshore' (kilowatt hour, CN-SX, None),\n",
       " 'electricity production, wind, 1-3MW turbine, onshore' (kilowatt hour, IN-AP, None),\n",
       " 'treatment of blast furnace gas, in power plant' (kilowatt hour, SE, None),\n",
       " 'electricity production, hard coal' (kilowatt hour, FI, None),\n",
       " 'electricity production, oil' (kilowatt hour, CN-HB, None),\n",
       " 'electricity, high voltage, production mix' (kilowatt hour, BR, None),\n",
       " 'market for electricity, high voltage' (kilowatt hour, HR, None),\n",
       " 'electricity production, natural gas, conventional power plant' (kilowatt hour, CA-PE, None),\n",
       " 'heat and power co-generation, natural gas, combined cycle power plant, 400MW electrical' (kilowatt hour, LV, None),\n",
       " 'market group for electricity, high voltage' (kilowatt hour, US, None),\n",
       " 'heat and power co-generation, natural gas, conventional power plant, 100MW electrical' (kilowatt hour, AU, None),\n",
       " 'market for electricity, high voltage' (kilowatt hour, CD, None),\n",
       " 'electricity production, wind, <1MW turbine, onshore' (kilowatt hour, CA-QC, None),\n",
       " 'electricity production, hydro, pumped storage' (kilowatt hour, JP, None),\n",
       " 'market for electricity, high voltage' (kilowatt hour, GB, None),\n",
       " 'electricity production, hydro, run-of-river' (kilowatt hour, CN-FJ, None),\n",
       " 'electricity, high voltage, production mix' (kilowatt hour, KP, None),\n",
       " 'electricity production, hard coal' (kilowatt hour, HR, None),\n",
       " 'electricity, high voltage, production mix' (kilowatt hour, MM, None),\n",
       " 'electricity production, nuclear, boiling water reactor' (kilowatt hour, ES, None),\n",
       " 'electricity production, deep geothermal' (kilowatt hour, NI, None),\n",
       " 'electricity production, wind, <1MW turbine, onshore' (kilowatt hour, US-ASCC, None),\n",
       " 'electricity, high voltage, import from ZA' (kilowatt hour, ZW, None),\n",
       " 'electricity, high voltage, import from GE' (kilowatt hour, TR, None),\n",
       " 'electricity, high voltage, import from TR' (kilowatt hour, GR, None),\n",
       " 'heat and power co-generation, natural gas, conventional power plant, 100MW electrical' (kilowatt hour, SI, None),\n",
       " 'electricity, high voltage, import from HU' (kilowatt hour, AT, None),\n",
       " 'electricity, high voltage, import from CA-PE' (kilowatt hour, CA-NB, None),\n",
       " 'electricity production, nuclear, pressure water reactor' (kilowatt hour, ES, None),\n",
       " 'electricity production, hydro, run-of-river' (kilowatt hour, RS, None),\n",
       " 'treatment of coal gas, in power plant' (kilowatt hour, BG, None),\n",
       " 'heat and power co-generation, biogas, gas engine' (kilowatt hour, RS, None),\n",
       " 'electricity production, wind, 1-3MW turbine, onshore' (kilowatt hour, ES, None),\n",
       " 'electricity production, nuclear, pressure water reactor, heavy water moderated' (kilowatt hour, RO, None),\n",
       " 'electricity production, natural gas, combined cycle power plant' (kilowatt hour, CN-GD, None),\n",
       " 'heat and power co-generation, natural gas, conventional power plant, 100MW electrical' (kilowatt hour, SA, None),\n",
       " 'electricity production, hydro, run-of-river' (kilowatt hour, IN-HP, None),\n",
       " 'electricity production, hydro, run-of-river' (kilowatt hour, CO, None),\n",
       " 'electricity, high voltage, import from IN-Western grid' (kilowatt hour, IN-Southern grid, None),\n",
       " 'treatment of blast furnace gas, in power plant' (kilowatt hour, CN-SX, None),\n",
       " 'electricity production, hydro, reservoir, non-alpine region' (kilowatt hour, KR, None),\n",
       " 'electricity production, nuclear, boiling water reactor' (kilowatt hour, US-MRO, None),\n",
       " 'heat and power co-generation, natural gas, conventional power plant, 100MW electrical' (kilowatt hour, AR, None),\n",
       " 'heat and power co-generation, biogas, gas engine' (kilowatt hour, GB, None),\n",
       " 'market for electricity, high voltage' (kilowatt hour, AR, None),\n",
       " 'electricity production, wind, <1MW turbine, onshore' (kilowatt hour, ES, None),\n",
       " 'electricity, high voltage, import from CH' (kilowatt hour, AT, None),\n",
       " 'electricity, high voltage, production mix' (kilowatt hour, IT, None),\n",
       " 'electricity production, natural gas, combined cycle power plant' (kilowatt hour, HU, None),\n",
       " 'electricity, high voltage, production mix' (kilowatt hour, ES, None),\n",
       " 'electricity, high voltage, import from MA' (kilowatt hour, ES, None),\n",
       " 'electricity production, wind, 1-3MW turbine, onshore' (kilowatt hour, CA-NF, None),\n",
       " 'electricity production, oil' (kilowatt hour, BR-North-eastern grid, None),\n",
       " 'heat and power co-generation, hard coal' (kilowatt hour, FI, None),\n",
       " 'heat and power co-generation, natural gas, combined cycle power plant, 400MW electrical' (kilowatt hour, US-ASCC, None),\n",
       " 'electricity production, natural gas, conventional power plant' (kilowatt hour, PE, None),\n",
       " 'electricity, high voltage, production mix' (kilowatt hour, BJ, None),\n",
       " 'electricity production, hard coal' (kilowatt hour, CA-AB, None),\n",
       " 'electricity, high voltage, import from MK' (kilowatt hour, RS, None),\n",
       " 'electricity production, natural gas, combined cycle power plant' (kilowatt hour, CN-GZ, None),\n",
       " 'heat and power co-generation, natural gas, combined cycle power plant, 400MW electrical' (kilowatt hour, IT, None),\n",
       " 'electricity, high voltage, import from DK' (kilowatt hour, SE, None),\n",
       " 'electricity production, hydro, reservoir, tropical region' (kilowatt hour, MY, None),\n",
       " 'heat and power co-generation, natural gas, conventional power plant, 100MW electrical' (kilowatt hour, CA-NS, None),\n",
       " 'electricity production, deep geothermal' (kilowatt hour, NZ, None),\n",
       " 'electricity production, hydro, reservoir, alpine region' (kilowatt hour, IT, None),\n",
       " 'electricity production, natural gas, conventional power plant' (kilowatt hour, LU, None),\n",
       " 'heat and power co-generation, natural gas, conventional power plant, 100MW electrical' (kilowatt hour, IR, None),\n",
       " 'electricity, high voltage, import from HU' (kilowatt hour, SK, None),\n",
       " 'market for electricity, high voltage' (kilowatt hour, TM, None),\n",
       " 'heat and power co-generation, lignite' (kilowatt hour, DE, None),\n",
       " 'electricity production, natural gas, combined cycle power plant' (kilowatt hour, TW, None),\n",
       " 'electricity production, wind, <1MW turbine, onshore' (kilowatt hour, CN-ZJ, None),\n",
       " 'electricity production, hydro, pumped storage' (kilowatt hour, CA-NT, None),\n",
       " 'market for electricity, high voltage' (kilowatt hour, CA-YK, None),\n",
       " 'electricity production, hydro, run-of-river' (kilowatt hour, CN-HU, None),\n",
       " 'sugarcane processing, modern autonomous plant' (kilowatt hour, BR, None),\n",
       " 'electricity production, wind, 1-3MW turbine, onshore' (kilowatt hour, EE, None),\n",
       " 'electricity production, natural gas, combined cycle power plant' (kilowatt hour, MX, None),\n",
       " 'market for electricity, high voltage' (kilowatt hour, MX, None),\n",
       " 'electricity, high voltage, production mix' (kilowatt hour, KG, None),\n",
       " 'heat and power co-generation, natural gas, conventional power plant, 100MW electrical' (kilowatt hour, DK, None),\n",
       " 'heat and power co-generation, natural gas, conventional power plant, 100MW electrical' (kilowatt hour, KR, None),\n",
       " 'electricity production, wind, <1MW turbine, onshore' (kilowatt hour, CA-PE, None),\n",
       " 'heat and power co-generation, oil' (kilowatt hour, EE, None),\n",
       " 'market for electricity, high voltage' (kilowatt hour, KG, None),\n",
       " 'electricity production, wind, 1-3MW turbine, onshore' (kilowatt hour, PT, None),\n",
       " 'electricity production, hydro, reservoir, non-alpine region' (kilowatt hour, ES, None),\n",
       " 'heat and power co-generation, natural gas, 200kW electrical, lean burn' (kilowatt hour, CH, None),\n",
       " 'electricity production, natural gas, combined cycle power plant' (kilowatt hour, IR, None),\n",
       " 'electricity production, oil' (kilowatt hour, HU, None),\n",
       " 'electricity production, natural gas, conventional power plant' (kilowatt hour, IN-TN, None),\n",
       " 'electricity production, hydro, reservoir, alpine region' (kilowatt hour, NO, None),\n",
       " 'electricity production, hydro, reservoir, non-alpine region' (kilowatt hour, RoW, None),\n",
       " 'market for electricity, high voltage' (kilowatt hour, CR, None),\n",
       " 'electricity production, hydro, run-of-river' (kilowatt hour, ES, None),\n",
       " 'electricity production, oil' (kilowatt hour, EE, None),\n",
       " 'electricity, high voltage, production mix' (kilowatt hour, KH, None),\n",
       " 'heat and power co-generation, natural gas, conventional power plant, 100MW electrical' (kilowatt hour, RoW, None),\n",
       " 'electricity production, nuclear, pressure water reactor' (kilowatt hour, US-SERC, None),\n",
       " 'electricity, high voltage, import from RAS' (kilowatt hour, VN, None),\n",
       " 'electricity production, hydro, reservoir, alpine region' (kilowatt hour, IN-MH, None),\n",
       " 'market for electricity, high voltage' (kilowatt hour, IN-Southern grid, None),\n",
       " 'heat and power co-generation, natural gas, 1MW electrical, lean burn' (kilowatt hour, CH, None),\n",
       " 'electricity production, natural gas, combined cycle power plant' (kilowatt hour, IN-TN, None),\n",
       " 'heat and power co-generation, biogas, gas engine' (kilowatt hour, ES, None),\n",
       " 'electricity production, natural gas, combined cycle power plant' (kilowatt hour, DE, None),\n",
       " 'electricity production, nuclear, pressure water reactor' (kilowatt hour, IR, None),\n",
       " 'electricity, high voltage, import from SI' (kilowatt hour, IT, None),\n",
       " 'electricity, high voltage, production mix' (kilowatt hour, KE, None),\n",
       " 'electricity production, hard coal' (kilowatt hour, CN-XZ, None),\n",
       " 'electricity production, hard coal' (kilowatt hour, US-ASCC, None),\n",
       " 'electricity production, deep geothermal' (kilowatt hour, FR, None),\n",
       " 'electricity production, wind, 1-3MW turbine, onshore' (kilowatt hour, CN-GX, None),\n",
       " 'market for electricity, high voltage' (kilowatt hour, JP, None),\n",
       " 'electricity, high voltage, import from KZ' (kilowatt hour, UZ, None),\n",
       " 'electricity, high voltage, production mix' (kilowatt hour, TT, None),\n",
       " 'electricity production, hydro, run-of-river' (kilowatt hour, CN-XJ, None),\n",
       " 'market for electricity, high voltage' (kilowatt hour, GT, None),\n",
       " 'electricity production, hydro, pumped storage' (kilowatt hour, CN-ZJ, None),\n",
       " 'electricity production, natural gas, conventional power plant' (kilowatt hour, AU, None),\n",
       " 'electricity production, wind, <1MW turbine, onshore' (kilowatt hour, US-MRO, None),\n",
       " 'electricity production, wind, 1-3MW turbine, onshore' (kilowatt hour, MX, None),\n",
       " 'electricity production, wind, 1-3MW turbine, onshore' (kilowatt hour, SK, None),\n",
       " 'electricity production, natural gas, combined cycle power plant' (kilowatt hour, CN-HU, None),\n",
       " 'market for electricity, high voltage' (kilowatt hour, KZ, None),\n",
       " 'electricity production, natural gas, combined cycle power plant' (kilowatt hour, CN-JX, None),\n",
       " 'heat and power co-generation, wood chips, 6667 kW, state-of-the-art 2014' (kilowatt hour, CA-PE, None),\n",
       " 'heat and power co-generation, biogas, gas engine' (kilowatt hour, LT, None),\n",
       " 'electricity production, hydro, run-of-river' (kilowatt hour, CN-GZ, None),\n",
       " 'electricity, high voltage, production mix' (kilowatt hour, FR, None),\n",
       " 'electricity production, deep geothermal' (kilowatt hour, RU, None),\n",
       " 'electricity, high voltage, import from GE' (kilowatt hour, AZ, None),\n",
       " 'electricity, high voltage, production mix' (kilowatt hour, SG, None),\n",
       " 'electricity, high voltage, import from LT' (kilowatt hour, PL, None),\n",
       " 'electricity production, hydro, run-of-river' (kilowatt hour, CN-BJ, None),\n",
       " 'electricity, high voltage, production mix' (kilowatt hour, NA, None),\n",
       " 'electricity production, hydro, run-of-river' (kilowatt hour, TW, None),\n",
       " 'electricity production, oil' (kilowatt hour, CA-ON, None),\n",
       " 'heat and power co-generation, wood chips, 6667 kW, state-of-the-art 2014' (kilowatt hour, KR, None),\n",
       " 'market for electricity, high voltage' (kilowatt hour, BD, None),\n",
       " 'heat and power co-generation, wood chips, 6667 kW' (kilowatt hour, ZA, None),\n",
       " 'electricity production, wind, >3MW turbine, onshore' (kilowatt hour, SI, None),\n",
       " 'electricity, high voltage, production mix' (kilowatt hour, JP, None),\n",
       " 'electricity production, wind, >3MW turbine, onshore' (kilowatt hour, CN-HA, None),\n",
       " 'electricity production, nuclear, boiling water reactor' (kilowatt hour, FI, None),\n",
       " 'electricity, high voltage, import from CD' (kilowatt hour, GA, None),\n",
       " 'electricity production, natural gas, conventional power plant' (kilowatt hour, CN-AH, None),\n",
       " 'electricity production, hydro, reservoir, alpine region' (kilowatt hour, IN-KL, None),\n",
       " 'electricity production, nuclear, pressure water reactor' (kilowatt hour, CN-GD, None),\n",
       " 'electricity production, nuclear, pressure water reactor' (kilowatt hour, HU, None),\n",
       " 'electricity, high voltage, production mix' (kilowatt hour, EC, None),\n",
       " 'electricity production, hydro, run-of-river' (kilowatt hour, JP, None),\n",
       " 'electricity production, hydro, reservoir, tropical region' (kilowatt hour, ID, None),\n",
       " 'electricity production, hard coal' (kilowatt hour, CL, None),\n",
       " 'electricity production, wind, 1-3MW turbine, offshore' (kilowatt hour, SE, None),\n",
       " 'electricity production, hydro, run-of-river' (kilowatt hour, HU, None),\n",
       " 'electricity, high voltage, import from CA-MB' (kilowatt hour, CA-ON, None),\n",
       " 'heat and power co-generation, biogas, gas engine' (kilowatt hour, US-WECC, None),\n",
       " 'electricity, high voltage, import from DE' (kilowatt hour, DK, None),\n",
       " 'heat and power co-generation, natural gas, combined cycle power plant, 400MW electrical' (kilowatt hour, US-RFC, None),\n",
       " 'electricity, high voltage, import from CH' (kilowatt hour, FR, None),\n",
       " 'treatment of blast furnace gas, in power plant' (kilowatt hour, CN-FJ, None),\n",
       " 'electricity production, wind, 1-3MW turbine, onshore' (kilowatt hour, CN-FJ, None),\n",
       " 'heat and power co-generation, wood chips, 6667 kW, state-of-the-art 2014' (kilowatt hour, CL, None),\n",
       " 'electricity production, natural gas, combined cycle power plant' (kilowatt hour, CN-HN, None),\n",
       " 'electricity production, hydro, reservoir, alpine region' (kilowatt hour, CA-YK, None),\n",
       " 'electricity production, hard coal' (kilowatt hour, BR-North-eastern grid, None),\n",
       " 'electricity, high voltage, production mix' (kilowatt hour, BD, None),\n",
       " 'electricity production, lignite' (kilowatt hour, MK, None),\n",
       " 'market for electricity, high voltage' (kilowatt hour, CA-SK, None),\n",
       " 'electricity, high voltage, natural gas, import from Germany' (kilowatt hour, CH, None),\n",
       " 'market for electricity, high voltage' (kilowatt hour, BW, None),\n",
       " 'electricity production, wind, 1-3MW turbine, offshore' (kilowatt hour, IE, None),\n",
       " 'electricity production, hydro, run-of-river' (kilowatt hour, HR, None),\n",
       " 'heat and power co-generation, oil' (kilowatt hour, SI, None),\n",
       " 'electricity production, wind, >3MW turbine, onshore' (kilowatt hour, CN-TJ, None),\n",
       " 'electricity production, lignite' (kilowatt hour, IT, None),\n",
       " 'electricity, high voltage, production mix' (kilowatt hour, NORDEL, None),\n",
       " 'treatment of blast furnace gas, in power plant' (kilowatt hour, CN-HL, None),\n",
       " 'electricity, high voltage, import from US-NPCC' (kilowatt hour, CA-NB, None),\n",
       " 'heat and power co-generation, wood chips, 6667 kW, state-of-the-art 2014' (kilowatt hour, US-SERC, None),\n",
       " 'electricity production, oil' (kilowatt hour, US-SERC, None),\n",
       " 'electricity, high voltage, import from CA-QC' (kilowatt hour, CA-ON, None),\n",
       " 'electricity production, hard coal' (kilowatt hour, IN-HR, None),\n",
       " 'electricity production, hydro, run-of-river' (kilowatt hour, LU, None),\n",
       " 'heat and power co-generation, natural gas, conventional power plant, 100MW electrical' (kilowatt hour, RS, None),\n",
       " 'electricity production, hard coal' (kilowatt hour, CN-SA, None),\n",
       " 'market for electricity, high voltage' (kilowatt hour, CI, None),\n",
       " 'electricity production, hydro, run-of-river' (kilowatt hour, LV, None),\n",
       " 'market for electricity, high voltage' (kilowatt hour, US-HICC, None),\n",
       " 'electricity production, hydro, reservoir, alpine region' (kilowatt hour, AT, None),\n",
       " 'electricity production, hard coal' (kilowatt hour, BG, None),\n",
       " 'electricity production, hydro, run-of-river' (kilowatt hour, CN-JS, None),\n",
       " 'heat and power co-generation, biogas, gas engine' (kilowatt hour, FI, None),\n",
       " 'heat and power co-generation, wood chips, 6667 kW' (kilowatt hour, RoW, None),\n",
       " 'sulfate pulp production, from softwood, unbleached' (kilowatt hour, RoW, None),\n",
       " 'electricity production, hydro, run-of-river' (kilowatt hour, IN-ML, None),\n",
       " 'electricity production, wind, >3MW turbine, onshore' (kilowatt hour, CA-SK, None),\n",
       " 'electricity production, wind, 1-3MW turbine, onshore' (kilowatt hour, ZA, None),\n",
       " 'electricity production, wind, 1-3MW turbine, onshore' (kilowatt hour, CN-HE, None),\n",
       " 'electricity, high voltage, production mix' (kilowatt hour, CN-HL, None),\n",
       " 'electricity production, oil' (kilowatt hour, BE, None),\n",
       " 'electricity production, nuclear, boiling water reactor' (kilowatt hour, GB, None),\n",
       " 'electricity production, oil' (kilowatt hour, CA-NF, None),\n",
       " 'heat and power co-generation, oil' (kilowatt hour, US-NPCC, None),\n",
       " 'electricity, high voltage, import from SE' (kilowatt hour, NO, None),\n",
       " 'electricity, high voltage, production mix' (kilowatt hour, ZM, None),\n",
       " 'market for electricity, high voltage' (kilowatt hour, BR-South-eastern grid, None),\n",
       " 'electricity, high voltage, import from FI' (kilowatt hour, SE, None),\n",
       " 'electricity, high voltage, production mix' (kilowatt hour, CW, None),\n",
       " 'heat and power co-generation, biogas, gas engine' (kilowatt hour, TW, None),\n",
       " 'electricity, high voltage, import from IR' (kilowatt hour, TR, None),\n",
       " 'electricity production, hydro, pumped storage' (kilowatt hour, CZ, None),\n",
       " 'electricity production, hydro, run-of-river' (kilowatt hour, UA, None),\n",
       " 'electricity production, oil' (kilowatt hour, FR, None),\n",
       " 'electricity production, natural gas, conventional power plant' (kilowatt hour, IN-RJ, None),\n",
       " 'electricity, high voltage, production mix' (kilowatt hour, CD, None),\n",
       " 'electricity production, wind, <1MW turbine, onshore' (kilowatt hour, NO, None),\n",
       " 'electricity production, hydro, run-of-river' (kilowatt hour, AU, None),\n",
       " 'electricity production, natural gas, combined cycle power plant' (kilowatt hour, US-NPCC, None),\n",
       " 'electricity production, natural gas, conventional power plant' (kilowatt hour, IN-AS, None),\n",
       " 'heat and power co-generation, wood chips, 6667 kW, state-of-the-art 2014' (kilowatt hour, AT, None),\n",
       " 'electricity production, solar tower power plant, 20 MW' (kilowatt hour, RoW, None),\n",
       " 'electricity production, wind, <1MW turbine, onshore' (kilowatt hour, AR, None),\n",
       " 'electricity, high voltage, import from TZ' (kilowatt hour, KE, None),\n",
       " 'electricity, high voltage, import from UZ' (kilowatt hour, RU, None),\n",
       " 'electricity production, wind, <1MW turbine, onshore' (kilowatt hour, CN-SC, None),\n",
       " 'market for electricity, high voltage' (kilowatt hour, UZ, None),\n",
       " 'market for electricity, high voltage' (kilowatt hour, LV, None),\n",
       " 'heat and power co-generation, wood chips, 6667 kW, state-of-the-art 2014' (kilowatt hour, CH, None),\n",
       " 'electricity production, wind, 1-3MW turbine, onshore' (kilowatt hour, MK, None),\n",
       " 'electricity production, natural gas, conventional power plant' (kilowatt hour, IN-TR, None),\n",
       " 'electricity production, oil' (kilowatt hour, CN-BJ, None),\n",
       " 'electricity production, natural gas, combined cycle power plant' (kilowatt hour, IT, None),\n",
       " 'electricity, high voltage, production mix' (kilowatt hour, CA-MB, None),\n",
       " 'electricity, high voltage, import from IN-Western grid' (kilowatt hour, IN-Northern grid, None),\n",
       " 'heat and power co-generation, wood chips, 6667 kW, state-of-the-art 2014' (kilowatt hour, NO, None),\n",
       " 'heat and power co-generation, hard coal' (kilowatt hour, DE, None),\n",
       " 'electricity, high voltage, production mix' (kilowatt hour, BR-Mid-western grid, None),\n",
       " 'electricity, high voltage, import from GR' (kilowatt hour, IT, None),\n",
       " 'electricity, high voltage, import from ZA' (kilowatt hour, NA, None),\n",
       " 'heat and power co-generation, wood chips, 6667 kW, state-of-the-art 2014' (kilowatt hour, CA-ON, None),\n",
       " 'electricity production, wind, 1-3MW turbine, onshore' (kilowatt hour, CN-NX, None),\n",
       " 'electricity production, oil' (kilowatt hour, CN-TJ, None),\n",
       " 'heat and power co-generation, wood chips, 6667 kW, state-of-the-art 2014' (kilowatt hour, US-NPCC, None),\n",
       " 'electricity, high voltage, import from UA' (kilowatt hour, PL, None),\n",
       " 'electricity, high voltage, import from ME' (kilowatt hour, AL, None),\n",
       " 'electricity, high voltage, import from MK' (kilowatt hour, BG, None),\n",
       " 'electricity, high voltage, production mix' (kilowatt hour, AR, None),\n",
       " 'electricity production, hard coal' (kilowatt hour, CN-QH, None),\n",
       " 'heat and power co-generation, oil' (kilowatt hour, AT, None),\n",
       " 'electricity, high voltage, import from DE' (kilowatt hour, AT, None),\n",
       " 'electricity, high voltage, production mix' (kilowatt hour, TN, None),\n",
       " 'electricity production, oil' (kilowatt hour, IT, None),\n",
       " 'heat and power co-generation, natural gas, combined cycle power plant, 400MW electrical' (kilowatt hour, HR, None),\n",
       " 'electricity production, lignite' (kilowatt hour, US-HICC, None),\n",
       " 'electricity, high voltage, production mix' (kilowatt hour, CA-YK, None),\n",
       " 'electricity production, wind, 1-3MW turbine, onshore' (kilowatt hour, CN-SC, None),\n",
       " 'electricity production, hydro, run-of-river' (kilowatt hour, CN-SH, None),\n",
       " 'electricity, high voltage, production mix' (kilowatt hour, UZ, None),\n",
       " 'market for electricity, high voltage' (kilowatt hour, GI, None),\n",
       " 'electricity production, wind, 1-3MW turbine, onshore' (kilowatt hour, AR, None),\n",
       " 'market for electricity, high voltage' (kilowatt hour, ID, None),\n",
       " 'electricity, high voltage, import from BR-Northern grid' (kilowatt hour, BR-North-eastern grid, None),\n",
       " 'electricity, high voltage, import from RAF' (kilowatt hour, CM, None),\n",
       " 'electricity production, hydro, reservoir, alpine region' (kilowatt hour, IN-JH, None),\n",
       " 'heat and power co-generation, wood chips, 6667 kW, state-of-the-art 2014' (kilowatt hour, HU, None),\n",
       " 'electricity, high voltage, production mix' (kilowatt hour, US-TRE, None),\n",
       " 'treatment of blast furnace gas, in power plant' (kilowatt hour, CN-HN, None),\n",
       " 'electricity production, natural gas, combined cycle power plant' (kilowatt hour, IE, None),\n",
       " 'market for electricity, high voltage' (kilowatt hour, IS, None),\n",
       " 'electricity production, hard coal' (kilowatt hour, CN-CQ, None),\n",
       " 'electricity, high voltage, import from CA-NB' (kilowatt hour, CA-QC, None),\n",
       " 'electricity production, hydro, reservoir, alpine region' (kilowatt hour, US-SERC, None),\n",
       " 'electricity production, natural gas, combined cycle power plant' (kilowatt hour, ID, None),\n",
       " 'market for electricity, high voltage' (kilowatt hour, MK, None),\n",
       " 'electricity, high voltage, import from MN' (kilowatt hour, RU, None),\n",
       " 'electricity production, natural gas, combined cycle power plant' (kilowatt hour, RU, None),\n",
       " 'electricity production, wind, 1-3MW turbine, onshore' (kilowatt hour, CN-SD, None),\n",
       " 'heat and power co-generation, wood chips, 6667 kW' (kilowatt hour, TH, None),\n",
       " 'electricity production, wind, 1-3MW turbine, offshore' (kilowatt hour, NO, None),\n",
       " 'electricity, high voltage, import from HU' (kilowatt hour, RO, None),\n",
       " 'electricity production, natural gas, combined cycle power plant' (kilowatt hour, CN-QH, None),\n",
       " 'electricity, high voltage, import from UA' (kilowatt hour, BY, None),\n",
       " 'electricity production, hydro, run-of-river' (kilowatt hour, CN-GD, None),\n",
       " 'electricity production, hydro, run-of-river' (kilowatt hour, IN-AR, None),\n",
       " 'electricity production, oil' (kilowatt hour, PL, None),\n",
       " 'electricity, high voltage, import from UZ' (kilowatt hour, KZ, None),\n",
       " 'market for electricity, high voltage' (kilowatt hour, DO, None),\n",
       " 'heat and power co-generation, hard coal' (kilowatt hour, PL, None),\n",
       " 'electricity production, wind, <1MW turbine, onshore' (kilowatt hour, US-TRE, None),\n",
       " 'electricity, high voltage, production mix' (kilowatt hour, TJ, None),\n",
       " 'electricity production, wind, 1-3MW turbine, onshore' (kilowatt hour, CN-YN, None),\n",
       " 'electricity, high voltage, production mix' (kilowatt hour, LY, None),\n",
       " 'electricity production, natural gas, combined cycle power plant' (kilowatt hour, ES, None),\n",
       " 'electricity production, wind, 1-3MW turbine, offshore' (kilowatt hour, CN-SD, None),\n",
       " 'electricity production, hydro, pumped storage' (kilowatt hour, CN-AH, None),\n",
       " 'electricity production, hydro, run-of-river' (kilowatt hour, US-HICC, None),\n",
       " 'electricity production, natural gas, conventional power plant' (kilowatt hour, CN-LN, None),\n",
       " 'electricity production, wind, 1-3MW turbine, onshore' (kilowatt hour, CN-SH, None),\n",
       " 'electricity production, lignite' (kilowatt hour, CA-ON, None),\n",
       " 'electricity production, wind, 1-3MW turbine, onshore' (kilowatt hour, CN-HA, None),\n",
       " 'electricity production, nuclear, pressure water reactor' (kilowatt hour, RO, None),\n",
       " 'electricity, high voltage, import from GH' (kilowatt hour, CI, None),\n",
       " 'electricity production, deep geothermal' (kilowatt hour, IN-TN, None),\n",
       " 'electricity, high voltage, import from OM' (kilowatt hour, AE, None),\n",
       " 'market for electricity, high voltage' (kilowatt hour, LT, None),\n",
       " 'electricity production, hydro, run-of-river' (kilowatt hour, NP, None),\n",
       " 'heat and power co-generation, wood chips, 6667 kW, state-of-the-art 2014' (kilowatt hour, US-RFC, None),\n",
       " 'electricity production, hydro, reservoir, alpine region' (kilowatt hour, IN-UP, None),\n",
       " 'electricity, high voltage, import from CA-ON' (kilowatt hour, US-NPCC, None),\n",
       " 'electricity production, hydro, reservoir, alpine region' (kilowatt hour, BA, None),\n",
       " 'electricity production, wind, >3MW turbine, onshore' (kilowatt hour, NO, None),\n",
       " 'electricity production, natural gas, combined cycle power plant' (kilowatt hour, CN-CQ, None),\n",
       " 'electricity production, hard coal' (kilowatt hour, CN-LN, None),\n",
       " 'electricity production, hydro, reservoir, non-alpine region' (kilowatt hour, TR, None),\n",
       " 'electricity, high voltage, import from RS' (kilowatt hour, BG, None),\n",
       " 'electricity, high voltage, production mix' (kilowatt hour, SE, None),\n",
       " 'electricity production, hydro, run-of-river' (kilowatt hour, GB, None),\n",
       " 'electricity production, hard coal' (kilowatt hour, CA-ON, None),\n",
       " 'electricity production, deep geothermal' (kilowatt hour, HU, None),\n",
       " 'electricity, high voltage, production mix' (kilowatt hour, MT, None),\n",
       " 'treatment of blast furnace gas, in power plant' (kilowatt hour, CN-LN, None),\n",
       " 'electricity production, wind, >3MW turbine, onshore' (kilowatt hour, CA-QC, None),\n",
       " 'treatment of coal gas, in power plant' (kilowatt hour, FI, None),\n",
       " 'heat and power co-generation, oil' (kilowatt hour, SK, None),\n",
       " 'petroleum refinery operation' (kilowatt hour, CH, None),\n",
       " 'electricity, high voltage, production mix' (kilowatt hour, CN-AH, None),\n",
       " 'electricity production, hydro, run-of-river' (kilowatt hour, DE, None),\n",
       " 'electricity, high voltage, import from DE' (kilowatt hour, NL, None),\n",
       " 'electricity production, wind, 1-3MW turbine, onshore' (kilowatt hour, CN-ZJ, None),\n",
       " 'electricity, high voltage, import from NI' (kilowatt hour, HN, None),\n",
       " 'heat and power co-generation, wood chips, 6667 kW, state-of-the-art 2014' (kilowatt hour, ES, None),\n",
       " 'electricity production, hydro, reservoir, non-alpine region' (kilowatt hour, US-TRE, None),\n",
       " 'electricity production, natural gas, conventional power plant' (kilowatt hour, BR-Mid-western grid, None),\n",
       " 'electricity production, natural gas, 10MW' (kilowatt hour, DE, None),\n",
       " 'electricity production, natural gas, conventional power plant' (kilowatt hour, CN-SX, None),\n",
       " 'electricity production, oil' (kilowatt hour, CN-YN, None),\n",
       " 'electricity production, wind, <1MW turbine, onshore' (kilowatt hour, GB, None),\n",
       " 'heat and power co-generation, hard coal' (kilowatt hour, NO, None),\n",
       " 'heat and power co-generation, biogas, gas engine' (kilowatt hour, SI, None),\n",
       " 'electricity production, hydro, run-of-river' (kilowatt hour, CN-HE, None),\n",
       " 'electricity production, hard coal' (kilowatt hour, ES, None),\n",
       " 'electricity production, natural gas, combined cycle power plant' (kilowatt hour, IN-PY, None),\n",
       " 'electricity production, wind, 1-3MW turbine, onshore' (kilowatt hour, CN-GS, None),\n",
       " 'electricity, high voltage, production mix' (kilowatt hour, CN-TJ, None),\n",
       " 'electricity, high voltage, production mix' (kilowatt hour, CA-NS, None),\n",
       " 'electricity production, wind, <1MW turbine, onshore' (kilowatt hour, CN-HL, None),\n",
       " 'heat and power co-generation, oil' (kilowatt hour, US-RFC, None),\n",
       " 'market for electricity, high voltage' (kilowatt hour, SS, None),\n",
       " 'electricity production, hard coal' (kilowatt hour, IN-CT, None),\n",
       " 'electricity production, natural gas, combined cycle power plant' (kilowatt hour, MY, None),\n",
       " 'electricity production, natural gas, conventional power plant' (kilowatt hour, HR, None),\n",
       " 'electricity production, wind, 1-3MW turbine, onshore' (kilowatt hour, CN-LN, None),\n",
       " 'electricity production, oil' (kilowatt hour, CA-NS, None),\n",
       " 'electricity, high voltage, import from NL' (kilowatt hour, GB, None),\n",
       " 'electricity production, hydro, pumped storage' (kilowatt hour, US-TRE, None),\n",
       " 'electricity production, oil' (kilowatt hour, US-NPCC, None),\n",
       " 'treatment of coal gas, in power plant' (kilowatt hour, NL, None),\n",
       " 'electricity, high voltage, production mix' (kilowatt hour, CN-SGCC, None),\n",
       " 'electricity production, wind, >3MW turbine, onshore' (kilowatt hour, CN-JS, None),\n",
       " 'electricity production, hydro, reservoir, non-alpine region' (kilowatt hour, ZA, None),\n",
       " 'electricity production, oil' (kilowatt hour, MK, None),\n",
       " 'electricity production, solar thermal parabolic trough, 50 MW' (kilowatt hour, US-SERC, None),\n",
       " 'market for electricity, high voltage' (kilowatt hour, DE, None),\n",
       " 'electricity production, lignite' (kilowatt hour, SI, None),\n",
       " 'market for electricity, high voltage' (kilowatt hour, BJ, None),\n",
       " 'electricity, high voltage, production mix' (kilowatt hour, CN-BJ, None),\n",
       " 'electricity production, lignite' (kilowatt hour, US-MRO, None),\n",
       " 'electricity production, oil' (kilowatt hour, BR-Northern grid, None),\n",
       " 'electricity, high voltage, import from RU' (kilowatt hour, NO, None),\n",
       " 'heat and power co-generation, oil' (kilowatt hour, US-MRO, None),\n",
       " 'electricity, high voltage, import from BR-Southern grid' (kilowatt hour, BR-South-eastern grid, None),\n",
       " 'electricity, high voltage, import from CL' (kilowatt hour, AR, None),\n",
       " 'heat and power co-generation, natural gas, combined cycle power plant, 400MW electrical' (kilowatt hour, ES, None),\n",
       " 'electricity, high voltage, production mix' (kilowatt hour, RO, None),\n",
       " 'electricity production, lignite' (kilowatt hour, MX, None),\n",
       " 'electricity production, hydro, run-of-river' (kilowatt hour, CN-HN, None),\n",
       " 'electricity production, hydro, run-of-river' (kilowatt hour, SI, None),\n",
       " 'heat and power co-generation, wood chips, 6667 kW' (kilowatt hour, LV, None),\n",
       " 'electricity production, oil' (kilowatt hour, CN-GS, None),\n",
       " 'electricity, high voltage, production mix' (kilowatt hour, CA-SK, None),\n",
       " 'market for electricity, high voltage' (kilowatt hour, NI, None),\n",
       " 'electricity, high voltage, production mix' (kilowatt hour, BR-South-eastern grid, None),\n",
       " 'electricity, high voltage, import from EE' (kilowatt hour, FI, None),\n",
       " 'electricity production, hydro, pumped storage' (kilowatt hour, UA, None),\n",
       " 'electricity production, wind, 1-3MW turbine, offshore' (kilowatt hour, KR, None),\n",
       " 'treatment of coal gas, in power plant' (kilowatt hour, BR, None),\n",
       " 'electricity production, hydro, pumped storage' (kilowatt hour, US-NPCC, None),\n",
       " 'market for electricity, high voltage' (kilowatt hour, DZ, None),\n",
       " 'market for electricity, high voltage' (kilowatt hour, XK, None),\n",
       " 'heat and power co-generation, biogas, gas engine' (kilowatt hour, CH, None),\n",
       " 'electricity production, wind, <1MW turbine, onshore' (kilowatt hour, CA-SK, None),\n",
       " 'market for electricity, high voltage' (kilowatt hour, GE, None),\n",
       " 'electricity, high voltage, production mix' (kilowatt hour, NZ, None),\n",
       " 'electricity, high voltage, import from TR' (kilowatt hour, SY, None),\n",
       " 'ethanol production from sweet sorghum' (kilowatt hour, RoW, None),\n",
       " 'electricity production, natural gas, conventional power plant' (kilowatt hour, CN-HA, None),\n",
       " 'heat and power co-generation, oil' (kilowatt hour, IE, None),\n",
       " 'electricity, high voltage, import from FR' (kilowatt hour, LU, None),\n",
       " 'heat and power co-generation, wood chips, 6667 kW, state-of-the-art 2014' (kilowatt hour, GB, None),\n",
       " 'market for electricity, high voltage' (kilowatt hour, TJ, None),\n",
       " 'electricity production, lignite' (kilowatt hour, RO, None),\n",
       " 'electricity, high voltage, import from BG' (kilowatt hour, GR, None),\n",
       " 'electricity production, wind, 1-3MW turbine, offshore' (kilowatt hour, CN-JS, None),\n",
       " 'electricity, high voltage, production mix' (kilowatt hour, MA, None),\n",
       " 'electricity production, wind, >3MW turbine, onshore' (kilowatt hour, PL, None),\n",
       " 'electricity production, natural gas, conventional power plant' (kilowatt hour, CA-NF, None),\n",
       " 'electricity production, wind, >3MW turbine, onshore' (kilowatt hour, CN-YN, None),\n",
       " 'electricity production, lignite' (kilowatt hour, US-WECC, None),\n",
       " 'electricity production, wind, >3MW turbine, onshore' (kilowatt hour, GB, None),\n",
       " 'heat and power co-generation, wood chips, 6667 kW' (kilowatt hour, LT, None),\n",
       " 'heat and power co-generation, natural gas, conventional power plant, 100MW electrical' (kilowatt hour, US-ASCC, None),\n",
       " 'market for electricity, high voltage' (kilowatt hour, LY, None),\n",
       " 'electricity, high voltage, import from VE' (kilowatt hour, CO, None),\n",
       " 'electricity, high voltage, import from US-TRE' (kilowatt hour, MX, None),\n",
       " 'electricity production, lignite' (kilowatt hour, RU, None),\n",
       " 'electricity production, nuclear, pressure water reactor, heavy water moderated' (kilowatt hour, IN-KA, None),\n",
       " 'heat and power co-generation, wood chips, 6667 kW, state-of-the-art 2014' (kilowatt hour, RoW, None),\n",
       " 'electricity production, natural gas, combined cycle power plant' (kilowatt hour, CN-HL, None),\n",
       " 'electricity production, hydro, reservoir, tropical region' (kilowatt hour, CO, None),\n",
       " 'heat and power co-generation, biogas, gas engine' (kilowatt hour, CA-NB, None),\n",
       " 'electricity production, wind, 1-3MW turbine, onshore' (kilowatt hour, LU, None),\n",
       " 'electricity production, hydro, pumped storage' (kilowatt hour, AT, None),\n",
       " 'electricity production, natural gas, combined cycle power plant' (kilowatt hour, CN-BJ, None),\n",
       " 'electricity, high voltage, import from IN-Eastern grid' (kilowatt hour, IN-North-eastern grid, None),\n",
       " 'electricity production, oil' (kilowatt hour, AU, None),\n",
       " 'electricity production, wind, <1MW turbine, onshore' (kilowatt hour, LV, None),\n",
       " 'electricity production, lignite' (kilowatt hour, IN-RJ, None),\n",
       " 'electricity production, natural gas, combined cycle power plant' (kilowatt hour, IN-GJ, None),\n",
       " 'electricity production, hydro, pumped storage' (kilowatt hour, GB, None),\n",
       " 'treatment of blast furnace gas, in power plant' (kilowatt hour, CN-HE, None),\n",
       " 'heat and power co-generation, wood chips, 6667 kW, state-of-the-art 2014' (kilowatt hour, US-MRO, None),\n",
       " 'electricity, high voltage, import from ID' (kilowatt hour, MY, None),\n",
       " 'electricity, high voltage, production mix' (kilowatt hour, CN-CSG, None),\n",
       " 'treatment of blast furnace gas, in power plant' (kilowatt hour, GB, None),\n",
       " 'treatment of digester sludge, municipal incineration, future' (kilowatt hour, CH, None),\n",
       " 'electricity production, hydro, run-of-river' (kilowatt hour, IN-PB, None),\n",
       " 'electricity production, wind, 1-3MW turbine, offshore' (kilowatt hour, PL, None),\n",
       " 'electricity, high voltage, production mix' (kilowatt hour, TH, None),\n",
       " 'heat and power co-generation, natural gas, combined cycle power plant, 400MW electrical' (kilowatt hour, MK, None),\n",
       " 'heat and power co-generation, wood chips, 6667 kW, state-of-the-art 2014' (kilowatt hour, SE, None),\n",
       " 'heat and power co-generation, natural gas, combined cycle power plant, 400MW electrical' (kilowatt hour, US-WECC, None),\n",
       " 'heat and power co-generation, wood chips, 6667 kW, state-of-the-art 2014' (kilowatt hour, CZ, None),\n",
       " 'heat and power co-generation, natural gas, combined cycle power plant, 400MW electrical' (kilowatt hour, TR, None),\n",
       " 'market for electricity, high voltage' (kilowatt hour, CA-PE, None),\n",
       " 'heat and power co-generation, natural gas, combined cycle power plant, 400MW electrical' (kilowatt hour, DK, None),\n",
       " 'treatment of blast furnace gas, in power plant' (kilowatt hour, CN-HB, None),\n",
       " 'electricity production, oil' (kilowatt hour, NO, None),\n",
       " 'market for electricity, high voltage' (kilowatt hour, SE, None),\n",
       " 'electricity production, oil' (kilowatt hour, DK, None),\n",
       " 'electricity production, wind, 1-3MW turbine, offshore' (kilowatt hour, FR, None),\n",
       " 'market for electricity, high voltage' (kilowatt hour, SG, None),\n",
       " 'heat and power co-generation, oil' (kilowatt hour, FI, None),\n",
       " 'electricity production, wind, >3MW turbine, onshore' (kilowatt hour, US-TRE, None),\n",
       " 'electricity, high voltage, import from ZA' (kilowatt hour, BW, None),\n",
       " 'electricity production, natural gas, conventional power plant' (kilowatt hour, IN-HR, None),\n",
       " 'electricity production, natural gas, combined cycle power plant' (kilowatt hour, US-ASCC, None),\n",
       " 'electricity production, oil' (kilowatt hour, RU, None),\n",
       " 'electricity, high voltage, import from SK' (kilowatt hour, HU, None),\n",
       " 'treatment of coal gas, in power plant' (kilowatt hour, CZ, None),\n",
       " 'electricity production, hydro, pumped storage' (kilowatt hour, US-WECC, None),\n",
       " 'electricity production, hard coal' (kilowatt hour, RoW, None),\n",
       " 'electricity, high voltage, import from CA-NS' (kilowatt hour, CA-NB, None),\n",
       " 'electricity production, lignite' (kilowatt hour, IN-GJ, None),\n",
       " 'electricity production, natural gas, combined cycle power plant' (kilowatt hour, IN-DL, None),\n",
       " 'electricity production, wind, <1MW turbine, onshore' (kilowatt hour, CY, None),\n",
       " 'electricity, high voltage, production mix' (kilowatt hour, CA-QC, None),\n",
       " 'electricity production, nuclear, pressure water reactor' (kilowatt hour, CN-SH, None),\n",
       " 'electricity production, nuclear, pressure water reactor, heavy water moderated' (kilowatt hour, CA-QC, None),\n",
       " 'heat and power co-generation, oil' (kilowatt hour, RS, None),\n",
       " 'electricity, high voltage, import from US-WECC' (kilowatt hour, CA-BC, None),\n",
       " 'electricity production, deep geothermal' (kilowatt hour, IT, None),\n",
       " 'market for electricity, high voltage' (kilowatt hour, BA, None),\n",
       " 'market for electricity, high voltage' (kilowatt hour, BR-Mid-western grid, None),\n",
       " 'electricity production, hydro, reservoir, non-alpine region' (kilowatt hour, PT, None),\n",
       " 'electricity, high voltage, import from RS' (kilowatt hour, HU, None),\n",
       " 'electricity production, natural gas, conventional power plant' (kilowatt hour, RO, None),\n",
       " 'electricity production, oil' (kilowatt hour, CL, None),\n",
       " 'market for electricity, high voltage' (kilowatt hour, UY, None),\n",
       " 'electricity, high voltage, import from BT' (kilowatt hour, IN-Eastern grid, None),\n",
       " 'electricity production, nuclear, pressure water reactor' (kilowatt hour, RU, None),\n",
       " ...]"
      ]
     },
     "execution_count": 9,
     "metadata": {},
     "output_type": "execute_result"
    }
   ],
   "source": [
    "pulpo_worker.retrieve_activities(reference_products=reference_products)"
   ]
  },
  {
   "cell_type": "markdown",
   "id": "03e8a151",
   "metadata": {},
   "source": [
    "Let's retrieve the activity of our functional unit and specify the demand as a dictionary:"
   ]
  },
  {
   "cell_type": "code",
   "execution_count": 10,
   "id": "332b2f95",
   "metadata": {
    "execution": {
     "iopub.execute_input": "2023-10-10T18:15:24.222324Z",
     "iopub.status.busy": "2023-10-10T18:15:24.222324Z",
     "iopub.status.idle": "2023-10-10T18:15:25.805359Z",
     "shell.execute_reply": "2023-10-10T18:15:25.804358Z",
     "shell.execute_reply.started": "2023-10-10T18:15:24.222324Z"
    }
   },
   "outputs": [],
   "source": [
    "electricity_market = pulpo_worker.retrieve_activities(activities=activities, reference_products=reference_products, locations=locations)"
   ]
  },
  {
   "cell_type": "code",
   "execution_count": 11,
   "id": "1959b64f",
   "metadata": {
    "execution": {
     "iopub.execute_input": "2023-10-10T18:15:25.807353Z",
     "iopub.status.busy": "2023-10-10T18:15:25.806357Z",
     "iopub.status.idle": "2023-10-10T18:15:25.820128Z",
     "shell.execute_reply": "2023-10-10T18:15:25.820128Z",
     "shell.execute_reply.started": "2023-10-10T18:15:25.806357Z"
    }
   },
   "outputs": [
    {
     "data": {
      "text/plain": [
       "['market for electricity, high voltage' (kilowatt hour, DE, None)]"
      ]
     },
     "execution_count": 11,
     "metadata": {},
     "output_type": "execute_result"
    }
   ],
   "source": [
    "electricity_market"
   ]
  },
  {
   "cell_type": "markdown",
   "id": "7cf0adef",
   "metadata": {},
   "source": [
    "Setting a demand of 128,819.0 GWh of electricity according to [Germany electricity demand 2018](https://www.destatis.de/EN/Themes/Society-Environment/Environment/Material-Energy-Flows/Tables/electricity-consumption-households.html)\n"
   ]
  },
  {
   "cell_type": "code",
   "execution_count": 12,
   "id": "223e1cf1",
   "metadata": {
    "execution": {
     "iopub.execute_input": "2023-10-10T18:15:25.822126Z",
     "iopub.status.busy": "2023-10-10T18:15:25.821156Z",
     "iopub.status.idle": "2023-10-10T18:15:25.836106Z",
     "shell.execute_reply": "2023-10-10T18:15:25.835106Z",
     "shell.execute_reply.started": "2023-10-10T18:15:25.822126Z"
    }
   },
   "outputs": [],
   "source": [
    "demand = {electricity_market[0]: 1.28819e+11}"
   ]
  },
  {
   "cell_type": "markdown",
   "id": "992d6029",
   "metadata": {},
   "source": [
    "### Specify the **choices**"
   ]
  },
  {
   "cell_type": "markdown",
   "id": "4b6d561a",
   "metadata": {},
   "source": [
    "The choices are specified similar to the demand / functional unit. First, search for the processes with equivalent products:"
   ]
  },
  {
   "cell_type": "code",
   "execution_count": 13,
   "id": "d704a9a5",
   "metadata": {
    "execution": {
     "iopub.execute_input": "2023-10-10T18:15:25.837102Z",
     "iopub.status.busy": "2023-10-10T18:15:25.837102Z",
     "iopub.status.idle": "2023-10-10T18:15:27.327241Z",
     "shell.execute_reply": "2023-10-10T18:15:27.326240Z",
     "shell.execute_reply.started": "2023-10-10T18:15:25.837102Z"
    }
   },
   "outputs": [],
   "source": [
    "activities = [\"electricity production, lignite\", \n",
    "             \"electricity production, hard coal\",\n",
    "             \"electricity production, nuclear, pressure water reactor\",\n",
    "             \"electricity production, wind, 1-3MW turbine, onshore\"]\n",
    "reference_products = [\"electricity, high voltage\"]\n",
    "locations = [\"DE\"]\n",
    "\n",
    "electricity_activities = pulpo_worker.retrieve_activities(activities=activities, reference_products=reference_products, locations=locations)"
   ]
  },
  {
   "cell_type": "code",
   "execution_count": 14,
   "id": "9d8fac69",
   "metadata": {
    "execution": {
     "iopub.execute_input": "2023-10-10T18:15:27.328238Z",
     "iopub.status.busy": "2023-10-10T18:15:27.328238Z",
     "iopub.status.idle": "2023-10-10T18:15:27.357193Z",
     "shell.execute_reply": "2023-10-10T18:15:27.356191Z",
     "shell.execute_reply.started": "2023-10-10T18:15:27.328238Z"
    }
   },
   "outputs": [
    {
     "data": {
      "text/plain": [
       "['electricity production, nuclear, pressure water reactor' (kilowatt hour, DE, None),\n",
       " 'electricity production, lignite' (kilowatt hour, DE, None),\n",
       " 'electricity production, wind, 1-3MW turbine, onshore' (kilowatt hour, DE, None),\n",
       " 'electricity production, hard coal' (kilowatt hour, DE, None)]"
      ]
     },
     "execution_count": 14,
     "metadata": {},
     "output_type": "execute_result"
    }
   ],
   "source": [
    "electricity_activities"
   ]
  },
  {
   "cell_type": "markdown",
   "id": "12c4d7a7-826d-4168-a9e5-902cf21537d1",
   "metadata": {},
   "source": [
    "These are the currently four most employed technologies for electricity production in Germany (lignite: 24.2%, wind: 15.4%, coal: 11.9%, nuclear: 10.6%) according to the \"_market for electricity, high voltage (DE)_\""
   ]
  },
  {
   "cell_type": "markdown",
   "id": "d9a512a5",
   "metadata": {},
   "source": [
    "Specify also the choices as a dictionary. Be aware, that this time we are dealing with a dictionary of dictionaries. Each inner dictionary corresponds to one type of choice in the background! Here, we only consider choices between electricity production activities, so we assign the key \"electricity\" to the equivalent product they produce. \n",
    "\n",
    "The assigned value in the inner dictionary is the capacity limit of this activity, which for now is set to a very high value, to consider an unconstrained situation. "
   ]
  },
  {
   "cell_type": "code",
   "execution_count": 15,
   "id": "bfae6af4",
   "metadata": {
    "execution": {
     "iopub.execute_input": "2023-10-10T18:15:27.360182Z",
     "iopub.status.busy": "2023-10-10T18:15:27.359185Z",
     "iopub.status.idle": "2023-10-10T18:15:27.373256Z",
     "shell.execute_reply": "2023-10-10T18:15:27.372259Z",
     "shell.execute_reply.started": "2023-10-10T18:15:27.360182Z"
    }
   },
   "outputs": [],
   "source": [
    "choices  = {'electricity': {electricity_activities[0]: 1e16,\n",
    "                         electricity_activities[1]: 1e16,\n",
    "                         electricity_activities[2]: 1e16,\n",
    "                         electricity_activities[3]: 1e16}}"
   ]
  },
  {
   "cell_type": "markdown",
   "id": "25f8cf77",
   "metadata": {},
   "source": [
    "<div style=\"text-align: center; background-color: #f0f0f0; padding: 10px;\">\n",
    "    <h2 style=\"font-family: 'Arial', sans-serif; font-weight: bold; color: #555;\">(3) Solution</h2>\n",
    "</div>"
   ]
  },
  {
   "cell_type": "markdown",
   "id": "3a90008f",
   "metadata": {},
   "source": [
    "### Instantiate the worker"
   ]
  },
  {
   "cell_type": "code",
   "execution_count": 16,
   "id": "be46ea2d",
   "metadata": {
    "execution": {
     "iopub.execute_input": "2023-10-10T18:15:27.374252Z",
     "iopub.status.busy": "2023-10-10T18:15:27.373256Z",
     "iopub.status.idle": "2023-10-10T18:15:35.737432Z",
     "shell.execute_reply": "2023-10-10T18:15:35.736455Z",
     "shell.execute_reply.started": "2023-10-10T18:15:27.374252Z"
    },
    "scrolled": true
   },
   "outputs": [
    {
     "name": "stdout",
     "output_type": "stream",
     "text": [
      "Creating Instance\n",
      "Instance created\n"
     ]
    }
   ],
   "source": [
    "instance = pulpo_worker.instantiate(choices=choices, demand=demand)"
   ]
  },
  {
   "cell_type": "markdown",
   "id": "20353834",
   "metadata": {},
   "source": [
    "### Solve the instance"
   ]
  },
  {
   "cell_type": "markdown",
   "id": "43da9882",
   "metadata": {},
   "source": [
    "When specifying a valid GAMS_PATH with a licence for CPLEX, as shown below, CPLEX with fine-tuned parameters is automatically selected to solve the Linear Problem (**LP**).\n",
    "\n",
    "If no GAMS_PATH is specified, the \"[HiGHS](https://highs.dev/)\" solver is automatically used. It has almost double the run time of \"CPLEX\"."
   ]
  },
  {
   "cell_type": "code",
   "execution_count": 17,
   "id": "eb13ed22",
   "metadata": {
    "execution": {
     "iopub.execute_input": "2023-10-10T18:15:35.738427Z",
     "iopub.status.busy": "2023-10-10T18:15:35.738427Z",
     "iopub.status.idle": "2023-10-10T18:15:59.973249Z",
     "shell.execute_reply": "2023-10-10T18:15:59.972248Z",
     "shell.execute_reply.started": "2023-10-10T18:15:35.738427Z"
    },
    "scrolled": true
   },
   "outputs": [
    {
     "name": "stdout",
     "output_type": "stream",
     "text": [
      "GAMS solvers library availability: True\n",
      "Solver path: C:\\GAMS\\37\\gams.exe\n",
      "        6.93 seconds required for presolve\n",
      "--- Job model.gms Start 12/13/23 14:53:32 37.1.0 r07954d5 WEX-WEI x86 64bit/MS Windows\n",
      "--- Applying:\n",
      "    C:\\GAMS\\37\\gmsprmNT.txt\n",
      "    C:\\Users\\Usuario\\Documents\\GAMS\\gamsconfig.yaml\n",
      "--- GAMS Parameters defined\n",
      "    MIP CPLEX\n",
      "    Input C:\\Users\\Usuario\\AppData\\Local\\Temp\\tmp5dz8qhs2\\model.gms\n",
      "    Output C:\\Users\\Usuario\\AppData\\Local\\Temp\\tmp5dz8qhs2\\output.lst\n",
      "    ScrDir C:\\Users\\Usuario\\AppData\\Local\\Temp\\tmp5dz8qhs2\\225a\\\n",
      "    SysDir C:\\GAMS\\37\\\n",
      "    CurDir C:\\Users\\Usuario\\AppData\\Local\\Temp\\tmp5dz8qhs2\\\n",
      "    LogOption 3\n",
      "    OptCR 1E-9\n",
      "Licensee: Antonio Espuna, Single User License            S210319|0002AN-WIN\n",
      "          Universitat Politecnica de Catalunya, Chemical Engineering DC6757\n",
      "          C:\\Users\\Usuario\\Documents\\GAMS\\gamslice.txt\n",
      "          antonio.espuna@upc.edu                                           \n",
      "Processor information: 1 socket(s), 12 core(s), and 20 thread(s) available\n",
      "GAMS 37.1.0   Copyright (C) 1987-2021 GAMS Development. All rights reserved\n",
      "--- Starting compilation\n",
      "--- model.gms(135019) 35 Mb\n",
      "--- model.gms(152595) 39 Mb\n",
      "--- model.gms(254372) 48 Mb\n",
      "--- $echo File C:\\Users\\Usuario\\AppData\\Local\\Temp\\tmp5dz8qhs2\\cplex.opt\n",
      "--- model.gms(355037) 59 Mb\n",
      "--- model.gms(371817) 72 Mb\n",
      "--- Starting execution: elapsed 0:00:00.472\n",
      "--- model.gms(254371) 73 Mb\n",
      "--- Generating LP model GAMS_MODEL\n",
      "--- model.gms(121562) 77 Mb\n",
      "--- model.gms(136971) 91 Mb\n",
      "--- model.gms(150767) 91 Mb\n",
      "--- model.gms(254379) 97 Mb\n",
      "---   78,256 rows  39,129 columns  325,452 non-zeroes\n",
      "--- Executing CPLEX (Solvelink=5): elapsed 0:00:00.890\n",
      "\n",
      "IBM ILOG CPLEX   37.1.0 r07954d5 Released Nov 11, 2021 WEI x86 64bit/MS Window\n",
      "\n",
      "--- GAMS/Cplex Link licensed for continuous and discrete problems.\n",
      "\n",
      "Reading parameter(s) from \"C:\\Users\\Usuario\\AppData\\Local\\Temp\\tmp5dz8qhs2\\cplex.opt\"\n",
      ">>  workmem=4096\n",
      ">>  scaind=1\n",
      "Finished reading from \"C:\\Users\\Usuario\\AppData\\Local\\Temp\\tmp5dz8qhs2\\cplex.opt\"\n",
      "\n",
      "--- GMO setup time: 0.00s\n",
      "--- Space for names approximately 3.20 Mb\n",
      "--- Use option 'names no' to turn use of names off\n",
      "--- GMO memory 28.28 Mb (peak 28.58 Mb)\n",
      "--- Dictionary memory 0.00 Mb\n",
      "--- Cplex 20.1.0.1 link memory 1.64 Mb (peak 9.39 Mb)\n",
      "--- Starting Cplex\n",
      "\n",
      "Version identifier: 20.1.0.1 | 2021-04-07 | 3a818710c\n",
      "CPXPARAM_Advance                                 0\n",
      "CPXPARAM_Read_Scale                              1\n",
      "CPXPARAM_Threads                                 1\n",
      "CPXPARAM_MIP_Display                             4\n",
      "CPXPARAM_MIP_Pool_Capacity                       0\n",
      "CPXPARAM_TimeLimit                               3600\n",
      "CPXPARAM_WorkMem                                 4096\n",
      "CPXPARAM_MIP_Tolerances_AbsMIPGap                0\n",
      "CPXPARAM_MIP_Tolerances_MIPGap                   1.0000000000000001e-15\n",
      "Tried aggregator 1 time.\n",
      "Linear dependency checker was stopped due to maximum work limit.\n",
      "LP Presolve eliminated 104677 rows and 26422 columns.\n",
      "Aggregator did 9385 substitutions.\n",
      "Reduced LP has 3319 rows, 3322 columns, and 100046 nonzeros.\n",
      "Presolve time = 0.36 sec. (884.62 ticks)\n",
      "Initializing dual steep norms . . .\n",
      "\n",
      "Iteration log . . .\n",
      "Iteration:     1   Scaled dual infeas =            50.474670\n",
      "Iteration:    86   Scaled dual infeas =            47.405841\n",
      "Iteration:   163   Scaled dual infeas =            44.368386\n",
      "Iteration:   243   Scaled dual infeas =            40.883856\n",
      "Iteration:   316   Scaled dual infeas =            39.912683\n",
      "Iteration:   390   Scaled dual infeas =            39.193033\n",
      "Iteration:   471   Scaled dual infeas =            38.614790\n",
      "Iteration:   547   Scaled dual infeas =            38.543896\n",
      "Iteration:   626   Scaled dual infeas =            37.397613\n",
      "Iteration:   711   Scaled dual infeas =            31.520890\n",
      "Iteration:   790   Scaled dual infeas =            30.815913\n",
      "Iteration:   862   Scaled dual infeas =            28.959280\n",
      "Iteration:   942   Scaled dual infeas =            28.006524\n",
      "Iteration:  1023   Scaled dual infeas =            27.464379\n",
      "Iteration:  1102   Scaled dual infeas =            27.135122\n",
      "Iteration:  1180   Scaled dual infeas =            26.015790\n",
      "Iteration:  1259   Scaled dual infeas =            25.270040\n",
      "Iteration:  1344   Scaled dual infeas =            17.232044\n",
      "Iteration:  1428   Scaled dual infeas =            13.336856\n",
      "Iteration:  1517   Scaled dual infeas =            11.370320\n",
      "Iteration:  1603   Scaled dual infeas =            10.109186\n",
      "Iteration:  1691   Scaled dual infeas =             9.575695\n",
      "Iteration:  1784   Scaled dual infeas =             8.305191\n",
      "Iteration:  1874   Scaled dual infeas =             7.211378\n",
      "Iteration:  1970   Scaled dual infeas =             5.049294\n",
      "Iteration:  2065   Scaled dual infeas =             3.392900\n",
      "Iteration:  2162   Scaled dual infeas =             2.694988\n",
      "Iteration:  2261   Scaled dual infeas =             2.413233\n",
      "Iteration:  2359   Scaled dual infeas =             2.049437\n",
      "Iteration:  2460   Scaled dual infeas =             1.223871\n",
      "Iteration:  2562   Scaled dual infeas =             0.905910\n",
      "Markowitz threshold set to 0.1\n",
      "Iteration:  2667   Scaled dual infeas =             0.353218\n",
      "Iteration:  2722   Dual objective     =   16212404748.559082\n",
      "Removing shift (43).\n",
      "\n",
      "--- LP status (1): optimal.\n",
      "--- Cplex Time: 2.41sec (det. 8559.39 ticks)\n",
      "\n",
      "\n",
      "Optimal solution found\n",
      "Objective:  16247240169.424801\n",
      "\n",
      "--- Reading solution for model GAMS_MODEL\n",
      "--- Executing after solve: elapsed 0:00:03.365\n",
      "--- model.gms(254382) 97 Mb\n",
      "--- model.gms(366740) 97 Mb\n",
      "--- model.gms(371817) 97 Mb\n",
      "--- Putfile results C:\\Users\\Usuario\\AppData\\Local\\Temp\\tmp5dz8qhs2\\results.dat\n",
      "--- Putfile statresults C:\\Users\\Usuario\\AppData\\Local\\Temp\\tmp5dz8qhs2\\resultsstat.dat\n",
      "*** Status: Normal completion\n",
      "--- model.gms(371817) 94 Mb\n",
      "--- Job model.gms Stop 12/13/23 14:53:36 elapsed 0:00:03.570\n",
      "\n",
      "GAMS WORKING DIRECTORY: C:\\Users\\Usuario\\AppData\\Local\\Temp\\tmp5dz8qhs2\n",
      "\n",
      "        4.42 seconds required for solver\n",
      "        0.34 seconds required for postsolve\n",
      "       11.69 seconds required total\n"
     ]
    }
   ],
   "source": [
    "#results = pulpo_worker.solve()\n",
    "# Alternatively using GAMS (cplex) solvers:\n",
    "results = pulpo_worker.solve(GAMS_PATH=GAMS_PATH)"
   ]
  },
  {
   "cell_type": "markdown",
   "id": "916c7e48",
   "metadata": {},
   "source": [
    "### Save and summarize the results 💾📈"
   ]
  },
  {
   "cell_type": "markdown",
   "id": "cba63697",
   "metadata": {},
   "source": [
    "The \"**save_results()**\" function will save the results in an processed format to an excel file in the data folder that has been specified at the beginning."
   ]
  },
  {
   "cell_type": "code",
   "execution_count": 19,
   "id": "cf427cea",
   "metadata": {
    "execution": {
     "iopub.execute_input": "2023-10-10T18:15:59.974245Z",
     "iopub.status.busy": "2023-10-10T18:15:59.974245Z",
     "iopub.status.idle": "2023-10-10T18:16:01.078467Z",
     "shell.execute_reply": "2023-10-10T18:16:01.078467Z",
     "shell.execute_reply.started": "2023-10-10T18:15:59.974245Z"
    }
   },
   "outputs": [],
   "source": [
    "pulpo_worker.save_results(choices=choices, demand=demand, name='electricity_showcase_results.xlsx')"
   ]
  },
  {
   "cell_type": "markdown",
   "id": "20b00f17",
   "metadata": {},
   "source": [
    "You can inspect the generated excel file."
   ]
  },
  {
   "cell_type": "markdown",
   "id": "4c4a1df1",
   "metadata": {},
   "source": [
    "There is another function to summarize the results in dataframe form within jupyter notbeooks called \"summarize_results\". This function has similar inputs to the \"save_results\" function, but does not require the specification of a filename. Additionally, by specifying the \"*zeroes*\" parameter to \"*True*\" all the not-selected choices are omitted in the summary."
   ]
  },
  {
   "cell_type": "code",
   "execution_count": null,
   "id": "f6141497",
   "metadata": {
    "execution": {
     "iopub.execute_input": "2023-10-10T18:16:01.080465Z",
     "iopub.status.busy": "2023-10-10T18:16:01.079499Z",
     "iopub.status.idle": "2023-10-10T18:16:01.127449Z",
     "shell.execute_reply": "2023-10-10T18:16:01.126496Z",
     "shell.execute_reply.started": "2023-10-10T18:16:01.080465Z"
    }
   },
   "outputs": [],
   "source": [
    "pulpo_worker.summarize_results(choices=choices, demand=demand, zeroes=True)"
   ]
  },
  {
   "cell_type": "markdown",
   "id": "f5893613",
   "metadata": {},
   "source": [
    "# Closing Remarks"
   ]
  },
  {
   "cell_type": "markdown",
   "id": "c1b2f442",
   "metadata": {},
   "source": [
    "This is the end of the very basic PULPO functionalities using the electricity case study. "
   ]
  },
  {
   "cell_type": "markdown",
   "id": "b5298095",
   "metadata": {},
   "source": [
    "The following sections will dive deeper into additional functionalities."
   ]
  },
  {
   "cell_type": "markdown",
   "id": "602c9d5e",
   "metadata": {},
   "source": [
    "<div style=\"text-align: center; background-color: #f0f0f0; padding: 10px;\">\n",
    "    <h2 style=\"font-family: 'Arial', sans-serif; font-weight: bold; color: #555;\">Additional Constraints</h2>\n",
    "</div>"
   ]
  },
  {
   "cell_type": "markdown",
   "id": "07bffb38-471b-4f7c-b48d-9954e0fe4e55",
   "metadata": {},
   "source": [
    "<div style=\"text-align: center;\">\n",
    "    <img src=\"pictures/electricity_showcase_2.png\" alt=\"Image Alt Text\" style=\"width: 50%;\" />\n",
    "</div>"
   ]
  },
  {
   "cell_type": "markdown",
   "id": "450f9fc7",
   "metadata": {},
   "source": [
    "#### Technosphere Flows"
   ]
  },
  {
   "cell_type": "markdown",
   "id": "e277bb96",
   "metadata": {},
   "source": [
    "Let's assess what happens if the \"_electricity production, nuclear, pressure water reactor | electricity, high voltage | DE_\" activity is indirectly constrained trough a restriction on \"_nuclear fuel element, for pressure water reactor, UO2 4.0% & MOX_\""
   ]
  },
  {
   "cell_type": "code",
   "execution_count": null,
   "id": "04b68998",
   "metadata": {
    "execution": {
     "iopub.execute_input": "2023-10-10T18:16:01.128446Z",
     "iopub.status.busy": "2023-10-10T18:16:01.128446Z",
     "iopub.status.idle": "2023-10-10T18:16:02.434337Z",
     "shell.execute_reply": "2023-10-10T18:16:02.433211Z",
     "shell.execute_reply.started": "2023-10-10T18:16:01.128446Z"
    }
   },
   "outputs": [],
   "source": [
    "activities = [\"market for nuclear fuel element, for pressure water reactor, UO2 4.0% & MOX\"]\n",
    "reference_products = [\"nuclear fuel element, for pressure water reactor, UO2 4.0% & MOX\"]\n",
    "locations = [\"GLO\"]\n",
    "\n",
    "nuclear_fuel = pulpo_worker.retrieve_activities(activities=activities, reference_products=reference_products, locations=locations)"
   ]
  },
  {
   "cell_type": "code",
   "execution_count": null,
   "id": "aebdc35c",
   "metadata": {
    "execution": {
     "iopub.execute_input": "2023-10-10T18:16:02.435335Z",
     "iopub.status.busy": "2023-10-10T18:16:02.435335Z",
     "iopub.status.idle": "2023-10-10T18:16:02.449289Z",
     "shell.execute_reply": "2023-10-10T18:16:02.448292Z",
     "shell.execute_reply.started": "2023-10-10T18:16:02.435335Z"
    }
   },
   "outputs": [],
   "source": [
    "nuclear_fuel"
   ]
  },
  {
   "cell_type": "code",
   "execution_count": null,
   "id": "a89c6ee5",
   "metadata": {
    "execution": {
     "iopub.execute_input": "2023-10-10T18:16:02.450285Z",
     "iopub.status.busy": "2023-10-10T18:16:02.449289Z",
     "iopub.status.idle": "2023-10-10T18:16:02.465235Z",
     "shell.execute_reply": "2023-10-10T18:16:02.464239Z",
     "shell.execute_reply.started": "2023-10-10T18:16:02.449289Z"
    }
   },
   "outputs": [],
   "source": [
    "upper_limit = {nuclear_fuel[0]: 100000}"
   ]
  },
  {
   "cell_type": "markdown",
   "id": "da61b77d",
   "metadata": {},
   "source": [
    "The rationale behind choosing this activity and this limit is based on inspection of the scaling vector of the previous results. This activity is limiting for the nuclear electricity activity but not for the others, so, to enforce a different result than before, this activity is constrained."
   ]
  },
  {
   "cell_type": "code",
   "execution_count": null,
   "id": "87267aa9",
   "metadata": {
    "execution": {
     "iopub.execute_input": "2023-10-10T18:16:02.466232Z",
     "iopub.status.busy": "2023-10-10T18:16:02.465235Z",
     "iopub.status.idle": "2023-10-10T18:16:28.047272Z",
     "shell.execute_reply": "2023-10-10T18:16:28.046240Z",
     "shell.execute_reply.started": "2023-10-10T18:16:02.466232Z"
    },
    "scrolled": true
   },
   "outputs": [],
   "source": [
    "pulpo_worker.instantiate(choices=choices, demand=demand, upper_limit=upper_limit)\n",
    "results = pulpo_worker.solve()"
   ]
  },
  {
   "cell_type": "code",
   "execution_count": null,
   "id": "a03f1671",
   "metadata": {
    "execution": {
     "iopub.execute_input": "2023-10-10T18:16:28.048238Z",
     "iopub.status.busy": "2023-10-10T18:16:28.048238Z",
     "iopub.status.idle": "2023-10-10T18:16:28.092092Z",
     "shell.execute_reply": "2023-10-10T18:16:28.092092Z",
     "shell.execute_reply.started": "2023-10-10T18:16:28.048238Z"
    }
   },
   "outputs": [],
   "source": [
    "pulpo_worker.summarize_results(choices=choices, demand=demand, constraints=upper_limit)"
   ]
  },
  {
   "cell_type": "markdown",
   "id": "5f409b26",
   "metadata": {},
   "source": [
    "As can be seen from the summary above, part of the final electricity demand is supplied by the wind turbine processes, because the nuclear process is constrained by the nuclear fuel process. It is also evident that the impact is higher than the previous one, as the GWP minimizing process (nuclear) can no longer supply the full demand."
   ]
  },
  {
   "cell_type": "markdown",
   "id": "52f439fb",
   "metadata": {},
   "source": [
    "#### Elementary Flows"
   ]
  },
  {
   "cell_type": "markdown",
   "id": "ac1cba55",
   "metadata": {},
   "source": [
    "Apart from technosphere flows, elementary flows may also be constrained. This could be a limitation on the extraction of raw materials or the emission of a certain compound. In this case study, we limit the emission of Radon-22:"
   ]
  },
  {
   "cell_type": "code",
   "execution_count": null,
   "id": "46d1812d",
   "metadata": {},
   "outputs": [],
   "source": [
    "elem = pulpo_worker.retrieve_envflows(activities='Radon-222')\n",
    "elem"
   ]
  },
  {
   "cell_type": "markdown",
   "id": "0786e76e",
   "metadata": {},
   "source": [
    "As can be seen from the results of the previous assessment, the \"low population density, long-term\" emission is the largest elementary flow with 3.69x1E13 kg Becquerel. For testing purpose, we limit this emissio to 5.00x1E12 kg Becquerel:"
   ]
  },
  {
   "cell_type": "code",
   "execution_count": null,
   "id": "4bdc2692",
   "metadata": {},
   "outputs": [],
   "source": [
    "elem = [flow for flow in elem if 'long-term' in str(flow)]\n",
    "elem_limit = {elem[0]: 5e11}\n",
    "instance = pulpo_worker.instantiate(choices=choices, demand=demand, upper_elem_limit=elem_limit)\n",
    "results = pulpo_worker.solve(GAMS_PATH=GAMS_PATH) "
   ]
  },
  {
   "cell_type": "code",
   "execution_count": null,
   "id": "bac65431",
   "metadata": {},
   "outputs": [],
   "source": [
    "pulpo_worker.summarize_results(choices=choices, demand=demand)"
   ]
  },
  {
   "cell_type": "markdown",
   "id": "2f7b6a4a",
   "metadata": {},
   "source": [
    "As can be seen, the share of nuclear power is limited through the introduced elementary flow constraint."
   ]
  },
  {
   "cell_type": "markdown",
   "id": "48249a97",
   "metadata": {},
   "source": [
    "<div style=\"text-align: center; background-color: #f0f0f0; padding: 10px;\">\n",
    "    <h2 style=\"font-family: 'Arial', sans-serif; font-weight: bold; color: #555;\">Additional Methods</h2>\n",
    "</div>"
   ]
  },
  {
   "cell_type": "markdown",
   "id": "3a455b7b",
   "metadata": {},
   "source": [
    "Let's see how to evaluate different methods and set them as objectives, in this case evaluating the ReCiPe endpoints, and setting the human health one as objective:"
   ]
  },
  {
   "cell_type": "code",
   "execution_count": null,
   "id": "6ccd79d5",
   "metadata": {},
   "outputs": [],
   "source": [
    "methods = {\"('IPCC 2013', 'climate change', 'GWP 100a')\": 0,\n",
    "           \"('ReCiPe Endpoint (E,A)', 'resources', 'total')\": 0,\n",
    "           \"('ReCiPe Endpoint (E,A)', 'human health', 'total')\": 1,\n",
    "           \"('ReCiPe Endpoint (E,A)', 'ecosystem quality', 'total')\": 0}"
   ]
  },
  {
   "cell_type": "markdown",
   "id": "97f4df9e-1e6b-44d2-9f63-2551fd8f99d6",
   "metadata": {},
   "source": [
    "With this, a new Pulpo worker must be created:"
   ]
  },
  {
   "cell_type": "code",
   "execution_count": null,
   "id": "8c71c0b9",
   "metadata": {},
   "outputs": [],
   "source": [
    "pulpo_worker = pulpo.PulpoOptimizer(project, database, methods, directory)"
   ]
  },
  {
   "cell_type": "code",
   "execution_count": null,
   "id": "60d4cad9",
   "metadata": {},
   "outputs": [],
   "source": [
    "pulpo_worker.get_lci_data()"
   ]
  },
  {
   "cell_type": "code",
   "execution_count": null,
   "id": "cb241deb",
   "metadata": {
    "scrolled": true
   },
   "outputs": [],
   "source": [
    "pulpo_worker.instantiate(choices=choices, demand=demand)\n",
    "results = pulpo_worker.solve(GAMS_PATH=GAMS_PATH)"
   ]
  },
  {
   "cell_type": "code",
   "execution_count": null,
   "id": "e81c9f8c",
   "metadata": {
    "scrolled": true
   },
   "outputs": [],
   "source": [
    "pulpo_worker.summarize_results(choices=choices, demand=demand, zeroes=True)"
   ]
  },
  {
   "cell_type": "markdown",
   "id": "bfe4c83f-1585-405c-938d-c3c6e3fc34f7",
   "metadata": {},
   "source": [
    "From the summary above, it can be seen that for the \"_human health_\" category, the nuclear process is not the most suitable anymore. With this objective, the wind turbine process is selected. \n",
    "\n",
    "As another category is minimized, the GWP has changed as well: previously, with nuclear electricity the total GWP was 1.599836e+10 while with wind electricity it is 1.739234e+10."
   ]
  },
  {
   "cell_type": "markdown",
   "id": "7fb09ed7-e772-4248-8bc5-8409fb5ebfe0",
   "metadata": {},
   "source": [
    "<div style=\"text-align: center; background-color: #f0f0f0; padding: 10px;\">\n",
    "    <h2 style=\"font-family: 'Arial', sans-serif; font-weight: bold; color: #555;\">Lower Level Decisions</h2>\n",
    "</div>"
   ]
  },
  {
   "cell_type": "markdown",
   "id": "26fec4c4",
   "metadata": {},
   "source": [
    "<div style=\"text-align: center;\">\n",
    "    <img src=\"pictures/electricity_showcase_3.png\" alt=\"Image Alt Text\" style=\"width: 50%;\" />\n",
    "</div>"
   ]
  },
  {
   "cell_type": "markdown",
   "id": "ee72103c",
   "metadata": {},
   "source": [
    "In this case study, we would like to keep the current share of the electricity supplied by fossil sources the same. The choices that we consider on the electricity production level are between the coal and lignite activities:"
   ]
  },
  {
   "cell_type": "code",
   "execution_count": null,
   "id": "1e28df91-e6fc-4123-b3e6-3067ee6deca3",
   "metadata": {},
   "outputs": [],
   "source": [
    "methods = {\"('IPCC 2013', 'climate change', 'GWP 100a')\": 1,\n",
    "           \"('ReCiPe Endpoint (E,A)', 'resources', 'total')\": 0,\n",
    "           \"('ReCiPe Endpoint (E,A)', 'human health', 'total')\": 0,\n",
    "           \"('ReCiPe Endpoint (E,A)', 'ecosystem quality', 'total')\": 0}"
   ]
  },
  {
   "cell_type": "code",
   "execution_count": null,
   "id": "2b881759-2c15-4528-9780-39293f3747be",
   "metadata": {},
   "outputs": [],
   "source": [
    "pulpo_worker = pulpo.PulpoOptimizer(project, database, methods, directory)\n",
    "pulpo_worker.get_lci_data()"
   ]
  },
  {
   "cell_type": "code",
   "execution_count": null,
   "id": "e7cff49c-5163-4451-aa97-a1ef41bce88b",
   "metadata": {},
   "outputs": [],
   "source": [
    "activities = [\"electricity production, lignite\", \n",
    "             \"electricity production, hard coal\"]\n",
    "reference_products = [\"electricity, high voltage\"]\n",
    "locations = [\"DE\"]\n",
    "\n",
    "electricity_activities = pulpo_worker.retrieve_activities(activities=activities, reference_products=reference_products, locations=locations)"
   ]
  },
  {
   "cell_type": "markdown",
   "id": "a8f82b5b",
   "metadata": {},
   "source": [
    "Instead of assessing only the **technology** choices, we are invetigating the best **regional** choice for the source of coal and lignite:"
   ]
  },
  {
   "cell_type": "code",
   "execution_count": null,
   "id": "e68e44ef",
   "metadata": {},
   "outputs": [],
   "source": [
    "coal_activities = [\"market for hard coal\"]\n",
    "lignite_activities = [\"market for lignite\"]\n",
    "\n",
    "coal_activities = pulpo_worker.retrieve_activities(activities=coal_activities)\n",
    "lignite_activities = pulpo_worker.retrieve_activities(activities=lignite_activities)"
   ]
  },
  {
   "cell_type": "markdown",
   "id": "ae575912",
   "metadata": {},
   "source": [
    "The updated choice dictionary looks like this:"
   ]
  },
  {
   "cell_type": "code",
   "execution_count": null,
   "id": "bc665036",
   "metadata": {},
   "outputs": [],
   "source": [
    "choices  = {'electricity': {elec: 1e16 for elec in electricity_activities},\n",
    "            'coal': {coal: 1e16 for coal in coal_activities},\n",
    "            'lignite': {lignite: 1e16 for lignite in lignite_activities}}"
   ]
  },
  {
   "cell_type": "markdown",
   "id": "6db1e764",
   "metadata": {},
   "source": [
    "Instantiating and solving the adapted problem:"
   ]
  },
  {
   "cell_type": "code",
   "execution_count": null,
   "id": "1143473f",
   "metadata": {
    "scrolled": true
   },
   "outputs": [],
   "source": [
    "pulpo_worker.instantiate(choices=choices, demand=demand)\n",
    "results = pulpo_worker.solve(GAMS_PATH=GAMS_PATH)"
   ]
  },
  {
   "cell_type": "markdown",
   "id": "73eadc47",
   "metadata": {},
   "source": [
    "Visualizing the results"
   ]
  },
  {
   "cell_type": "code",
   "execution_count": null,
   "id": "d9c7c140",
   "metadata": {
    "scrolled": true
   },
   "outputs": [],
   "source": [
    "pulpo_worker.summarize_results(choices=choices, demand=demand, zeroes=True)"
   ]
  },
  {
   "cell_type": "markdown",
   "id": "18a60969",
   "metadata": {},
   "source": [
    "I can be seen that out of the fossil alternatives, the electricity from coal minimizes GWP when the coal comes from RLA [Latin America and the Caribbean] (omitting transport emissions). Moreover, it can be seen that the market for lignite is somewhere used upstream of the coal production activity. In the place where it is used, the RER market for lignite is the preferred one. The lignite consumption is one order of magnitude lower than the coal consumption."
   ]
  },
  {
   "cell_type": "markdown",
   "id": "d71d8e1c",
   "metadata": {},
   "source": [
    "<div style=\"text-align: center; background-color: #f0f0f0; padding: 10px;\">\n",
    "    <h2 style=\"font-family: 'Arial', sans-serif; font-weight: bold; color: #555;\">Supply vs. Demand Problem</h2>\n",
    "</div>"
   ]
  },
  {
   "cell_type": "markdown",
   "id": "66cb3f62",
   "metadata": {},
   "source": [
    "Finally, let's test and assess the functionality of PULPO to specify supply values rather than demand values. This can be done by setting the lower_limit and the upper_limit of activities to the same value. This will enforce the corresponding scaling vector entry of that activity to the specified value, and activates the slack variable to relax the demand value. "
   ]
  },
  {
   "cell_type": "markdown",
   "id": "4a3f2eac",
   "metadata": {},
   "source": [
    "This can simply be done by specifying the upper and lower limits rather than the demand (note, we continue with the choices from the previous section):"
   ]
  },
  {
   "cell_type": "code",
   "execution_count": null,
   "id": "89ecef38",
   "metadata": {},
   "outputs": [],
   "source": [
    "upper_limit = {electricity_market[0]: 1.28819e+11}\n",
    "lower_limit = {electricity_market[0]: 1.28819e+11}"
   ]
  },
  {
   "cell_type": "code",
   "execution_count": null,
   "id": "6f72394d",
   "metadata": {
    "scrolled": true
   },
   "outputs": [],
   "source": [
    "pulpo_worker.instantiate(choices=choices, upper_limit=upper_limit, lower_limit=lower_limit)\n",
    "results = pulpo_worker.solve(GAMS_PATH=GAMS_PATH)"
   ]
  },
  {
   "cell_type": "code",
   "execution_count": null,
   "id": "006b3b87",
   "metadata": {
    "scrolled": true
   },
   "outputs": [],
   "source": [
    "pulpo_worker.summarize_results(choices=choices, demand=demand, constraints=upper_limit, zeroes=True)"
   ]
  },
  {
   "cell_type": "markdown",
   "id": "6ecc80bf",
   "metadata": {},
   "source": [
    "From the results it can be observed that the resulting GWP is **considerably** lower (6.191744e+10 vs. 5.920967e+10: ~4.4%) than in the previous section. Now, the production value (supply) of electricity is specified, so that electricity consumed in the background is accounted for in the specifications.\n",
    "\n",
    "Overall, when specifying supply values instead of demand values, the corresponding scaling vector entries are always smaller."
   ]
  },
  {
   "cell_type": "markdown",
   "id": "976fd3a8-e3eb-4f8c-a875-856eb741aa3a",
   "metadata": {},
   "source": [
    "<div style=\"text-align: center; background-color: #f0f0f0; padding: 10px;\">\n",
    "    <h2 style=\"font-family: 'Arial', sans-serif; font-weight: bold; color: #555;\">Foreground vs. Background Modelling</h2>\n",
    "</div>"
   ]
  },
  {
   "cell_type": "markdown",
   "id": "d0b2e993-009a-4b7b-a7ee-ece90fe1eea0",
   "metadata": {},
   "source": [
    "<div style=\"text-align: center;\">\n",
    "    <img src=\"pictures/electricity_showcase_4.png\" alt=\"Image Alt Text\" style=\"width: 50%;\" />\n",
    "</div>"
   ]
  },
  {
   "cell_type": "markdown",
   "id": "7610381f-c826-417d-8885-5a4e4b938199",
   "metadata": {},
   "source": [
    "In this final part of the electricity showcase, the difference between foreground and background modelling and optimization is demonstrated. For that purpose a foreground system must be created ... this can be done either by hand or I can upload a folded foreground system for this case ... in essence, a new database must be created (e.g. \"_cutoff38_foreground_\" where copies from the market and electricity production activites are duplicated to from the \"_cutoff38_\". What this does is disconnecting this activities from their downstream.\n",
    "\n",
    "We are then replacing the original inputs in the electricity market with the duplicated processes from the foreground system, effectively disconnecting the choices made in the electricity market from the upstream of the electricity production technologies:"
   ]
  },
  {
   "cell_type": "markdown",
   "id": "be25cefe-6ca4-42d2-bb8a-3096c93b8663",
   "metadata": {},
   "source": [
    "With this in mind, we can set up the optimization as usual, importing the \"_cutoff38_foreground_\" database instead of the \"_cutoff38_\" database:"
   ]
  },
  {
   "cell_type": "code",
   "execution_count": null,
   "id": "83385f75-df84-4bb9-9248-aef2e78e3e3f",
   "metadata": {},
   "outputs": [],
   "source": [
    "project = \"pulpo\"\n",
    "database = \"cutoff38_foreground\""
   ]
  },
  {
   "cell_type": "code",
   "execution_count": null,
   "id": "651554db-128f-4b74-ab2d-0ab98ae5012b",
   "metadata": {},
   "outputs": [],
   "source": [
    "pulpo_worker = pulpo.PulpoOptimizer(project, database, methods, directory)"
   ]
  },
  {
   "cell_type": "code",
   "execution_count": null,
   "id": "e9b26ce5-8055-4afe-b81d-e06f057d34f1",
   "metadata": {},
   "outputs": [],
   "source": [
    "pulpo_worker.get_lci_data()"
   ]
  },
  {
   "cell_type": "markdown",
   "id": "1840257e-f372-4a83-a519-cce3097bc68e",
   "metadata": {},
   "source": [
    "Now, choose the foreground market for electricity:"
   ]
  },
  {
   "cell_type": "code",
   "execution_count": null,
   "id": "ff250df5-3646-4d2d-8d7f-2b7750c06bdb",
   "metadata": {},
   "outputs": [],
   "source": [
    "activities = [\"market for electricity, high voltage, foreground\"]\n",
    "reference_products = [\"electricity, high voltage\"]\n",
    "locations = [\"DE\"]"
   ]
  },
  {
   "cell_type": "code",
   "execution_count": null,
   "id": "63766777-83a7-4a3b-b49a-36601fe72638",
   "metadata": {},
   "outputs": [],
   "source": [
    "foreground_market = pulpo_worker.retrieve_activities(activities=activities, reference_products=reference_products, locations=locations)"
   ]
  },
  {
   "cell_type": "code",
   "execution_count": null,
   "id": "37c0635f-cb0b-495d-bfd4-d72a2aabe414",
   "metadata": {},
   "outputs": [],
   "source": [
    "demand = {foreground_market[0]: 1.28819e+11}"
   ]
  },
  {
   "cell_type": "markdown",
   "id": "7e358b4f-c25c-42d4-af5b-8fc3c2de4edb",
   "metadata": {},
   "source": [
    "And the foreground electricity production technologies:"
   ]
  },
  {
   "cell_type": "code",
   "execution_count": null,
   "id": "32cbd648-bc8f-4ec0-af63-b7147803e805",
   "metadata": {},
   "outputs": [],
   "source": [
    "activities = [\"electricity production, lignite, foreground\", \n",
    "             \"electricity production, hard coal, foreground\",\n",
    "             \"electricity production, nuclear, pressure water reactor, foreground\",\n",
    "             \"electricity production, wind, 1-3MW turbine, onshore, foreground\"]\n",
    "reference_products = [\"electricity, high voltage\"]\n",
    "locations = [\"DE\"]\n",
    "\n",
    "electricity_activities = pulpo_worker.retrieve_activities(activities=activities, reference_products=reference_products, locations=locations)"
   ]
  },
  {
   "cell_type": "code",
   "execution_count": null,
   "id": "9af3f0cc-ca10-46b6-b6a6-818c7fba3579",
   "metadata": {},
   "outputs": [],
   "source": [
    "choices  = {'electricity': {electricity_activities[0]: 1e16,\n",
    "                         electricity_activities[1]: 1e16,\n",
    "                         electricity_activities[2]: 1e16,\n",
    "                         electricity_activities[3]: 1e16}}"
   ]
  },
  {
   "cell_type": "markdown",
   "id": "da8c0aec-7047-4e6c-8a2f-55777c160a78",
   "metadata": {},
   "source": [
    "Create the instance and solve the problem:"
   ]
  },
  {
   "cell_type": "code",
   "execution_count": null,
   "id": "e2cd342f-cb54-49fb-8d11-078b16845fca",
   "metadata": {},
   "outputs": [],
   "source": [
    "instance = pulpo_worker.instantiate(choices=choices, demand=demand)"
   ]
  },
  {
   "cell_type": "code",
   "execution_count": null,
   "id": "823f2a7d-053d-4ad3-8452-32d05d8aec9f",
   "metadata": {
    "scrolled": true
   },
   "outputs": [],
   "source": [
    "results = pulpo_worker.solve(GAMS_PATH=GAMS_PATH)"
   ]
  },
  {
   "cell_type": "code",
   "execution_count": null,
   "id": "2e40a4aa-3c1c-4e45-b679-c6461e41fa1f",
   "metadata": {},
   "outputs": [],
   "source": [
    "pulpo_worker.summarize_results(choices=choices, demand=demand, zeroes=True)"
   ]
  },
  {
   "cell_type": "markdown",
   "id": "5e8924a0-6f11-4891-9f12-c06eb2c699b2",
   "metadata": {},
   "source": [
    "The result of this optimization is a minimum GWP of 1.764977e+10 kg CO2eq instead of 1.599836e+10 kg CO2eq from the initial calculations uising the full LCI. This is a difference of **8%**!"
   ]
  },
  {
   "cell_type": "markdown",
   "id": "63afe2ba-d322-4a1e-a75b-fc36e0e354b6",
   "metadata": {},
   "source": [
    "<div style=\"text-align: center; background-color: #f0f0f0; padding: 10px;\">\n",
    "    <h2 style=\"font-family: 'Arial', sans-serif; font-weight: bold; color: #555;\">Integer Cuts</h2>\n",
    "</div>"
   ]
  },
  {
   "cell_type": "markdown",
   "id": "6485f0f7-0889-4a15-9abd-5b214bc7617a",
   "metadata": {},
   "source": [
    "This functionality will be available in future versions of PULPO"
   ]
  },
  {
   "cell_type": "code",
   "execution_count": null,
   "id": "430f6a3e",
   "metadata": {},
   "outputs": [],
   "source": []
  },
  {
   "cell_type": "code",
   "execution_count": null,
   "id": "b7c13672",
   "metadata": {},
   "outputs": [],
   "source": []
  }
 ],
 "metadata": {
  "kernelspec": {
   "display_name": "Python 3 (ipykernel)",
   "language": "python",
   "name": "python3"
  },
  "language_info": {
   "codemirror_mode": {
    "name": "ipython",
    "version": 3
   },
   "file_extension": ".py",
   "mimetype": "text/x-python",
   "name": "python",
   "nbconvert_exporter": "python",
   "pygments_lexer": "ipython3",
   "version": "3.9.16"
  }
 },
 "nbformat": 4,
 "nbformat_minor": 5
}
