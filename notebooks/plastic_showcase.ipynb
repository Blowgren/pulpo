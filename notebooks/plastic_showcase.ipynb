{
 "cells": [
  {
   "cell_type": "markdown",
   "id": "512986c4-dc9a-4758-bbfb-130278bd8c03",
   "metadata": {
    "execution": {
     "iopub.execute_input": "2024-03-30T11:06:45.551434Z",
     "iopub.status.busy": "2024-03-30T11:06:45.551434Z",
     "iopub.status.idle": "2024-03-30T11:06:45.570370Z",
     "shell.execute_reply": "2024-03-30T11:06:45.568377Z",
     "shell.execute_reply.started": "2024-03-30T11:06:45.551434Z"
    }
   },
   "source": [
    "## Plastic Waste Pyrolysis Case Study 🚮♻️\n",
    "\n",
    "This notebook explores the capabilities of PULPO in the context of (simplified) plastic waste pyrolysis. This case study focuses on the conversion of plastic waste into valuable products through pyrolysis technology.\n",
    "\n",
    "Updated by Fabian Lechtenberg, 30.03.2024\n",
    "\n",
    "The key functionalities demonstrated include:\n",
    "\n",
    "- Technology Choice 🛠️\n",
    "- Foreground vs. Background 🎭🌐\n",
    "- Regional Choice 🌍\n",
    "- Alternative Indicators 🔄\n",
    "- Technosphere Capacity Constraint ⛓️\n",
    "- Biosphere Capacity Constraint 🌱⛔\n",
    "- Indicator Constraints 📏\n",
    "- Supply vs. Demand 🔄💼"
   ]
  },
  {
   "cell_type": "markdown",
   "id": "93c8779d-6182-45c6-9cf9-608df6f468ec",
   "metadata": {
    "execution": {
     "iopub.execute_input": "2024-03-31T07:48:33.597797Z",
     "iopub.status.busy": "2024-03-31T07:48:33.597797Z",
     "iopub.status.idle": "2024-03-31T07:48:33.611750Z",
     "shell.execute_reply": "2024-03-31T07:48:33.610753Z",
     "shell.execute_reply.started": "2024-03-31T07:48:33.597797Z"
    }
   },
   "source": [
    "<div style=\"text-align: center; background-color: #f0f0f0; padding: 10px;\">\n",
    "    <h2 style=\"font-family: 'Arial', sans-serif; font-weight: bold; color: #555;\">🚨 Disclaimer: Implementation of Inventories</h2>\n",
    "</div>"
   ]
  },
  {
   "cell_type": "markdown",
   "id": "0bf61e02-6982-480c-89fd-7618259565c5",
   "metadata": {},
   "source": [
    "In typical LCA applications, especially for attributional / comparative studies, inventories are pre-established or pre-build by the practitioner within LCA databases. The manual steps shown here to create or adjust inventories for the plastic waste pyrolysis case study are illustrative, aimed at demonstrating process customization for this specific context."
   ]
  },
  {
   "cell_type": "code",
   "execution_count": null,
   "id": "a56ba1a4-e5ab-4d56-8de6-eb449c917b28",
   "metadata": {},
   "outputs": [],
   "source": [
    "import brightway2 as bw"
   ]
  },
  {
   "cell_type": "markdown",
   "id": "0000ea69-0377-4252-8aad-5abe6a57c12a",
   "metadata": {},
   "source": [
    "**Setup Brightway2 Project**\n",
    "\n",
    "Initializes the Brightway2 project named \"PULPO Final\". It checks if the Ecoinvent database \"cutoff38\" is available.\n"
   ]
  },
  {
   "cell_type": "code",
   "execution_count": null,
   "id": "64738a38-ec25-4922-857b-238c23ea8c7c",
   "metadata": {},
   "outputs": [],
   "source": [
    "# Setup Brightway2 project\n",
    "bw.projects.set_current(\"pulpo\")\n",
    "if \"cutoff38\" not in bw.databases:\n",
    "    print(\"Ecoinvent database not found. Please import it before running this script.\")\n",
    "else:\n",
    "    db = bw.Database(\"cutoff38\")\n",
    "    biosphere = bw.Database(\"biosphere3\")"
   ]
  },
  {
   "cell_type": "markdown",
   "id": "79f350b9-d397-411b-a3fd-c6c1e6c4fb88",
   "metadata": {},
   "source": [
    "**System Inventory Overview**\n",
    "\n",
    "The diagram illustrates the inventory flows for the polypropylene (PP) pyrolysis process. Inputs such as electricity, deionized water, and chromium steel are quantified on the left, feeding into the central PP pyrolysis activity. The \"PP waste collected\" is considered a burden-free input, serving as a placeholder for later implementing technical constraints. Outputs of the process include pyrolysis oil and emissions of CO2 and H2O. 🔄🚮🛢️➡️🌎"
   ]
  },
  {
   "cell_type": "markdown",
   "id": "6c6611a6-59e9-4cb8-b3f6-89ff1397aa64",
   "metadata": {
    "execution": {
     "iopub.execute_input": "2024-03-30T17:30:48.187968Z",
     "iopub.status.busy": "2024-03-30T17:30:48.186973Z",
     "iopub.status.idle": "2024-03-30T17:30:48.195942Z",
     "shell.execute_reply": "2024-03-30T17:30:48.194945Z",
     "shell.execute_reply.started": "2024-03-30T17:30:48.187968Z"
    }
   },
   "source": [
    "<div style=\"text-align: center;\">\n",
    "    <img src=\"pictures/PP_pyrolysis_inventory.png\" alt=\"Image Alt Text\" style=\"width: 50%;\" />\n",
    "</div>"
   ]
  },
  {
   "cell_type": "markdown",
   "id": "76aaf86e-9c72-486b-96d6-e5755886a499",
   "metadata": {},
   "source": [
    "**Create or Check for Waste Polypropylene Process**\n",
    "\n",
    "Retrieve or create a new activity for the collection of PP waste."
   ]
  },
  {
   "cell_type": "code",
   "execution_count": null,
   "id": "8a9d4e28-3b6a-4ebb-ab00-53fd4d4b9214",
   "metadata": {},
   "outputs": [],
   "source": [
    "# Check if the empty PP waste process already exists\n",
    "try:\n",
    "    pp_waste_process = db.get(\"pp_waste\")\n",
    "    print(\"PP waste process already exists, skipping the addition.\")\n",
    "except:\n",
    "    pp_waste_process = db.new_activity(\n",
    "        code=\"pp_waste\",\n",
    "        name=\"PP Waste collected\",\n",
    "        unit=\"kilogram\",\n",
    "        location=\"Europe without Switzerland\",\n",
    "    )\n",
    "    pp_waste_process[\"reference product\"] = \"PP waste\"\n",
    "    pp_waste_process.save()"
   ]
  },
  {
   "cell_type": "markdown",
   "id": "82a9e059-cc56-4eb5-93b1-560cb7b26101",
   "metadata": {},
   "source": [
    "**Create or Check for PP Pyrolysis Process**\n",
    "\n",
    "Retrieve or create a new activity for the PP pyrolysis process, including setting up various technosphere and biosphere exchanges."
   ]
  },
  {
   "cell_type": "code",
   "execution_count": null,
   "id": "263125d3-69d4-4250-9895-74d0603aab22",
   "metadata": {},
   "outputs": [],
   "source": [
    "# Check if the PP pyrolysis process already exists\n",
    "try:\n",
    "    pp_pyrolysis_process = db.get(\"pp_pyrolysis\")\n",
    "    print(\"PP pyrolysis process already exists, skipping the addition.\")\n",
    "except:\n",
    "    pp_pyrolysis_process = db.new_activity(\n",
    "        code=\"pp_pyrolysis\",\n",
    "        name=\"PP pyrolysis process\",\n",
    "        unit=\"kilogram\",\n",
    "        location=\"Europe without Switzerland\",\n",
    "    )\n",
    "    pp_pyrolysis_process[\"reference product\"] = \"pyrolysis oil\"\n",
    "\n",
    "    # Add technosphere exchanges\n",
    "    # PP waste\n",
    "    pp = db.search(\"PP Waste collected\")[0]\n",
    "    pp_pyrolysis_process.new_exchange(input=pp.key, amount=(26.6)/23.9, type='technosphere').save()\n",
    "    # Add electricity input\n",
    "    electricities = [act for act in db if \"market group for electricity, high voltage\" in act['name'] and act['location'] == \"Europe without Switzerland\"]\n",
    "    electricity = electricities[0] if electricities else None\n",
    "    if electricity:\n",
    "        pp_pyrolysis_process.new_exchange(input=electricity.key, amount=(7.881+7.368e-2)/23.9, type='technosphere').save()\n",
    "    # Add water input\n",
    "    water = db.search(\"market for water, deionised\")[0]\n",
    "    pp_pyrolysis_process.new_exchange(input=water.key, amount=(1e-4)/23.9, type='technosphere').save()  \n",
    "    # Add equipment input\n",
    "    steel = db.search(\"market for steel, chromium steel 18/8\")[0]\n",
    "    pp_pyrolysis_process.new_exchange(input=steel.key, amount=(1.075e-4)/23.9, type='technosphere').save()\n",
    "    # Add biosphere exchanges\n",
    "    co2 = biosphere.search(\"carbon dioxide\")[0]\n",
    "    pp_pyrolysis_process.new_exchange(input=co2.key, amount=(5.278)/23.9, type='biosphere').save()\n",
    "    h2o = biosphere.search(\"water, in air\")[0]\n",
    "    pp_pyrolysis_process.new_exchange(input=h2o.key, amount=(3.129)/23.9, type='biosphere').save()\n",
    "\n",
    "    # Save the activity\n",
    "    pp_pyrolysis_process.save()\n",
    "    print(\"PP pyrolysis process and its exchanges have been successfully added.\")"
   ]
  },
  {
   "cell_type": "markdown",
   "id": "3a23a090-54e0-4093-922d-3bf57bd891d7",
   "metadata": {},
   "source": [
    "<div style=\"text-align: center; background-color: #f0f0f0; padding: 10px;\">\n",
    "    <h2 style=\"font-family: 'Arial', sans-serif; font-weight: bold; color: #555;\">Demonstration 🚀</h2>\n",
    "</div>"
   ]
  },
  {
   "cell_type": "markdown",
   "id": "a34e0fdc-4c51-49a8-a711-f425fd87e0b8",
   "metadata": {
    "execution": {
     "iopub.execute_input": "2024-03-30T11:12:35.355473Z",
     "iopub.status.busy": "2024-03-30T11:12:35.355473Z",
     "iopub.status.idle": "2024-03-30T11:12:35.376455Z",
     "shell.execute_reply": "2024-03-30T11:12:35.375459Z",
     "shell.execute_reply.started": "2024-03-30T11:12:35.355473Z"
    }
   },
   "source": [
    "With the inventories now defined, we're stepping into the practical demonstration of our plastic waste pyrolysis case study.\n"
   ]
  },
  {
   "cell_type": "markdown",
   "id": "a50bdeff-8d89-493c-afe2-414babf31166",
   "metadata": {},
   "source": [
    "In these code snippets, we're setting up the environment and preparing for an analysis with the Pulpo framework:"
   ]
  },
  {
   "cell_type": "code",
   "execution_count": null,
   "id": "33cda03a-3488-4447-8609-f3c3c3bc8cec",
   "metadata": {},
   "outputs": [],
   "source": [
    "import os\n",
    "import sys\n",
    "sys.path.append('../') ### not necessary if pulpo is pip installed!\n",
    "from pulpo import pulpo\n",
    "\n",
    "import pandas as pd\n",
    "pd.set_option('display.max_colwidth', None)"
   ]
  },
  {
   "cell_type": "markdown",
   "id": "a1910169-9386-4067-ab86-407610e2b4eb",
   "metadata": {},
   "source": [
    "This segment of the code is focused on defining key parameters and paths for the analysis:\n",
    "\n",
    "- **Project and Database**: Specifies the Brightway2 project (`\"pulpo\"`) and database (`\"cutoff38\"`) to be used for the life cycle assessment.\n",
    "- **Methods**: Sets the impact assessment method to IPCC 2013 GWP 100a, a widely recognized standard for evaluating global warming potential.\n",
    "- **Directory Paths**: Configures the working directory (`directory`) relative to the notebook's location for storing and accessing data files.\n",
    "- **GAMS Path**: Establishes the file path to the GAMS executable (`GAMS_PATH`), integrating the GAMS optimization software with our Python environment for performing complex optimization tasks.\n",
    "\n",
    "<span style=\"color:red\">**Note:**</span> Instead of GAMS, HiGHS, an open-source linear and nonlinear solver, can also be used for optimization tasks."
   ]
  },
  {
   "cell_type": "code",
   "execution_count": null,
   "id": "d1da19fa-555d-4e0b-bffc-b3e6dd931e23",
   "metadata": {},
   "outputs": [],
   "source": [
    "project = \"pulpo\"\n",
    "database = \"cutoff38\"\n",
    "methods = \"('IPCC 2013', 'climate change', 'GWP 100a')\"\n",
    "\n",
    "# Substitute with your working directory of choice\n",
    "notebook_dir = os.path.dirname(os.getcwd())\n",
    "directory = os.path.join(notebook_dir, 'data')\n",
    "\n",
    "# Substitute with your GAMS path\n",
    "GAMS_PATH = \"C:/GAMS/37/gams.exe\""
   ]
  },
  {
   "cell_type": "markdown",
   "id": "ff9723e8-002a-4893-8738-604afd7c5e65",
   "metadata": {},
   "source": [
    "Initialize a Pulpo object by passing the key parameters and paths to the PulpoOptimizer class:"
   ]
  },
  {
   "cell_type": "code",
   "execution_count": null,
   "id": "cafc2ad9-575e-41a4-ba70-6af9660adb02",
   "metadata": {},
   "outputs": [],
   "source": [
    "pulpo_worker = pulpo.PulpoOptimizer(project, database, methods, directory)"
   ]
  },
  {
   "cell_type": "markdown",
   "id": "d1df751a-dfff-48d7-899b-4d7e8f0ca594",
   "metadata": {
    "execution": {
     "iopub.execute_input": "2024-03-31T07:47:46.947508Z",
     "iopub.status.busy": "2024-03-31T07:47:46.947508Z",
     "iopub.status.idle": "2024-03-31T07:47:46.957474Z",
     "shell.execute_reply": "2024-03-31T07:47:46.956477Z",
     "shell.execute_reply.started": "2024-03-31T07:47:46.947508Z"
    }
   },
   "source": [
    "<div style=\"text-align: center; background-color: #f0f0f0; padding: 10px;\">\n",
    "    <h2 style=\"font-family: 'Arial', sans-serif; font-weight: bold; color: #555;\">Technology choice 🛠️ and fore- vs. background optimization 🎭🌐</h2>\n",
    "</div>"
   ]
  },
  {
   "cell_type": "markdown",
   "id": "3bc58aef-6c20-4219-ad0d-ceb0afd17f79",
   "metadata": {
    "execution": {
     "iopub.execute_input": "2024-03-30T18:00:09.433988Z",
     "iopub.status.busy": "2024-03-30T18:00:09.432991Z",
     "iopub.status.idle": "2024-03-30T18:00:09.453921Z",
     "shell.execute_reply": "2024-03-30T18:00:09.452925Z",
     "shell.execute_reply.started": "2024-03-30T18:00:09.433988Z"
    }
   },
   "source": [
    "In the forthcoming segment, we delve into a comparative demonstration focused on alternative technologies:\n",
    "\n",
    "- **Pyrolysis Oil** 🚮⛽\n",
    "- **Fossil Diesel** 🦕⛽\n",
    "- **Biodiesel** 🌱⛽\n",
    "\n",
    "We'll also examine two contrasting optimization strategies:\n",
    "\n",
    "1. **Decoupled (Offline) Optimization** Assessing the market in a vacuum, disconnected from wider technosphere / economy dynamics.\n",
    "2. **Integrated (Simultaneous) Optimization** Conducting a holistic technosphere optimization, considering the ripple effects and feedback from market changes."
   ]
  },
  {
   "cell_type": "markdown",
   "id": "c2fb4314-7eee-4646-9286-c03c9a32aba7",
   "metadata": {},
   "source": [
    "**Retrieving Necessary Activities for Assessment**\n",
    "\n",
    "Below, we fetch the essential activities for our analysis. The system under review is illustrated in the figure that follows. 📉👇"
   ]
  },
  {
   "cell_type": "markdown",
   "id": "aa732440-bd14-4356-aa8a-8064c195bd28",
   "metadata": {
    "execution": {
     "iopub.execute_input": "2024-03-30T18:04:21.157485Z",
     "iopub.status.busy": "2024-03-30T18:04:21.157485Z",
     "iopub.status.idle": "2024-03-30T18:04:21.175468Z",
     "shell.execute_reply": "2024-03-30T18:04:21.175468Z",
     "shell.execute_reply.started": "2024-03-30T18:04:21.157485Z"
    }
   },
   "source": [
    "<div style=\"text-align: center;\">\n",
    "    <img src=\"pictures/PP_pyrolysis_system_boundaries.png\" alt=\"Image Alt Text\" style=\"width: 50%;\" />\n",
    "</div>"
   ]
  },
  {
   "cell_type": "markdown",
   "id": "f9f7d950-ee6d-4bc7-a1b6-940ec1389c5d",
   "metadata": {},
   "source": [
    "**Diesel Market**\n"
   ]
  },
  {
   "cell_type": "code",
   "execution_count": null,
   "id": "129a190a-0397-4aaa-baa0-9154a050bc14",
   "metadata": {},
   "outputs": [],
   "source": [
    "activities = [\"market for diesel\"]\n",
    "reference_products = [\"diesel\"]\n",
    "locations = [\"Europe without Switzerland\"]"
   ]
  },
  {
   "cell_type": "code",
   "execution_count": null,
   "id": "a349fae8-ef67-4135-b7a9-a5ac9db84bc2",
   "metadata": {},
   "outputs": [],
   "source": [
    "diesel_market = pulpo_worker.retrieve_activities(activities=activities, reference_products=reference_products, locations=locations)[0]"
   ]
  },
  {
   "cell_type": "code",
   "execution_count": null,
   "id": "857c4d88-bcc6-41f3-b91e-2db2eb16724d",
   "metadata": {},
   "outputs": [],
   "source": [
    "from helper import copy_activity\n",
    "diesel_market_foreground = copy_activity(diesel_market)"
   ]
  },
  {
   "cell_type": "markdown",
   "id": "3effbf0d-6778-4bdb-83e8-9342f6721b3b",
   "metadata": {},
   "source": [
    "**Diesel Production**"
   ]
  },
  {
   "cell_type": "code",
   "execution_count": null,
   "id": "645d9806-e6eb-46e3-93af-eacf325757cb",
   "metadata": {},
   "outputs": [],
   "source": [
    "activities = [\"diesel production, petroleum refinery operation\"]\n",
    "reference_products = [\"diesel\"]\n",
    "locations = [\"Europe without Switzerland\"]"
   ]
  },
  {
   "cell_type": "code",
   "execution_count": null,
   "id": "9b369b84-b663-4cf4-8bd7-321e6e02de88",
   "metadata": {},
   "outputs": [],
   "source": [
    "diesel_fossil = pulpo_worker.retrieve_activities(activities=activities, reference_products=reference_products, locations=locations)[0]"
   ]
  },
  {
   "cell_type": "code",
   "execution_count": null,
   "id": "e58777d6-8be6-49e0-9db0-4a7314ccf84d",
   "metadata": {},
   "outputs": [],
   "source": [
    "diesel_fossil_foreground = copy_activity(diesel_fossil)"
   ]
  },
  {
   "cell_type": "code",
   "execution_count": null,
   "id": "fd68811f-cd0d-4b91-9fc2-1275c667e489",
   "metadata": {},
   "outputs": [],
   "source": [
    "activities = [\"soybean oil refinery operation\"]\n",
    "reference_products = [\"soybean oil, refined\"]\n",
    "locations = [\"RoW\"]"
   ]
  },
  {
   "cell_type": "markdown",
   "id": "e7b1e593-30a9-4996-b1ba-a79fcc573439",
   "metadata": {},
   "source": [
    "**Biodiesel Production**"
   ]
  },
  {
   "cell_type": "code",
   "execution_count": null,
   "id": "e613439b-9a42-4b32-8e23-c92113c7bacc",
   "metadata": {},
   "outputs": [],
   "source": [
    "diesel_bio = pulpo_worker.retrieve_activities(activities=activities, reference_products=reference_products, locations=locations)[0]"
   ]
  },
  {
   "cell_type": "code",
   "execution_count": null,
   "id": "208dbb7f-00cc-4b3d-bb2e-a493ab95dde2",
   "metadata": {},
   "outputs": [],
   "source": [
    "diesel_bio_foreground = copy_activity(diesel_bio)"
   ]
  },
  {
   "cell_type": "code",
   "execution_count": null,
   "id": "2a058f29-e599-4d8e-aa7b-2349e512727c",
   "metadata": {},
   "outputs": [],
   "source": [
    "activities = [\"PP pyrolysis process\"]\n",
    "reference_products = [\"pyrolysis oil\"]\n",
    "locations = [\"Europe without Switzerland\"]"
   ]
  },
  {
   "cell_type": "markdown",
   "id": "f40b25a8-c16c-40b8-bea9-a91a634fb567",
   "metadata": {},
   "source": [
    "**Pyrolysis Oil Production**"
   ]
  },
  {
   "cell_type": "code",
   "execution_count": null,
   "id": "5d02aff8-9914-4f2f-bf00-29f1304df2d7",
   "metadata": {},
   "outputs": [],
   "source": [
    "diesel_pp = pulpo_worker.retrieve_activities(activities=activities, reference_products=reference_products, locations=locations)[0]"
   ]
  },
  {
   "cell_type": "markdown",
   "id": "546e2288-0207-443e-95e0-8bebff83a506",
   "metadata": {},
   "source": [
    "Once all inventories have been fetched, load the LCI data to the Pulpo worker:"
   ]
  },
  {
   "cell_type": "code",
   "execution_count": null,
   "id": "0e80cbc6-62f2-427a-a900-1e39b1dfe310",
   "metadata": {},
   "outputs": [],
   "source": [
    "pulpo_worker.get_lci_data()"
   ]
  },
  {
   "cell_type": "markdown",
   "id": "6b5da7e6-c017-40ab-9e6b-4a5370a61c8d",
   "metadata": {},
   "source": [
    "**No optimization**"
   ]
  },
  {
   "cell_type": "markdown",
   "id": "ddf19cdc-ef3b-44b7-8aa8-81f312f5892e",
   "metadata": {},
   "source": [
    "In this segment, we're setting up a comparative LCA for three different types of diesel without optimization.\n",
    "\n",
    "For each fuel type, we are evaluating the environmental impact associated with the production of 1 kilogram. The assessment is conducted using a suite of impact assessment methods:\n",
    "\n",
    "- **Global Warming Potential (GWP)**: Assessed over 100 years as per IPCC 2013.\n",
    "- **Land Use Change GWP100**: Evaluates climate impact specifically from land use and land use change.\n",
    "- **Freshwater Eutrophication**: Measures the potential impact of nutrient enrichment in freshwater ecosystems.\n",
    "- **Ionising Radiation Human Health**: Estimates the exposure efficiency to ionizing radiation and its effect on human health."
   ]
  },
  {
   "cell_type": "code",
   "execution_count": null,
   "id": "15c3c94d-fef1-43ce-ae22-48927fa2bd18",
   "metadata": {},
   "outputs": [],
   "source": [
    "functional_units = [\n",
    "    {diesel_bio: 1},   # 1 kg of biodiesel\n",
    "    {diesel_pp: 1},     # 1 kg of diesel from PP\n",
    "    {diesel_fossil: 1} # 1 kg of fossil diesel\n",
    "]\n",
    "\n",
    "methods_list = [\n",
    "    (\"IPCC 2013\", \"climate change\", \"GWP 100a\"),\n",
    "    (\"EF v3.0\", \"climate change: land use and land use change\", \"global warming potential (GWP100)\"),\n",
    "    (\"EF v3.0\", \"eutrophication: freshwater\", \"fraction of nutrients reaching freshwater end compartment (P)\"),\n",
    "    (\"EF v3.0\", \"ionising radiation: human health\", \"human exposure efficiency relative to u235\"),\n",
    "]\n",
    "\n",
    "my_calculation_setup = {'inv': functional_units, 'ia': methods_list}\n",
    "bw.calculation_setups['diesel_comparison'] = my_calculation_setup\n",
    "mlca = bw.MultiLCA('diesel_comparison')"
   ]
  },
  {
   "cell_type": "code",
   "execution_count": null,
   "id": "0fe58313-6136-453e-aacd-3c4295ed05ad",
   "metadata": {},
   "outputs": [],
   "source": [
    "import pandas as pd\n",
    "from IPython.display import display\n",
    "\n",
    "# Define the names of the activities and methods based on your setup\n",
    "activity_names = ['Biodiesel', 'Diesel from PP', 'Fossil Diesel']\n",
    "\n",
    "# Convert the mlca.results array to a DataFrame\n",
    "results_df = pd.DataFrame(\n",
    "    mlca.results, \n",
    "    index=activity_names, \n",
    "    columns=methods_list\n",
    ")\n",
    "\n",
    "# Define a custom function to apply colors based on ranking within each column\n",
    "def highlight_by_column_rank(s):\n",
    "    is_max = s == s.max()\n",
    "    is_min = s == s.min()\n",
    "    # Assign colors: red for max, green for min, orange for others\n",
    "    return ['background-color: red' if v else 'background-color: green' if m else 'background-color: orange' for v, m in zip(is_max, is_min)]\n",
    "\n",
    "# Apply the styling for each column\n",
    "styled_df = results_df.style.format(\"{:.2e}\")\n",
    "styled_df = styled_df.apply(highlight_by_column_rank, axis=0)\n",
    "\n",
    "# Display the styled DataFrame\n",
    "display(styled_df)"
   ]
  },
  {
   "cell_type": "markdown",
   "id": "f7b9dc7e-5eba-4429-9afe-fb2376b2a93b",
   "metadata": {},
   "source": [
    "The table showcases the comparative LCA results across different diesel options, color-coded to indicate the lowest (green), middle (orange), and highest (red) environmental impacts in each category. Biodiesel shows a higher GWP 100a, while Diesel from PP demonstrates potential as the least impactful in the GWP category. As we move to optimize for GWP, the preliminary data suggests that pyrolysis diesel might minimize the impact. However, the extent of this benefit, especially when considering technical constraints and the distinction between decoupled and integrated optimization results, remains to be explored in the following sections."
   ]
  },
  {
   "cell_type": "markdown",
   "id": "474e0186-b7ec-4c6f-bbc8-cbcf8362b671",
   "metadata": {},
   "source": [
    "**Foreground assessment** 🎭"
   ]
  },
  {
   "cell_type": "markdown",
   "id": "4bc49008-2601-49b8-a861-e8663b88bd2f",
   "metadata": {},
   "source": [
    "Specify the demand of the assessment as 1 kg of diesel from the *foreground* diesel market:"
   ]
  },
  {
   "cell_type": "code",
   "execution_count": null,
   "id": "013db433-bf2c-44d1-a69c-1757f5df3c1c",
   "metadata": {},
   "outputs": [],
   "source": [
    "demand = {diesel_market_foreground: 1}"
   ]
  },
  {
   "cell_type": "markdown",
   "id": "9392b436-a02c-43ba-8f49-62be3d99fb12",
   "metadata": {},
   "source": [
    "Specify the choices of the assessment as the three diesel production alternatives:"
   ]
  },
  {
   "cell_type": "code",
   "execution_count": null,
   "id": "fb7585bc-6084-4e69-85f4-6118bdb448c6",
   "metadata": {},
   "outputs": [],
   "source": [
    "choices  = {'diesel': {diesel_bio_foreground: 10,\n",
    "                       diesel_fossil_foreground: 10,\n",
    "                       diesel_pp: 10}}"
   ]
  },
  {
   "cell_type": "markdown",
   "id": "2fdc9222-b711-4640-868b-64a6a8265035",
   "metadata": {},
   "source": [
    "Instantiate and solve the problem:"
   ]
  },
  {
   "cell_type": "code",
   "execution_count": null,
   "id": "b75c116a-7645-42f3-9233-7eea0e8ef3a9",
   "metadata": {},
   "outputs": [],
   "source": [
    "instance = pulpo_worker.instantiate(choices=choices, demand=demand)\n",
    "results = pulpo_worker.solve()"
   ]
  },
  {
   "cell_type": "markdown",
   "id": "994b077f-3bb8-4b51-a2ab-17840cbffca0",
   "metadata": {},
   "source": [
    "Summarize the results:"
   ]
  },
  {
   "cell_type": "code",
   "execution_count": null,
   "id": "4de2467c-f0b7-4d10-8b19-f0f97c145b49",
   "metadata": {},
   "outputs": [],
   "source": [
    "pulpo_worker.summarize_results(choices=choices, demand=demand, zeroes=True)"
   ]
  },
  {
   "cell_type": "markdown",
   "id": "a3e8379b-c0d5-442c-a1c2-db3435935f8f",
   "metadata": {},
   "source": [
    "**Background Assessment** 🌐"
   ]
  },
  {
   "cell_type": "markdown",
   "id": "7acdbce1-26bc-4819-a5ca-5c3cf12a2819",
   "metadata": {},
   "source": [
    "Specify the demand of the assessment as 1 kg of diesel from the *original* diesel market which is connected to all other processes of the LCI database:"
   ]
  },
  {
   "cell_type": "code",
   "execution_count": null,
   "id": "ef7be8cd-5776-4e7d-ace2-bdf82b2a44bb",
   "metadata": {},
   "outputs": [],
   "source": [
    "demand = {diesel_market: 1}"
   ]
  },
  {
   "cell_type": "code",
   "execution_count": null,
   "id": "53779561-671c-4e70-b303-f844d24e83bc",
   "metadata": {},
   "outputs": [],
   "source": [
    "choices  = {'diesel': {diesel_bio: 10,\n",
    "                       diesel_fossil: 10,\n",
    "                       diesel_pp: 10}}"
   ]
  },
  {
   "cell_type": "code",
   "execution_count": null,
   "id": "632b04a6-1a9f-4499-881c-e3bbc4140183",
   "metadata": {},
   "outputs": [],
   "source": [
    "instance = pulpo_worker.instantiate(choices=choices, demand=demand)\n",
    "results = pulpo_worker.solve()"
   ]
  },
  {
   "cell_type": "code",
   "execution_count": null,
   "id": "b99cb105-6d3f-4f19-8331-7e256e7c342e",
   "metadata": {},
   "outputs": [],
   "source": [
    "pulpo_worker.summarize_results(choices=choices, demand=demand, zeroes=True)"
   ]
  },
  {
   "cell_type": "markdown",
   "id": "e0e5e675-8283-4ed0-8b10-0a2bddca748f",
   "metadata": {},
   "source": [
    "The optimization analysis reaffirms our expectations: pyrolysis oil emerges as the preferable choice, with its corresponding alpha (α) parameter set to \"1\", indicating full selection in the optimized mix.\n",
    "\n",
    "When contrasting the \"foreground\" (market-specific) with the \"background\" (economy-wide) optimization scenarios, we observe a marginal disparity: the foreground scenario yields a GWP of **0.373366 kg CO<sub>2</sub>e**, while the background scenario presents a marginally lower GWP of **0.373292 kg CO<sub>2</sub>e**. This small difference is attributable to the ripple effects of the diesel market's lower impacts cascading upstream, thereby slightly reducing the overall environmental burden.\n",
    "\n",
    "Notably, the scaling vector for PP pyrolysis, s<sub>diesel_PP</sub>, which represents the level of utilization of pyrolysis oil, remains consistent at \"1\" in the foreground scenario—signifying exclusive use within the market. In contrast, the background scenario, which integrates the technology economy-wide, reflects a subtle uptick in utilization to s<sub>diesel_PP</sub> = 1.000713. This represents a 0.07% increment, hinting at a small but noteworthy expansion in demand when the technology is adopted across the broader economy. \n",
    "\n",
    "The following illustration shows two example paths that are affected by the change in the market composition, which are omitted in the foreground scenario 📉👇 "
   ]
  },
  {
   "cell_type": "markdown",
   "id": "c307d5d5-727f-4e16-9556-63099bbc8b07",
   "metadata": {
    "execution": {
     "iopub.execute_input": "2024-03-31T13:54:22.768890Z",
     "iopub.status.busy": "2024-03-31T13:54:22.768890Z",
     "iopub.status.idle": "2024-03-31T13:54:22.777859Z",
     "shell.execute_reply": "2024-03-31T13:54:22.776863Z",
     "shell.execute_reply.started": "2024-03-31T13:54:22.768890Z"
    }
   },
   "source": [
    "<div style=\"text-align: center;\">\n",
    "    <img src=\"pictures/PP_ripple_effect.png\" alt=\"Image Alt Text\" style=\"width: 50%;\" />\n",
    "</div>"
   ]
  },
  {
   "cell_type": "markdown",
   "id": "3f18cdaa-f2e6-4f46-b5b5-97b18f715ce8",
   "metadata": {},
   "source": [
    "The more direct route originates from the diesel market and proceeds to the freight train transport activity. This activity subsequently feeds into the transport market, which in turn serves as an input back to the diesel market, thus establishing a feedback loop. Such a loop allows any changes in the environmental impact of the diesel market to feed back to the diesel market, influencing its own impact."
   ]
  },
  {
   "cell_type": "markdown",
   "id": "4a5ca882-432f-4100-8738-624284d59573",
   "metadata": {},
   "source": [
    "A secondary feedback loop is illustrated as follows: it starts from the \"market for transport, freight train\" and moves to the market for lignite. This, in sequence, contributes to the production of electricity from lignite, which is part of the German electricity mix. The German mix then plays a role in the European electricity mix, which, in turn, is a key input for the plastic pyrolysis process. This interconnected loop exemplifies how changes within one segment can propagate through the entire energy supply chain, ultimately affecting the pyrolysis process and the diesel market itself."
   ]
  },
  {
   "cell_type": "markdown",
   "id": "ceb07d33-4895-4b6c-b48c-f7694f61a9f0",
   "metadata": {},
   "source": [
    "See [this showcase](electricity_showcase.ipynb) for an example with a much larger ripple effect! "
   ]
  },
  {
   "cell_type": "markdown",
   "id": "f9fc48c0-725f-4533-8730-081a77f29341",
   "metadata": {},
   "source": [
    "<div style=\"text-align: center; background-color: #f0f0f0; padding: 10px;\">\n",
    "    <h2 style=\"font-family: 'Arial', sans-serif; font-weight: bold; color: #555;\">Regional choice 🌍</h2>\n",
    "</div>"
   ]
  },
  {
   "cell_type": "markdown",
   "id": "add6e5c7-6355-4ac4-92d1-72cb0fbee021",
   "metadata": {},
   "source": [
    "Our previous assessment concentrated on evaluating **technology choices**. Now, we shift our focus to **regional selections**, simultaneously considering various European sourcing options for electricity. By specifying the PP pyrolysis process to accept electricity from the broader EUR electricity market group, we allow for the possibility of drawing power from any eligible national electricity markets within Europe.\n",
    "\n",
    "From a mathematical standpoint, the distinction between technological and regional choices is subtle, as both essentially involve selecting from explicitly modeled **processes** within the Life Cycle Inventory (LCI) database. Whether differentiating by technology or by geographic origin, the underlying computational approach remains consistent."
   ]
  },
  {
   "cell_type": "markdown",
   "id": "680abe18-0b81-4752-bc5f-271888a05ac9",
   "metadata": {},
   "source": [
    "In our expanded analysis, we introduce \"electricity\" as a new choice alongside \"diesel.\" Now, the electricity used in the PP pyrolysis process can come from any national market within Europe, not just the European mix. This addition opens up 40 different alternatives, complicating the decision-making process as each choice has implications for multiple impact categories and can directly or indirectly affect the other technologies. Determining the optimal choice in this intricate network of possibilities presents a more complex challenge  📉👇 "
   ]
  },
  {
   "cell_type": "markdown",
   "id": "82cf253c-6bad-457f-9ada-de8e6611131c",
   "metadata": {},
   "source": [
    "<div style=\"text-align: center;\">\n",
    "    <img src=\"pictures/PP_regional_choice.png\" alt=\"Image Alt Text\" style=\"width: 50%;\" />\n",
    "</div>"
   ]
  },
  {
   "cell_type": "code",
   "execution_count": null,
   "id": "cf3ab0a2-d544-4280-b9c7-57ccd7610454",
   "metadata": {},
   "outputs": [],
   "source": [
    "country_codes = [\n",
    "    \"FR\", \"DE\", \"GB\", \"IT\", \"ES\", \"PL\", \"UA\", \"SE\", \"NO\", \"NL\",\n",
    "    \"FI\", \"BE\", \"AT\", \"CZ\", \"GR\", \"RO\", \"PT\", \"HU\", \"RS\", \"BG\",\n",
    "    \"BY\", \"DK\", \"IE\", \"SK\", \"IS\", \"HR\", \"SI\", \"BA\", \"LT\", \"MK\",\n",
    "    \"AL\", \"EE\", \"LU\", \"LV\", \"MD\", \"ME\", \"XK\", \"MT\", \"GI\"\n",
    "]"
   ]
  },
  {
   "cell_type": "markdown",
   "id": "1bc0079a-d36d-4b15-b071-4472fc211bea",
   "metadata": {},
   "source": [
    "Now let's use a Pulpo function to retrieve the corresponding electricity markets. The function \"retrieve_activities\" of the worker allows us to specify the activity names, the reference product, or the locations and will return the best match:"
   ]
  },
  {
   "cell_type": "code",
   "execution_count": null,
   "id": "b6968ff5-93db-4545-85cd-38296333b59a",
   "metadata": {},
   "outputs": [],
   "source": [
    "activities = [\"market for electricity, high voltage\"]\n",
    "reference_products = [\"electricity, high voltage\"]\n",
    "# Get regional markets\n",
    "electricity_markets = pulpo_worker.retrieve_activities(activities=activities, reference_products=reference_products, locations=country_codes)\n",
    "# Get european market\n",
    "electricity_markets.append(pulpo_worker.retrieve_activities(activities=[\"market group for electricity, high voltage\"],\n",
    "                                                            reference_products=reference_products,\n",
    "                                                            locations=[\"Europe without Switzerland\"])[0])\n",
    "\n",
    "print(f\"A total of {len(electricity_markets)} electricity markets have been retrieved.\")"
   ]
  },
  {
   "cell_type": "markdown",
   "id": "1d15eac8-1181-46a3-9eb4-da35af2e73ac",
   "metadata": {},
   "source": [
    "Now that the electricity markets have been retrieved, let's specify the new choice \"electricity\":"
   ]
  },
  {
   "cell_type": "code",
   "execution_count": null,
   "id": "a8347656-3735-4973-8819-3cafe0f77aa2",
   "metadata": {},
   "outputs": [],
   "source": [
    "choices['electricity']  = {market: 10 for market in electricity_markets}"
   ]
  },
  {
   "cell_type": "markdown",
   "id": "8969b491-b69b-498a-9643-d4342cbc17b7",
   "metadata": {},
   "source": [
    "With the expanded choces, proceed to re-instatiate the problem and re-solve:"
   ]
  },
  {
   "cell_type": "code",
   "execution_count": null,
   "id": "772aa8ef-e420-44d2-a704-c6fd04879d85",
   "metadata": {},
   "outputs": [],
   "source": [
    "instance = pulpo_worker.instantiate(choices=choices, demand=demand)\n",
    "results = pulpo_worker.solve()"
   ]
  },
  {
   "cell_type": "code",
   "execution_count": null,
   "id": "ba9f21b2-0eb8-4d4f-a55f-01ae1753409d",
   "metadata": {},
   "outputs": [],
   "source": [
    "pulpo_worker.summarize_results(choices=choices, demand=demand, zeroes=True)"
   ]
  },
  {
   "cell_type": "markdown",
   "id": "5814cf9f-5efb-455a-9339-1e0a0081e3ba",
   "metadata": {},
   "source": [
    "For the regional choice \"Albania\" (AL) has been chosen, supplying a total of **0.4565 kWh**, of which 0.3328 kWh go to the PP pyrolysis and the rest is used somewhere else in the technosphere. As a result, the optimized system can further reduce the GWP from **0.3733 kg CO2** (only technology choice) to **0.2385 kg CO2** (simultaneous technology and regional choice).  "
   ]
  },
  {
   "cell_type": "markdown",
   "id": "b2604581-1cba-49e0-b775-b07eb472a695",
   "metadata": {},
   "source": [
    "<div style=\"text-align: center; background-color: #f0f0f0; padding: 10px;\">\n",
    "    <h2 style=\"font-family: 'Arial', sans-serif; font-weight: bold; color: #555;\">Alternative Indicators 🔄</h2>\n",
    "</div>"
   ]
  },
  {
   "cell_type": "markdown",
   "id": "ae2cebc7-7266-4972-bfe3-50cef07b856f",
   "metadata": {},
   "source": [
    "Judging from the \"*no optimization*\" case from before, the best choice for the \"**Freshwater Eutrophication (EF v3.0)**\" category will be **fossil diesel**. In this segment, let's assess what happens if we optimize for this category, while simultaneously allow for regional choices to be active."
   ]
  },
  {
   "cell_type": "markdown",
   "id": "15da02d1-5add-412f-86e9-4527138ac2bc",
   "metadata": {},
   "source": [
    "To that end, create a new worker with all the methods:"
   ]
  },
  {
   "cell_type": "code",
   "execution_count": null,
   "id": "508ef9e6-b974-4f0e-9623-b9aa0d45f7ae",
   "metadata": {},
   "outputs": [],
   "source": [
    "methods_list = {\n",
    "    \"('IPCC 2013', 'climate change', 'GWP 100a')\": 0,\n",
    "    \"('EF v3.0', 'climate change: land use and land use change', 'global warming potential (GWP100)')\": 0,\n",
    "    \"('EF v3.0', 'eutrophication: freshwater', 'fraction of nutrients reaching freshwater end compartment (P)')\": 1,\n",
    "    \"('EF v3.0', 'ionising radiation: human health', 'human exposure efficiency relative to u235')\": 0,\n",
    "}"
   ]
  },
  {
   "cell_type": "markdown",
   "id": "6df62c62-31ea-4840-8a16-4e7f9a7fefc4",
   "metadata": {},
   "source": [
    "The provided dictionary is utilized within the optimization framework to allocate specific weights to various impact categories. Each key in this dictionary represents a distinct environmental impact category, as identified by its methodological definition (e.g., \"IPCC 2013\" for climate change or \"EF v3.0\" for specific Environmental Footprint categories). The value assigned to each key represents the weight that the optimization algorithm should give to that particular impact category in the decision-making process.\n",
    "\n",
    "- The weight of 0 for most categories (climate change, land use change's GWP, and ionising radiation's human health impact) indicates that these categories do not influence the optimization's outcome. However, they are evaluated (calculated) alongside the optimization and their final value can be printed and assessed.\n",
    "- The weight of 1 assigned to \"eutrophication: freshwater\" signifies that the optimization process exclusively focuses on minimizing the impact in this category, while still calculating the impacts for the other categories alongside."
   ]
  },
  {
   "cell_type": "code",
   "execution_count": null,
   "id": "196a5f1d-c9dd-48ab-a922-dae7345efc9b",
   "metadata": {},
   "outputs": [],
   "source": [
    "pulpo_worker = pulpo.PulpoOptimizer(project, database, methods_list, directory)\n",
    "pulpo_worker.get_lci_data()"
   ]
  },
  {
   "cell_type": "markdown",
   "id": "7152b664-4ee7-48ac-924a-7e2bef065ae2",
   "metadata": {},
   "source": [
    "Let's re-instantiate and re-solve the problem (same choices, same demand):"
   ]
  },
  {
   "cell_type": "code",
   "execution_count": null,
   "id": "7ee4fec3-5ed0-477d-931e-18918f9d1add",
   "metadata": {},
   "outputs": [],
   "source": [
    "instance = pulpo_worker.instantiate(choices=choices, demand=demand)\n",
    "results = pulpo_worker.solve()"
   ]
  },
  {
   "cell_type": "code",
   "execution_count": null,
   "id": "74346ac0-c795-4a77-a637-f40609077bb7",
   "metadata": {},
   "outputs": [],
   "source": [
    "pulpo_worker.summarize_results(choices=choices, demand=demand, zeroes=True)"
   ]
  },
  {
   "cell_type": "markdown",
   "id": "8fef4987-d56f-4480-951c-4bd1630f6090",
   "metadata": {},
   "source": [
    "#### Notable Findings:\n",
    "Contrary to initial expectations based solely on technology choice, it has been observed that not fossil diesel but pyrolysis oil, powered with electricity from **Iceland (IS)**, significantly reduces the eutrophication impact from **2.86e-05 kg PO4e** to **2.00e-05  kg PO4e**.\n",
    "\n",
    "However, it's important to note that these findings do not definitively establish Iceland as the optimal location for diesel production of this nature. Instead, they prompt a deeper examination of Iceland's local conditions that contribute to this environmental advantage. Notably, Iceland's energy production is predominantly sourced from hydro and geothermal energy, with a particularly high reliance on geothermal sources. This unique energy landscape suggests that the extensive use of geothermal energy plays a critical role in positioning Iceland as a potentially favorable region for minimizing eutrophication impacts.\n",
    "\n",
    "Accordingly, these results open avenues for further analysis and understanding, potentially revealing broader insights into environmental optimization and regional energy strategies."
   ]
  },
  {
   "cell_type": "code",
   "execution_count": null,
   "id": "6fdbd504-0ff7-4995-a975-d2d5194f6a84",
   "metadata": {},
   "outputs": [],
   "source": [
    "# Reset the objective function to IPCC GWP\n",
    "methods_list = {\n",
    "    \"('IPCC 2013', 'climate change', 'GWP 100a')\": 1,\n",
    "    \"('EF v3.0', 'climate change: land use and land use change', 'global warming potential (GWP100)')\": 0,\n",
    "    \"('EF v3.0', 'eutrophication: freshwater', 'fraction of nutrients reaching freshwater end compartment (P)')\": 0,\n",
    "    \"('EF v3.0', 'ionising radiation: human health', 'human exposure efficiency relative to u235')\": 0,\n",
    "}\n",
    "\n",
    "pulpo_worker = pulpo.PulpoOptimizer(project, database, methods_list, directory)\n",
    "pulpo_worker.get_lci_data()"
   ]
  },
  {
   "cell_type": "markdown",
   "id": "6669ce99-f828-4969-8032-16c26a99e877",
   "metadata": {
    "execution": {
     "iopub.execute_input": "2024-03-31T16:36:49.210303Z",
     "iopub.status.busy": "2024-03-31T16:36:49.209306Z",
     "iopub.status.idle": "2024-03-31T16:36:49.230236Z",
     "shell.execute_reply": "2024-03-31T16:36:49.229239Z",
     "shell.execute_reply.started": "2024-03-31T16:36:49.210303Z"
    }
   },
   "source": [
    "<div style=\"text-align: center; background-color: #FFA500; padding: 10px;\">\n",
    "    <h2 style=\"font-family: 'Arial', sans-serif; font-weight: bold; color: #FFFFFF;\">Additional Constraints</h2>\n",
    "</div>"
   ]
  },
  {
   "cell_type": "markdown",
   "id": "c093463b-af88-4f0c-9cc8-5e0166643692",
   "metadata": {
    "execution": {
     "iopub.execute_input": "2024-03-31T16:37:30.479157Z",
     "iopub.status.busy": "2024-03-31T16:37:30.479157Z",
     "iopub.status.idle": "2024-03-31T16:37:30.494163Z",
     "shell.execute_reply": "2024-03-31T16:37:30.493166Z",
     "shell.execute_reply.started": "2024-03-31T16:37:30.479157Z"
    }
   },
   "source": [
    "<div style=\"text-align: center; background-color: #f0f0f0; padding: 10px;\">\n",
    "    <h2 style=\"font-family: 'Arial', sans-serif; font-weight: bold; color: #555;\">Technosphere Capacity Constraints ⛓️</h2>\n",
    "</div>"
   ]
  },
  {
   "cell_type": "markdown",
   "id": "54a6cdc8-51d1-40f5-bd2f-e50b1d76713a",
   "metadata": {},
   "source": [
    "In 2020, the demand for diesel products stood at **292.6 million tons** ([source](https://www.fuelseurope.eu/uploads/files/modules/documents/file/1663766146_TWxIVaKHUN4dlyHl7hNvrUpf0Jwzbbe6nI9DMDBa.pdf)), necessitating **1.113 kg of PP (polypropylene)** for the production of 1 kg of pyrolysis oil. Within the European Union, the total post-consumer plastic waste collected, both mixed and separately, amounted to **29.5 million tons** ([source](https://plasticseurope.org/knowledge-hub/plastics-the-facts-2022/)). This presents a clear mismatch between demand and available supply.\n",
    "\n",
    "Significantly, over **50% of plastic waste** is amassed through mixed waste collection schemes, with the separately collected fraction rarely categorized by plastic type. This makes acquiring \"pure\" PP for pyrolysis a challenging endeavor. \n",
    "\n",
    "However, for the purposes of our assessment, we'll operate under the optimistic assumption that the separately collected fraction of plastics includes **16.6% PP**, and that it's feasible to sort and extract this PP entirely for pyrolysis usage. Under this premise, approximately **2.4 million tons of raw PP material** could be rendered available for pyrolysis.\n",
    "\n",
    "We will proceed by incorporating this raw material limitation as a **technosphere constraint** in our analysis:"
   ]
  },
  {
   "cell_type": "code",
   "execution_count": null,
   "id": "94966000-fd32-43b5-b6e2-8acbe53a065e",
   "metadata": {},
   "outputs": [],
   "source": [
    "# Adjust the final demand for an economy-wide perspective\n",
    "demand = {diesel_market: 292.6e9}"
   ]
  },
  {
   "cell_type": "code",
   "execution_count": null,
   "id": "437f9701-ffde-4a00-912d-ac6f764ca26e",
   "metadata": {},
   "outputs": [],
   "source": [
    "# Re-define the choices and set a reasonably high capacity constraint\n",
    "# Note that we are not considering regional choices here!\n",
    "choices  = {'diesel': {diesel_bio: 1e15,\n",
    "                       diesel_fossil: 1e15,\n",
    "                       diesel_pp: 1e15}} "
   ]
  },
  {
   "cell_type": "markdown",
   "id": "35ada40f-cf34-42ea-84bd-c2b9654da72d",
   "metadata": {},
   "source": [
    "To incorporate the constraint on plastic availability, we must initially retrieve the relevant activity. Following this, we'll construct an \"upper_limit\" dictionary that assigns the previously derived value:"
   ]
  },
  {
   "cell_type": "code",
   "execution_count": null,
   "id": "69df4192-6da1-40a7-a19e-8a5f9b9718cb",
   "metadata": {},
   "outputs": [],
   "source": [
    "pp_waste = pulpo_worker.retrieve_activities(activities=['PP Waste collected'])[0]"
   ]
  },
  {
   "cell_type": "code",
   "execution_count": null,
   "id": "82525f47-3de4-42f6-bc55-f87e755eaf70",
   "metadata": {},
   "outputs": [],
   "source": [
    "upper_limit = {pp_waste: 2.4e9}"
   ]
  },
  {
   "cell_type": "markdown",
   "id": "b2b3a7e4-3cad-4d98-b322-c88773aa4cbc",
   "metadata": {},
   "source": [
    "With this, we re-instatiate and re-solve the problem:"
   ]
  },
  {
   "cell_type": "code",
   "execution_count": null,
   "id": "115d2e6f-4e58-4988-991c-e1182687c354",
   "metadata": {},
   "outputs": [],
   "source": [
    "pulpo_worker.instantiate(choices=choices, demand=demand, upper_limit=upper_limit)\n",
    "results = pulpo_worker.solve()"
   ]
  },
  {
   "cell_type": "code",
   "execution_count": null,
   "id": "29330019-bdd6-4852-a83f-399ce74cf605",
   "metadata": {},
   "outputs": [],
   "source": [
    "pulpo_worker.summarize_results(choices=choices, demand=demand, constraints=upper_limit)"
   ]
  },
  {
   "cell_type": "markdown",
   "id": "f7cf242f-2bd5-429c-b879-9ecb290dbcbc",
   "metadata": {},
   "source": [
    "As expected, under ther technosphere constraint we obtain that 2.15 million ton of pyrolysis oil are produced and 291.10 million ton of fossil diesel. The overall minimized GWP stands at 137.7595 Mt CO2e. \n",
    "\n",
    "Now let's see what happens if we add further constraints to the problem. "
   ]
  },
  {
   "cell_type": "markdown",
   "id": "f787a647-ee8d-4ecf-9325-aa9a90c97bd1",
   "metadata": {},
   "source": [
    "<div style=\"text-align: center; background-color: #f0f0f0; padding: 10px;\">\n",
    "    <h2 style=\"font-family: 'Arial', sans-serif; font-weight: bold; color: #555;\">Indicator / Impact Constraints 📏</h2>\n",
    "</div>"
   ]
  },
  {
   "cell_type": "markdown",
   "id": "a36ffcc4-5692-4e4f-abc7-7a9f127807fc",
   "metadata": {},
   "source": [
    "For instance, a regulation aiming to reduce the ionising radiation impact by 5%! Using the previous result as baseline (6.5521e+10 kBq U235e) the target should be 6.2245e+10 kBq U235e. This constraint can be added as follows:"
   ]
  },
  {
   "cell_type": "code",
   "execution_count": null,
   "id": "d2b892fb-984c-47eb-8443-5d353c302e64",
   "metadata": {},
   "outputs": [],
   "source": [
    "upper_imp_limit = {\"('EF v3.0', 'ionising radiation: human health', 'human exposure efficiency relative to u235')\": 6.2245e+10}"
   ]
  },
  {
   "cell_type": "code",
   "execution_count": null,
   "id": "8535cc3a-5cb0-4bb7-9c45-e2a9ff0a7125",
   "metadata": {},
   "outputs": [],
   "source": [
    "pulpo_worker.instantiate(choices=choices, demand=demand, upper_limit=upper_limit, upper_imp_limit=upper_imp_limit)\n",
    "results = pulpo_worker.solve()"
   ]
  },
  {
   "cell_type": "code",
   "execution_count": null,
   "id": "4cf71269-d175-4fe4-82b9-991325ada0c8",
   "metadata": {},
   "outputs": [],
   "source": [
    "pulpo_worker.summarize_results(choices=choices, demand=demand, constraints=upper_limit, zeroes=True)"
   ]
  },
  {
   "cell_type": "markdown",
   "id": "8bf1c47e-7ee2-4491-a457-b96e874e8dcb",
   "metadata": {},
   "source": [
    "Since the process minimizing ionising radiation has already reached its limit through the technosphere constraint, the solver selects the next best process to comply with the additional impact constraint. This results in the use of **39.09 million ton of imported biodiesel**.\n",
    "\n",
    "The trade-off to comply with the constraint is an increased GWP from **137.7595 Mt CO2e** to **428.6267 Mt CO2e**! In other words, to reduce one impact category by 5%, another one increased by 211.13%. "
   ]
  },
  {
   "cell_type": "markdown",
   "id": "3d2761fd-9973-42d5-9885-077976f0f8ee",
   "metadata": {},
   "source": [
    "This kind of assessment can help to identify technological and systemic bottlenecks in the multi-objective design of production systems."
   ]
  },
  {
   "cell_type": "code",
   "execution_count": null,
   "id": "0490537e-5a66-40a4-a84f-a7ca104e7daf",
   "metadata": {},
   "outputs": [],
   "source": [
    "pulpo_worker.save_results(choices=choices, demand=demand, name='plastic_showcase_constrained.xlsx')"
   ]
  },
  {
   "cell_type": "markdown",
   "id": "748f91bd-81b8-47fe-8a78-42cf3e0ed644",
   "metadata": {},
   "source": [
    " <div style=\"text-align: center; background-color: #f0f0f0; padding: 10px;\">\n",
    "    <h2 style=\"font-family: 'Arial', sans-serif; font-weight: bold; color: #555;\">Biosphere capacity constraints 🌱</h2>\n",
    "</div>"
   ]
  },
  {
   "attachments": {},
   "cell_type": "markdown",
   "id": "e63f768a-7fe6-45f0-8669-70dc5366efaa",
   "metadata": {},
   "source": [
    "From the results saved in the spreadsheet \"plastic_showcase_constrained.xlsx\" we can identify (as expected) that the biodiesel production has a very large impact on land transformation. The biosphere entry \"Transformation, from annual crop\" takes a value of 109,643 km² which is slightly larger than the entire country of Iceland.\n",
    "\n",
    "Pulpo enable the restriction of biosphere flows as well. Let's repeat the previous assessment, targeting this time ionising radiation as objective, and figure out which is the possible reduction if we allow only 10,000 km² of land transformation: "
   ]
  },
  {
   "cell_type": "code",
   "execution_count": null,
   "id": "b38a40ce-5fef-4c54-948f-327670f8016c",
   "metadata": {},
   "outputs": [],
   "source": [
    "pulpo_worker.method[\"('IPCC 2013', 'climate change', 'GWP 100a')\"] = 0\n",
    "pulpo_worker.method[\"('EF v3.0', 'ionising radiation: human health', 'human exposure efficiency relative to u235')\"] = 1"
   ]
  },
  {
   "cell_type": "code",
   "execution_count": null,
   "id": "7feebe6a-2314-4f5b-9f3f-a623c1232bcd",
   "metadata": {},
   "outputs": [],
   "source": [
    "transformation = pulpo_worker.retrieve_envflows(activities=[\"Transformation, from annual crop\"])[0]"
   ]
  },
  {
   "cell_type": "code",
   "execution_count": null,
   "id": "b5d0bf16-b732-4a53-9c4d-d93cc535e771",
   "metadata": {},
   "outputs": [],
   "source": [
    "upper_elem_limit = {transformation: 1e10}"
   ]
  },
  {
   "cell_type": "code",
   "execution_count": null,
   "id": "e9831fb1-d99a-4927-94f7-65d26b618ca1",
   "metadata": {},
   "outputs": [],
   "source": [
    "pulpo_worker.instantiate(choices=choices, demand=demand, upper_limit=upper_limit, upper_elem_limit=upper_elem_limit)\n",
    "results = pulpo_worker.solve()"
   ]
  },
  {
   "cell_type": "code",
   "execution_count": null,
   "id": "56db081e-ed9f-494c-a1bd-41e2e3c947ff",
   "metadata": {},
   "outputs": [],
   "source": [
    "pulpo_worker.summarize_results(choices=choices, demand=demand, zeroes=True)"
   ]
  },
  {
   "cell_type": "markdown",
   "id": "fc8fa995-9636-407b-a083-b07ee2d01394",
   "metadata": {},
   "source": [
    "It can be observed that, as before, the maximum amount of pyrolysis oil is selected. The biodiesel however now is produced with **17.83 million ton**, reducing the overall ionising radiation to 6.522251e+10 kBq U235e (0.46% reduction)."
   ]
  },
  {
   "cell_type": "markdown",
   "id": "9d344ea8-3f02-418b-b1c1-d521eb117023",
   "metadata": {
    "execution": {
     "iopub.execute_input": "2024-04-01T11:13:55.119299Z",
     "iopub.status.busy": "2024-04-01T11:13:55.119299Z",
     "iopub.status.idle": "2024-04-01T11:13:55.128269Z",
     "shell.execute_reply": "2024-04-01T11:13:55.127272Z",
     "shell.execute_reply.started": "2024-04-01T11:13:55.119299Z"
    }
   },
   "source": [
    "---\n",
    "\n",
    "**Disclaimer**: This example is designed for demonstrative purposes only, to showcase the functionalities of Pulpo. The figures, scenarios, and scales presented are hypothetical and may not accurately reflect real-world conditions. Any resemblance to actual data or outcomes is purely coincidental and should not be considered as accurate representations of environmental impacts or optimization results.\n",
    "\n",
    "---\n"
   ]
  },
  {
   "cell_type": "markdown",
   "id": "ae3a3f79-a1c4-446c-b1bd-d3554ecd339a",
   "metadata": {},
   "source": [
    " <div style=\"text-align: center; background-color: #f0f0f0; padding: 10px;\">\n",
    "    <h2 style=\"font-family: 'Arial', sans-serif; font-weight: bold; color: #555;\">Supply vs. demand 🔄💼</h2>\n",
    "</div>"
   ]
  },
  {
   "cell_type": "markdown",
   "id": "564cd3d8-1428-4dc6-b3d3-364e1523173e",
   "metadata": {},
   "source": [
    "Pulpo introduces a feature that pivots from defining a final demand to setting a final supply. This approach is particularly useful in scenarios where the end demand remains uncertain, yet there's clarity on a process's production capacity. Under such circumstances, the aim is to maximize production, anticipating that the eventual demand will exceed this capacity. For example, we might know the production limit for pyrolysis oil but only have an estimated demand for market-sourced diesel.\n",
    "\n",
    "To demonstrate this capability, we'll explore specifying a final **supply** of 1 kg of market diesel, contrasting this with a scenario based on a 1 kg diesel **demand**. It's reasonable to anticipate a somewhat reduced total impact in the supply specification scenario, considering that it accounts for diesel's internal consumption, which is normally added to the final demand."
   ]
  },
  {
   "cell_type": "code",
   "execution_count": null,
   "id": "3832f45b-f71b-474f-8a72-d98bf6e1cf06",
   "metadata": {},
   "outputs": [],
   "source": [
    "pulpo_worker.method[\"('IPCC 2013', 'climate change', 'GWP 100a')\"] = 1\n",
    "pulpo_worker.method[\"('EF v3.0', 'ionising radiation: human health', 'human exposure efficiency relative to u235')\"] = 0"
   ]
  },
  {
   "cell_type": "code",
   "execution_count": null,
   "id": "b0018abb-5af9-4f0e-ab20-050bc006ff83",
   "metadata": {},
   "outputs": [],
   "source": [
    "supply = {diesel_market: 1}"
   ]
  },
  {
   "cell_type": "markdown",
   "id": "03b0e851-2828-43d6-9583-4a900cdd890c",
   "metadata": {},
   "source": [
    "The final supply is specified in the instatiation by setting a lower and upper limit of the scaling vector to the same value:"
   ]
  },
  {
   "cell_type": "code",
   "execution_count": null,
   "id": "0a75bfba-4722-4ba9-82f6-6b70ead0715f",
   "metadata": {},
   "outputs": [],
   "source": [
    "pulpo_worker.instantiate(choices=choices, lower_limit=supply, upper_limit=supply)\n",
    "results = pulpo_worker.solve()"
   ]
  },
  {
   "cell_type": "code",
   "execution_count": null,
   "id": "4ebcae6c-4dc4-447f-9f47-a421b975de75",
   "metadata": {},
   "outputs": [],
   "source": [
    "pulpo_worker.summarize_results(choices=choices, demand=demand, zeroes=True)"
   ]
  },
  {
   "cell_type": "markdown",
   "id": "edfa0287-0287-4236-a653-c4917dbc3f5e",
   "metadata": {},
   "source": [
    "As expected, the total impact is **slightly** lower with 0.373<span style=\"color: red;\">026</span> kg CO<sub>2</sub> compared to 0.373<span style=\"color: red;\">292</span> kg CO<sub>2</sub>e.\n"
   ]
  }
 ],
 "metadata": {
  "kernelspec": {
   "display_name": "Python 3 (ipykernel)",
   "language": "python",
   "name": "python3"
  },
  "language_info": {
   "codemirror_mode": {
    "name": "ipython",
    "version": 3
   },
   "file_extension": ".py",
   "mimetype": "text/x-python",
   "name": "python",
   "nbconvert_exporter": "python",
   "pygments_lexer": "ipython3",
   "version": "3.9.16"
  }
 },
 "nbformat": 4,
 "nbformat_minor": 5
}
